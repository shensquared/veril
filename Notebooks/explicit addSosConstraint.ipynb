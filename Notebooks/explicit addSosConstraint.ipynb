{
 "cells": [
  {
   "cell_type": "code",
   "execution_count": 37,
   "metadata": {},
   "outputs": [],
   "source": [
    "import sys\n",
    "sys.path.append(\n",
    "    \"/Users/shenshen/drake-build/install/lib/python3.7/site-packages\")\n",
    "\n",
    "import pydrake\n",
    "import numpy as np\n",
    "from numpy.linalg import eig, inv\n",
    "# import pydrake.symbolic as sym\n",
    "from pydrake.all import (MathematicalProgram, Polynomial, SolutionResult,\n",
    "                         Solve, Jacobian, Evaluate, RealContinuousLyapunovEquation, Substitute,Variables, Expression, MosekSolver)\n",
    "from scipy.linalg import solve_lyapunov, solve_discrete_lyapunov"
   ]
  },
  {
   "cell_type": "markdown",
   "metadata": {},
   "source": [
    "Some helper functions, can skip"
   ]
  },
  {
   "cell_type": "code",
   "execution_count": 38,
   "metadata": {},
   "outputs": [],
   "source": [
    "#  Some helper functions\n",
    "class opt(object):\n",
    "\n",
    "    def __init__(self, nX, degL1=4, degL2=4, degV=2, explicit_add = False, init_with_free = False):\n",
    "        self.degV = degV\n",
    "        self.max_iterations = 10\n",
    "        self.converged_tol = .01\n",
    "        self.degL1 = degL1\n",
    "        self.degL2 = degL2\n",
    "        self.nX = nX\n",
    "        self.explicit_add = explicit_add\n",
    "        self.init_with_free = init_with_free\n",
    "        if init_with_free:\n",
    "            assert explicit_add \n",
    "        \n",
    "\n",
    "def balanceQuadForm(S, P):\n",
    "    # copied from the old drake, with only syntax swap\n",
    "    #  Quadratic Form \"Balancing\"\n",
    "    #\n",
    "    #    T = balqf(S,P)\n",
    "    #\n",
    "    #  Input:\n",
    "    #    S -- n-by-n symmetric positive definite.\n",
    "    #    P -- n-by-n symmetric, full rank.\n",
    "    #\n",
    "    #  Finds a T such that:\n",
    "    #    T'*S*T = D\n",
    "    #    T'*P*T = D^(-1)\n",
    "\n",
    "    # if np.linalg.norm(S - S.T, 1) > 1e-8:\n",
    "        # raise Error('S must be symmetric')\n",
    "    # if np.linalg.norm(P - P.T, 1) > 1e-8:\n",
    "        # raise Error('P must be symmetric')\n",
    "    # if np.linalg.cond(P) > 1e10:\n",
    "        # raise Error('P must be full rank')\n",
    "\n",
    "    # Tests if S positive def. for us.\n",
    "    V = np.linalg.inv(np.linalg.cholesky(S).T)\n",
    "    [N, l, U] = np.linalg.svd((V.T.dot(P)).dot(V))\n",
    "    if N.ravel()[0] < 0:\n",
    "        N = -N\n",
    "    T = (V.dot(N)).dot(np.diag(np.power(l, -.25, dtype=float)))\n",
    "    D = np.diag(np.power(l, -.5, dtype=float))\n",
    "    return T, D\n",
    "\n",
    "def balance(x, V, f, S, A):\n",
    "    if S is None:\n",
    "        S = .5 * (Substitute(Jacobian(Jacobian(V, x).T, x), x, 0 * x))\n",
    "    if A is None:\n",
    "        J = Jacobian(f, x)\n",
    "        env = dict(zip(x, np.zeros(x.shape)))\n",
    "        mapping = dict(zip(x, x0))\n",
    "        A = np.array([[i.Evaluate(env) for i in j]for j in J])\n",
    "\n",
    "    [T, D] = balanceQuadForm(S, (S@A + A.T@S))\n",
    "    # print('T is %s' % (T))\n",
    "    # Sbal = (T.T)@(S)@(T)\n",
    "    Vbal = V.Substitute(dict(zip(x, T@x)))\n",
    "    # print([i.Substitute(dict(zip(x,T@x))) for i in f])\n",
    "    fbal = inv(T)@[i.Substitute(dict(zip(x, T@x))) for i in f]\n",
    "    return T, Vbal, fbal, S, A\n",
    "\n",
    "def clean(poly, tol=1e-9):\n",
    "    if isinstance(poly, Expression):\n",
    "        poly = Polynomial(poly)\n",
    "    return poly.RemoveTermsWithSmallCoefficients(tol).ToExpression()"
   ]
  },
  {
   "cell_type": "markdown",
   "metadata": {},
   "source": [
    "Fix at just one iteration. We'll only output Mosek verbose info for `optimizeV` function:"
   ]
  },
  {
   "cell_type": "code",
   "execution_count": 43,
   "metadata": {},
   "outputs": [],
   "source": [
    "def bilinear(x, V0, f, S0, A, options):\n",
    "    V = V0\n",
    "    [T, V0bal, fbal, S0, A] = balance(x, V0, f, S0, A)\n",
    "    rho = 1\n",
    "    vol = 0\n",
    "    for iter in range(1):\n",
    "        last_vol = vol\n",
    "        # balance on every iteration (since V and Vdot are changing):\n",
    "        [T, Vbal, fbal] = balance(x, V, f, S0 / rho, A)[0:3]\n",
    "        V0bal = V0.Substitute(dict(zip(x, T@x)))\n",
    "        [x, L1, sigma1] = findL1(x, fbal, Vbal, options)\n",
    "        [x, L2] = findL2(x, Vbal, V0bal, rho, options)\n",
    "        [x, Vbal, rho] = optimizeV(x, fbal, L1, L2, V0bal, sigma1, options)\n",
    "        vol = rho\n",
    "\n",
    "        #  undo balancing (for the next iteration, or if i'm done)\n",
    "        V = Vbal.Substitute(dict(zip(x, inv(T)@x)))\n",
    "        if ((vol - last_vol) < options.converged_tol * last_vol):\n",
    "            break\n",
    "    return V\n",
    "\n",
    "\n",
    "def findL1(old_x, f, V, options):\n",
    "    print('finding L1')\n",
    "    prog = MathematicalProgram()\n",
    "    x = prog.NewIndeterminates(options.nX, 'l1x')\n",
    "    V = V.Substitute(dict(zip(list(V.GetVariables()), x)))\n",
    "    f = np.array([i.Substitute(dict(zip(list(i.GetVariables()), x))) for i in f])\n",
    "    # % construct multipliers for Vdot\n",
    "    if options.init_with_free:\n",
    "        L1 = prog.NewFreePolynomial(Variables(x), options.degL1).ToExpression()\n",
    "    else:\n",
    "        L1 = prog.NewSosPolynomial(Variables(x), options.degL1)[0].ToExpression()\n",
    "    # % construct Vdot\n",
    "    Vdot = clean(V.Jacobian(x) @ f)\n",
    "    # % construct slack var\n",
    "    sigma1 = prog.NewContinuousVariables(1, \"s\")[0]\n",
    "    prog.AddConstraint(sigma1 >= 0)\n",
    "    # % setup SOS constraints\n",
    "    prog.AddSosConstraint(-Vdot + L1 * (V - 1) - sigma1 * V)\n",
    "    if (options.explicit_add):\n",
    "        prog.AddSosConstraint(L1)\n",
    "    # add cost\n",
    "    prog.AddCost(-sigma1)\n",
    "    # result = Solve(prog)\n",
    "    solver = MosekSolver()\n",
    "    solver.set_stream_logging(False, \"\")\n",
    "    result = solver.Solve(prog, None, None)\n",
    "#     print(result.get_solution_result())\n",
    "    assert result.is_success()\n",
    "    L1 = (result.GetSolution(L1))\n",
    "    sigma1 = result.GetSolution(sigma1)\n",
    "    print('sigma1 is %s' % (sigma1))\n",
    "    return x, L1, sigma1\n",
    "\n",
    "def findL2(old_x, V, V0, rho, options):\n",
    "    print('finding L2')\n",
    "    prog = MathematicalProgram()\n",
    "    x = prog.NewIndeterminates(options.nX, \"l2x\")\n",
    "    V = (V.Substitute(dict(zip(list(V.GetVariables()), x))))\n",
    "    V0 = (V0.Substitute(dict(zip(list(V0.GetVariables()), x))))\n",
    "        # % construct multipliers for Vdot\n",
    "    if options.init_with_free:\n",
    "        L2 = prog.NewFreePolynomial(Variables(x), options.degL2).ToExpression()\n",
    "    else:\n",
    "        L2 = prog.NewSosPolynomial(Variables(x), options.degL2)[0].ToExpression()\n",
    "    # % construct slack var\n",
    "    slack = prog.NewContinuousVariables(1, \"s\")[0]\n",
    "    prog.AddConstraint(slack >= 0)\n",
    "    # add normalizing constraint\n",
    "    prog.AddSosConstraint(-(V - 1) + L2 * (V0 - rho))\n",
    "    if (options.explicit_add):\n",
    "        prog.AddSosConstraint(L2)\n",
    "    prog.AddCost(slack)\n",
    "    solver = MosekSolver()\n",
    "    solver.set_stream_logging(False, \"\")\n",
    "    result = solver.Solve(prog, None, None)\n",
    "#     print(result.get_solution_result())\n",
    "    assert result.is_success()\n",
    "    L2 = (result.GetSolution(L2))\n",
    "    return x, L2\n",
    "\n",
    "def optimizeV(old_x, f, L1, L2, V0, sigma1, options):\n",
    "    print('finding V')\n",
    "    prog = MathematicalProgram()\n",
    "    x = prog.NewIndeterminates(options.nX, \"Vx\")\n",
    "    L1 = (L1.Substitute(dict(zip(list(L1.GetVariables()), x))))\n",
    "    L2 = (L2.Substitute(dict(zip(list(L2.GetVariables()), x))))\n",
    "    V0 = (V0.Substitute(dict(zip(list(V0.GetVariables()), x))))\n",
    "    f = np.array([i.Substitute(dict(zip(list(i.GetVariables()), x))) for i in f])\n",
    "    \n",
    "    #% construct V\n",
    "    if options.init_with_free:\n",
    "        V = prog.NewFreePolynomial(Variables(x), options.degV).ToExpression()\n",
    "    else:\n",
    "        V = prog.NewSosPolynomial(Variables(x), options.degV)[0].ToExpression()\n",
    "        \n",
    "    Vdot = V.Jacobian(x) @ f\n",
    "    # % construct rho\n",
    "    rho = prog.NewContinuousVariables(1, \"r\")[0]\n",
    "    prog.AddConstraint(rho >= 0)\n",
    "\n",
    "    # % setup SOS constraints\n",
    "    prog.AddSosConstraint(-Vdot + L1 * (V - 1) - sigma1 * V / 2)\n",
    "    prog.AddSosConstraint(-(V - 1) + L2 * (V0 - rho))\n",
    "    if (options.explicit_add):\n",
    "        prog.AddSosConstraint(V)\n",
    "            \n",
    "    # % run SeDuMi/MOSEK and check output\n",
    "    prog.AddCost(-rho)\n",
    "    solver = MosekSolver()\n",
    "    solver.set_stream_logging(True, \"\")\n",
    "    solver.Solve(prog, None, None)\n",
    "    result = Solve(prog)\n",
    "    print(result.get_solution_result())\n",
    "    assert result.is_success()\n",
    "    V = result.GetSolution(V)\n",
    "    rho = result.GetSolution(rho)\n",
    "#     print('rho is %s' % (rho))\n",
    "    return x, V, rho"
   ]
  },
  {
   "cell_type": "markdown",
   "metadata": {},
   "source": [
    "Setup the plant information and some initialization"
   ]
  },
  {
   "cell_type": "code",
   "execution_count": 44,
   "metadata": {},
   "outputs": [],
   "source": [
    "\n",
    "plant = 'vdp'\n",
    "prog = MathematicalProgram()\n",
    "if plant is 'Cubic':\n",
    "    nx = 1\n",
    "    x = prog.NewIndeterminates(nx, \"x\")\n",
    "    xdot = [-x[0] + x[0]**3]\n",
    "elif plant is 'vdp':\n",
    "    nx=2\n",
    "    x = prog.NewIndeterminates(nx, \"x\")\n",
    "    xdot = -np.array([x[1], -x[0] - x[1] * (x[0]**2 - 1)])\n",
    "\n",
    "J = Jacobian(xdot, x)\n",
    "env = dict(zip(x, np.zeros(x.shape)))\n",
    "A = np.array([[i.Evaluate(env) for i in j]for j in J])\n",
    "S0 = solve_lyapunov(A.T, -np.eye(nx))\n",
    "V0 = (x.T@S0@x)"
   ]
  },
  {
   "cell_type": "markdown",
   "metadata": {},
   "source": [
    "## To show discrepency \n",
    "\n",
    "We use `explicit_add` to control the optimization problem setup of `optimizeV`. Depending on the boolean value of `explicit_add`, we add (or not add) a SOS constraint on $V$ (whetehr or not it's declared `Free` or `Sos` at construction)"
   ]
  },
  {
   "cell_type": "markdown",
   "metadata": {},
   "source": [
    "We also use `init_with_free` to control the optimization problem setup of `optimizeV`. Depending on the boolean value of `init_with_free`, we construct $V$ to be either `Free` or `Sos`\n",
    "\n"
   ]
  },
  {
   "cell_type": "code",
   "execution_count": 47,
   "metadata": {},
   "outputs": [
    {
     "name": "stdout",
     "output_type": "stream",
     "text": [
      "finding L1\n",
      "sigma1 is 0.31711568522649486\n",
      "finding L2\n",
      "finding V\n",
      "SolutionResult.kSolutionFound\n"
     ]
    },
    {
     "data": {
      "text/plain": [
       "<Expression \"(-1.3652889643846632e-09 - 4.9046795022147686e-19 * (0.4793254849758784 * Vx(0) + 0.77556492636499841 * Vx(1)) + 6.7632728665017964e-18 * (0.9865338258102101 * Vx(0) - 0.60971143540217843 * Vx(1)) + 0.024331377297312409 * ((0.4793254849758784 * Vx(0) + 0.77556492636499841 * Vx(1)) * (0.9865338258102101 * Vx(0) - 0.60971143540217843 * Vx(1))) + 3.4453553715109266e-17 * ((0.4793254849758784 * Vx(0) + 0.77556492636499841 * Vx(1)) * pow((0.9865338258102101 * Vx(0) - 0.60971143540217843 * Vx(1)), 2)) - 0.093308893752344149 * ((0.4793254849758784 * Vx(0) + 0.77556492636499841 * Vx(1)) * pow((0.9865338258102101 * Vx(0) - 0.60971143540217843 * Vx(1)), 3)) - 1.4894294840412125e-16 * (pow((0.4793254849758784 * Vx(0) + 0.77556492636499841 * Vx(1)), 2) * (0.9865338258102101 * Vx(0) - 0.60971143540217843 * Vx(1))) + 0.085111834897226235 * (pow((0.4793254849758784 * Vx(0) + 0.77556492636499841 * Vx(1)), 2) * pow((0.9865338258102101 * Vx(0) - 0.60971143540217843 * Vx(1)), 2)) + 0.14252212279681056 * (pow((0.4793254849758784 * Vx(0) + 0.77556492636499841 * Vx(1)), 3) * (0.9865338258102101 * Vx(0) - 0.60971143540217843 * Vx(1))) + 0.38621013321607872 * pow((0.4793254849758784 * Vx(0) + 0.77556492636499841 * Vx(1)), 2) + 1.6425002511761799e-17 * pow((0.4793254849758784 * Vx(0) + 0.77556492636499841 * Vx(1)), 3) + 0.084147970020148552 * pow((0.4793254849758784 * Vx(0) + 0.77556492636499841 * Vx(1)), 4) + 0.62204212780068224 * pow((0.9865338258102101 * Vx(0) - 0.60971143540217843 * Vx(1)), 2) + 1.1356696569425972e-15 * pow((0.9865338258102101 * Vx(0) - 0.60971143540217843 * Vx(1)), 3) + 0.091105767921542416 * pow((0.9865338258102101 * Vx(0) - 0.60971143540217843 * Vx(1)), 4))\">"
      ]
     },
     "execution_count": 47,
     "metadata": {},
     "output_type": "execute_result"
    }
   ],
   "source": [
    "# if we initialize the decision variables as free polynomials and add \n",
    "init_with_free = True\n",
    "explicit_add = True\n",
    "options = opt(nx, degL1=6, degL2=6, degV=4, explicit_add = explicit_add,init_with_free=init_with_free)\n",
    "bilinear(x, V0, xdot, S0, A, options)"
   ]
  },
  {
   "cell_type": "code",
   "execution_count": 48,
   "metadata": {},
   "outputs": [
    {
     "name": "stdout",
     "output_type": "stream",
     "text": [
      "finding L1\n",
      "sigma1 is 0.3171156841233344\n",
      "finding L2\n",
      "finding V\n",
      "SolutionResult.kUnknownError\n"
     ]
    },
    {
     "ename": "AssertionError",
     "evalue": "",
     "output_type": "error",
     "traceback": [
      "\u001b[0;31m---------------------------------------------------------------------------\u001b[0m",
      "\u001b[0;31mAssertionError\u001b[0m                            Traceback (most recent call last)",
      "\u001b[0;32m<ipython-input-48-19942dade96f>\u001b[0m in \u001b[0;36m<module>\u001b[0;34m\u001b[0m\n\u001b[1;32m      3\u001b[0m \u001b[0mexplicit_add\u001b[0m \u001b[0;34m=\u001b[0m \u001b[0;32mTrue\u001b[0m\u001b[0;34m\u001b[0m\u001b[0;34m\u001b[0m\u001b[0m\n\u001b[1;32m      4\u001b[0m \u001b[0moptions\u001b[0m \u001b[0;34m=\u001b[0m \u001b[0mopt\u001b[0m\u001b[0;34m(\u001b[0m\u001b[0mnx\u001b[0m\u001b[0;34m,\u001b[0m \u001b[0mdegL1\u001b[0m\u001b[0;34m=\u001b[0m\u001b[0;36m6\u001b[0m\u001b[0;34m,\u001b[0m \u001b[0mdegL2\u001b[0m\u001b[0;34m=\u001b[0m\u001b[0;36m6\u001b[0m\u001b[0;34m,\u001b[0m \u001b[0mdegV\u001b[0m\u001b[0;34m=\u001b[0m\u001b[0;36m4\u001b[0m\u001b[0;34m,\u001b[0m \u001b[0mexplicit_add\u001b[0m \u001b[0;34m=\u001b[0m \u001b[0mexplicit_add\u001b[0m\u001b[0;34m,\u001b[0m\u001b[0minit_with_free\u001b[0m\u001b[0;34m=\u001b[0m\u001b[0minit_with_free\u001b[0m\u001b[0;34m)\u001b[0m\u001b[0;34m\u001b[0m\u001b[0;34m\u001b[0m\u001b[0m\n\u001b[0;32m----> 5\u001b[0;31m \u001b[0mbilinear\u001b[0m\u001b[0;34m(\u001b[0m\u001b[0mx\u001b[0m\u001b[0;34m,\u001b[0m \u001b[0mV0\u001b[0m\u001b[0;34m,\u001b[0m \u001b[0mxdot\u001b[0m\u001b[0;34m,\u001b[0m \u001b[0mS0\u001b[0m\u001b[0;34m,\u001b[0m \u001b[0mA\u001b[0m\u001b[0;34m,\u001b[0m \u001b[0moptions\u001b[0m\u001b[0;34m)\u001b[0m\u001b[0;34m\u001b[0m\u001b[0;34m\u001b[0m\u001b[0m\n\u001b[0m",
      "\u001b[0;32m<ipython-input-43-8df36e5b090b>\u001b[0m in \u001b[0;36mbilinear\u001b[0;34m(x, V0, f, S0, A, options)\u001b[0m\n\u001b[1;32m     11\u001b[0m         \u001b[0;34m[\u001b[0m\u001b[0mx\u001b[0m\u001b[0;34m,\u001b[0m \u001b[0mL1\u001b[0m\u001b[0;34m,\u001b[0m \u001b[0msigma1\u001b[0m\u001b[0;34m]\u001b[0m \u001b[0;34m=\u001b[0m \u001b[0mfindL1\u001b[0m\u001b[0;34m(\u001b[0m\u001b[0mx\u001b[0m\u001b[0;34m,\u001b[0m \u001b[0mfbal\u001b[0m\u001b[0;34m,\u001b[0m \u001b[0mVbal\u001b[0m\u001b[0;34m,\u001b[0m \u001b[0moptions\u001b[0m\u001b[0;34m)\u001b[0m\u001b[0;34m\u001b[0m\u001b[0;34m\u001b[0m\u001b[0m\n\u001b[1;32m     12\u001b[0m         \u001b[0;34m[\u001b[0m\u001b[0mx\u001b[0m\u001b[0;34m,\u001b[0m \u001b[0mL2\u001b[0m\u001b[0;34m]\u001b[0m \u001b[0;34m=\u001b[0m \u001b[0mfindL2\u001b[0m\u001b[0;34m(\u001b[0m\u001b[0mx\u001b[0m\u001b[0;34m,\u001b[0m \u001b[0mVbal\u001b[0m\u001b[0;34m,\u001b[0m \u001b[0mV0bal\u001b[0m\u001b[0;34m,\u001b[0m \u001b[0mrho\u001b[0m\u001b[0;34m,\u001b[0m \u001b[0moptions\u001b[0m\u001b[0;34m)\u001b[0m\u001b[0;34m\u001b[0m\u001b[0;34m\u001b[0m\u001b[0m\n\u001b[0;32m---> 13\u001b[0;31m         \u001b[0;34m[\u001b[0m\u001b[0mx\u001b[0m\u001b[0;34m,\u001b[0m \u001b[0mVbal\u001b[0m\u001b[0;34m,\u001b[0m \u001b[0mrho\u001b[0m\u001b[0;34m]\u001b[0m \u001b[0;34m=\u001b[0m \u001b[0moptimizeV\u001b[0m\u001b[0;34m(\u001b[0m\u001b[0mx\u001b[0m\u001b[0;34m,\u001b[0m \u001b[0mfbal\u001b[0m\u001b[0;34m,\u001b[0m \u001b[0mL1\u001b[0m\u001b[0;34m,\u001b[0m \u001b[0mL2\u001b[0m\u001b[0;34m,\u001b[0m \u001b[0mV0bal\u001b[0m\u001b[0;34m,\u001b[0m \u001b[0msigma1\u001b[0m\u001b[0;34m,\u001b[0m \u001b[0moptions\u001b[0m\u001b[0;34m)\u001b[0m\u001b[0;34m\u001b[0m\u001b[0;34m\u001b[0m\u001b[0m\n\u001b[0m\u001b[1;32m     14\u001b[0m         \u001b[0mvol\u001b[0m \u001b[0;34m=\u001b[0m \u001b[0mrho\u001b[0m\u001b[0;34m\u001b[0m\u001b[0;34m\u001b[0m\u001b[0m\n\u001b[1;32m     15\u001b[0m \u001b[0;34m\u001b[0m\u001b[0m\n",
      "\u001b[0;32m<ipython-input-43-8df36e5b090b>\u001b[0m in \u001b[0;36moptimizeV\u001b[0;34m(old_x, f, L1, L2, V0, sigma1, options)\u001b[0m\n\u001b[1;32m    114\u001b[0m     \u001b[0mresult\u001b[0m \u001b[0;34m=\u001b[0m \u001b[0mSolve\u001b[0m\u001b[0;34m(\u001b[0m\u001b[0mprog\u001b[0m\u001b[0;34m)\u001b[0m\u001b[0;34m\u001b[0m\u001b[0;34m\u001b[0m\u001b[0m\n\u001b[1;32m    115\u001b[0m     \u001b[0mprint\u001b[0m\u001b[0;34m(\u001b[0m\u001b[0mresult\u001b[0m\u001b[0;34m.\u001b[0m\u001b[0mget_solution_result\u001b[0m\u001b[0;34m(\u001b[0m\u001b[0;34m)\u001b[0m\u001b[0;34m)\u001b[0m\u001b[0;34m\u001b[0m\u001b[0;34m\u001b[0m\u001b[0m\n\u001b[0;32m--> 116\u001b[0;31m     \u001b[0;32massert\u001b[0m \u001b[0mresult\u001b[0m\u001b[0;34m.\u001b[0m\u001b[0mis_success\u001b[0m\u001b[0;34m(\u001b[0m\u001b[0;34m)\u001b[0m\u001b[0;34m\u001b[0m\u001b[0;34m\u001b[0m\u001b[0m\n\u001b[0m\u001b[1;32m    117\u001b[0m     \u001b[0mV\u001b[0m \u001b[0;34m=\u001b[0m \u001b[0mresult\u001b[0m\u001b[0;34m.\u001b[0m\u001b[0mGetSolution\u001b[0m\u001b[0;34m(\u001b[0m\u001b[0mV\u001b[0m\u001b[0;34m)\u001b[0m\u001b[0;34m\u001b[0m\u001b[0;34m\u001b[0m\u001b[0m\n\u001b[1;32m    118\u001b[0m     \u001b[0mrho\u001b[0m \u001b[0;34m=\u001b[0m \u001b[0mresult\u001b[0m\u001b[0;34m.\u001b[0m\u001b[0mGetSolution\u001b[0m\u001b[0;34m(\u001b[0m\u001b[0mrho\u001b[0m\u001b[0;34m)\u001b[0m\u001b[0;34m\u001b[0m\u001b[0;34m\u001b[0m\u001b[0m\n",
      "\u001b[0;31mAssertionError\u001b[0m: "
     ]
    }
   ],
   "source": [
    "# if we initialize the decision variables as sos polynomials but still add SOS constraint later\n",
    "init_with_free = False\n",
    "explicit_add = True\n",
    "options = opt(nx, degL1=6, degL2=6, degV=4, explicit_add = explicit_add,init_with_free=init_with_free)\n",
    "bilinear(x, V0, xdot, S0, A, options)"
   ]
  },
  {
   "cell_type": "markdown",
   "metadata": {},
   "source": [
    "Here's the matlab printout of 1st iteration `optimizeV` call:\n",
    "\n",
    "![title](matlabprintout.png)\n"
   ]
  },
  {
   "cell_type": "code",
   "execution_count": 7,
   "metadata": {},
   "outputs": [
    {
     "name": "stdout",
     "output_type": "stream",
     "text": [
      "finding L1\n",
      "sigma1 is 0.3171156841233344\n",
      "finding L2\n",
      "finding V\n",
      "SolutionResult.kUnknownError\n"
     ]
    },
    {
     "ename": "AssertionError",
     "evalue": "",
     "output_type": "error",
     "traceback": [
      "\u001b[0;31m---------------------------------------------------------------------------\u001b[0m",
      "\u001b[0;31mAssertionError\u001b[0m                            Traceback (most recent call last)",
      "\u001b[0;32m<ipython-input-7-78cf7313b3bb>\u001b[0m in \u001b[0;36m<module>\u001b[0;34m\u001b[0m\n\u001b[1;32m      2\u001b[0m \u001b[0mexplicit_add\u001b[0m \u001b[0;34m=\u001b[0m \u001b[0;32mTrue\u001b[0m\u001b[0;34m\u001b[0m\u001b[0;34m\u001b[0m\u001b[0m\n\u001b[1;32m      3\u001b[0m \u001b[0moptions\u001b[0m \u001b[0;34m=\u001b[0m \u001b[0mopt\u001b[0m\u001b[0;34m(\u001b[0m\u001b[0mnx\u001b[0m\u001b[0;34m,\u001b[0m \u001b[0mdegL1\u001b[0m\u001b[0;34m=\u001b[0m\u001b[0;36m6\u001b[0m\u001b[0;34m,\u001b[0m \u001b[0mdegL2\u001b[0m\u001b[0;34m=\u001b[0m\u001b[0;36m6\u001b[0m\u001b[0;34m,\u001b[0m \u001b[0mdegV\u001b[0m\u001b[0;34m=\u001b[0m\u001b[0;36m4\u001b[0m\u001b[0;34m,\u001b[0m \u001b[0mexplicit_add\u001b[0m \u001b[0;34m=\u001b[0m \u001b[0mexplicit_add\u001b[0m\u001b[0;34m)\u001b[0m\u001b[0;34m\u001b[0m\u001b[0;34m\u001b[0m\u001b[0m\n\u001b[0;32m----> 4\u001b[0;31m \u001b[0mbilinear\u001b[0m\u001b[0;34m(\u001b[0m\u001b[0mx\u001b[0m\u001b[0;34m,\u001b[0m \u001b[0mV0\u001b[0m\u001b[0;34m,\u001b[0m \u001b[0mxdot\u001b[0m\u001b[0;34m,\u001b[0m \u001b[0mS0\u001b[0m\u001b[0;34m,\u001b[0m \u001b[0mA\u001b[0m\u001b[0;34m,\u001b[0m \u001b[0moptions\u001b[0m\u001b[0;34m)\u001b[0m\u001b[0;34m\u001b[0m\u001b[0;34m\u001b[0m\u001b[0m\n\u001b[0m",
      "\u001b[0;32m<ipython-input-3-be3ae1ddac98>\u001b[0m in \u001b[0;36mbilinear\u001b[0;34m(x, V0, f, S0, A, options)\u001b[0m\n\u001b[1;32m     11\u001b[0m         \u001b[0;34m[\u001b[0m\u001b[0mx\u001b[0m\u001b[0;34m,\u001b[0m \u001b[0mL1\u001b[0m\u001b[0;34m,\u001b[0m \u001b[0msigma1\u001b[0m\u001b[0;34m]\u001b[0m \u001b[0;34m=\u001b[0m \u001b[0mfindL1\u001b[0m\u001b[0;34m(\u001b[0m\u001b[0mx\u001b[0m\u001b[0;34m,\u001b[0m \u001b[0mfbal\u001b[0m\u001b[0;34m,\u001b[0m \u001b[0mVbal\u001b[0m\u001b[0;34m,\u001b[0m \u001b[0moptions\u001b[0m\u001b[0;34m)\u001b[0m\u001b[0;34m\u001b[0m\u001b[0;34m\u001b[0m\u001b[0m\n\u001b[1;32m     12\u001b[0m         \u001b[0;34m[\u001b[0m\u001b[0mx\u001b[0m\u001b[0;34m,\u001b[0m \u001b[0mL2\u001b[0m\u001b[0;34m]\u001b[0m \u001b[0;34m=\u001b[0m \u001b[0mfindL2\u001b[0m\u001b[0;34m(\u001b[0m\u001b[0mx\u001b[0m\u001b[0;34m,\u001b[0m \u001b[0mVbal\u001b[0m\u001b[0;34m,\u001b[0m \u001b[0mV0bal\u001b[0m\u001b[0;34m,\u001b[0m \u001b[0mrho\u001b[0m\u001b[0;34m,\u001b[0m \u001b[0moptions\u001b[0m\u001b[0;34m)\u001b[0m\u001b[0;34m\u001b[0m\u001b[0;34m\u001b[0m\u001b[0m\n\u001b[0;32m---> 13\u001b[0;31m         \u001b[0;34m[\u001b[0m\u001b[0mx\u001b[0m\u001b[0;34m,\u001b[0m \u001b[0mVbal\u001b[0m\u001b[0;34m,\u001b[0m \u001b[0mrho\u001b[0m\u001b[0;34m]\u001b[0m \u001b[0;34m=\u001b[0m \u001b[0moptimizeV\u001b[0m\u001b[0;34m(\u001b[0m\u001b[0mx\u001b[0m\u001b[0;34m,\u001b[0m \u001b[0mfbal\u001b[0m\u001b[0;34m,\u001b[0m \u001b[0mL1\u001b[0m\u001b[0;34m,\u001b[0m \u001b[0mL2\u001b[0m\u001b[0;34m,\u001b[0m \u001b[0mV0bal\u001b[0m\u001b[0;34m,\u001b[0m \u001b[0msigma1\u001b[0m\u001b[0;34m,\u001b[0m \u001b[0moptions\u001b[0m\u001b[0;34m)\u001b[0m\u001b[0;34m\u001b[0m\u001b[0;34m\u001b[0m\u001b[0m\n\u001b[0m\u001b[1;32m     14\u001b[0m         \u001b[0mvol\u001b[0m \u001b[0;34m=\u001b[0m \u001b[0mrho\u001b[0m\u001b[0;34m\u001b[0m\u001b[0;34m\u001b[0m\u001b[0m\n\u001b[1;32m     15\u001b[0m \u001b[0;34m\u001b[0m\u001b[0m\n",
      "\u001b[0;32m<ipython-input-3-be3ae1ddac98>\u001b[0m in \u001b[0;36moptimizeV\u001b[0;34m(old_x, f, L1, L2, V0, sigma1, options)\u001b[0m\n\u001b[1;32m    106\u001b[0m     \u001b[0mresult\u001b[0m \u001b[0;34m=\u001b[0m \u001b[0mSolve\u001b[0m\u001b[0;34m(\u001b[0m\u001b[0mprog\u001b[0m\u001b[0;34m)\u001b[0m\u001b[0;34m\u001b[0m\u001b[0;34m\u001b[0m\u001b[0m\n\u001b[1;32m    107\u001b[0m     \u001b[0mprint\u001b[0m\u001b[0;34m(\u001b[0m\u001b[0mresult\u001b[0m\u001b[0;34m.\u001b[0m\u001b[0mget_solution_result\u001b[0m\u001b[0;34m(\u001b[0m\u001b[0;34m)\u001b[0m\u001b[0;34m)\u001b[0m\u001b[0;34m\u001b[0m\u001b[0;34m\u001b[0m\u001b[0m\n\u001b[0;32m--> 108\u001b[0;31m     \u001b[0;32massert\u001b[0m \u001b[0mresult\u001b[0m\u001b[0;34m.\u001b[0m\u001b[0mis_success\u001b[0m\u001b[0;34m(\u001b[0m\u001b[0;34m)\u001b[0m\u001b[0;34m\u001b[0m\u001b[0;34m\u001b[0m\u001b[0m\n\u001b[0m\u001b[1;32m    109\u001b[0m     \u001b[0mV\u001b[0m \u001b[0;34m=\u001b[0m \u001b[0mresult\u001b[0m\u001b[0;34m.\u001b[0m\u001b[0mGetSolution\u001b[0m\u001b[0;34m(\u001b[0m\u001b[0mV\u001b[0m\u001b[0;34m)\u001b[0m\u001b[0;34m\u001b[0m\u001b[0;34m\u001b[0m\u001b[0m\n\u001b[1;32m    110\u001b[0m     \u001b[0mrho\u001b[0m \u001b[0;34m=\u001b[0m \u001b[0mresult\u001b[0m\u001b[0;34m.\u001b[0m\u001b[0mGetSolution\u001b[0m\u001b[0;34m(\u001b[0m\u001b[0mrho\u001b[0m\u001b[0;34m)\u001b[0m\u001b[0;34m\u001b[0m\u001b[0;34m\u001b[0m\u001b[0m\n",
      "\u001b[0;31mAssertionError\u001b[0m: "
     ]
    }
   ],
   "source": [
    "# Print out of not adding explict SOS constraint\n",
    "explicit_add = True\n",
    "options = opt(nx, degL1=6, degL2=6, degV=4, explicit_add = explicit_add)\n",
    "bilinear(x, V0, xdot, S0, A, options)"
   ]
  }
 ],
 "metadata": {
  "kernelspec": {
   "display_name": "Python 3",
   "language": "python",
   "name": "python3"
  },
  "language_info": {
   "codemirror_mode": {
    "name": "ipython",
    "version": 3
   },
   "file_extension": ".py",
   "mimetype": "text/x-python",
   "name": "python",
   "nbconvert_exporter": "python",
   "pygments_lexer": "ipython3",
   "version": "3.7.4"
  }
 },
 "nbformat": 4,
 "nbformat_minor": 2
}
