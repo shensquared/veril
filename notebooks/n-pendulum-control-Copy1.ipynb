{
 "cells": [
  {
   "cell_type": "code",
   "execution_count": 1,
   "metadata": {},
   "outputs": [],
   "source": [
    "from __future__ import division, print_function\n",
    "import sympy as sm\n",
    "import sympy.physics.mechanics as me\n",
    "me.init_vprinting()"
   ]
  },
  {
   "cell_type": "markdown",
   "metadata": {},
   "source": [
    "Now specify the number of links, $n$. I'll start with 5 since the Wolfram folks only showed four."
   ]
  },
  {
   "cell_type": "code",
   "execution_count": 2,
   "metadata": {},
   "outputs": [],
   "source": [
    "n = 1\n",
    "do_sim = False\n",
    "do_plot = False"
   ]
  },
  {
   "cell_type": "markdown",
   "metadata": {},
   "source": [
    "**mechanics** will need the generalized coordinates, generalized speeds, and the input force which are all time dependent variables and the bob masses, link lengths, and acceleration due to gravity which are all constants. Time, $t$, is also made available because we will need to differentiate with respect to time."
   ]
  },
  {
   "cell_type": "code",
   "execution_count": 3,
   "metadata": {},
   "outputs": [],
   "source": [
    "import numpy as np\n",
    "q = me.dynamicsymbols('q:{}'.format(n + 1))  # Generalized coordinates\n",
    "u = me.dynamicsymbols('dq:{}'.format(n + 1))  # Generalized speeds\n",
    "f = me.dynamicsymbols('f:{}'.format(n))      # Force applied to the cart\n",
    "    \n",
    "# m = sm.symbols('m:{}'.format(n + 1))         # Mass of each bob\n",
    "# l = sm.symbols('l:{}'.format(n))             # Length of each link\n",
    "\n",
    "m = (0.01 / n)*np.ones(n+1,)\n",
    "l = (1. / n)*np.ones(n+1,)\n",
    "g = 9.81\n",
    "t = sm.symbols('t')                     # Gravity and time"
   ]
  },
  {
   "cell_type": "markdown",
   "metadata": {},
   "source": [
    "Now we can create and inertial reference frame $I$ and define the point, $O$, as the origin."
   ]
  },
  {
   "cell_type": "code",
   "execution_count": 4,
   "metadata": {},
   "outputs": [],
   "source": [
    "I = me.ReferenceFrame('I')  # Inertial reference frame\n",
    "O = me.Point('O')           # Origin point\n",
    "O.set_vel(I, 0)             # Origin's velocity is zero"
   ]
  },
  {
   "cell_type": "markdown",
   "metadata": {},
   "source": [
    "Secondly, we define the define the first point of the pendulum as a particle which has mass. This point can only move laterally and represents the motion of the \"cart\"."
   ]
  },
  {
   "cell_type": "code",
   "execution_count": 5,
   "metadata": {},
   "outputs": [],
   "source": [
    "P0 = me.Point('P0')                 # Hinge point of top link\n",
    "P0.set_pos(O, q[0] * I.x)           # Set the position of P0    \n",
    "P0.set_vel(I, u[0] * I.x)           # Set the velocity of P0\n",
    "Pa0 = me.Particle('Pa0', P0, m[0])  # Define a particle at P0"
   ]
  },
  {
   "cell_type": "markdown",
   "metadata": {},
   "source": [
    "Now we can define the $n$ reference frames, particles, gravitational forces, and kinematical differential equations for each of the pendulum links. This is easily done with a loop."
   ]
  },
  {
   "cell_type": "code",
   "execution_count": 6,
   "metadata": {},
   "outputs": [],
   "source": [
    "frames = [I]                              # List to hold the n + 1 frames\n",
    "points = [P0]                             # List to hold the n + 1 points\n",
    "particles = [Pa0]                         # List to hold the n + 1 particles\n",
    "forces = [(P0, f[0] * I.x - m[0] * g * I.y)] # List to hold the n + 1 applied forces, including the input force, f\n",
    "kindiffs = [q[0].diff(t) - u[0]]          # List to hold kinematic ODE's\n",
    "\n",
    "for i in range(n):\n",
    "    Bi = I.orientnew('B' + str(i), 'Axis', [q[i + 1], I.z])   # Create a new frame\n",
    "    Bi.set_ang_vel(I, u[i + 1] * I.z)                         # Set angular velocity\n",
    "    frames.append(Bi)                                         # Add it to the frames list\n",
    "\n",
    "    Pi = points[-1].locatenew('P' + str(i + 1), l[i] * Bi.x)  # Create a new point\n",
    "    Pi.v2pt_theory(points[-1], I, Bi)                         # Set the velocity\n",
    "    points.append(Pi)                                         # Add it to the points list\n",
    "    \n",
    "    Pai = me.Particle('Pa' + str(i + 1), Pi, m[i + 1])        # Create a new particle\n",
    "    particles.append(Pai)                                     # Add it to the particles list\n",
    "\n",
    "    forces.append((Pi, -m[i + 1] * g * I.y))                  # Set the force applied at the point\n",
    "    kindiffs.append(q[i + 1].diff(t) - u[i + 1])              # Define the kinematic ODE:  dq_i / dt - u_i = 0\n",
    "for i in range(n-1):\n",
    "    forces.append((frames[i+1], f[i+1]*frames[i].z))"
   ]
  },
  {
   "cell_type": "markdown",
   "metadata": {},
   "source": [
    "With all of the necessary point velocities and particle masses defined, the `KanesMethod` class can be used to derive the equations of motion of the system automatically."
   ]
  },
  {
   "cell_type": "code",
   "execution_count": 7,
   "metadata": {},
   "outputs": [
    {
     "data": {
      "text/plain": [
       "[(P0, f0*I.x - 0.0981000000000000*I.y), (P1, - 0.0981000000000000*I.y)]"
      ]
     },
     "execution_count": 7,
     "metadata": {},
     "output_type": "execute_result"
    }
   ],
   "source": [
    "forces"
   ]
  },
  {
   "cell_type": "code",
   "execution_count": 8,
   "metadata": {},
   "outputs": [
    {
     "name": "stderr",
     "output_type": "stream",
     "text": [
      "/Users/shenshen/veril/ENV/lib/python3.7/site-packages/sympy/physics/mechanics/kane.py:536: SymPyDeprecationWarning: \n",
      "\n",
      "The kanes_equation() argument order has been deprecated since SymPy\n",
      "1.1. Use switched argument order to update your code, For example:\n",
      "kanes_equations(loads, bodies) > kanes_equations(bodies, loads).\n",
      "instead. See https://github.com/sympy/sympy/issues/10945 for more\n",
      "info.  The API for kanes_equations() has changed such that the loads\n",
      "(forces and torques) are now the second argument and is optional with\n",
      "None being the default.\n",
      "\n",
      "  issue=10945, deprecated_since_version=\"1.1\").warn()\n"
     ]
    }
   ],
   "source": [
    "kane = me.KanesMethod(I, q_ind=q, u_ind=u, kd_eqs=kindiffs)  # Initialize the object\n",
    "fr, frstar = kane.kanes_equations(forces, particles)         # Generate EoM's fr + frstar = 0"
   ]
  },
  {
   "cell_type": "markdown",
   "metadata": {},
   "source": [
    "The equations of motion are quite long as can been seen below. This is the general nature of most non-simple mutlibody problems. That is why a SymPy is so useful; no more mistakes in algebra, differentiation, or copying hand written equations. Note that `trigsimp` can take quite a while to complete for extremely large expressions. Below we print $\\tilde{M}$ and $\\tilde{f}$ from $\\tilde{M}\\dot{u}=\\tilde{f}$ to show the size of the expressions."
   ]
  },
  {
   "cell_type": "code",
   "execution_count": 9,
   "metadata": {},
   "outputs": [],
   "source": [
    "# sm.trigsimp(kane.mass_matrix)"
   ]
  },
  {
   "cell_type": "markdown",
   "metadata": {},
   "source": [
    "$\\tilde{M}$ is a function of the constant parameters and the configuration."
   ]
  },
  {
   "cell_type": "code",
   "execution_count": 10,
   "metadata": {},
   "outputs": [],
   "source": [
    "# me.find_dynamicsymbols(kane.mass_matrix)"
   ]
  },
  {
   "cell_type": "code",
   "execution_count": 11,
   "metadata": {},
   "outputs": [],
   "source": [
    "# sm.trigsimp(kane.forcing)"
   ]
  },
  {
   "cell_type": "markdown",
   "metadata": {},
   "source": [
    "$\\tilde{f}$ is a function of the constant parameters, configuration, speeds, and the applied force."
   ]
  },
  {
   "cell_type": "code",
   "execution_count": 12,
   "metadata": {
    "scrolled": true
   },
   "outputs": [],
   "source": [
    "# me.find_dynamicsymbols(kane.forcing)"
   ]
  },
  {
   "cell_type": "markdown",
   "metadata": {},
   "source": [
    "Simulation\n",
    "==========\n",
    "\n",
    "Now that the symbolic equations of motion are available we can simulate the pendulum's motion. We will need some more SymPy functionality and several NumPy functions, and most importantly the integration function from SciPy, `odeint`."
   ]
  },
  {
   "cell_type": "code",
   "execution_count": 13,
   "metadata": {},
   "outputs": [],
   "source": [
    "import numpy as np\n",
    "from numpy.linalg import solve\n",
    "from scipy.integrate import odeint"
   ]
  },
  {
   "cell_type": "markdown",
   "metadata": {},
   "source": [
    "First, define some numeric values for all of the constant parameters in the problem."
   ]
  },
  {
   "cell_type": "code",
   "execution_count": 14,
   "metadata": {},
   "outputs": [],
   "source": [
    "arm_length = 1. / n                          # The maximum length of the pendulum is 1 meter\n",
    "bob_mass = 0.01 / n                          # The maximum mass of the bobs is 10 grams\n",
    "parameters = [g, m[0]]                       # Parameter definitions starting with gravity and the first bob\n",
    "parameter_vals = [9.81, 0.01 / n]            # Numerical values for the first two\n",
    "for i in range(n):                           # Then each mass and length\n",
    "    parameters += [l[i], m[i + 1]]            \n",
    "    parameter_vals += [arm_length, bob_mass]"
   ]
  },
  {
   "cell_type": "markdown",
   "metadata": {},
   "source": [
    "Mathematica has a really nice `NDSolve` function for quickly integrating their symbolic differential equations. We make use of SymPy's lambdify function to do something similar, i.e. to create functions that will evaluate the \"full\" mass matrix, $M$, and \"full\" forcing vector, $f$ from $M\\dot{x} = f(x, r, t)$ as a NumPy function."
   ]
  },
  {
   "cell_type": "code",
   "execution_count": 15,
   "metadata": {},
   "outputs": [
    {
     "name": "stdout",
     "output_type": "stream",
     "text": [
      "5\n"
     ]
    }
   ],
   "source": [
    "dynamic = q + u +f   # Make a list of the states\n",
    "# dynamic.append(f)  # Add the input force\n",
    "print(len(dynamic))\n",
    "M_func = sm.lambdify(dynamic, kane.mass_matrix_full) # Create a callable function to evaluate the mass matrix \n",
    "f_func = sm.lambdify(dynamic, kane.forcing_full)     # Create a callable function to evaluate the forcing vector "
   ]
  },
  {
   "cell_type": "markdown",
   "metadata": {},
   "source": [
    "To integrate the ODE's we need to define a function that returns the derivatives of the states given the current state and time."
   ]
  },
  {
   "cell_type": "code",
   "execution_count": 16,
   "metadata": {},
   "outputs": [],
   "source": [
    "def right_hand_side(x, t, args):\n",
    "    \"\"\"Returns the derivatives of the states.\n",
    "\n",
    "    Parameters\n",
    "    ----------\n",
    "    x : ndarray, shape(2 * (n + 1))\n",
    "        The current state vector.\n",
    "    t : float\n",
    "        The current time.\n",
    "    args : ndarray\n",
    "        The constants.\n",
    "\n",
    "    Returns\n",
    "    -------\n",
    "    dx : ndarray, shape(2 * (n + 1))\n",
    "        The derivative of the state.\n",
    "    \n",
    "    \"\"\"\n",
    "    r = np.zeros(n,)                                  # The input force is always zero     \n",
    "    arguments = np.hstack((x, r))      # States, input, and parameters\n",
    "    dx = np.array(solve(M_func(*arguments),  # Solving for the derivatives\n",
    "                  f_func(*arguments))).T[0]\n",
    "    \n",
    "    return dx"
   ]
  },
  {
   "cell_type": "markdown",
   "metadata": {},
   "source": [
    "Now that we have the right hand side function, the initial conditions are set such that the pendulum is in the vertical equilibrium and a slight initial rate is set for each speed to ensure the pendulum falls. The equations can then be integrated with SciPy's `odeint` function given a time series."
   ]
  },
  {
   "cell_type": "code",
   "execution_count": 17,
   "metadata": {},
   "outputs": [],
   "source": [
    "if do_plot:\n",
    "    x0 = np.hstack((0.0,                              # q0\n",
    "                np.pi / 2 * np.ones(len(q) - 1),  # q1...qn+1\n",
    "                1e-3 * np.ones(len(u))))          # u0...un+1\n",
    "    t = np.linspace(0.0, 10.0, num=500)  # Time vector\n",
    "    x = odeint(right_hand_side, x0, t, args=(parameter_vals,))  # Numerical integration"
   ]
  },
  {
   "cell_type": "markdown",
   "metadata": {},
   "source": [
    "Plotting\n",
    "========\n",
    "\n",
    "The results of the simulation can be plotted with matplotlib. First, load the plotting functionality."
   ]
  },
  {
   "cell_type": "code",
   "execution_count": 18,
   "metadata": {},
   "outputs": [],
   "source": [
    "import matplotlib.pyplot as plt"
   ]
  },
  {
   "cell_type": "code",
   "execution_count": 19,
   "metadata": {},
   "outputs": [],
   "source": [
    "%matplotlib inline"
   ]
  },
  {
   "cell_type": "code",
   "execution_count": 20,
   "metadata": {},
   "outputs": [],
   "source": [
    "from IPython.core.pylabtools import figsize\n",
    "figsize(8.0, 6.0)"
   ]
  },
  {
   "cell_type": "markdown",
   "metadata": {},
   "source": [
    "The coordinate trajectories are plotted below."
   ]
  },
  {
   "cell_type": "code",
   "execution_count": 21,
   "metadata": {},
   "outputs": [],
   "source": [
    "if do_plot:\n",
    "    lines = plt.plot(t, x[:, :x.shape[1] // 2])\n",
    "    lab = plt.xlabel('Time [sec]')\n",
    "    leg = plt.legend(dynamic[:x.shape[1] // 2])"
   ]
  },
  {
   "cell_type": "markdown",
   "metadata": {},
   "source": [
    "And the generalized speed trajectories."
   ]
  },
  {
   "cell_type": "code",
   "execution_count": 22,
   "metadata": {},
   "outputs": [],
   "source": [
    "if do_plot:\n",
    "    lines = plt.plot(t, x[:, x.shape[1] // 2:])\n",
    "    lab = plt.xlabel('Time [sec]')\n",
    "    leg = plt.legend(dynamic[x.shape[1] // 2:])"
   ]
  },
  {
   "cell_type": "markdown",
   "metadata": {},
   "source": [
    "Animation\n",
    "=========\n",
    "\n",
    "matplotlib now includes very nice animation functions for animating matplotlib plots. First we import the necessary functions for creating the animation."
   ]
  },
  {
   "cell_type": "code",
   "execution_count": 23,
   "metadata": {},
   "outputs": [],
   "source": [
    "from matplotlib import animation\n",
    "from matplotlib.patches import Rectangle"
   ]
  },
  {
   "cell_type": "markdown",
   "metadata": {},
   "source": [
    "The following function was modeled from Jake Vanderplas's [post on matplotlib animations](http://jakevdp.github.com/blog/2012/08/18/matplotlib-animation-tutorial/). The default animation writer is used (typically ffmpeg), you can change it by adding `writer` argument to `anim.save` call."
   ]
  },
  {
   "cell_type": "code",
   "execution_count": 24,
   "metadata": {},
   "outputs": [],
   "source": [
    "def animate_pendulum(t, states, length, filename=None):\n",
    "    \"\"\"Animates the n-pendulum and optionally saves it to file.\n",
    "\n",
    "    Parameters\n",
    "    ----------\n",
    "    t : ndarray, shape(m)\n",
    "        Time array.\n",
    "    states: ndarray, shape(m,p)\n",
    "        State time history.\n",
    "    length: float\n",
    "        The length of the pendulum links.\n",
    "    filename: string or None, optional\n",
    "        If true a movie file will be saved of the animation. This may take some time.\n",
    "\n",
    "    Returns\n",
    "    -------\n",
    "    fig : matplotlib.Figure\n",
    "        The figure.\n",
    "    anim : matplotlib.FuncAnimation\n",
    "        The animation.\n",
    "\n",
    "    \"\"\"\n",
    "    # the number of pendulum bobs\n",
    "    numpoints = states.shape[1] // 2\n",
    "\n",
    "    # first set up the figure, the axis, and the plot elements we want to animate\n",
    "    fig = plt.figure()\n",
    "    \n",
    "    # some dimesions\n",
    "    cart_width = 0.4\n",
    "    cart_height = 0.2\n",
    "    \n",
    "    # set the limits based on the motion\n",
    "    xmin = np.around(states[:, 0].min() - cart_width / 2.0, 1)\n",
    "    xmax = np.around(states[:, 0].max() + cart_width / 2.0, 1)\n",
    "    \n",
    "    # create the axes\n",
    "    ax = plt.axes(xlim=(xmin, xmax), ylim=(-1.1, 1.1), aspect='equal')\n",
    "    \n",
    "    # display the current time\n",
    "    time_text = ax.text(0.04, 0.9, '', transform=ax.transAxes)\n",
    "    \n",
    "    # create a rectangular cart\n",
    "    rect = Rectangle([states[0, 0] - cart_width / 2.0, -cart_height / 2],\n",
    "                     cart_width, cart_height, fill=True, color='red',\n",
    "                     ec='black')\n",
    "    ax.add_patch(rect)\n",
    "    \n",
    "    # blank line for the pendulum\n",
    "    line, = ax.plot([], [], lw=2, marker='o', markersize=6)\n",
    "\n",
    "    # initialization function: plot the background of each frame\n",
    "    def init():\n",
    "        time_text.set_text('')\n",
    "        rect.set_xy((0.0, 0.0))\n",
    "        line.set_data([], [])\n",
    "        return time_text, rect, line,\n",
    "\n",
    "    # animation function: update the objects\n",
    "    def animate(i):\n",
    "        time_text.set_text('time = {:2.2f}'.format(t[i]))\n",
    "        rect.set_xy((states[i, 0] - cart_width / 2.0, -cart_height / 2))\n",
    "        x = np.hstack((states[i, 0], np.zeros((numpoints - 1))))\n",
    "        y = np.zeros((numpoints))\n",
    "        for j in np.arange(1, numpoints):\n",
    "            x[j] = x[j - 1] + length * np.cos(states[i, j])\n",
    "            y[j] = y[j - 1] + length * np.sin(states[i, j])\n",
    "        line.set_data(x, y)\n",
    "        return time_text, rect, line,\n",
    "\n",
    "    # call the animator function\n",
    "    anim = animation.FuncAnimation(fig, animate, frames=len(t), init_func=init,\n",
    "            interval=t[-1] / len(t) * 1000, blit=True, repeat=False)\n",
    "    \n",
    "    # save the animation if a filename is given\n",
    "    if filename is not None:\n",
    "        anim.save(filename, fps=30, codec='libx264')\n",
    "    return anim"
   ]
  },
  {
   "cell_type": "markdown",
   "metadata": {},
   "source": [
    "Now we can create the animation of the pendulum. This animation will show the open loop dynamics."
   ]
  },
  {
   "cell_type": "code",
   "execution_count": 25,
   "metadata": {},
   "outputs": [],
   "source": [
    "if do_sim:\n",
    "    anim = animate_pendulum(t, x, arm_length)\n",
    "\n",
    "# Set up formatting for the movie files\n",
    "    Writer = animation.writers['ffmpeg']\n",
    "    writer = Writer(fps=15, metadata=dict(artist='Me'), bitrate=1800)\n",
    "\n",
    "    anim.save('open-loop.mp4',writer = 'ffmpeg')"
   ]
  },
  {
   "cell_type": "code",
   "execution_count": 26,
   "metadata": {},
   "outputs": [],
   "source": [
    "if do_sim:\n",
    "    from IPython.display import HTML\n",
    "    html = \\\n",
    "    \"\"\"\n",
    "    <video width=\"640\" height=\"480\" controls>\n",
    "      <source src=\"open-loop.mp4\" type=\"video/mp4\">\n",
    "    Your browser does not support the video tag, check out the YouTube version instead: http://youtu.be/Nj3_npq7MZI.\n",
    "    </video>\n",
    "    \"\"\"\n",
    "    HTML(html)"
   ]
  },
  {
   "cell_type": "markdown",
   "metadata": {},
   "source": [
    "# Do recasting!"
   ]
  },
  {
   "cell_type": "markdown",
   "metadata": {},
   "source": [
    "## Recast States"
   ]
  },
  {
   "cell_type": "code",
   "execution_count": 72,
   "metadata": {},
   "outputs": [],
   "source": [
    "sinstates = me.dynamicsymbols('s:{}'.format(n+1))\n",
    "cosstates = me.dynamicsymbols('c:{}'.format(n+1))\n",
    "sinstates = sinstates[1:]\n",
    "cosstates = cosstates[1:]\n",
    "velocities = u"
   ]
  },
  {
   "cell_type": "code",
   "execution_count": 73,
   "metadata": {},
   "outputs": [
    {
     "data": {
      "image/png": "[encoded data removed]",
      "text/latex": [
       "$\\displaystyle \\left[ q_{0}, \\  s_{1}, \\  c_{1}, \\  dq_{0}, \\  dq_{1}\\right]$"
      ],
      "text/plain": [
       "[q₀, s₁, c₁, dq₀, dq₁]"
      ]
     },
     "execution_count": 73,
     "metadata": {},
     "output_type": "execute_result"
    }
   ],
   "source": [
    "recast_states = [q[0]]\n",
    "for i in range(n):\n",
    "    recast_states = recast_states + [sinstates[i]] + [cosstates[i]]\n",
    "recast_states +=  u\n",
    "\n",
    "recast_states"
   ]
  },
  {
   "cell_type": "markdown",
   "metadata": {},
   "source": [
    "### recasted fixed point"
   ]
  },
  {
   "cell_type": "code",
   "execution_count": 83,
   "metadata": {},
   "outputs": [
    {
     "name": "stdout",
     "output_type": "stream",
     "text": [
      "[0, 1, 0, 0, 0]\n"
     ]
    }
   ],
   "source": [
    "recast_fix_point = [sm.S(0)] + [sm.S(1), sm.S(0)] * (n) +  [sm.S(0)] * (n+1)\n",
    "print(recast_fix_point)\n",
    "recast_fix_point_dict = dict(zip(recast_states, recast_fix_point))"
   ]
  },
  {
   "cell_type": "code",
   "execution_count": 75,
   "metadata": {},
   "outputs": [
    {
     "data": {
      "image/png": "[encoded data removed]",
      "text/latex": [
       "$\\displaystyle \\left[\\begin{matrix}1 & 0 & 0 & 0\\\\0 & 1 & 0 & 0\\\\0 & 0 & 0.02 & - 0.01 \\operatorname{sin}\\left(q_{1}\\right)\\\\0 & 0 & - 0.01 \\operatorname{sin}\\left(q_{1}\\right) & 0.01\\end{matrix}\\right]$"
      ],
      "text/plain": [
       "⎡1  0        0              0      ⎤\n",
       "⎢                                  ⎥\n",
       "⎢0  1        0              0      ⎥\n",
       "⎢                                  ⎥\n",
       "⎢0  0      0.02       -0.01⋅sin(q₁)⎥\n",
       "⎢                                  ⎥\n",
       "⎣0  0  -0.01⋅sin(q₁)      0.01     ⎦"
      ]
     },
     "execution_count": 75,
     "metadata": {},
     "output_type": "execute_result"
    }
   ],
   "source": [
    "mass_open = kane.mass_matrix_full\n",
    "mass_open"
   ]
  },
  {
   "cell_type": "code",
   "execution_count": 76,
   "metadata": {},
   "outputs": [
    {
     "data": {
      "image/png": "[encoded data removed]",
      "text/latex": [
       "$\\displaystyle \\left[\\begin{matrix}dq_{0}\\\\dq_{1}\\\\0.01 dq^{2}_{1} \\operatorname{cos}\\left(q_{1}\\right) + f_{0}\\\\- 0.0981 \\operatorname{cos}\\left(q_{1}\\right)\\end{matrix}\\right]$"
      ],
      "text/plain": [
       "⎡         dq₀          ⎤\n",
       "⎢                      ⎥\n",
       "⎢         dq₁          ⎥\n",
       "⎢                      ⎥\n",
       "⎢        2             ⎥\n",
       "⎢0.01⋅dq₁ ⋅cos(q₁) + f₀⎥\n",
       "⎢                      ⎥\n",
       "⎣   -0.0981⋅cos(q₁)    ⎦"
      ]
     },
     "execution_count": 76,
     "metadata": {},
     "output_type": "execute_result"
    }
   ],
   "source": [
    "force_open = kane.forcing_full\n",
    "force_open"
   ]
  },
  {
   "cell_type": "markdown",
   "metadata": {},
   "source": [
    "## Recasting the dynamics"
   ]
  },
  {
   "cell_type": "code",
   "execution_count": 77,
   "metadata": {},
   "outputs": [
    {
     "data": {
      "image/png": "[encoded data removed]",
      "text/latex": [
       "$\\displaystyle \\left[\\begin{matrix}1 & 0.0 & 0.0 & 0.0\\\\0.0 & c_{1} & 0.0 & 0.0\\\\0.0 & - s_{1} & 0.0 & 0.0\\\\0.0 & 0.0 & 1 & 0.0\\\\0.0 & 0.0 & 0.0 & 1\\end{matrix}\\right]$"
      ],
      "text/plain": [
       "⎡ 1   0.0  0.0  0.0⎤\n",
       "⎢                  ⎥\n",
       "⎢0.0  c₁   0.0  0.0⎥\n",
       "⎢                  ⎥\n",
       "⎢0.0  -s₁  0.0  0.0⎥\n",
       "⎢                  ⎥\n",
       "⎢0.0  0.0   1   0.0⎥\n",
       "⎢                  ⎥\n",
       "⎣0.0  0.0  0.0   1 ⎦"
      ]
     },
     "execution_count": 77,
     "metadata": {},
     "output_type": "execute_result"
    }
   ],
   "source": [
    "recast_transformation=sm.Matrix(np.zeros((3*n+2, 2*n+2)))\n",
    "recast_transformation[0,0]=sm.S(1)\n",
    "for i in range(n):\n",
    "    recast_transformation[2*i+1,i+1] = cosstates[i]\n",
    "    recast_transformation[2*i+2,i+1] = - sinstates[i]\n",
    "for i in range(n+1):\n",
    "    recast_transformation[-i-1,-i-1] = sm.S(1)\n",
    "recast_transformation"
   ]
  },
  {
   "cell_type": "code",
   "execution_count": 37,
   "metadata": {},
   "outputs": [],
   "source": [
    "from sympy import sin, cos\n",
    "sins=[sin(i) for i in q[1:]]\n",
    "coss=[cos(i) for i in q[1:]]\n",
    "key = sins+coss\n",
    "values = sinstates + cosstates\n",
    "recast_sim_dict = dict(zip(key,values))"
   ]
  },
  {
   "cell_type": "code",
   "execution_count": 38,
   "metadata": {},
   "outputs": [
    {
     "data": {
      "image/png": "[encoded data removed]",
      "text/latex": [
       "$\\displaystyle \\left\\{ \\operatorname{sin}\\left(q_{1}\\right) : s_{1}, \\  \\operatorname{cos}\\left(q_{1}\\right) : c_{1}\\right\\}$"
      ],
      "text/plain": [
       "{sin(q₁): s₁, cos(q₁): c₁}"
      ]
     },
     "execution_count": 38,
     "metadata": {},
     "output_type": "execute_result"
    }
   ],
   "source": [
    "recast_sim_dict"
   ]
  },
  {
   "cell_type": "code",
   "execution_count": 79,
   "metadata": {},
   "outputs": [
    {
     "data": {
      "image/png": "[encoded data removed]",
      "text/latex": [
       "$\\displaystyle \\left[\\begin{matrix}1 & 0 & 0 & 0\\\\0 & 1 & 0 & 0\\\\0 & 0 & 0.02 & - 0.01 s_{1}\\\\0 & 0 & - 0.01 s_{1} & 0.01\\end{matrix}\\right]$"
      ],
      "text/plain": [
       "⎡1  0     0         0    ⎤\n",
       "⎢                        ⎥\n",
       "⎢0  1     0         0    ⎥\n",
       "⎢                        ⎥\n",
       "⎢0  0    0.02    -0.01⋅s₁⎥\n",
       "⎢                        ⎥\n",
       "⎣0  0  -0.01⋅s₁    0.01  ⎦"
      ]
     },
     "execution_count": 79,
     "metadata": {},
     "output_type": "execute_result"
    }
   ],
   "source": [
    "recast_mass = mass_open.subs(recast_sim_dict)\n",
    "recast_mass"
   ]
  },
  {
   "cell_type": "code",
   "execution_count": 80,
   "metadata": {},
   "outputs": [
    {
     "data": {
      "image/png": "[encoded data removed]",
      "text/latex": [
       "$\\displaystyle \\left[\\begin{matrix}dq_{0}\\\\dq_{1}\\\\0.01 c_{1} dq^{2}_{1} + f_{0}\\\\- 0.0981 c_{1}\\end{matrix}\\right]$"
      ],
      "text/plain": [
       "⎡       dq₀       ⎤\n",
       "⎢                 ⎥\n",
       "⎢       dq₁       ⎥\n",
       "⎢                 ⎥\n",
       "⎢           2     ⎥\n",
       "⎢0.01⋅c₁⋅dq₁  + f₀⎥\n",
       "⎢                 ⎥\n",
       "⎣   -0.0981⋅c₁    ⎦"
      ]
     },
     "execution_count": 80,
     "metadata": {},
     "output_type": "execute_result"
    }
   ],
   "source": [
    "recast_force = sm.expand_trig(force_open).subs(dict(zip(key,values)))\n",
    "recast_force"
   ]
  },
  {
   "cell_type": "code",
   "execution_count": 81,
   "metadata": {},
   "outputs": [
    {
     "data": {
      "image/png": "[encoded data removed]",
      "text/latex": [
       "$\\displaystyle \\left[\\begin{matrix}dq_{0}\\\\c_{1} dq_{1}\\\\- dq_{1} s_{1}\\\\\\frac{0.0002 \\left(0.01 c_{1} dq^{2}_{1} + f_{0}\\right)}{4.0 \\cdot 10^{-6} - 2.0 \\cdot 10^{-6} s^{2}_{1}} - \\frac{1.962 \\cdot 10^{-5} c_{1} s_{1}}{4.0 \\cdot 10^{-6} - 2.0 \\cdot 10^{-6} s^{2}_{1}}\\\\\\frac{0.01 \\left(0.01 c_{1} dq^{2}_{1} + f_{0}\\right) s_{1}}{0.0002 - 0.0001 s^{2}_{1}} - \\frac{0.001962 c_{1}}{0.0002 - 0.0001 s^{2}_{1}}\\end{matrix}\\right]$"
      ],
      "text/plain": [
       "⎡                       dq₀                       ⎤\n",
       "⎢                                                 ⎥\n",
       "⎢                     c₁⋅dq₁                      ⎥\n",
       "⎢                                                 ⎥\n",
       "⎢                     -dq₁⋅s₁                     ⎥\n",
       "⎢                                                 ⎥\n",
       "⎢       ⎛           2     ⎞                       ⎥\n",
       "⎢0.0002⋅⎝0.01⋅c₁⋅dq₁  + f₀⎠      1.962e-5⋅c₁⋅s₁   ⎥\n",
       "⎢────────────────────────── - ─────────────────── ⎥\n",
       "⎢                     2                         2 ⎥\n",
       "⎢   4.0e-6 - 2.0e-6⋅s₁        4.0e-6 - 2.0e-6⋅s₁  ⎥\n",
       "⎢                                                 ⎥\n",
       "⎢     ⎛           2     ⎞                         ⎥\n",
       "⎢0.01⋅⎝0.01⋅c₁⋅dq₁  + f₀⎠⋅s₁       0.001962⋅c₁    ⎥\n",
       "⎢─────────────────────────── - ───────────────────⎥\n",
       "⎢                      2                         2⎥\n",
       "⎣    0.0002 - 0.0001⋅s₁        0.0002 - 0.0001⋅s₁ ⎦"
      ]
     },
     "execution_count": 81,
     "metadata": {},
     "output_type": "execute_result"
    }
   ],
   "source": [
    "open_f_orig = recast_mass.inv()@recast_force\n",
    "open_f_orig\n",
    "# print(recast_mass.subs(recast_fix_point_dict))\n",
    "# recast_force.subs(recast_fix_point_dict)\n",
    "open_f_recast = recast_transformation@open_f_orig\n",
    "open_f_recast"
   ]
  },
  {
   "cell_type": "code",
   "execution_count": 108,
   "metadata": {},
   "outputs": [
    {
     "data": {
      "image/png": "[encoded data removed]",
      "text/latex": [
       "$\\displaystyle \\left( 5, \\  5\\right)$"
      ],
      "text/plain": [
       "(5, 5)"
      ]
     },
     "execution_count": 108,
     "metadata": {},
     "output_type": "execute_result"
    }
   ],
   "source": [
    "AA = open_f_recast.jacobian(recast_states).subs(recast_fix_point_dict).subs(dict(zip(f,np.zeros(n))))\n",
    "AA = sm.matrix2numpy(AA,dtype=float)\n",
    "AA.shape"
   ]
  },
  {
   "cell_type": "code",
   "execution_count": 109,
   "metadata": {},
   "outputs": [
    {
     "data": {
      "image/png": "[encoded data removed]",
      "text/latex": [
       "$\\displaystyle \\left( 5, \\  1\\right)$"
      ],
      "text/plain": [
       "(5, 1)"
      ]
     },
     "execution_count": 109,
     "metadata": {},
     "output_type": "execute_result"
    }
   ],
   "source": [
    "BB = open_f_recast.jacobian(f).subs(recast_fix_point_dict)\n",
    "BB = sm.matrix2numpy(BB,dtype=float)\n",
    "BB.shape"
   ]
  },
  {
   "cell_type": "code",
   "execution_count": 111,
   "metadata": {},
   "outputs": [
    {
     "ename": "LinAlgError",
     "evalue": "Failed to find a finite solution.",
     "output_type": "error",
     "traceback": [
      "\u001b[0;31m---------------------------------------------------------------------------\u001b[0m",
      "\u001b[0;31mLinAlgError\u001b[0m                               Traceback (most recent call last)",
      "\u001b[0;32m<ipython-input-111-34923493548c>\u001b[0m in \u001b[0;36m<module>\u001b[0;34m\u001b[0m\n\u001b[1;32m      2\u001b[0m \u001b[0mQQ\u001b[0m \u001b[0;34m=\u001b[0m \u001b[0;36m10\u001b[0m\u001b[0;34m*\u001b[0m\u001b[0mnp\u001b[0m\u001b[0;34m.\u001b[0m\u001b[0meye\u001b[0m\u001b[0;34m(\u001b[0m\u001b[0mAA\u001b[0m\u001b[0;34m.\u001b[0m\u001b[0mshape\u001b[0m\u001b[0;34m[\u001b[0m\u001b[0;36m0\u001b[0m\u001b[0;34m]\u001b[0m\u001b[0;34m)\u001b[0m\u001b[0;34m\u001b[0m\u001b[0;34m\u001b[0m\u001b[0m\n\u001b[1;32m      3\u001b[0m \u001b[0mRR\u001b[0m \u001b[0;34m=\u001b[0m \u001b[0mnp\u001b[0m\u001b[0;34m.\u001b[0m\u001b[0meye\u001b[0m\u001b[0;34m(\u001b[0m\u001b[0mBB\u001b[0m\u001b[0;34m.\u001b[0m\u001b[0mshape\u001b[0m\u001b[0;34m[\u001b[0m\u001b[0;36m1\u001b[0m\u001b[0;34m]\u001b[0m\u001b[0;34m)\u001b[0m\u001b[0;34m\u001b[0m\u001b[0;34m\u001b[0m\u001b[0m\n\u001b[0;32m----> 4\u001b[0;31m \u001b[0mSS\u001b[0m \u001b[0;34m=\u001b[0m \u001b[0msolve_continuous_are\u001b[0m\u001b[0;34m(\u001b[0m\u001b[0mAA\u001b[0m\u001b[0;34m,\u001b[0m \u001b[0mBB\u001b[0m\u001b[0;34m,\u001b[0m \u001b[0mQQ\u001b[0m\u001b[0;34m,\u001b[0m \u001b[0mRR\u001b[0m\u001b[0;34m)\u001b[0m\u001b[0;34m;\u001b[0m\u001b[0;34m\u001b[0m\u001b[0;34m\u001b[0m\u001b[0m\n\u001b[0m\u001b[1;32m      5\u001b[0m \u001b[0mKK\u001b[0m \u001b[0;34m=\u001b[0m \u001b[0mnp\u001b[0m\u001b[0;34m.\u001b[0m\u001b[0mdot\u001b[0m\u001b[0;34m(\u001b[0m\u001b[0mnp\u001b[0m\u001b[0;34m.\u001b[0m\u001b[0mdot\u001b[0m\u001b[0;34m(\u001b[0m\u001b[0mnp\u001b[0m\u001b[0;34m.\u001b[0m\u001b[0mlinalg\u001b[0m\u001b[0;34m.\u001b[0m\u001b[0minv\u001b[0m\u001b[0;34m(\u001b[0m\u001b[0mRR\u001b[0m\u001b[0;34m)\u001b[0m\u001b[0;34m,\u001b[0m \u001b[0mBB\u001b[0m\u001b[0;34m.\u001b[0m\u001b[0mT\u001b[0m\u001b[0;34m)\u001b[0m\u001b[0;34m,\u001b[0m  \u001b[0mSS\u001b[0m\u001b[0;34m)\u001b[0m\u001b[0;34m\u001b[0m\u001b[0;34m\u001b[0m\u001b[0m\n\u001b[1;32m      6\u001b[0m \u001b[0mKK\u001b[0m\u001b[0;34m\u001b[0m\u001b[0;34m\u001b[0m\u001b[0m\n",
      "\u001b[0;32m~/veril/ENV/lib/python3.7/site-packages/scipy/linalg/_solvers.py\u001b[0m in \u001b[0;36msolve_continuous_are\u001b[0;34m(a, b, q, r, e, s, balanced)\u001b[0m\n\u001b[1;32m    503\u001b[0m     \u001b[0mup\u001b[0m\u001b[0;34m,\u001b[0m \u001b[0mul\u001b[0m\u001b[0;34m,\u001b[0m \u001b[0muu\u001b[0m \u001b[0;34m=\u001b[0m \u001b[0mlu\u001b[0m\u001b[0;34m(\u001b[0m\u001b[0mu00\u001b[0m\u001b[0;34m)\u001b[0m\u001b[0;34m\u001b[0m\u001b[0;34m\u001b[0m\u001b[0m\n\u001b[1;32m    504\u001b[0m     \u001b[0;32mif\u001b[0m \u001b[0;36m1\u001b[0m\u001b[0;34m/\u001b[0m\u001b[0mcond\u001b[0m\u001b[0;34m(\u001b[0m\u001b[0muu\u001b[0m\u001b[0;34m)\u001b[0m \u001b[0;34m<\u001b[0m \u001b[0mnp\u001b[0m\u001b[0;34m.\u001b[0m\u001b[0mspacing\u001b[0m\u001b[0;34m(\u001b[0m\u001b[0;36m1.\u001b[0m\u001b[0;34m)\u001b[0m\u001b[0;34m:\u001b[0m\u001b[0;34m\u001b[0m\u001b[0;34m\u001b[0m\u001b[0m\n\u001b[0;32m--> 505\u001b[0;31m         \u001b[0;32mraise\u001b[0m \u001b[0mLinAlgError\u001b[0m\u001b[0;34m(\u001b[0m\u001b[0;34m'Failed to find a finite solution.'\u001b[0m\u001b[0;34m)\u001b[0m\u001b[0;34m\u001b[0m\u001b[0;34m\u001b[0m\u001b[0m\n\u001b[0m\u001b[1;32m    506\u001b[0m \u001b[0;34m\u001b[0m\u001b[0m\n\u001b[1;32m    507\u001b[0m     \u001b[0;31m# Exploit the triangular structure\u001b[0m\u001b[0;34m\u001b[0m\u001b[0;34m\u001b[0m\u001b[0;34m\u001b[0m\u001b[0m\n",
      "\u001b[0;31mLinAlgError\u001b[0m: Failed to find a finite solution."
     ]
    }
   ],
   "source": [
    "from scipy.linalg import solve_continuous_are\n",
    "QQ = 10*np.eye(AA.shape[0])\n",
    "RR = np.eye(BB.shape[1])\n",
    "SS = solve_continuous_are(AA, BB, QQ, RR);\n",
    "KK = np.dot(np.dot(np.linalg.inv(RR), BB.T),  SS)\n",
    "KK"
   ]
  },
  {
   "cell_type": "markdown",
   "metadata": {},
   "source": [
    "### symbolic transformation of the dyanmics, involing mass inversion, bad"
   ]
  },
  {
   "cell_type": "markdown",
   "metadata": {},
   "source": [
    "Controller Design\n",
    "=================\n",
    "\n",
    "The n-link pendulum can be balanced such that all of the links are inverted above the cart by applying the correct lateral force to the cart. We can design a full state feedback controller based from a linear model of the pendulum about its upright equilibrium point. We'll start by specifying the equilibrium point and parameters in dictionaries. We make sure to use SymPy types in the equilibrium point to ensure proper cancelations in the linearization."
   ]
  },
  {
   "cell_type": "code",
   "execution_count": 89,
   "metadata": {},
   "outputs": [
    {
     "data": {
      "image/png": "[encoded data removed]",
      "text/latex": [
       "$\\displaystyle \\left\\{ dq_{0} : 0, \\  dq_{1} : 0, \\  q_{0} : 0, \\  q_{1} : \\frac{\\pi}{2}\\right\\}$"
      ],
      "text/plain": [
       "⎧                           π⎫\n",
       "⎨dq₀: 0, dq₁: 0, q₀: 0, q₁: ─⎬\n",
       "⎩                           2⎭"
      ]
     },
     "execution_count": 89,
     "metadata": {},
     "output_type": "execute_result"
    }
   ],
   "source": [
    "equilibrium_point = [sm.S(0)] + [sm.pi / 2] * (len(q) - 1) + [sm.S(0)] * len(u)                           \n",
    "equilibrium_dict = dict(zip(q + u, equilibrium_point))\n",
    "equilibrium_dict"
   ]
  },
  {
   "cell_type": "markdown",
   "metadata": {},
   "source": [
    "The `KanesMethod` class has method that linearizes the forcing vector about generic state and input perturbation vectors. The equilibrium point and numerical constants can then be substituted in to give the linear system in this form: $M\\dot{x}=F_Ax+F_Br$. The state and input matrices, $A$ and $B$, can then be computed by left side multiplication by the inverse of the mass matrix: $A=M^{-1}F_A$ and $B=M^{-1}F_B$."
   ]
  },
  {
   "cell_type": "code",
   "execution_count": 90,
   "metadata": {},
   "outputs": [],
   "source": [
    "M, F_A, F_B, r = kane.linearize(new_method=True, op_point=equilibrium_dict)"
   ]
  },
  {
   "cell_type": "code",
   "execution_count": 91,
   "metadata": {},
   "outputs": [
    {
     "data": {
      "image/png": "[encoded data removed]",
      "text/latex": [
       "$\\displaystyle \\left[\\begin{matrix}1 & 0 & 0 & 0\\\\0 & 1 & 0 & 0\\\\0 & 0 & -0.02 & 0.01\\\\0 & 0 & 0.01 & -0.01\\end{matrix}\\right]$"
      ],
      "text/plain": [
       "⎡1  0    0      0  ⎤\n",
       "⎢                  ⎥\n",
       "⎢0  1    0      0  ⎥\n",
       "⎢                  ⎥\n",
       "⎢0  0  -0.02  0.01 ⎥\n",
       "⎢                  ⎥\n",
       "⎣0  0  0.01   -0.01⎦"
      ]
     },
     "execution_count": 91,
     "metadata": {},
     "output_type": "execute_result"
    }
   ],
   "source": [
    "sm.simplify(M)"
   ]
  },
  {
   "cell_type": "code",
   "execution_count": 92,
   "metadata": {},
   "outputs": [
    {
     "data": {
      "image/png": "[encoded data removed]",
      "text/latex": [
       "$\\displaystyle \\left[\\begin{matrix}0 & 0 & 1 & 0\\\\0 & 0 & 0 & 1\\\\0 & 0 & 0 & 0\\\\0 & -0.0981 & 0 & 0\\end{matrix}\\right]$"
      ],
      "text/plain": [
       "⎡0     0     1  0⎤\n",
       "⎢                ⎥\n",
       "⎢0     0     0  1⎥\n",
       "⎢                ⎥\n",
       "⎢0     0     0  0⎥\n",
       "⎢                ⎥\n",
       "⎣0  -0.0981  0  0⎦"
      ]
     },
     "execution_count": 92,
     "metadata": {},
     "output_type": "execute_result"
    }
   ],
   "source": [
    "sm.simplify(F_A)"
   ]
  },
  {
   "cell_type": "code",
   "execution_count": 93,
   "metadata": {},
   "outputs": [
    {
     "data": {
      "image/png": "[encoded data removed]",
      "text/latex": [
       "$\\displaystyle \\left[\\begin{matrix}0\\\\0\\\\-1\\\\0\\end{matrix}\\right]$"
      ],
      "text/plain": [
       "⎡0 ⎤\n",
       "⎢  ⎥\n",
       "⎢0 ⎥\n",
       "⎢  ⎥\n",
       "⎢-1⎥\n",
       "⎢  ⎥\n",
       "⎣0 ⎦"
      ]
     },
     "execution_count": 93,
     "metadata": {},
     "output_type": "execute_result"
    }
   ],
   "source": [
    "sm.simplify(F_B)"
   ]
  },
  {
   "cell_type": "markdown",
   "metadata": {},
   "source": [
    "Now the numerical $A$ and $B$ matrices can be formed. First substitute numerical parameter values into $M$, $F_A$, and $F_B$."
   ]
  },
  {
   "cell_type": "code",
   "execution_count": 94,
   "metadata": {},
   "outputs": [
    {
     "data": {
      "image/png": "[encoded data removed]",
      "text/latex": [
       "$\\displaystyle \\left\\{ 0.01 : 0.01, \\  1.0 : 1.0, \\  9.81 : 9.81\\right\\}$"
      ],
      "text/plain": [
       "{0.01: 0.01, 1.0: 1.0, 9.81: 9.81}"
      ]
     },
     "execution_count": 94,
     "metadata": {},
     "output_type": "execute_result"
    }
   ],
   "source": [
    "parameter_dict = dict(zip(parameters, parameter_vals))\n",
    "parameter_dict"
   ]
  },
  {
   "cell_type": "code",
   "execution_count": 95,
   "metadata": {},
   "outputs": [],
   "source": [
    "M_num = sm.matrix2numpy(M.subs(parameter_dict), dtype=float)\n",
    "F_A_num = sm.matrix2numpy(F_A.subs(parameter_dict), dtype=float)\n",
    "F_B_num = sm.matrix2numpy(F_B.subs(parameter_dict), dtype=float)\n",
    "A = np.linalg.solve(M_num, F_A_num)\n",
    "B = np.linalg.solve(M_num ,F_B_num)"
   ]
  },
  {
   "cell_type": "code",
   "execution_count": 96,
   "metadata": {},
   "outputs": [
    {
     "name": "stdout",
     "output_type": "stream",
     "text": [
      "[[ 0.    0.    1.    0.  ]\n",
      " [ 0.    0.    0.    1.  ]\n",
      " [-0.    9.81 -0.   -0.  ]\n",
      " [-0.   19.62 -0.   -0.  ]]\n"
     ]
    }
   ],
   "source": [
    "print(A)"
   ]
  },
  {
   "cell_type": "code",
   "execution_count": 97,
   "metadata": {},
   "outputs": [
    {
     "name": "stdout",
     "output_type": "stream",
     "text": [
      "[[  0.]\n",
      " [  0.]\n",
      " [100.]\n",
      " [100.]]\n"
     ]
    }
   ],
   "source": [
    "print(B)"
   ]
  },
  {
   "cell_type": "markdown",
   "metadata": {},
   "source": [
    "Also convert `equilibrium_point` to a numeric array:"
   ]
  },
  {
   "cell_type": "code",
   "execution_count": 126,
   "metadata": {},
   "outputs": [],
   "source": [
    "equilibrium_point = np.asarray([x.evalf() for x in equilibrium_point], dtype=float)"
   ]
  },
  {
   "cell_type": "markdown",
   "metadata": {},
   "source": [
    "Now that we have a linear system, the SciPy package can be used to design an optimal controller for the system."
   ]
  },
  {
   "cell_type": "markdown",
   "metadata": {},
   "source": [
    "So now we can compute the optimal gains with a linear quadratic regulator. I chose identity matrices for the weightings for simplicity."
   ]
  },
  {
   "cell_type": "code",
   "execution_count": 127,
   "metadata": {},
   "outputs": [
    {
     "data": {
      "text/plain": [
       "array([[-1.        ,  9.61514829, -1.70888118,  3.18275463]])"
      ]
     },
     "execution_count": 127,
     "metadata": {},
     "output_type": "execute_result"
    }
   ],
   "source": [
    "from scipy.linalg import solve_continuous_are\n",
    "Q = np.eye(A.shape[0])\n",
    "R = np.eye(B.shape[1])\n",
    "S = solve_continuous_are(A, B, Q, R);\n",
    "K = np.dot(np.dot(np.linalg.inv(R), B.T),  S)\n",
    "K"
   ]
  },
  {
   "cell_type": "markdown",
   "metadata": {},
   "source": [
    "The gains can now be used to define the required input during simulation to stabilize the system. The input $r$ is simply the gain vector multiplied by the error in the state vector from the equilibrium point, $r(t)=K(x_{eq} - x(t))$."
   ]
  },
  {
   "cell_type": "code",
   "execution_count": 128,
   "metadata": {},
   "outputs": [],
   "source": [
    "def right_hand_side(x, t, args):\n",
    "    \"\"\"Returns the derivatives of the states.\n",
    "\n",
    "    Parameters\n",
    "    ----------\n",
    "    x : ndarray, shape(2 * (n + 1))\n",
    "        The current state vector.\n",
    "    t : float\n",
    "        The current time.\n",
    "    args : ndarray\n",
    "        The constants.\n",
    "\n",
    "    Returns\n",
    "    -------\n",
    "    dx : ndarray, shape(2 * (n + 1))\n",
    "        The derivative of the state.\n",
    "    \n",
    "    \"\"\"\n",
    "    div = equilibrium_point - x\n",
    "    div[:n+1] = np.sin(div[:n+1])\n",
    "    r = np.dot(K, div)    # The controller   \n",
    "    arguments = np.hstack((x, r))     # States, input, and parameters\n",
    "    dx = np.array(solve(M_func(*arguments), # Solving for the derivatives\n",
    "                        f_func(*arguments))).T[0]\n",
    "    \n",
    "    return dx"
   ]
  },
  {
   "cell_type": "markdown",
   "metadata": {},
   "source": [
    "Now we can simulate and animate the system to see if the controller works."
   ]
  },
  {
   "cell_type": "code",
   "execution_count": 129,
   "metadata": {},
   "outputs": [],
   "source": [
    "if do_plot:\n",
    "    x0 = np.hstack((0,\n",
    "                (np.pi/ 2) * np.ones(len(q) - 1) - np.random.uniform(-.3,.2,(len(q) - 1)),\n",
    "                2* np.ones(len(u))))\n",
    "    t = np.linspace(0.0, 10.0, num=500)\n",
    "    x = odeint(right_hand_side, x0, t, args=(parameter_vals,))"
   ]
  },
  {
   "cell_type": "markdown",
   "metadata": {},
   "source": [
    "The plots show that we seem to have a stable system."
   ]
  },
  {
   "cell_type": "code",
   "execution_count": 130,
   "metadata": {},
   "outputs": [],
   "source": [
    "if do_plot:\n",
    "    lines = plt.plot(t, x[:, :x.shape[1] // 2])\n",
    "    lab = plt.xlabel('Time [sec]')\n",
    "    leg = plt.legend(dynamic[:x.shape[1] // 2])"
   ]
  },
  {
   "cell_type": "code",
   "execution_count": 131,
   "metadata": {},
   "outputs": [],
   "source": [
    "if do_plot:\n",
    "    lines = plt.plot(t, x[:, x.shape[1] // 2:])\n",
    "    lab = plt.xlabel('Time [sec]')\n",
    "    leg = plt.legend(dynamic[x.shape[1] // 2:])"
   ]
  },
  {
   "cell_type": "code",
   "execution_count": 132,
   "metadata": {},
   "outputs": [],
   "source": [
    "if do_sim:\n",
    "    anim = animate_pendulum(t, x, arm_length)\n",
    "\n",
    "    # Set up formatting for the movie files\n",
    "    Writer = animation.writers['ffmpeg']\n",
    "    writer = Writer(fps=15, metadata=dict(artist='Me'), bitrate=1800)\n",
    "\n",
    "    anim.save('closed-loop.mp4',writer = 'ffmpeg')"
   ]
  },
  {
   "cell_type": "code",
   "execution_count": 133,
   "metadata": {},
   "outputs": [],
   "source": [
    "if do_sim:\n",
    "    from IPython.display import HTML\n",
    "    html = \\\n",
    "    \"\"\"\n",
    "    <video width=\"640\" height=\"480\" controls>\n",
    "      <source src=\"closed-loop.mp4\" type=\"video/mp4\">\n",
    "    Your browser does not support the video tag, check out the YouTube version instead: http://youtu.be/SpgBHqW9om0\n",
    "    </video>\n",
    "    \"\"\"\n",
    "    HTML(html)"
   ]
  },
  {
   "cell_type": "markdown",
   "metadata": {},
   "source": [
    "### Feedback the LQR controller for the closed-loop EOM:"
   ]
  },
  {
   "cell_type": "code",
   "execution_count": 134,
   "metadata": {},
   "outputs": [
    {
     "data": {
      "text/plain": [
       "array([-q0(t), 1.5707963267949 - q1(t), -dq0(t), -dq1(t)], dtype=object)"
      ]
     },
     "execution_count": 134,
     "metadata": {},
     "output_type": "execute_result"
    }
   ],
   "source": [
    "states = np.array(q + u)\n",
    "div = equilibrium_point - states\n",
    "div"
   ]
  },
  {
   "cell_type": "markdown",
   "metadata": {},
   "source": [
    "### Turn the feedback on the small angle $\\theta$ to feedback on the $\\sin(\\theta)$"
   ]
  },
  {
   "cell_type": "code",
   "execution_count": 135,
   "metadata": {},
   "outputs": [
    {
     "data": {
      "text/plain": [
       "array([-q0(t), -sin(q1(t) - 1.5707963267949), -dq0(t), -dq1(t)],\n",
       "      dtype=object)"
      ]
     },
     "execution_count": 135,
     "metadata": {},
     "output_type": "execute_result"
    }
   ],
   "source": [
    "from sympy import sin, cos\n",
    "div_in_trig = div\n",
    "for i in range(n):\n",
    "    div_in_trig[i+1] = sin(div[i+1])\n",
    "div_in_trig"
   ]
  },
  {
   "cell_type": "code",
   "execution_count": 136,
   "metadata": {},
   "outputs": [
    {
     "name": "stderr",
     "output_type": "stream",
     "text": [
      "/Users/shenshen/veril/ENV/lib/python3.7/site-packages/sympy/physics/mechanics/kane.py:536: SymPyDeprecationWarning: \n",
      "\n",
      "The kanes_equation() argument order has been deprecated since SymPy\n",
      "1.1. Use switched argument order to update your code, For example:\n",
      "kanes_equations(loads, bodies) > kanes_equations(bodies, loads).\n",
      "instead. See https://github.com/sympy/sympy/issues/10945 for more\n",
      "info.  The API for kanes_equations() has changed such that the loads\n",
      "(forces and torques) are now the second argument and is optional with\n",
      "None being the default.\n",
      "\n",
      "  issue=10945, deprecated_since_version=\"1.1\").warn()\n"
     ]
    }
   ],
   "source": [
    "feedback = np.dot(K, div_in_trig)\n",
    "\n",
    "forces = [(P0, feedback[0] * I.x - m[0] * g * I.y)] # List to hold the n + 1 applied forces, including the input force, f\n",
    "\n",
    "for i in range(n):\n",
    "    forces.append((Pi, -m[i + 1] * g * I.y))                  # Set the force applied at the point\n",
    "for i in range(n-1):\n",
    "    forces.append((frames[i+1], feedback[i+1]*frames[i].z))\n",
    "\n",
    "kane_cl = me.KanesMethod(I, q_ind=q, u_ind=u, kd_eqs=kindiffs)\n",
    "fr_cl, frstar_cl = kane_cl.kanes_equations(forces, particles)"
   ]
  },
  {
   "cell_type": "code",
   "execution_count": 137,
   "metadata": {},
   "outputs": [],
   "source": [
    "massmatrix = (kane_cl.mass_matrix)\n",
    "forcesmatrix = (kane_cl.forcing)"
   ]
  },
  {
   "cell_type": "markdown",
   "metadata": {},
   "source": [
    "### Double check the EOM is in terms of the trigs and velocities only"
   ]
  },
  {
   "cell_type": "code",
   "execution_count": 170,
   "metadata": {},
   "outputs": [
    {
     "data": {
      "image/png": "[encoded data removed]",
      "text/latex": [
       "$\\displaystyle \\left[\\begin{matrix}0.02 & -0.01\\\\-0.01 & 0.01\\end{matrix}\\right]$"
      ],
      "text/plain": [
       "⎡0.02   -0.01⎤\n",
       "⎢            ⎥\n",
       "⎣-0.01  0.01 ⎦"
      ]
     },
     "execution_count": 170,
     "metadata": {},
     "output_type": "execute_result"
    }
   ],
   "source": [
    "massmatrix.subs(equilibrium_dict)"
   ]
  },
  {
   "cell_type": "code",
   "execution_count": 172,
   "metadata": {},
   "outputs": [
    {
     "data": {
      "image/png": "[encoded data removed]",
      "text/latex": [
       "$\\displaystyle \\left[\\begin{matrix}-5.88758028638206 \\cdot 10^{-16}\\\\0\\end{matrix}\\right]$"
      ],
      "text/plain": [
       "⎡-5.88758028638206e-16⎤\n",
       "⎢                     ⎥\n",
       "⎣          0          ⎦"
      ]
     },
     "execution_count": 172,
     "metadata": {},
     "output_type": "execute_result"
    }
   ],
   "source": [
    "forcesmatrix.subs(equilibrium_dict)"
   ]
  },
  {
   "cell_type": "markdown",
   "metadata": {},
   "source": [
    "Expand trig of angle differnce into absolute angle trigs"
   ]
  },
  {
   "cell_type": "code",
   "execution_count": 140,
   "metadata": {},
   "outputs": [],
   "source": [
    "# sm.expand_trig(forcesmatrix)"
   ]
  },
  {
   "cell_type": "markdown",
   "metadata": {},
   "source": [
    "### Double check the CL dynamics in terms of $q$ $\\dot q$ are stable"
   ]
  },
  {
   "cell_type": "code",
   "execution_count": 141,
   "metadata": {},
   "outputs": [
    {
     "data": {
      "text/plain": [
       "array([[   0.        ,    0.        ,    1.        ,    0.        ],\n",
       "       [   0.        ,    0.        ,    0.        ,    1.        ],\n",
       "       [ 100.        , -951.70482868,  170.88811779, -318.27546344],\n",
       "       [ 100.        , -941.89482868,  170.88811779, -318.27546344]])"
      ]
     },
     "execution_count": 141,
     "metadata": {},
     "output_type": "execute_result"
    }
   ],
   "source": [
    "M_cl, F_A_cl, F_B_cl, r_cl = kane_cl.linearize(new_method=True, op_point=equilibrium_dict)\n",
    "M_num_cl = sm.matrix2numpy(M_cl, dtype=float)\n",
    "F_A_num_cl = sm.matrix2numpy(F_A_cl, dtype=float)\n",
    "A_cl = np.linalg.solve(M_num_cl, F_A_num_cl)\n",
    "A_cl"
   ]
  },
  {
   "cell_type": "code",
   "execution_count": 142,
   "metadata": {},
   "outputs": [],
   "source": [
    "np.linalg.eig(A_cl)[0]\n",
    "from scipy.linalg import solve_lyapunov\n",
    "P = solve_lyapunov(A_cl.T, -np.eye(A_cl.shape[0]))"
   ]
  },
  {
   "cell_type": "code",
   "execution_count": 143,
   "metadata": {},
   "outputs": [
    {
     "data": {
      "image/png": "[encoded data removed]",
      "text/latex": [
       "$\\displaystyle \\left(q_{1} - 1.5707963267949\\right) \\left(- 4.40997380137503 dq_{0} + 4.45643529756224 dq_{1} - 3.14865579666286 q_{0} + 16.5686150578688 q_{1} - 26.025919672979\\right) + \\left(- 1.31364573286901 dq_{0} + 1.32921851766385 dq_{1} - 0.958682340685422 q_{0} + 4.45643529756224 q_{1} - 7.00015219600988\\right) dq_{1} + \\left(0.953682340685419 dq_{0} - 0.958682340685422 dq_{1} + 1.70510379449352 q_{0} - 3.14865579666286 q_{1} + 4.94589695973948\\right) q_{0} + \\left(1.30513910081343 dq_{0} - 1.31364573286901 dq_{1} + 0.953682340685419 q_{0} - 4.40997380137503 q_{1} + 6.92717064846163\\right) dq_{0}$"
      ],
      "text/plain": [
       "(q₁ - 1.5707963267949)⋅(-4.40997380137503⋅dq₀ + 4.45643529756224⋅dq₁ - 3.14865\n",
       "579666286⋅q₀ + 16.5686150578688⋅q₁ - 26.025919672979) + (-1.31364573286901⋅dq₀\n",
       " + 1.32921851766385⋅dq₁ - 0.958682340685422⋅q₀ + 4.45643529756224⋅q₁ - 7.00015\n",
       "219600988)⋅dq₁ + (0.953682340685419⋅dq₀ - 0.958682340685422⋅dq₁ + 1.7051037944\n",
       "9352⋅q₀ - 3.14865579666286⋅q₁ + 4.94589695973948)⋅q₀ + (1.30513910081343⋅dq₀ -\n",
       " 1.31364573286901⋅dq₁ + 0.953682340685419⋅q₀ - 4.40997380137503⋅q₁ + 6.9271706\n",
       "4846163)⋅dq₀"
      ]
     },
     "execution_count": 143,
     "metadata": {},
     "output_type": "execute_result"
    }
   ],
   "source": [
    "orig_basis = states - equilibrium_point\n",
    "V = ((orig_basis).T@P@(orig_basis))\n",
    "V\n",
    "# sm.N(V.subs(equilibrium_dict))\n",
    "# orig_basis"
   ]
  },
  {
   "cell_type": "markdown",
   "metadata": {},
   "source": [
    "#### Recasting the Lyapunov Method 1 (angle replacement)"
   ]
  },
  {
   "cell_type": "code",
   "execution_count": 148,
   "metadata": {},
   "outputs": [],
   "source": [
    "# first recast small angle squared\n",
    "\n",
    "# small_squared = [i**2 for i in q[1:]]\n",
    "# small_squared_cos = [2-2*i for i in cosstates]\n",
    "# recat_lyap_dict = dict(zip(small_squared,small_squared_cos))\n",
    "# V_recast = V.subs(recat_lyap_dict)"
   ]
  },
  {
   "cell_type": "code",
   "execution_count": 149,
   "metadata": {},
   "outputs": [],
   "source": [
    "# next recast the small angle themselves\n",
    "\n",
    "# V_recast = V_recast.subs(dict(zip(q[1:],sinstates)))\n",
    "# V_recast"
   ]
  },
  {
   "cell_type": "markdown",
   "metadata": {},
   "source": [
    "#### Recasting the Lyapunov Method 2 (direct replacement)"
   ]
  },
  {
   "cell_type": "code",
   "execution_count": 150,
   "metadata": {},
   "outputs": [],
   "source": [
    "recast_basis = [q[0]] + sinstates + u\n",
    "V_recast = sm.expand(recast_basis@P@recast_basis)"
   ]
  },
  {
   "cell_type": "code",
   "execution_count": 151,
   "metadata": {},
   "outputs": [
    {
     "data": {
      "image/png": "[encoded data removed]",
      "text/latex": [
       "$\\displaystyle 0$"
      ],
      "text/plain": [
       "0"
      ]
     },
     "execution_count": 151,
     "metadata": {},
     "output_type": "execute_result"
    }
   ],
   "source": [
    "small_squared_cos = [2-2*i for i in cosstates]\n",
    "# recast_basis_one = [q[0]] + sinstates + u\n",
    "# V1 = sm.expand(recast_basis@P@recast_basis)\n",
    "# me.find_dynamicsymbols(V_recast)\n",
    "small_squared_cos\n",
    "V_recast.subs(recast_fix_point_dict)"
   ]
  },
  {
   "cell_type": "markdown",
   "metadata": {},
   "source": [
    "### do linearization in the [s,c,t] coordinate, getting non-Hurwitz A, so go back to small-angle approx. of V"
   ]
  },
  {
   "cell_type": "code",
   "execution_count": 165,
   "metadata": {},
   "outputs": [],
   "source": [
    "ddq = recast_mass.inv()@recast_force  ## doubledots(q) expressed in q, dq\n",
    "dsdc = recast_transformation@ddq \n",
    "\n",
    "# dynamics_recast = sm.Matrix([dq0, dsdc, ddq])\n",
    "# dynamics_recast.shape\n",
    "\n",
    "dsdc_A = sm.matrix2numpy(dsdc.jacobian(recast_states).subs(recast_fix_point_dict), dtype=float)\n",
    "ddq_A = sm.matrix2numpy(ddq.jacobian(recast_states).subs(recast_fix_point_dict), dtype=float)"
   ]
  },
  {
   "cell_type": "code",
   "execution_count": 166,
   "metadata": {},
   "outputs": [
    {
     "data": {
      "text/plain": [
       "array([[   0.        ,    0.        ,    0.        ,    1.        ,\n",
       "           0.        ],\n",
       "       [   0.        ,  480.75741434,  -19.62      ,    0.        ,\n",
       "           0.        ],\n",
       "       [   0.        ,    9.81      ,    0.        ,    0.        ,\n",
       "           0.        ],\n",
       "       [  50.        ,   -4.905     ,  480.75741434,   85.44405889,\n",
       "        -159.13773172],\n",
       "       [   0.        ,  480.75741434,   -9.81      ,    0.        ,\n",
       "           0.        ]])"
      ]
     },
     "execution_count": 166,
     "metadata": {},
     "output_type": "execute_result"
    }
   ],
   "source": [
    "dq0_A = np.zeros(2*n+2+n)\n",
    "dq0_A[-n-1]=1\n",
    "A_recast = np.vstack((dq0_A, dsdc_A,ddq_A))\n",
    "A_recast"
   ]
  },
  {
   "cell_type": "code",
   "execution_count": 158,
   "metadata": {},
   "outputs": [
    {
     "data": {
      "text/plain": [
       "array([-5.81224473e-01,  8.60252834e+01,  4.80356728e+02,  4.00685967e-01,\n",
       "        4.40251232e-14])"
      ]
     },
     "execution_count": 158,
     "metadata": {},
     "output_type": "execute_result"
    }
   ],
   "source": [
    "np.linalg.eig(A_recast)[0]"
   ]
  },
  {
   "cell_type": "code",
   "execution_count": 159,
   "metadata": {},
   "outputs": [],
   "source": [
    "# P = solve_lyapunov(A_recast.T, -np.eye(A_recast.shape[0]))\n",
    "# np.linalg.eig(P)[0]"
   ]
  },
  {
   "cell_type": "code",
   "execution_count": 160,
   "metadata": {},
   "outputs": [],
   "source": [
    "# direc_v_recast = sm.simplify((recast_states - recast_fix_point).T@P@(recast_states - recast_fix_point))\n",
    "# direc_v_recast"
   ]
  },
  {
   "cell_type": "code",
   "execution_count": 161,
   "metadata": {},
   "outputs": [],
   "source": [
    "# import sys\n",
    "# sys.path.append(\n",
    "#     \"/Users/shenshen/drake-build/install/lib/python3.7/site-packages\")\n",
    "# from pydrake.all import (Polynomial, Variable, Evaluate, Substitute,\n",
    "#                          MathematicalProgram, MosekSolver)"
   ]
  },
  {
   "cell_type": "code",
   "execution_count": 162,
   "metadata": {},
   "outputs": [],
   "source": [
    "def sample():\n",
    "    alpha= np.random.randn(2*n+2)\n",
    "    beta = np.random.randn(2*n+2)\n",
    "    t = sm.Symbol('t',real=True)\n",
    "    old_states_dict = dict(zip(states, alpha*t+beta))\n",
    "#     old_states_dict\n",
    "\n",
    "    angle = np.random.uniform(-.2,.2,n)\n",
    "    sin_samples, cos_samples = np.sin(angle), np.cos(angle)\n",
    "    trig_sample_dict = dict(zip(sinstates + cosstates, np.concatenate([sin_samples, cos_samples])))\n",
    "#     trig_sample_dict\n",
    "    phi = V_recast.diff((recast_states,1))\n",
    "    this_phi = sm.simplify(phi.subs(old_states_dict).subs(trig_sample_dict))\n",
    "#     this_phi.shape\n",
    "    this_mass = sm.matrix2numpy(sm.simplify(recast_mass.subs(old_states_dict).subs(trig_sample_dict)),dtype=float)\n",
    "    this_mass_inv = np.linalg.inv(this_mass)\n",
    "#     this_mass_inv\n",
    "\n",
    "    this_force = sm.matrix2numpy(sm.simplify(recast_force.subs(old_states_dict).subs(trig_sample_dict)))\n",
    "#     this_force\n",
    "\n",
    "    this_ddq = this_mass_inv@this_force\n",
    "#     this_ddq.shape\n",
    "\n",
    "    this_recast_transform = sm.matrix2numpy(recast_transformation.subs(trig_sample_dict),dtype=float)\n",
    "    this_dsdc = this_recast_transform@this_ddq\n",
    "#     this_dsdc\n",
    "\n",
    "    this_dq0=old_states_dict[u[0]]\n",
    "    this_f = np.vstack((this_dq0, this_dsdc, this_ddq))\n",
    "    this_Vdot = this_phi@this_f\n",
    "\n",
    "    t_num=sm.solve(this_Vdot,t)\n",
    "    if len(t_num)>0:\n",
    "        print('found root')\n",
    "        old_states_num_dict = dict(zip(states, alpha*t_num+beta))\n",
    "        return angle, t_num, old_states_num_dict\n",
    "    else:\n",
    "        print('no root')"
   ]
  },
  {
   "cell_type": "code",
   "execution_count": 163,
   "metadata": {},
   "outputs": [
    {
     "name": "stdout",
     "output_type": "stream",
     "text": [
      "no root\n",
      "no root\n",
      "no root\n",
      "no root\n",
      "no root\n",
      "no root\n",
      "no root\n",
      "no root\n",
      "no root\n",
      "no root\n",
      "no root\n",
      "no root\n",
      "no root\n",
      "no root\n",
      "found root\n",
      "found root\n",
      "no root\n",
      "no root\n",
      "found root\n",
      "no root\n",
      "no root\n",
      "no root\n",
      "no root\n",
      "no root\n",
      "no root\n",
      "no root\n",
      "no root\n",
      "no root\n",
      "no root\n",
      "no root\n",
      "no root\n",
      "found root\n",
      "no root\n",
      "no root\n",
      "no root\n",
      "found root\n",
      "no root\n",
      "found root\n",
      "no root\n",
      "no root\n",
      "no root\n",
      "no root\n"
     ]
    },
    {
     "ename": "KeyboardInterrupt",
     "evalue": "",
     "output_type": "error",
     "traceback": [
      "\u001b[0;31m---------------------------------------------------------------------------\u001b[0m",
      "\u001b[0;31mKeyboardInterrupt\u001b[0m                         Traceback (most recent call last)",
      "\u001b[0;32m<ipython-input-163-f62f651b75c5>\u001b[0m in \u001b[0;36m<module>\u001b[0;34m\u001b[0m\n\u001b[1;32m      1\u001b[0m \u001b[0;32mfor\u001b[0m \u001b[0mi\u001b[0m \u001b[0;32min\u001b[0m \u001b[0mrange\u001b[0m\u001b[0;34m(\u001b[0m\u001b[0;36m100\u001b[0m\u001b[0;34m)\u001b[0m\u001b[0;34m:\u001b[0m\u001b[0;34m\u001b[0m\u001b[0;34m\u001b[0m\u001b[0m\n\u001b[0;32m----> 2\u001b[0;31m     \u001b[0msample\u001b[0m\u001b[0;34m(\u001b[0m\u001b[0;34m)\u001b[0m\u001b[0;34m\u001b[0m\u001b[0;34m\u001b[0m\u001b[0m\n\u001b[0m",
      "\u001b[0;32m<ipython-input-162-9ecfb408f30f>\u001b[0m in \u001b[0;36msample\u001b[0;34m()\u001b[0m\n\u001b[1;32m     31\u001b[0m     \u001b[0mthis_Vdot\u001b[0m \u001b[0;34m=\u001b[0m \u001b[0mthis_phi\u001b[0m\u001b[0;34m@\u001b[0m\u001b[0mthis_f\u001b[0m\u001b[0;34m\u001b[0m\u001b[0;34m\u001b[0m\u001b[0m\n\u001b[1;32m     32\u001b[0m \u001b[0;34m\u001b[0m\u001b[0m\n\u001b[0;32m---> 33\u001b[0;31m     \u001b[0mt_num\u001b[0m\u001b[0;34m=\u001b[0m\u001b[0msm\u001b[0m\u001b[0;34m.\u001b[0m\u001b[0msolve\u001b[0m\u001b[0;34m(\u001b[0m\u001b[0mthis_Vdot\u001b[0m\u001b[0;34m,\u001b[0m\u001b[0mt\u001b[0m\u001b[0;34m)\u001b[0m\u001b[0;34m\u001b[0m\u001b[0;34m\u001b[0m\u001b[0m\n\u001b[0m\u001b[1;32m     34\u001b[0m     \u001b[0;32mif\u001b[0m \u001b[0mlen\u001b[0m\u001b[0;34m(\u001b[0m\u001b[0mt_num\u001b[0m\u001b[0;34m)\u001b[0m\u001b[0;34m>\u001b[0m\u001b[0;36m0\u001b[0m\u001b[0;34m:\u001b[0m\u001b[0;34m\u001b[0m\u001b[0;34m\u001b[0m\u001b[0m\n\u001b[1;32m     35\u001b[0m         \u001b[0mprint\u001b[0m\u001b[0;34m(\u001b[0m\u001b[0;34m'found root'\u001b[0m\u001b[0;34m)\u001b[0m\u001b[0;34m\u001b[0m\u001b[0;34m\u001b[0m\u001b[0m\n",
      "\u001b[0;32m~/veril/ENV/lib/python3.7/site-packages/sympy/solvers/solvers.py\u001b[0m in \u001b[0;36msolve\u001b[0;34m(f, *symbols, **flags)\u001b[0m\n\u001b[1;32m   1171\u001b[0m         \u001b[0msolution\u001b[0m \u001b[0;34m=\u001b[0m \u001b[0m_solve\u001b[0m\u001b[0;34m(\u001b[0m\u001b[0mf\u001b[0m\u001b[0;34m[\u001b[0m\u001b[0;36m0\u001b[0m\u001b[0;34m]\u001b[0m\u001b[0;34m,\u001b[0m \u001b[0;34m*\u001b[0m\u001b[0msymbols\u001b[0m\u001b[0;34m,\u001b[0m \u001b[0;34m**\u001b[0m\u001b[0mflags\u001b[0m\u001b[0;34m)\u001b[0m\u001b[0;34m\u001b[0m\u001b[0;34m\u001b[0m\u001b[0m\n\u001b[1;32m   1172\u001b[0m     \u001b[0;32melse\u001b[0m\u001b[0;34m:\u001b[0m\u001b[0;34m\u001b[0m\u001b[0;34m\u001b[0m\u001b[0m\n\u001b[0;32m-> 1173\u001b[0;31m         \u001b[0msolution\u001b[0m \u001b[0;34m=\u001b[0m \u001b[0m_solve_system\u001b[0m\u001b[0;34m(\u001b[0m\u001b[0mf\u001b[0m\u001b[0;34m,\u001b[0m \u001b[0msymbols\u001b[0m\u001b[0;34m,\u001b[0m \u001b[0;34m**\u001b[0m\u001b[0mflags\u001b[0m\u001b[0;34m)\u001b[0m\u001b[0;34m\u001b[0m\u001b[0;34m\u001b[0m\u001b[0m\n\u001b[0m\u001b[1;32m   1174\u001b[0m \u001b[0;34m\u001b[0m\u001b[0m\n\u001b[1;32m   1175\u001b[0m     \u001b[0;31m#\u001b[0m\u001b[0;34m\u001b[0m\u001b[0;34m\u001b[0m\u001b[0;34m\u001b[0m\u001b[0m\n",
      "\u001b[0;32m~/veril/ENV/lib/python3.7/site-packages/sympy/solvers/solvers.py\u001b[0m in \u001b[0;36m_solve_system\u001b[0;34m(exprs, symbols, **flags)\u001b[0m\n\u001b[1;32m   1954\u001b[0m \u001b[0;34m\u001b[0m\u001b[0m\n\u001b[1;32m   1955\u001b[0m     \u001b[0;32mif\u001b[0m \u001b[0mcheck\u001b[0m \u001b[0;32mand\u001b[0m \u001b[0;32mnot\u001b[0m \u001b[0mlinear\u001b[0m\u001b[0;34m:\u001b[0m\u001b[0;34m\u001b[0m\u001b[0;34m\u001b[0m\u001b[0m\n\u001b[0;32m-> 1956\u001b[0;31m         result = [r for r in result\n\u001b[0m\u001b[1;32m   1957\u001b[0m             if not any(checksol(e, r, **flags) is False for e in exprs)]\n\u001b[1;32m   1958\u001b[0m \u001b[0;34m\u001b[0m\u001b[0m\n",
      "\u001b[0;32m~/veril/ENV/lib/python3.7/site-packages/sympy/solvers/solvers.py\u001b[0m in \u001b[0;36m<listcomp>\u001b[0;34m(.0)\u001b[0m\n\u001b[1;32m   1955\u001b[0m     \u001b[0;32mif\u001b[0m \u001b[0mcheck\u001b[0m \u001b[0;32mand\u001b[0m \u001b[0;32mnot\u001b[0m \u001b[0mlinear\u001b[0m\u001b[0;34m:\u001b[0m\u001b[0;34m\u001b[0m\u001b[0;34m\u001b[0m\u001b[0m\n\u001b[1;32m   1956\u001b[0m         result = [r for r in result\n\u001b[0;32m-> 1957\u001b[0;31m             if not any(checksol(e, r, **flags) is False for e in exprs)]\n\u001b[0m\u001b[1;32m   1958\u001b[0m \u001b[0;34m\u001b[0m\u001b[0m\n\u001b[1;32m   1959\u001b[0m     \u001b[0mresult\u001b[0m \u001b[0;34m=\u001b[0m \u001b[0;34m[\u001b[0m\u001b[0mr\u001b[0m \u001b[0;32mfor\u001b[0m \u001b[0mr\u001b[0m \u001b[0;32min\u001b[0m \u001b[0mresult\u001b[0m \u001b[0;32mif\u001b[0m \u001b[0mr\u001b[0m\u001b[0;34m]\u001b[0m\u001b[0;34m\u001b[0m\u001b[0;34m\u001b[0m\u001b[0m\n",
      "\u001b[0;32m~/veril/ENV/lib/python3.7/site-packages/sympy/solvers/solvers.py\u001b[0m in \u001b[0;36m<genexpr>\u001b[0;34m(.0)\u001b[0m\n\u001b[1;32m   1955\u001b[0m     \u001b[0;32mif\u001b[0m \u001b[0mcheck\u001b[0m \u001b[0;32mand\u001b[0m \u001b[0;32mnot\u001b[0m \u001b[0mlinear\u001b[0m\u001b[0;34m:\u001b[0m\u001b[0;34m\u001b[0m\u001b[0;34m\u001b[0m\u001b[0m\n\u001b[1;32m   1956\u001b[0m         result = [r for r in result\n\u001b[0;32m-> 1957\u001b[0;31m             if not any(checksol(e, r, **flags) is False for e in exprs)]\n\u001b[0m\u001b[1;32m   1958\u001b[0m \u001b[0;34m\u001b[0m\u001b[0m\n\u001b[1;32m   1959\u001b[0m     \u001b[0mresult\u001b[0m \u001b[0;34m=\u001b[0m \u001b[0;34m[\u001b[0m\u001b[0mr\u001b[0m \u001b[0;32mfor\u001b[0m \u001b[0mr\u001b[0m \u001b[0;32min\u001b[0m \u001b[0mresult\u001b[0m \u001b[0;32mif\u001b[0m \u001b[0mr\u001b[0m\u001b[0;34m]\u001b[0m\u001b[0;34m\u001b[0m\u001b[0;34m\u001b[0m\u001b[0m\n",
      "\u001b[0;32m~/veril/ENV/lib/python3.7/site-packages/sympy/solvers/solvers.py\u001b[0m in \u001b[0;36mchecksol\u001b[0;34m(f, symbol, sol, **flags)\u001b[0m\n\u001b[1;32m    356\u001b[0m             \u001b[0;32mif\u001b[0m \u001b[0mval\u001b[0m \u001b[0;32min\u001b[0m \u001b[0;34m(\u001b[0m\u001b[0mS\u001b[0m\u001b[0;34m.\u001b[0m\u001b[0mtrue\u001b[0m\u001b[0;34m,\u001b[0m \u001b[0mS\u001b[0m\u001b[0;34m.\u001b[0m\u001b[0mfalse\u001b[0m\u001b[0;34m)\u001b[0m\u001b[0;34m:\u001b[0m\u001b[0;34m\u001b[0m\u001b[0;34m\u001b[0m\u001b[0m\n\u001b[1;32m    357\u001b[0m                 \u001b[0;32mreturn\u001b[0m \u001b[0mbool\u001b[0m\u001b[0;34m(\u001b[0m\u001b[0mval\u001b[0m\u001b[0;34m)\u001b[0m\u001b[0;34m\u001b[0m\u001b[0;34m\u001b[0m\u001b[0m\n\u001b[0;32m--> 358\u001b[0;31m             \u001b[0;32mreturn\u001b[0m \u001b[0mbool\u001b[0m\u001b[0;34m(\u001b[0m\u001b[0mabs\u001b[0m\u001b[0;34m(\u001b[0m\u001b[0mval\u001b[0m\u001b[0;34m.\u001b[0m\u001b[0mn\u001b[0m\u001b[0;34m(\u001b[0m\u001b[0;36m18\u001b[0m\u001b[0;34m)\u001b[0m\u001b[0;34m.\u001b[0m\u001b[0mn\u001b[0m\u001b[0;34m(\u001b[0m\u001b[0;36m12\u001b[0m\u001b[0;34m,\u001b[0m \u001b[0mchop\u001b[0m\u001b[0;34m=\u001b[0m\u001b[0;32mTrue\u001b[0m\u001b[0;34m)\u001b[0m\u001b[0;34m)\u001b[0m \u001b[0;34m<\u001b[0m \u001b[0;36m1e-9\u001b[0m\u001b[0;34m)\u001b[0m\u001b[0;34m\u001b[0m\u001b[0;34m\u001b[0m\u001b[0m\n\u001b[0m\u001b[1;32m    359\u001b[0m         \u001b[0mwas\u001b[0m \u001b[0;34m=\u001b[0m \u001b[0mval\u001b[0m\u001b[0;34m\u001b[0m\u001b[0;34m\u001b[0m\u001b[0m\n\u001b[1;32m    360\u001b[0m \u001b[0;34m\u001b[0m\u001b[0m\n",
      "\u001b[0;32m~/veril/ENV/lib/python3.7/site-packages/sympy/core/evalf.py\u001b[0m in \u001b[0;36mevalf\u001b[0;34m(self, n, subs, maxn, chop, strict, quad, verbose)\u001b[0m\n\u001b[1;32m   1440\u001b[0m             \u001b[0moptions\u001b[0m\u001b[0;34m[\u001b[0m\u001b[0;34m'quad'\u001b[0m\u001b[0;34m]\u001b[0m \u001b[0;34m=\u001b[0m \u001b[0mquad\u001b[0m\u001b[0;34m\u001b[0m\u001b[0;34m\u001b[0m\u001b[0m\n\u001b[1;32m   1441\u001b[0m         \u001b[0;32mtry\u001b[0m\u001b[0;34m:\u001b[0m\u001b[0;34m\u001b[0m\u001b[0;34m\u001b[0m\u001b[0m\n\u001b[0;32m-> 1442\u001b[0;31m             \u001b[0mresult\u001b[0m \u001b[0;34m=\u001b[0m \u001b[0mevalf\u001b[0m\u001b[0;34m(\u001b[0m\u001b[0mself\u001b[0m\u001b[0;34m,\u001b[0m \u001b[0mprec\u001b[0m \u001b[0;34m+\u001b[0m \u001b[0;36m4\u001b[0m\u001b[0;34m,\u001b[0m \u001b[0moptions\u001b[0m\u001b[0;34m)\u001b[0m\u001b[0;34m\u001b[0m\u001b[0;34m\u001b[0m\u001b[0m\n\u001b[0m\u001b[1;32m   1443\u001b[0m         \u001b[0;32mexcept\u001b[0m \u001b[0mNotImplementedError\u001b[0m\u001b[0;34m:\u001b[0m\u001b[0;34m\u001b[0m\u001b[0;34m\u001b[0m\u001b[0m\n\u001b[1;32m   1444\u001b[0m             \u001b[0;31m# Fall back to the ordinary evalf\u001b[0m\u001b[0;34m\u001b[0m\u001b[0;34m\u001b[0m\u001b[0;34m\u001b[0m\u001b[0m\n",
      "\u001b[0;32m~/veril/ENV/lib/python3.7/site-packages/sympy/core/evalf.py\u001b[0m in \u001b[0;36mevalf\u001b[0;34m(x, prec, options)\u001b[0m\n\u001b[1;32m   1307\u001b[0m     \u001b[0;32mtry\u001b[0m\u001b[0;34m:\u001b[0m\u001b[0;34m\u001b[0m\u001b[0;34m\u001b[0m\u001b[0m\n\u001b[1;32m   1308\u001b[0m         \u001b[0mrf\u001b[0m \u001b[0;34m=\u001b[0m \u001b[0mevalf_table\u001b[0m\u001b[0;34m[\u001b[0m\u001b[0mx\u001b[0m\u001b[0;34m.\u001b[0m\u001b[0mfunc\u001b[0m\u001b[0;34m]\u001b[0m\u001b[0;34m\u001b[0m\u001b[0;34m\u001b[0m\u001b[0m\n\u001b[0;32m-> 1309\u001b[0;31m         \u001b[0mr\u001b[0m \u001b[0;34m=\u001b[0m \u001b[0mrf\u001b[0m\u001b[0;34m(\u001b[0m\u001b[0mx\u001b[0m\u001b[0;34m,\u001b[0m \u001b[0mprec\u001b[0m\u001b[0;34m,\u001b[0m \u001b[0moptions\u001b[0m\u001b[0;34m)\u001b[0m\u001b[0;34m\u001b[0m\u001b[0;34m\u001b[0m\u001b[0m\n\u001b[0m\u001b[1;32m   1310\u001b[0m     \u001b[0;32mexcept\u001b[0m \u001b[0mKeyError\u001b[0m\u001b[0;34m:\u001b[0m\u001b[0;34m\u001b[0m\u001b[0;34m\u001b[0m\u001b[0m\n\u001b[1;32m   1311\u001b[0m         \u001b[0;31m# Fall back to ordinary evalf if possible\u001b[0m\u001b[0;34m\u001b[0m\u001b[0;34m\u001b[0m\u001b[0;34m\u001b[0m\u001b[0m\n",
      "\u001b[0;32m~/veril/ENV/lib/python3.7/site-packages/sympy/core/evalf.py\u001b[0m in \u001b[0;36mevalf_add\u001b[0;34m(v, prec, options)\u001b[0m\n\u001b[1;32m    519\u001b[0m         \u001b[0moptions\u001b[0m\u001b[0;34m[\u001b[0m\u001b[0;34m'maxprec'\u001b[0m\u001b[0;34m]\u001b[0m \u001b[0;34m=\u001b[0m \u001b[0mmin\u001b[0m\u001b[0;34m(\u001b[0m\u001b[0moldmaxprec\u001b[0m\u001b[0;34m,\u001b[0m \u001b[0;36m2\u001b[0m\u001b[0;34m*\u001b[0m\u001b[0mprec\u001b[0m\u001b[0;34m)\u001b[0m\u001b[0;34m\u001b[0m\u001b[0;34m\u001b[0m\u001b[0m\n\u001b[1;32m    520\u001b[0m \u001b[0;34m\u001b[0m\u001b[0m\n\u001b[0;32m--> 521\u001b[0;31m         \u001b[0mterms\u001b[0m \u001b[0;34m=\u001b[0m \u001b[0;34m[\u001b[0m\u001b[0mevalf\u001b[0m\u001b[0;34m(\u001b[0m\u001b[0marg\u001b[0m\u001b[0;34m,\u001b[0m \u001b[0mprec\u001b[0m \u001b[0;34m+\u001b[0m \u001b[0;36m10\u001b[0m\u001b[0;34m,\u001b[0m \u001b[0moptions\u001b[0m\u001b[0;34m)\u001b[0m \u001b[0;32mfor\u001b[0m \u001b[0marg\u001b[0m \u001b[0;32min\u001b[0m \u001b[0mv\u001b[0m\u001b[0;34m.\u001b[0m\u001b[0margs\u001b[0m\u001b[0;34m]\u001b[0m\u001b[0;34m\u001b[0m\u001b[0;34m\u001b[0m\u001b[0m\n\u001b[0m\u001b[1;32m    522\u001b[0m         re, re_acc = add_terms(\n\u001b[1;32m    523\u001b[0m             [a[0::2] for a in terms if a[0]], prec, target_prec)\n",
      "\u001b[0;32m~/veril/ENV/lib/python3.7/site-packages/sympy/core/evalf.py\u001b[0m in \u001b[0;36m<listcomp>\u001b[0;34m(.0)\u001b[0m\n\u001b[1;32m    519\u001b[0m         \u001b[0moptions\u001b[0m\u001b[0;34m[\u001b[0m\u001b[0;34m'maxprec'\u001b[0m\u001b[0;34m]\u001b[0m \u001b[0;34m=\u001b[0m \u001b[0mmin\u001b[0m\u001b[0;34m(\u001b[0m\u001b[0moldmaxprec\u001b[0m\u001b[0;34m,\u001b[0m \u001b[0;36m2\u001b[0m\u001b[0;34m*\u001b[0m\u001b[0mprec\u001b[0m\u001b[0;34m)\u001b[0m\u001b[0;34m\u001b[0m\u001b[0;34m\u001b[0m\u001b[0m\n\u001b[1;32m    520\u001b[0m \u001b[0;34m\u001b[0m\u001b[0m\n\u001b[0;32m--> 521\u001b[0;31m         \u001b[0mterms\u001b[0m \u001b[0;34m=\u001b[0m \u001b[0;34m[\u001b[0m\u001b[0mevalf\u001b[0m\u001b[0;34m(\u001b[0m\u001b[0marg\u001b[0m\u001b[0;34m,\u001b[0m \u001b[0mprec\u001b[0m \u001b[0;34m+\u001b[0m \u001b[0;36m10\u001b[0m\u001b[0;34m,\u001b[0m \u001b[0moptions\u001b[0m\u001b[0;34m)\u001b[0m \u001b[0;32mfor\u001b[0m \u001b[0marg\u001b[0m \u001b[0;32min\u001b[0m \u001b[0mv\u001b[0m\u001b[0;34m.\u001b[0m\u001b[0margs\u001b[0m\u001b[0;34m]\u001b[0m\u001b[0;34m\u001b[0m\u001b[0;34m\u001b[0m\u001b[0m\n\u001b[0m\u001b[1;32m    522\u001b[0m         re, re_acc = add_terms(\n\u001b[1;32m    523\u001b[0m             [a[0::2] for a in terms if a[0]], prec, target_prec)\n",
      "\u001b[0;32m~/veril/ENV/lib/python3.7/site-packages/sympy/core/evalf.py\u001b[0m in \u001b[0;36mevalf\u001b[0;34m(x, prec, options)\u001b[0m\n\u001b[1;32m   1307\u001b[0m     \u001b[0;32mtry\u001b[0m\u001b[0;34m:\u001b[0m\u001b[0;34m\u001b[0m\u001b[0;34m\u001b[0m\u001b[0m\n\u001b[1;32m   1308\u001b[0m         \u001b[0mrf\u001b[0m \u001b[0;34m=\u001b[0m \u001b[0mevalf_table\u001b[0m\u001b[0;34m[\u001b[0m\u001b[0mx\u001b[0m\u001b[0;34m.\u001b[0m\u001b[0mfunc\u001b[0m\u001b[0;34m]\u001b[0m\u001b[0;34m\u001b[0m\u001b[0;34m\u001b[0m\u001b[0m\n\u001b[0;32m-> 1309\u001b[0;31m         \u001b[0mr\u001b[0m \u001b[0;34m=\u001b[0m \u001b[0mrf\u001b[0m\u001b[0;34m(\u001b[0m\u001b[0mx\u001b[0m\u001b[0;34m,\u001b[0m \u001b[0mprec\u001b[0m\u001b[0;34m,\u001b[0m \u001b[0moptions\u001b[0m\u001b[0;34m)\u001b[0m\u001b[0;34m\u001b[0m\u001b[0;34m\u001b[0m\u001b[0m\n\u001b[0m\u001b[1;32m   1310\u001b[0m     \u001b[0;32mexcept\u001b[0m \u001b[0mKeyError\u001b[0m\u001b[0;34m:\u001b[0m\u001b[0;34m\u001b[0m\u001b[0;34m\u001b[0m\u001b[0m\n\u001b[1;32m   1311\u001b[0m         \u001b[0;31m# Fall back to ordinary evalf if possible\u001b[0m\u001b[0;34m\u001b[0m\u001b[0;34m\u001b[0m\u001b[0;34m\u001b[0m\u001b[0m\n",
      "\u001b[0;32m~/veril/ENV/lib/python3.7/site-packages/sympy/core/evalf.py\u001b[0m in \u001b[0;36mevalf_mul\u001b[0;34m(v, prec, options)\u001b[0m\n\u001b[1;32m    597\u001b[0m         \u001b[0;32melif\u001b[0m \u001b[0mi\u001b[0m \u001b[0;34m==\u001b[0m \u001b[0mlast\u001b[0m \u001b[0;32mand\u001b[0m \u001b[0marg\u001b[0m \u001b[0;32mis\u001b[0m \u001b[0mS\u001b[0m\u001b[0;34m.\u001b[0m\u001b[0mOne\u001b[0m\u001b[0;34m:\u001b[0m\u001b[0;34m\u001b[0m\u001b[0;34m\u001b[0m\u001b[0m\n\u001b[1;32m    598\u001b[0m             \u001b[0;32mcontinue\u001b[0m\u001b[0;34m\u001b[0m\u001b[0;34m\u001b[0m\u001b[0m\n\u001b[0;32m--> 599\u001b[0;31m         \u001b[0mre\u001b[0m\u001b[0;34m,\u001b[0m \u001b[0mim\u001b[0m\u001b[0;34m,\u001b[0m \u001b[0mre_acc\u001b[0m\u001b[0;34m,\u001b[0m \u001b[0mim_acc\u001b[0m \u001b[0;34m=\u001b[0m \u001b[0mevalf\u001b[0m\u001b[0;34m(\u001b[0m\u001b[0marg\u001b[0m\u001b[0;34m,\u001b[0m \u001b[0mworking_prec\u001b[0m\u001b[0;34m,\u001b[0m \u001b[0moptions\u001b[0m\u001b[0;34m)\u001b[0m\u001b[0;34m\u001b[0m\u001b[0;34m\u001b[0m\u001b[0m\n\u001b[0m\u001b[1;32m    600\u001b[0m         \u001b[0;32mif\u001b[0m \u001b[0mre\u001b[0m \u001b[0;32mand\u001b[0m \u001b[0mim\u001b[0m\u001b[0;34m:\u001b[0m\u001b[0;34m\u001b[0m\u001b[0;34m\u001b[0m\u001b[0m\n\u001b[1;32m    601\u001b[0m             \u001b[0mcomplex_factors\u001b[0m\u001b[0;34m.\u001b[0m\u001b[0mappend\u001b[0m\u001b[0;34m(\u001b[0m\u001b[0;34m(\u001b[0m\u001b[0mre\u001b[0m\u001b[0;34m,\u001b[0m \u001b[0mim\u001b[0m\u001b[0;34m,\u001b[0m \u001b[0mre_acc\u001b[0m\u001b[0;34m,\u001b[0m \u001b[0mim_acc\u001b[0m\u001b[0;34m)\u001b[0m\u001b[0;34m)\u001b[0m\u001b[0;34m\u001b[0m\u001b[0;34m\u001b[0m\u001b[0m\n",
      "\u001b[0;32m~/veril/ENV/lib/python3.7/site-packages/sympy/core/evalf.py\u001b[0m in \u001b[0;36mevalf\u001b[0;34m(x, prec, options)\u001b[0m\n\u001b[1;32m   1307\u001b[0m     \u001b[0;32mtry\u001b[0m\u001b[0;34m:\u001b[0m\u001b[0;34m\u001b[0m\u001b[0;34m\u001b[0m\u001b[0m\n\u001b[1;32m   1308\u001b[0m         \u001b[0mrf\u001b[0m \u001b[0;34m=\u001b[0m \u001b[0mevalf_table\u001b[0m\u001b[0;34m[\u001b[0m\u001b[0mx\u001b[0m\u001b[0;34m.\u001b[0m\u001b[0mfunc\u001b[0m\u001b[0;34m]\u001b[0m\u001b[0;34m\u001b[0m\u001b[0;34m\u001b[0m\u001b[0m\n\u001b[0;32m-> 1309\u001b[0;31m         \u001b[0mr\u001b[0m \u001b[0;34m=\u001b[0m \u001b[0mrf\u001b[0m\u001b[0;34m(\u001b[0m\u001b[0mx\u001b[0m\u001b[0;34m,\u001b[0m \u001b[0mprec\u001b[0m\u001b[0;34m,\u001b[0m \u001b[0moptions\u001b[0m\u001b[0;34m)\u001b[0m\u001b[0;34m\u001b[0m\u001b[0;34m\u001b[0m\u001b[0m\n\u001b[0m\u001b[1;32m   1310\u001b[0m     \u001b[0;32mexcept\u001b[0m \u001b[0mKeyError\u001b[0m\u001b[0;34m:\u001b[0m\u001b[0;34m\u001b[0m\u001b[0;34m\u001b[0m\u001b[0m\n\u001b[1;32m   1311\u001b[0m         \u001b[0;31m# Fall back to ordinary evalf if possible\u001b[0m\u001b[0;34m\u001b[0m\u001b[0;34m\u001b[0m\u001b[0;34m\u001b[0m\u001b[0m\n",
      "\u001b[0;32m~/veril/ENV/lib/python3.7/site-packages/sympy/core/evalf.py\u001b[0m in \u001b[0;36mevalf_add\u001b[0;34m(v, prec, options)\u001b[0m\n\u001b[1;32m    523\u001b[0m             [a[0::2] for a in terms if a[0]], prec, target_prec)\n\u001b[1;32m    524\u001b[0m         im, im_acc = add_terms(\n\u001b[0;32m--> 525\u001b[0;31m             [a[1::2] for a in terms if a[1]], prec, target_prec)\n\u001b[0m\u001b[1;32m    526\u001b[0m         \u001b[0macc\u001b[0m \u001b[0;34m=\u001b[0m \u001b[0mcomplex_accuracy\u001b[0m\u001b[0;34m(\u001b[0m\u001b[0;34m(\u001b[0m\u001b[0mre\u001b[0m\u001b[0;34m,\u001b[0m \u001b[0mim\u001b[0m\u001b[0;34m,\u001b[0m \u001b[0mre_acc\u001b[0m\u001b[0;34m,\u001b[0m \u001b[0mim_acc\u001b[0m\u001b[0;34m)\u001b[0m\u001b[0;34m)\u001b[0m\u001b[0;34m\u001b[0m\u001b[0;34m\u001b[0m\u001b[0m\n\u001b[1;32m    527\u001b[0m         \u001b[0;32mif\u001b[0m \u001b[0macc\u001b[0m \u001b[0;34m>=\u001b[0m \u001b[0mtarget_prec\u001b[0m\u001b[0;34m:\u001b[0m\u001b[0;34m\u001b[0m\u001b[0;34m\u001b[0m\u001b[0m\n",
      "\u001b[0;32m~/veril/ENV/lib/python3.7/site-packages/sympy/core/evalf.py\u001b[0m in \u001b[0;36madd_terms\u001b[0;34m(terms, prec, target_prec)\u001b[0m\n\u001b[1;32m    455\u001b[0m     \u001b[0;32mfor\u001b[0m \u001b[0mt\u001b[0m \u001b[0;32min\u001b[0m \u001b[0mterms\u001b[0m\u001b[0;34m:\u001b[0m\u001b[0;34m\u001b[0m\u001b[0;34m\u001b[0m\u001b[0m\n\u001b[1;32m    456\u001b[0m         \u001b[0marg\u001b[0m \u001b[0;34m=\u001b[0m \u001b[0mFloat\u001b[0m\u001b[0;34m.\u001b[0m\u001b[0m_new\u001b[0m\u001b[0;34m(\u001b[0m\u001b[0mt\u001b[0m\u001b[0;34m[\u001b[0m\u001b[0;36m0\u001b[0m\u001b[0;34m]\u001b[0m\u001b[0;34m,\u001b[0m \u001b[0;36m1\u001b[0m\u001b[0;34m)\u001b[0m\u001b[0;34m\u001b[0m\u001b[0;34m\u001b[0m\u001b[0m\n\u001b[0;32m--> 457\u001b[0;31m         \u001b[0;32mif\u001b[0m \u001b[0marg\u001b[0m \u001b[0;32mis\u001b[0m \u001b[0mS\u001b[0m\u001b[0;34m.\u001b[0m\u001b[0mNaN\u001b[0m \u001b[0;32mor\u001b[0m \u001b[0marg\u001b[0m\u001b[0;34m.\u001b[0m\u001b[0mis_infinite\u001b[0m\u001b[0;34m:\u001b[0m\u001b[0;34m\u001b[0m\u001b[0;34m\u001b[0m\u001b[0m\n\u001b[0m\u001b[1;32m    458\u001b[0m             \u001b[0mspecial\u001b[0m\u001b[0;34m.\u001b[0m\u001b[0mappend\u001b[0m\u001b[0;34m(\u001b[0m\u001b[0marg\u001b[0m\u001b[0;34m)\u001b[0m\u001b[0;34m\u001b[0m\u001b[0;34m\u001b[0m\u001b[0m\n\u001b[1;32m    459\u001b[0m     \u001b[0;32mif\u001b[0m \u001b[0mspecial\u001b[0m\u001b[0;34m:\u001b[0m\u001b[0;34m\u001b[0m\u001b[0;34m\u001b[0m\u001b[0m\n",
      "\u001b[0;31mKeyboardInterrupt\u001b[0m: "
     ]
    }
   ],
   "source": [
    "for i in range(100):\n",
    "    sample()"
   ]
  },
  {
   "cell_type": "code",
   "execution_count": null,
   "metadata": {},
   "outputs": [],
   "source": []
  }
 ],
 "metadata": {
  "kernelspec": {
   "display_name": "Python 3",
   "language": "python",
   "name": "python3"
  },
  "language_info": {
   "codemirror_mode": {
    "name": "ipython",
    "version": 3
   },
   "file_extension": ".py",
   "mimetype": "text/x-python",
   "name": "python",
   "nbconvert_exporter": "python",
   "pygments_lexer": "ipython3",
   "version": "3.7.5"
  }
 },
 "nbformat": 4,
 "nbformat_minor": 1
}
