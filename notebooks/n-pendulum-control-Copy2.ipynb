{
 "cells": [
  {
   "cell_type": "code",
   "execution_count": 1,
   "metadata": {},
   "outputs": [],
   "source": [
    "from __future__ import division, print_function\n",
    "import sympy as sm\n",
    "import sympy.physics.mechanics as me\n",
    "me.init_vprinting()"
   ]
  },
  {
   "cell_type": "markdown",
   "metadata": {},
   "source": [
    "Now specify the number of links, $n$. I'll start with 5 since the Wolfram folks only showed four."
   ]
  },
  {
   "cell_type": "code",
   "execution_count": 2,
   "metadata": {},
   "outputs": [],
   "source": [
    "n = 9\n",
    "do_sim = True"
   ]
  },
  {
   "cell_type": "markdown",
   "metadata": {},
   "source": [
    "**mechanics** will need the generalized coordinates, generalized speeds, and the input force which are all time dependent variables and the bob masses, link lengths, and acceleration due to gravity which are all constants. Time, $t$, is also made available because we will need to differentiate with respect to time."
   ]
  },
  {
   "cell_type": "code",
   "execution_count": 3,
   "metadata": {},
   "outputs": [],
   "source": [
    "import numpy as np\n",
    "q = me.dynamicsymbols('q:{}'.format(n + 1))  # Generalized coordinates\n",
    "u = me.dynamicsymbols('dq:{}'.format(n + 1))  # Generalized speeds\n",
    "f = me.dynamicsymbols('f:{}'.format(n))      # Force applied to the cart\n",
    "    \n",
    "# m = sm.symbols('m:{}'.format(n + 1))         # Mass of each bob\n",
    "# l = sm.symbols('l:{}'.format(n))             # Length of each link\n",
    "\n",
    "m = (0.01 / n)*np.ones(n+1,)\n",
    "l = (1. / n)*np.ones(n+1,)\n",
    "g = 9.81\n",
    "t = sm.symbols('t')                     # Gravity and time"
   ]
  },
  {
   "cell_type": "markdown",
   "metadata": {},
   "source": [
    "Now we can create and inertial reference frame $I$ and define the point, $O$, as the origin."
   ]
  },
  {
   "cell_type": "code",
   "execution_count": 4,
   "metadata": {},
   "outputs": [],
   "source": [
    "I = me.ReferenceFrame('I')  # Inertial reference frame\n",
    "O = me.Point('O')           # Origin point\n",
    "O.set_vel(I, 0)             # Origin's velocity is zero"
   ]
  },
  {
   "cell_type": "markdown",
   "metadata": {},
   "source": [
    "Secondly, we define the define the first point of the pendulum as a particle which has mass. This point can only move laterally and represents the motion of the \"cart\"."
   ]
  },
  {
   "cell_type": "code",
   "execution_count": 5,
   "metadata": {},
   "outputs": [],
   "source": [
    "P0 = me.Point('P0')                 # Hinge point of top link\n",
    "P0.set_pos(O, q[0] * I.x)           # Set the position of P0    \n",
    "P0.set_vel(I, u[0] * I.x)           # Set the velocity of P0\n",
    "Pa0 = me.Particle('Pa0', P0, m[0])  # Define a particle at P0"
   ]
  },
  {
   "cell_type": "markdown",
   "metadata": {},
   "source": [
    "Now we can define the $n$ reference frames, particles, gravitational forces, and kinematical differential equations for each of the pendulum links. This is easily done with a loop."
   ]
  },
  {
   "cell_type": "code",
   "execution_count": 6,
   "metadata": {},
   "outputs": [],
   "source": [
    "frames = [I]                              # List to hold the n + 1 frames\n",
    "points = [P0]                             # List to hold the n + 1 points\n",
    "particles = [Pa0]                         # List to hold the n + 1 particles\n",
    "forces = [(P0, f[0] * I.x - m[0] * g * I.y)] # List to hold the n + 1 applied forces, including the input force, f\n",
    "kindiffs = [q[0].diff(t) - u[0]]          # List to hold kinematic ODE's\n",
    "\n",
    "for i in range(n):\n",
    "    Bi = I.orientnew('B' + str(i), 'Axis', [q[i + 1], I.z])   # Create a new frame\n",
    "    Bi.set_ang_vel(I, u[i + 1] * I.z)                         # Set angular velocity\n",
    "    frames.append(Bi)                                         # Add it to the frames list\n",
    "\n",
    "    Pi = points[-1].locatenew('P' + str(i + 1), l[i] * Bi.x)  # Create a new point\n",
    "    Pi.v2pt_theory(points[-1], I, Bi)                         # Set the velocity\n",
    "    points.append(Pi)                                         # Add it to the points list\n",
    "    \n",
    "    Pai = me.Particle('Pa' + str(i + 1), Pi, m[i + 1])        # Create a new particle\n",
    "    particles.append(Pai)                                     # Add it to the particles list\n",
    "\n",
    "    forces.append((Pi, -m[i + 1] * g * I.y))                  # Set the force applied at the point\n",
    "    kindiffs.append(q[i + 1].diff(t) - u[i + 1])              # Define the kinematic ODE:  dq_i / dt - u_i = 0\n",
    "for i in range(n-1):\n",
    "    forces.append((frames[i+1], f[i+1]*frames[i].z))"
   ]
  },
  {
   "cell_type": "markdown",
   "metadata": {},
   "source": [
    "With all of the necessary point velocities and particle masses defined, the `KanesMethod` class can be used to derive the equations of motion of the system automatically."
   ]
  },
  {
   "cell_type": "code",
   "execution_count": 7,
   "metadata": {},
   "outputs": [],
   "source": [
    "# forces"
   ]
  },
  {
   "cell_type": "code",
   "execution_count": 8,
   "metadata": {},
   "outputs": [
    {
     "name": "stderr",
     "output_type": "stream",
     "text": [
      "/Users/shenshen/veril/ENV/lib/python3.7/site-packages/sympy/physics/mechanics/kane.py:536: SymPyDeprecationWarning: \n",
      "\n",
      "The kanes_equation() argument order has been deprecated since SymPy\n",
      "1.1. Use switched argument order to update your code, For example:\n",
      "kanes_equations(loads, bodies) > kanes_equations(bodies, loads).\n",
      "instead. See https://github.com/sympy/sympy/issues/10945 for more\n",
      "info.  The API for kanes_equations() has changed such that the loads\n",
      "(forces and torques) are now the second argument and is optional with\n",
      "None being the default.\n",
      "\n",
      "  issue=10945, deprecated_since_version=\"1.1\").warn()\n"
     ]
    }
   ],
   "source": [
    "kane = me.KanesMethod(I, q_ind=q, u_ind=u, kd_eqs=kindiffs)  # Initialize the object\n",
    "fr, frstar = kane.kanes_equations(forces, particles)         # Generate EoM's fr + frstar = 0"
   ]
  },
  {
   "cell_type": "markdown",
   "metadata": {},
   "source": [
    "The equations of motion are quite long as can been seen below. This is the general nature of most non-simple mutlibody problems. That is why a SymPy is so useful; no more mistakes in algebra, differentiation, or copying hand written equations. Note that `trigsimp` can take quite a while to complete for extremely large expressions. Below we print $\\tilde{M}$ and $\\tilde{f}$ from $\\tilde{M}\\dot{u}=\\tilde{f}$ to show the size of the expressions."
   ]
  },
  {
   "cell_type": "code",
   "execution_count": 9,
   "metadata": {},
   "outputs": [],
   "source": [
    "# sm.trigsimp(kane.mass_matrix)"
   ]
  },
  {
   "cell_type": "markdown",
   "metadata": {},
   "source": [
    "$\\tilde{M}$ is a function of the constant parameters and the configuration."
   ]
  },
  {
   "cell_type": "code",
   "execution_count": 10,
   "metadata": {},
   "outputs": [],
   "source": [
    "# me.find_dynamicsymbols(kane.mass_matrix)"
   ]
  },
  {
   "cell_type": "code",
   "execution_count": 11,
   "metadata": {},
   "outputs": [],
   "source": [
    "# sm.trigsimp(kane.forcing)"
   ]
  },
  {
   "cell_type": "markdown",
   "metadata": {},
   "source": [
    "$\\tilde{f}$ is a function of the constant parameters, configuration, speeds, and the applied force."
   ]
  },
  {
   "cell_type": "code",
   "execution_count": 12,
   "metadata": {
    "scrolled": true
   },
   "outputs": [],
   "source": [
    "# me.find_dynamicsymbols(kane.forcing)"
   ]
  },
  {
   "cell_type": "markdown",
   "metadata": {},
   "source": [
    "Controller Design\n",
    "=================\n",
    "\n",
    "The n-link pendulum can be balanced such that all of the links are inverted above the cart by applying the correct lateral force to the cart. We can design a full state feedback controller based from a linear model of the pendulum about its upright equilibrium point. We'll start by specifying the equilibrium point and parameters in dictionaries. We make sure to use SymPy types in the equilibrium point to ensure proper cancelations in the linearization."
   ]
  },
  {
   "cell_type": "code",
   "execution_count": 13,
   "metadata": {},
   "outputs": [
    {
     "data": {
      "image/png": "[encoded data removed]",
      "text/latex": [
       "$\\displaystyle \\left\\{ dq_{0} : 0, \\  dq_{1} : 0, \\  dq_{2} : 0, \\  dq_{3} : 0, \\  dq_{4} : 0, \\  dq_{5} : 0, \\  dq_{6} : 0, \\  dq_{7} : 0, \\  dq_{8} : 0, \\  dq_{9} : 0, \\  q_{0} : 0, \\  q_{1} : \\frac{\\pi}{2}, \\  q_{2} : \\frac{\\pi}{2}, \\  q_{3} : \\frac{\\pi}{2}, \\  q_{4} : \\frac{\\pi}{2}, \\  q_{5} : \\frac{\\pi}{2}, \\  q_{6} : \\frac{\\pi}{2}, \\  q_{7} : \\frac{\\pi}{2}, \\  q_{8} : \\frac{\\pi}{2}, \\  q_{9} : \\frac{\\pi}{2}\\right\\}$"
      ],
      "text/plain": [
       "⎧                                                                             \n",
       "⎨dq₀: 0, dq₁: 0, dq₂: 0, dq₃: 0, dq₄: 0, dq₅: 0, dq₆: 0, dq₇: 0, dq₈: 0, dq₉: \n",
       "⎩                                                                             \n",
       "\n",
       "              π      π      π      π      π      π      π      π      π⎫\n",
       "0, q₀: 0, q₁: ─, q₂: ─, q₃: ─, q₄: ─, q₅: ─, q₆: ─, q₇: ─, q₈: ─, q₉: ─⎬\n",
       "              2      2      2      2      2      2      2      2      2⎭"
      ]
     },
     "execution_count": 13,
     "metadata": {},
     "output_type": "execute_result"
    }
   ],
   "source": [
    "equilibrium_point = [sm.S(0)] + [sm.pi / 2] * (len(q) - 1) + [sm.S(0)] * len(u)                           \n",
    "equilibrium_dict = dict(zip(q + u, equilibrium_point))\n",
    "equilibrium_dict"
   ]
  },
  {
   "cell_type": "markdown",
   "metadata": {},
   "source": [
    "The `KanesMethod` class has method that linearizes the forcing vector about generic state and input perturbation vectors. The equilibrium point and numerical constants can then be substituted in to give the linear system in this form: $M\\dot{x}=F_Ax+F_Br$. The state and input matrices, $A$ and $B$, can then be computed by left side multiplication by the inverse of the mass matrix: $A=M^{-1}F_A$ and $B=M^{-1}F_B$."
   ]
  },
  {
   "cell_type": "code",
   "execution_count": 14,
   "metadata": {},
   "outputs": [],
   "source": [
    "M, F_A, F_B, r = kane.linearize(new_method=True, op_point=equilibrium_dict)"
   ]
  },
  {
   "cell_type": "code",
   "execution_count": 15,
   "metadata": {},
   "outputs": [],
   "source": [
    "# sm.simplify(M)"
   ]
  },
  {
   "cell_type": "code",
   "execution_count": 16,
   "metadata": {},
   "outputs": [],
   "source": [
    "# sm.simplify(F_A)"
   ]
  },
  {
   "cell_type": "code",
   "execution_count": 17,
   "metadata": {},
   "outputs": [],
   "source": [
    "# sm.simplify(F_B)"
   ]
  },
  {
   "cell_type": "markdown",
   "metadata": {},
   "source": [
    "Now the numerical $A$ and $B$ matrices can be formed. First substitute numerical parameter values into $M$, $F_A$, and $F_B$."
   ]
  },
  {
   "cell_type": "code",
   "execution_count": 18,
   "metadata": {},
   "outputs": [],
   "source": [
    "# parameter_dict = dict(zip(parameters, parameter_vals))\n",
    "# parameter_dict"
   ]
  },
  {
   "cell_type": "code",
   "execution_count": 19,
   "metadata": {},
   "outputs": [],
   "source": [
    "M_num = sm.matrix2numpy(M, dtype=float)\n",
    "F_A_num = sm.matrix2numpy(F_A, dtype=float)\n",
    "F_B_num = sm.matrix2numpy(F_B, dtype=float)\n",
    "A = np.linalg.solve(M_num, F_A_num)\n",
    "B = np.linalg.solve(M_num ,F_B_num)"
   ]
  },
  {
   "cell_type": "code",
   "execution_count": 20,
   "metadata": {},
   "outputs": [],
   "source": [
    "# print(A)"
   ]
  },
  {
   "cell_type": "code",
   "execution_count": 21,
   "metadata": {},
   "outputs": [],
   "source": [
    "# print(B)"
   ]
  },
  {
   "cell_type": "markdown",
   "metadata": {},
   "source": [
    "Also convert `equilibrium_point` to a numeric array:"
   ]
  },
  {
   "cell_type": "code",
   "execution_count": 22,
   "metadata": {},
   "outputs": [],
   "source": [
    "equilibrium_point = np.asarray([x.evalf() for x in equilibrium_point], dtype=float)"
   ]
  },
  {
   "cell_type": "markdown",
   "metadata": {},
   "source": [
    "Now that we have a linear system, the SciPy package can be used to design an optimal controller for the system."
   ]
  },
  {
   "cell_type": "markdown",
   "metadata": {},
   "source": [
    "So now we can compute the optimal gains with a linear quadratic regulator. I chose identity matrices for the weightings for simplicity."
   ]
  },
  {
   "cell_type": "code",
   "execution_count": 23,
   "metadata": {},
   "outputs": [],
   "source": [
    "from scipy.linalg import solve_continuous_are\n",
    "Q = np.eye(A.shape[0])\n",
    "R = np.eye(B.shape[1])\n",
    "S = solve_continuous_are(A, B, Q, R);\n",
    "K = np.dot(np.dot(np.linalg.inv(R), B.T),  S)"
   ]
  },
  {
   "cell_type": "markdown",
   "metadata": {},
   "source": [
    "The gains can now be used to define the required input during simulation to stabilize the system. The input $r$ is simply the gain vector multiplied by the error in the state vector from the equilibrium point, $r(t)=K(x_{eq} - x(t))$."
   ]
  },
  {
   "cell_type": "code",
   "execution_count": 24,
   "metadata": {},
   "outputs": [
    {
     "name": "stdout",
     "output_type": "stream",
     "text": [
      "29\n"
     ]
    }
   ],
   "source": [
    "dynamic = q + u +f   # Make a list of the states\n",
    "# dynamic.append(f)  # Add the input force\n",
    "print(len(dynamic))\n",
    "M_func = sm.lambdify(dynamic, kane.mass_matrix_full) # Create a callable function to evaluate the mass matrix \n",
    "f_func = sm.lambdify(dynamic, kane.forcing_full)     # Create a callable function to evaluate the forcing vector "
   ]
  },
  {
   "cell_type": "code",
   "execution_count": 25,
   "metadata": {},
   "outputs": [],
   "source": [
    "arm_length = 1. / n                          # The maximum length of the pendulum is 1 meter\n",
    "bob_mass = 0.01 / n                          # The maximum mass of the bobs is 10 grams\n",
    "parameters = [g, m[0]]                       # Parameter definitions starting with gravity and the first bob\n",
    "parameter_vals = [9.81, 0.01 / n]            # Numerical values for the first two\n",
    "for i in range(n):                           # Then each mass and length\n",
    "    parameters += [l[i], m[i + 1]]            \n",
    "    parameter_vals += [arm_length, bob_mass]"
   ]
  },
  {
   "cell_type": "markdown",
   "metadata": {},
   "source": [
    "Animation\n",
    "=========\n",
    "\n",
    "matplotlib now includes very nice animation functions for animating matplotlib plots. First we import the necessary functions for creating the animation."
   ]
  },
  {
   "cell_type": "code",
   "execution_count": 26,
   "metadata": {},
   "outputs": [],
   "source": [
    "%matplotlib inline\n",
    "from IPython.core.pylabtools import figsize\n",
    "figsize(8.0, 6.0)\n",
    "import numpy as np\n",
    "from numpy.linalg import solve\n",
    "from scipy.integrate import odeint\n",
    "\n",
    "from matplotlib import animation\n",
    "from matplotlib.patches import Rectangle\n",
    "import matplotlib.pyplot as plt"
   ]
  },
  {
   "cell_type": "code",
   "execution_count": 27,
   "metadata": {},
   "outputs": [],
   "source": [
    "def right_hand_side(x, t, args):\n",
    "    \"\"\"Returns the derivatives of the states.\n",
    "\n",
    "    Parameters\n",
    "    ----------\n",
    "    x : ndarray, shape(2 * (n + 1))\n",
    "        The current state vector.\n",
    "    t : float\n",
    "        The current time.\n",
    "    args : ndarray\n",
    "        The constants.\n",
    "\n",
    "    Returns\n",
    "    -------\n",
    "    dx : ndarray, shape(2 * (n + 1))\n",
    "        The derivative of the state.\n",
    "    \n",
    "    \"\"\"\n",
    "    div = equilibrium_point - x\n",
    "    div[:n+1] = np.sin(div[:n+1])\n",
    "    r = np.dot(K, div)    # The controller   \n",
    "    arguments = np.hstack((x, r))     # States, input, and parameters\n",
    "    dx = np.array(solve(M_func(*arguments), # Solving for the derivatives\n",
    "                        f_func(*arguments))).T[0]\n",
    "    \n",
    "    return dx"
   ]
  },
  {
   "cell_type": "markdown",
   "metadata": {},
   "source": [
    "Now we can simulate and animate the system to see if the controller works."
   ]
  },
  {
   "cell_type": "code",
   "execution_count": 28,
   "metadata": {},
   "outputs": [],
   "source": [
    "t = np.linspace(0.0, 10.0, num=500)\n",
    "def sim_once(x0):\n",
    "#     x0 = np.hstack((0,\n",
    "#                 (np.pi/ 2) * np.ones(len(q) - 1) - np.random.uniform(-np.pi,np.pi,(len(q) - 1)),\n",
    "#                 2* np.ones(len(u))))\n",
    "    t = np.linspace(0.0, 10.0, num=500)\n",
    "    x = odeint(right_hand_side, x0, t, args=(parameter_vals,))\n",
    "\n",
    "    \n",
    "#     lines = plt.plot(t, x[:, x.shape[1] // 2:])\n",
    "#     lab = plt.xlabel('Time [sec]')\n",
    "#     leg = plt.legend(dynamic[x.shape[1] // 2:])\n",
    "    \n",
    "#     lines = plt.plot(t, x[:, x.shape[1] // 2:])\n",
    "#     lab = plt.xlabel('Time [sec]')\n",
    "#     leg = plt.legend(dynamic[x.shape[1] // 2:])\n",
    "    lines = plt.plot(t, x)\n",
    "    lab = plt.xlabel('Time [sec]')\n",
    "    leg = plt.legend(dynamic)\n",
    "    return x"
   ]
  },
  {
   "cell_type": "markdown",
   "metadata": {},
   "source": [
    "The plots show that we seem to have a stable system."
   ]
  },
  {
   "cell_type": "code",
   "execution_count": 29,
   "metadata": {},
   "outputs": [
    {
     "ename": "NameError",
     "evalue": "name 'x' is not defined",
     "output_type": "error",
     "traceback": [
      "\u001b[0;31m---------------------------------------------------------------------------\u001b[0m",
      "\u001b[0;31mNameError\u001b[0m                                 Traceback (most recent call last)",
      "\u001b[0;32m<ipython-input-29-b48316993d65>\u001b[0m in \u001b[0;36m<module>\u001b[0;34m\u001b[0m\n\u001b[1;32m      1\u001b[0m \u001b[0;32mif\u001b[0m \u001b[0mdo_sim\u001b[0m\u001b[0;34m:\u001b[0m\u001b[0;34m\u001b[0m\u001b[0;34m\u001b[0m\u001b[0m\n\u001b[0;32m----> 2\u001b[0;31m     \u001b[0mlines\u001b[0m \u001b[0;34m=\u001b[0m \u001b[0mplt\u001b[0m\u001b[0;34m.\u001b[0m\u001b[0mplot\u001b[0m\u001b[0;34m(\u001b[0m\u001b[0mt\u001b[0m\u001b[0;34m,\u001b[0m \u001b[0mx\u001b[0m\u001b[0;34m[\u001b[0m\u001b[0;34m:\u001b[0m\u001b[0;34m,\u001b[0m \u001b[0;34m:\u001b[0m\u001b[0mx\u001b[0m\u001b[0;34m.\u001b[0m\u001b[0mshape\u001b[0m\u001b[0;34m[\u001b[0m\u001b[0;36m1\u001b[0m\u001b[0;34m]\u001b[0m \u001b[0;34m//\u001b[0m \u001b[0;36m2\u001b[0m\u001b[0;34m]\u001b[0m\u001b[0;34m)\u001b[0m\u001b[0;34m\u001b[0m\u001b[0;34m\u001b[0m\u001b[0m\n\u001b[0m\u001b[1;32m      3\u001b[0m     \u001b[0mlab\u001b[0m \u001b[0;34m=\u001b[0m \u001b[0mplt\u001b[0m\u001b[0;34m.\u001b[0m\u001b[0mxlabel\u001b[0m\u001b[0;34m(\u001b[0m\u001b[0;34m'Time [sec]'\u001b[0m\u001b[0;34m)\u001b[0m\u001b[0;34m\u001b[0m\u001b[0;34m\u001b[0m\u001b[0m\n\u001b[1;32m      4\u001b[0m     \u001b[0mleg\u001b[0m \u001b[0;34m=\u001b[0m \u001b[0mplt\u001b[0m\u001b[0;34m.\u001b[0m\u001b[0mlegend\u001b[0m\u001b[0;34m(\u001b[0m\u001b[0mdynamic\u001b[0m\u001b[0;34m[\u001b[0m\u001b[0;34m:\u001b[0m\u001b[0mx\u001b[0m\u001b[0;34m.\u001b[0m\u001b[0mshape\u001b[0m\u001b[0;34m[\u001b[0m\u001b[0;36m1\u001b[0m\u001b[0;34m]\u001b[0m \u001b[0;34m//\u001b[0m \u001b[0;36m2\u001b[0m\u001b[0;34m]\u001b[0m\u001b[0;34m)\u001b[0m\u001b[0;34m\u001b[0m\u001b[0;34m\u001b[0m\u001b[0m\n",
      "\u001b[0;31mNameError\u001b[0m: name 'x' is not defined"
     ]
    }
   ],
   "source": [
    "if do_sim: \n",
    "    lines = plt.plot(t, x[:, :x.shape[1] // 2])\n",
    "    lab = plt.xlabel('Time [sec]')\n",
    "    leg = plt.legend(dynamic[:x.shape[1] // 2])"
   ]
  },
  {
   "cell_type": "code",
   "execution_count": null,
   "metadata": {},
   "outputs": [],
   "source": [
    "if do_sim:\n",
    "    lines = plt.plot(t, x[:, x.shape[1] // 2:])\n",
    "    lab = plt.xlabel('Time [sec]')\n",
    "    leg = plt.legend(dynamic[x.shape[1] // 2:])"
   ]
  },
  {
   "cell_type": "code",
   "execution_count": null,
   "metadata": {},
   "outputs": [],
   "source": [
    "def animate_pendulum(t, states, length, filename=None):\n",
    "    \"\"\"Animates the n-pendulum and optionally saves it to file.\n",
    "\n",
    "    Parameters\n",
    "    ----------\n",
    "    t : ndarray, shape(m)\n",
    "        Time array.\n",
    "    states: ndarray, shape(m,p)\n",
    "        State time history.\n",
    "    length: float\n",
    "        The length of the pendulum links.\n",
    "    filename: string or None, optional\n",
    "        If true a movie file will be saved of the animation. This may take some time.\n",
    "\n",
    "    Returns\n",
    "    -------\n",
    "    fig : matplotlib.Figure\n",
    "        The figure.\n",
    "    anim : matplotlib.FuncAnimation\n",
    "        The animation.\n",
    "\n",
    "    \"\"\"\n",
    "    # the number of pendulum bobs\n",
    "    numpoints = states.shape[1] // 2\n",
    "\n",
    "    # first set up the figure, the axis, and the plot elements we want to animate\n",
    "    fig = plt.figure()\n",
    "    \n",
    "    # some dimesions\n",
    "    cart_width = 0.4\n",
    "    cart_height = 0.2\n",
    "    \n",
    "    # set the limits based on the motion\n",
    "    xmin = np.around(states[:, 0].min() - cart_width / 2.0, 1)\n",
    "    xmax = np.around(states[:, 0].max() + cart_width / 2.0, 1)\n",
    "    \n",
    "    # create the axes\n",
    "    ax = plt.axes(xlim=(xmin, xmax), ylim=(-1.1, 1.1), aspect='equal')\n",
    "    \n",
    "    # display the current time\n",
    "    time_text = ax.text(0.04, 0.9, '', transform=ax.transAxes)\n",
    "    \n",
    "    # create a rectangular cart\n",
    "    rect = Rectangle([states[0, 0] - cart_width / 2.0, -cart_height / 2],\n",
    "                     cart_width, cart_height, fill=True, color='red',\n",
    "                     ec='black')\n",
    "    ax.add_patch(rect)\n",
    "    \n",
    "    # blank line for the pendulum\n",
    "    line, = ax.plot([], [], lw=2, marker='o', markersize=6)\n",
    "\n",
    "    # initialization function: plot the background of each frame\n",
    "    def init():\n",
    "        time_text.set_text('')\n",
    "        rect.set_xy((0.0, 0.0))\n",
    "        line.set_data([], [])\n",
    "        return time_text, rect, line,\n",
    "\n",
    "    # animation function: update the objects\n",
    "    def animate(i):\n",
    "        time_text.set_text('time = {:2.2f}'.format(t[i]))\n",
    "        rect.set_xy((states[i, 0] - cart_width / 2.0, -cart_height / 2))\n",
    "        x = np.hstack((states[i, 0], np.zeros((numpoints - 1))))\n",
    "        y = np.zeros((numpoints))\n",
    "        for j in np.arange(1, numpoints):\n",
    "            x[j] = x[j - 1] + length * np.cos(states[i, j])\n",
    "            y[j] = y[j - 1] + length * np.sin(states[i, j])\n",
    "        line.set_data(x, y)\n",
    "        return time_text, rect, line,\n",
    "\n",
    "    # call the animator function\n",
    "    anim = animation.FuncAnimation(fig, animate, frames=len(t), init_func=init,\n",
    "            interval=t[-1] / len(t) * 1000, blit=True, repeat=False)\n",
    "    \n",
    "    # save the animation if a filename is given\n",
    "    if filename is not None:\n",
    "        anim.save(filename, fps=30, codec='libx264')\n",
    "    return anim"
   ]
  },
  {
   "cell_type": "code",
   "execution_count": null,
   "metadata": {},
   "outputs": [],
   "source": [
    "if do_sim:\n",
    "    anim = animate_pendulum(t, x, arm_length)\n",
    "\n",
    "    # Set up formatting for the movie files\n",
    "    Writer = animation.writers['ffmpeg']\n",
    "    writer = Writer(fps=15, metadata=dict(artist='Me'), bitrate=1800)\n",
    "    f_name = './link' + str(n)+ '/closed-loop.mp4'\n",
    "\n",
    "    anim.save(f_name,writer = 'ffmpeg')\n",
    "    anim.save('closed-loop.mp4',writer = 'ffmpeg')"
   ]
  },
  {
   "cell_type": "code",
   "execution_count": null,
   "metadata": {},
   "outputs": [],
   "source": [
    "from IPython.display import HTML\n",
    "html = \\\n",
    "\"\"\"\n",
    "<video width=\"640\" height=\"480\" controls>\n",
    "  <source src='closed-loop.mp4' type=\"video/mp4\">\n",
    "Your browser does not support the video tag, check out the YouTube version instead: http://youtu.be/SpgBHqW9om0\n",
    "</video>\n",
    "\"\"\"\n",
    "HTML(html)"
   ]
  },
  {
   "cell_type": "markdown",
   "metadata": {},
   "source": [
    "### Feedback the LQR controller for the closed-loop EOM:"
   ]
  },
  {
   "cell_type": "code",
   "execution_count": 30,
   "metadata": {},
   "outputs": [
    {
     "data": {
      "text/plain": [
       "array([-q0(t), 1.5707963267949 - q1(t), 1.5707963267949 - q2(t),\n",
       "       1.5707963267949 - q3(t), 1.5707963267949 - q4(t),\n",
       "       1.5707963267949 - q5(t), 1.5707963267949 - q6(t),\n",
       "       1.5707963267949 - q7(t), 1.5707963267949 - q8(t),\n",
       "       1.5707963267949 - q9(t), -dq0(t), -dq1(t), -dq2(t), -dq3(t),\n",
       "       -dq4(t), -dq5(t), -dq6(t), -dq7(t), -dq8(t), -dq9(t)], dtype=object)"
      ]
     },
     "execution_count": 30,
     "metadata": {},
     "output_type": "execute_result"
    }
   ],
   "source": [
    "states = np.array(q + u)\n",
    "div = equilibrium_point - states\n",
    "div"
   ]
  },
  {
   "cell_type": "markdown",
   "metadata": {},
   "source": [
    "### Turn the feedback on the small angle $\\theta$ to feedback on the $\\sin(\\theta)$"
   ]
  },
  {
   "cell_type": "code",
   "execution_count": 31,
   "metadata": {},
   "outputs": [
    {
     "data": {
      "text/plain": [
       "array([-q0(t), -sin(q1(t) - 1.5707963267949),\n",
       "       -sin(q2(t) - 1.5707963267949), -sin(q3(t) - 1.5707963267949),\n",
       "       -sin(q4(t) - 1.5707963267949), -sin(q5(t) - 1.5707963267949),\n",
       "       -sin(q6(t) - 1.5707963267949), -sin(q7(t) - 1.5707963267949),\n",
       "       -sin(q8(t) - 1.5707963267949), -sin(q9(t) - 1.5707963267949),\n",
       "       -dq0(t), -dq1(t), -dq2(t), -dq3(t), -dq4(t), -dq5(t), -dq6(t),\n",
       "       -dq7(t), -dq8(t), -dq9(t)], dtype=object)"
      ]
     },
     "execution_count": 31,
     "metadata": {},
     "output_type": "execute_result"
    }
   ],
   "source": [
    "from sympy import sin, cos\n",
    "div_in_trig = div\n",
    "for i in range(n):\n",
    "    div_in_trig[i+1] = sin(div[i+1])\n",
    "div_in_trig"
   ]
  },
  {
   "cell_type": "code",
   "execution_count": 32,
   "metadata": {},
   "outputs": [
    {
     "name": "stderr",
     "output_type": "stream",
     "text": [
      "/Users/shenshen/veril/ENV/lib/python3.7/site-packages/sympy/physics/mechanics/kane.py:536: SymPyDeprecationWarning: \n",
      "\n",
      "The kanes_equation() argument order has been deprecated since SymPy\n",
      "1.1. Use switched argument order to update your code, For example:\n",
      "kanes_equations(loads, bodies) > kanes_equations(bodies, loads).\n",
      "instead. See https://github.com/sympy/sympy/issues/10945 for more\n",
      "info.  The API for kanes_equations() has changed such that the loads\n",
      "(forces and torques) are now the second argument and is optional with\n",
      "None being the default.\n",
      "\n",
      "  issue=10945, deprecated_since_version=\"1.1\").warn()\n"
     ]
    }
   ],
   "source": [
    "feedback = np.dot(K, div_in_trig)\n",
    "\n",
    "forces = [(P0, feedback[0] * I.x - m[0] * g * I.y)] # List to hold the n + 1 applied forces, including the input force, f\n",
    "\n",
    "for i in range(n):\n",
    "    forces.append((Pi, -m[i + 1] * g * I.y))                  # Set the force applied at the point\n",
    "for i in range(n-1):\n",
    "    forces.append((frames[i+1], feedback[i+1]*frames[i].z))\n",
    "\n",
    "kane_cl = me.KanesMethod(I, q_ind=q, u_ind=u, kd_eqs=kindiffs)\n",
    "fr_cl, frstar_cl = kane_cl.kanes_equations(forces, particles)"
   ]
  },
  {
   "cell_type": "code",
   "execution_count": 33,
   "metadata": {},
   "outputs": [],
   "source": [
    "full_mass = (kane_cl.mass_matrix_full)\n",
    "full_force = (kane_cl.forcing_full)"
   ]
  },
  {
   "cell_type": "markdown",
   "metadata": {},
   "source": [
    "### Double check the EOM is in terms of the trigs and velocities only"
   ]
  },
  {
   "cell_type": "code",
   "execution_count": 34,
   "metadata": {},
   "outputs": [],
   "source": [
    "full_mass_num = full_mass.subs(equilibrium_dict)\n",
    "full_force_num = full_force.subs(equilibrium_dict)"
   ]
  },
  {
   "cell_type": "markdown",
   "metadata": {},
   "source": [
    "Expand trig of angle differnce into absolute angle trigs"
   ]
  },
  {
   "cell_type": "code",
   "execution_count": 35,
   "metadata": {},
   "outputs": [],
   "source": [
    "# sm.expand_trig(forcesmatrix)"
   ]
  },
  {
   "cell_type": "markdown",
   "metadata": {},
   "source": [
    "### Double check the CL dynamics in terms of $q$ $\\dot q$ are stable"
   ]
  },
  {
   "cell_type": "code",
   "execution_count": 36,
   "metadata": {},
   "outputs": [],
   "source": [
    "M_cl, F_A_cl, F_B_cl, r_cl = kane_cl.linearize(new_method=True, op_point=equilibrium_dict)\n",
    "M_num_cl = sm.matrix2numpy(M_cl, dtype=float)\n",
    "F_A_num_cl = sm.matrix2numpy(F_A_cl, dtype=float)\n",
    "A_cl = np.linalg.solve(M_num_cl, F_A_num_cl)\n",
    "# A_cl"
   ]
  },
  {
   "cell_type": "code",
   "execution_count": 37,
   "metadata": {},
   "outputs": [],
   "source": [
    "# full_force"
   ]
  },
  {
   "cell_type": "code",
   "execution_count": 38,
   "metadata": {},
   "outputs": [],
   "source": [
    "np.linalg.eig(A_cl)[0]\n",
    "from scipy.linalg import solve_lyapunov\n",
    "P = solve_lyapunov(A_cl.T, -np.eye(A_cl.shape[0]))"
   ]
  },
  {
   "cell_type": "code",
   "execution_count": 39,
   "metadata": {},
   "outputs": [
    {
     "data": {
      "image/png": "[encoded data removed]",
      "text/latex": [
       "$\\displaystyle 1.38740182936531 \\cdot 10^{-31}$"
      ],
      "text/plain": [
       "1.38740182936531e-31"
      ]
     },
     "execution_count": 39,
     "metadata": {},
     "output_type": "execute_result"
    }
   ],
   "source": [
    "# orig_basis = states - equilibrium_point\n",
    "# orig_basis\n",
    "V = sm.expand_trig((div_in_trig).T@P@(div_in_trig))\n",
    "# V\n",
    "sm.N(V.subs(equilibrium_dict))"
   ]
  },
  {
   "cell_type": "markdown",
   "metadata": {},
   "source": [
    "# Do recasting!"
   ]
  },
  {
   "cell_type": "markdown",
   "metadata": {},
   "source": [
    "## Recast States"
   ]
  },
  {
   "cell_type": "code",
   "execution_count": 40,
   "metadata": {},
   "outputs": [],
   "source": [
    "sinstates = me.dynamicsymbols('s:{}'.format(n+1))\n",
    "cosstates = me.dynamicsymbols('c:{}'.format(n+1))\n",
    "sinstates = sinstates[1:]\n",
    "cosstates = cosstates[1:]\n",
    "velocities = u"
   ]
  },
  {
   "cell_type": "code",
   "execution_count": 41,
   "metadata": {},
   "outputs": [
    {
     "data": {
      "image/png": "[encoded data removed]",
      "text/latex": [
       "$\\displaystyle \\left[ q_{0}, \\  s_{1}, \\  c_{1}, \\  s_{2}, \\  c_{2}, \\  s_{3}, \\  c_{3}, \\  s_{4}, \\  c_{4}, \\  s_{5}, \\  c_{5}, \\  s_{6}, \\  c_{6}, \\  s_{7}, \\  c_{7}, \\  s_{8}, \\  c_{8}, \\  s_{9}, \\  c_{9}, \\  dq_{0}, \\  dq_{1}, \\  dq_{2}, \\  dq_{3}, \\  dq_{4}, \\  dq_{5}, \\  dq_{6}, \\  dq_{7}, \\  dq_{8}, \\  dq_{9}\\right]$"
      ],
      "text/plain": [
       "[q₀, s₁, c₁, s₂, c₂, s₃, c₃, s₄, c₄, s₅, c₅, s₆, c₆, s₇, c₇, s₈, c₈, s₉, c₉, d\n",
       "q₀, dq₁, dq₂, dq₃, dq₄, dq₅, dq₆, dq₇, dq₈, dq₉]"
      ]
     },
     "execution_count": 41,
     "metadata": {},
     "output_type": "execute_result"
    }
   ],
   "source": [
    "recast_states = [q[0]]\n",
    "for i in range(n):\n",
    "    recast_states = recast_states + [sinstates[i]] + [cosstates[i]]\n",
    "recast_states +=  u\n",
    "\n",
    "recast_states"
   ]
  },
  {
   "cell_type": "markdown",
   "metadata": {},
   "source": [
    "### recasted fixed point"
   ]
  },
  {
   "cell_type": "code",
   "execution_count": 42,
   "metadata": {},
   "outputs": [
    {
     "name": "stdout",
     "output_type": "stream",
     "text": [
      "[0, 1, 0, 1, 0, 1, 0, 1, 0, 1, 0, 1, 0, 1, 0, 1, 0, 1, 0, 0, 0, 0, 0, 0, 0, 0, 0, 0, 0]\n"
     ]
    }
   ],
   "source": [
    "recast_fix_point = [sm.S(0)] + [sm.S(1), sm.S(0)] * (n) +  [sm.S(0)] * (n+1)\n",
    "print(recast_fix_point)\n",
    "recast_fix_point_dict = dict(zip(recast_states, recast_fix_point))"
   ]
  },
  {
   "cell_type": "markdown",
   "metadata": {},
   "source": [
    "#### Recasting the Lyapunov Method 1 (angle replacement)"
   ]
  },
  {
   "cell_type": "code",
   "execution_count": 43,
   "metadata": {},
   "outputs": [],
   "source": [
    "# first recast small angle squared\n",
    "\n",
    "# small_squared = [i**2 for i in q[1:]]\n",
    "# small_squared_cos = [2-2*i for i in cosstates]\n",
    "# recat_lyap_dict = dict(zip(small_squared,small_squared_cos))\n",
    "# V_recast = V.subs(recat_lyap_dict)\n",
    "# V_recast"
   ]
  },
  {
   "cell_type": "code",
   "execution_count": 44,
   "metadata": {},
   "outputs": [],
   "source": [
    "# next recast the small angle themselves\n",
    "\n",
    "# V_recast = V_recast.subs(dict(zip(q[1:],sinstates)))\n",
    "# V_recast"
   ]
  },
  {
   "cell_type": "markdown",
   "metadata": {},
   "source": [
    "#### Recasting the Lyapunov Method 2 (direct replacement)"
   ]
  },
  {
   "cell_type": "code",
   "execution_count": 45,
   "metadata": {},
   "outputs": [],
   "source": [
    "# recast_basis = [q[0]] + sinstates + u\n",
    "# V_recast = sm.expand(recast_basis@P@recast_basis)"
   ]
  },
  {
   "cell_type": "code",
   "execution_count": 46,
   "metadata": {},
   "outputs": [],
   "source": [
    "# small_squared_cos = [2-2*i for i in cosstates]\n",
    "# # recast_basis_one = [q[0]] + sinstates + u\n",
    "# # V1 = sm.expand(recast_basis@P@recast_basis)\n",
    "# # me.find_dynamicsymbols(V_recast)\n",
    "# small_squared_cos\n",
    "# V_recast.subs(recast_fix_point_dict)"
   ]
  },
  {
   "cell_type": "markdown",
   "metadata": {},
   "source": [
    "## Recasting the dynamics"
   ]
  },
  {
   "cell_type": "code",
   "execution_count": 47,
   "metadata": {},
   "outputs": [
    {
     "data": {
      "image/png": "[encoded data removed]",
      "text/latex": [
       "$\\displaystyle \\left[\\begin{array}{cccccccccccccccccccc}1 & 0.0 & 0.0 & 0.0 & 0.0 & 0.0 & 0.0 & 0.0 & 0.0 & 0.0 & 0.0 & 0.0 & 0.0 & 0.0 & 0.0 & 0.0 & 0.0 & 0.0 & 0.0 & 0.0\\\\0.0 & c_{1} & 0.0 & 0.0 & 0.0 & 0.0 & 0.0 & 0.0 & 0.0 & 0.0 & 0.0 & 0.0 & 0.0 & 0.0 & 0.0 & 0.0 & 0.0 & 0.0 & 0.0 & 0.0\\\\0.0 & - s_{1} & 0.0 & 0.0 & 0.0 & 0.0 & 0.0 & 0.0 & 0.0 & 0.0 & 0.0 & 0.0 & 0.0 & 0.0 & 0.0 & 0.0 & 0.0 & 0.0 & 0.0 & 0.0\\\\0.0 & 0.0 & c_{2} & 0.0 & 0.0 & 0.0 & 0.0 & 0.0 & 0.0 & 0.0 & 0.0 & 0.0 & 0.0 & 0.0 & 0.0 & 0.0 & 0.0 & 0.0 & 0.0 & 0.0\\\\0.0 & 0.0 & - s_{2} & 0.0 & 0.0 & 0.0 & 0.0 & 0.0 & 0.0 & 0.0 & 0.0 & 0.0 & 0.0 & 0.0 & 0.0 & 0.0 & 0.0 & 0.0 & 0.0 & 0.0\\\\0.0 & 0.0 & 0.0 & c_{3} & 0.0 & 0.0 & 0.0 & 0.0 & 0.0 & 0.0 & 0.0 & 0.0 & 0.0 & 0.0 & 0.0 & 0.0 & 0.0 & 0.0 & 0.0 & 0.0\\\\0.0 & 0.0 & 0.0 & - s_{3} & 0.0 & 0.0 & 0.0 & 0.0 & 0.0 & 0.0 & 0.0 & 0.0 & 0.0 & 0.0 & 0.0 & 0.0 & 0.0 & 0.0 & 0.0 & 0.0\\\\0.0 & 0.0 & 0.0 & 0.0 & c_{4} & 0.0 & 0.0 & 0.0 & 0.0 & 0.0 & 0.0 & 0.0 & 0.0 & 0.0 & 0.0 & 0.0 & 0.0 & 0.0 & 0.0 & 0.0\\\\0.0 & 0.0 & 0.0 & 0.0 & - s_{4} & 0.0 & 0.0 & 0.0 & 0.0 & 0.0 & 0.0 & 0.0 & 0.0 & 0.0 & 0.0 & 0.0 & 0.0 & 0.0 & 0.0 & 0.0\\\\0.0 & 0.0 & 0.0 & 0.0 & 0.0 & c_{5} & 0.0 & 0.0 & 0.0 & 0.0 & 0.0 & 0.0 & 0.0 & 0.0 & 0.0 & 0.0 & 0.0 & 0.0 & 0.0 & 0.0\\\\0.0 & 0.0 & 0.0 & 0.0 & 0.0 & - s_{5} & 0.0 & 0.0 & 0.0 & 0.0 & 0.0 & 0.0 & 0.0 & 0.0 & 0.0 & 0.0 & 0.0 & 0.0 & 0.0 & 0.0\\\\0.0 & 0.0 & 0.0 & 0.0 & 0.0 & 0.0 & c_{6} & 0.0 & 0.0 & 0.0 & 0.0 & 0.0 & 0.0 & 0.0 & 0.0 & 0.0 & 0.0 & 0.0 & 0.0 & 0.0\\\\0.0 & 0.0 & 0.0 & 0.0 & 0.0 & 0.0 & - s_{6} & 0.0 & 0.0 & 0.0 & 0.0 & 0.0 & 0.0 & 0.0 & 0.0 & 0.0 & 0.0 & 0.0 & 0.0 & 0.0\\\\0.0 & 0.0 & 0.0 & 0.0 & 0.0 & 0.0 & 0.0 & c_{7} & 0.0 & 0.0 & 0.0 & 0.0 & 0.0 & 0.0 & 0.0 & 0.0 & 0.0 & 0.0 & 0.0 & 0.0\\\\0.0 & 0.0 & 0.0 & 0.0 & 0.0 & 0.0 & 0.0 & - s_{7} & 0.0 & 0.0 & 0.0 & 0.0 & 0.0 & 0.0 & 0.0 & 0.0 & 0.0 & 0.0 & 0.0 & 0.0\\\\0.0 & 0.0 & 0.0 & 0.0 & 0.0 & 0.0 & 0.0 & 0.0 & c_{8} & 0.0 & 0.0 & 0.0 & 0.0 & 0.0 & 0.0 & 0.0 & 0.0 & 0.0 & 0.0 & 0.0\\\\0.0 & 0.0 & 0.0 & 0.0 & 0.0 & 0.0 & 0.0 & 0.0 & - s_{8} & 0.0 & 0.0 & 0.0 & 0.0 & 0.0 & 0.0 & 0.0 & 0.0 & 0.0 & 0.0 & 0.0\\\\0.0 & 0.0 & 0.0 & 0.0 & 0.0 & 0.0 & 0.0 & 0.0 & 0.0 & c_{9} & 0.0 & 0.0 & 0.0 & 0.0 & 0.0 & 0.0 & 0.0 & 0.0 & 0.0 & 0.0\\\\0.0 & 0.0 & 0.0 & 0.0 & 0.0 & 0.0 & 0.0 & 0.0 & 0.0 & - s_{9} & 0.0 & 0.0 & 0.0 & 0.0 & 0.0 & 0.0 & 0.0 & 0.0 & 0.0 & 0.0\\\\0.0 & 0.0 & 0.0 & 0.0 & 0.0 & 0.0 & 0.0 & 0.0 & 0.0 & 0.0 & 1 & 0.0 & 0.0 & 0.0 & 0.0 & 0.0 & 0.0 & 0.0 & 0.0 & 0.0\\\\0.0 & 0.0 & 0.0 & 0.0 & 0.0 & 0.0 & 0.0 & 0.0 & 0.0 & 0.0 & 0.0 & 1 & 0.0 & 0.0 & 0.0 & 0.0 & 0.0 & 0.0 & 0.0 & 0.0\\\\0.0 & 0.0 & 0.0 & 0.0 & 0.0 & 0.0 & 0.0 & 0.0 & 0.0 & 0.0 & 0.0 & 0.0 & 1 & 0.0 & 0.0 & 0.0 & 0.0 & 0.0 & 0.0 & 0.0\\\\0.0 & 0.0 & 0.0 & 0.0 & 0.0 & 0.0 & 0.0 & 0.0 & 0.0 & 0.0 & 0.0 & 0.0 & 0.0 & 1 & 0.0 & 0.0 & 0.0 & 0.0 & 0.0 & 0.0\\\\0.0 & 0.0 & 0.0 & 0.0 & 0.0 & 0.0 & 0.0 & 0.0 & 0.0 & 0.0 & 0.0 & 0.0 & 0.0 & 0.0 & 1 & 0.0 & 0.0 & 0.0 & 0.0 & 0.0\\\\0.0 & 0.0 & 0.0 & 0.0 & 0.0 & 0.0 & 0.0 & 0.0 & 0.0 & 0.0 & 0.0 & 0.0 & 0.0 & 0.0 & 0.0 & 1 & 0.0 & 0.0 & 0.0 & 0.0\\\\0.0 & 0.0 & 0.0 & 0.0 & 0.0 & 0.0 & 0.0 & 0.0 & 0.0 & 0.0 & 0.0 & 0.0 & 0.0 & 0.0 & 0.0 & 0.0 & 1 & 0.0 & 0.0 & 0.0\\\\0.0 & 0.0 & 0.0 & 0.0 & 0.0 & 0.0 & 0.0 & 0.0 & 0.0 & 0.0 & 0.0 & 0.0 & 0.0 & 0.0 & 0.0 & 0.0 & 0.0 & 1 & 0.0 & 0.0\\\\0.0 & 0.0 & 0.0 & 0.0 & 0.0 & 0.0 & 0.0 & 0.0 & 0.0 & 0.0 & 0.0 & 0.0 & 0.0 & 0.0 & 0.0 & 0.0 & 0.0 & 0.0 & 1 & 0.0\\\\0.0 & 0.0 & 0.0 & 0.0 & 0.0 & 0.0 & 0.0 & 0.0 & 0.0 & 0.0 & 0.0 & 0.0 & 0.0 & 0.0 & 0.0 & 0.0 & 0.0 & 0.0 & 0.0 & 1\\end{array}\\right]$"
      ],
      "text/plain": [
       "⎡ 1   0.0  0.0  0.0  0.0  0.0  0.0  0.0  0.0  0.0  0.0  0.0  0.0  0.0  0.0  0.\n",
       "⎢                                                                             \n",
       "⎢0.0  c₁   0.0  0.0  0.0  0.0  0.0  0.0  0.0  0.0  0.0  0.0  0.0  0.0  0.0  0.\n",
       "⎢                                                                             \n",
       "⎢0.0  -s₁  0.0  0.0  0.0  0.0  0.0  0.0  0.0  0.0  0.0  0.0  0.0  0.0  0.0  0.\n",
       "⎢                                                                             \n",
       "⎢0.0  0.0  c₂   0.0  0.0  0.0  0.0  0.0  0.0  0.0  0.0  0.0  0.0  0.0  0.0  0.\n",
       "⎢                                                                             \n",
       "⎢0.0  0.0  -s₂  0.0  0.0  0.0  0.0  0.0  0.0  0.0  0.0  0.0  0.0  0.0  0.0  0.\n",
       "⎢                                                                             \n",
       "⎢0.0  0.0  0.0  c₃   0.0  0.0  0.0  0.0  0.0  0.0  0.0  0.0  0.0  0.0  0.0  0.\n",
       "⎢                                                                             \n",
       "⎢0.0  0.0  0.0  -s₃  0.0  0.0  0.0  0.0  0.0  0.0  0.0  0.0  0.0  0.0  0.0  0.\n",
       "⎢                                                                             \n",
       "⎢0.0  0.0  0.0  0.0  c₄   0.0  0.0  0.0  0.0  0.0  0.0  0.0  0.0  0.0  0.0  0.\n",
       "⎢                                                                             \n",
       "⎢0.0  0.0  0.0  0.0  -s₄  0.0  0.0  0.0  0.0  0.0  0.0  0.0  0.0  0.0  0.0  0.\n",
       "⎢                                                                             \n",
       "⎢0.0  0.0  0.0  0.0  0.0  c₅   0.0  0.0  0.0  0.0  0.0  0.0  0.0  0.0  0.0  0.\n",
       "⎢                                                                             \n",
       "⎢0.0  0.0  0.0  0.0  0.0  -s₅  0.0  0.0  0.0  0.0  0.0  0.0  0.0  0.0  0.0  0.\n",
       "⎢                                                                             \n",
       "⎢0.0  0.0  0.0  0.0  0.0  0.0  c₆   0.0  0.0  0.0  0.0  0.0  0.0  0.0  0.0  0.\n",
       "⎢                                                                             \n",
       "⎢0.0  0.0  0.0  0.0  0.0  0.0  -s₆  0.0  0.0  0.0  0.0  0.0  0.0  0.0  0.0  0.\n",
       "⎢                                                                             \n",
       "⎢0.0  0.0  0.0  0.0  0.0  0.0  0.0  c₇   0.0  0.0  0.0  0.0  0.0  0.0  0.0  0.\n",
       "⎢                                                                             \n",
       "⎢0.0  0.0  0.0  0.0  0.0  0.0  0.0  -s₇  0.0  0.0  0.0  0.0  0.0  0.0  0.0  0.\n",
       "⎢                                                                             \n",
       "⎢0.0  0.0  0.0  0.0  0.0  0.0  0.0  0.0  c₈   0.0  0.0  0.0  0.0  0.0  0.0  0.\n",
       "⎢                                                                             \n",
       "⎢0.0  0.0  0.0  0.0  0.0  0.0  0.0  0.0  -s₈  0.0  0.0  0.0  0.0  0.0  0.0  0.\n",
       "⎢                                                                             \n",
       "⎢0.0  0.0  0.0  0.0  0.0  0.0  0.0  0.0  0.0  c₉   0.0  0.0  0.0  0.0  0.0  0.\n",
       "⎢                                                                             \n",
       "⎢0.0  0.0  0.0  0.0  0.0  0.0  0.0  0.0  0.0  -s₉  0.0  0.0  0.0  0.0  0.0  0.\n",
       "⎢                                                                             \n",
       "⎢0.0  0.0  0.0  0.0  0.0  0.0  0.0  0.0  0.0  0.0   1   0.0  0.0  0.0  0.0  0.\n",
       "⎢                                                                             \n",
       "⎢0.0  0.0  0.0  0.0  0.0  0.0  0.0  0.0  0.0  0.0  0.0   1   0.0  0.0  0.0  0.\n",
       "⎢                                                                             \n",
       "⎢0.0  0.0  0.0  0.0  0.0  0.0  0.0  0.0  0.0  0.0  0.0  0.0   1   0.0  0.0  0.\n",
       "⎢                                                                             \n",
       "⎢0.0  0.0  0.0  0.0  0.0  0.0  0.0  0.0  0.0  0.0  0.0  0.0  0.0   1   0.0  0.\n",
       "⎢                                                                             \n",
       "⎢0.0  0.0  0.0  0.0  0.0  0.0  0.0  0.0  0.0  0.0  0.0  0.0  0.0  0.0   1   0.\n",
       "⎢                                                                             \n",
       "⎢0.0  0.0  0.0  0.0  0.0  0.0  0.0  0.0  0.0  0.0  0.0  0.0  0.0  0.0  0.0   1\n",
       "⎢                                                                             \n",
       "⎢0.0  0.0  0.0  0.0  0.0  0.0  0.0  0.0  0.0  0.0  0.0  0.0  0.0  0.0  0.0  0.\n",
       "⎢                                                                             \n",
       "⎢0.0  0.0  0.0  0.0  0.0  0.0  0.0  0.0  0.0  0.0  0.0  0.0  0.0  0.0  0.0  0.\n",
       "⎢                                                                             \n",
       "⎢0.0  0.0  0.0  0.0  0.0  0.0  0.0  0.0  0.0  0.0  0.0  0.0  0.0  0.0  0.0  0.\n",
       "⎢                                                                             \n",
       "⎣0.0  0.0  0.0  0.0  0.0  0.0  0.0  0.0  0.0  0.0  0.0  0.0  0.0  0.0  0.0  0.\n",
       "\n",
       "0  0.0  0.0  0.0  0.0⎤\n",
       "                     ⎥\n",
       "0  0.0  0.0  0.0  0.0⎥\n",
       "                     ⎥\n",
       "0  0.0  0.0  0.0  0.0⎥\n",
       "                     ⎥\n",
       "0  0.0  0.0  0.0  0.0⎥\n",
       "                     ⎥\n",
       "0  0.0  0.0  0.0  0.0⎥\n",
       "                     ⎥\n",
       "0  0.0  0.0  0.0  0.0⎥\n",
       "                     ⎥\n",
       "0  0.0  0.0  0.0  0.0⎥\n",
       "                     ⎥\n",
       "0  0.0  0.0  0.0  0.0⎥\n",
       "                     ⎥\n",
       "0  0.0  0.0  0.0  0.0⎥\n",
       "                     ⎥\n",
       "0  0.0  0.0  0.0  0.0⎥\n",
       "                     ⎥\n",
       "0  0.0  0.0  0.0  0.0⎥\n",
       "                     ⎥\n",
       "0  0.0  0.0  0.0  0.0⎥\n",
       "                     ⎥\n",
       "0  0.0  0.0  0.0  0.0⎥\n",
       "                     ⎥\n",
       "0  0.0  0.0  0.0  0.0⎥\n",
       "                     ⎥\n",
       "0  0.0  0.0  0.0  0.0⎥\n",
       "                     ⎥\n",
       "0  0.0  0.0  0.0  0.0⎥\n",
       "                     ⎥\n",
       "0  0.0  0.0  0.0  0.0⎥\n",
       "                     ⎥\n",
       "0  0.0  0.0  0.0  0.0⎥\n",
       "                     ⎥\n",
       "0  0.0  0.0  0.0  0.0⎥\n",
       "                     ⎥\n",
       "0  0.0  0.0  0.0  0.0⎥\n",
       "                     ⎥\n",
       "0  0.0  0.0  0.0  0.0⎥\n",
       "                     ⎥\n",
       "0  0.0  0.0  0.0  0.0⎥\n",
       "                     ⎥\n",
       "0  0.0  0.0  0.0  0.0⎥\n",
       "                     ⎥\n",
       "0  0.0  0.0  0.0  0.0⎥\n",
       "                     ⎥\n",
       "   0.0  0.0  0.0  0.0⎥\n",
       "                     ⎥\n",
       "0   1   0.0  0.0  0.0⎥\n",
       "                     ⎥\n",
       "0  0.0   1   0.0  0.0⎥\n",
       "                     ⎥\n",
       "0  0.0  0.0   1   0.0⎥\n",
       "                     ⎥\n",
       "0  0.0  0.0  0.0   1 ⎦"
      ]
     },
     "execution_count": 47,
     "metadata": {},
     "output_type": "execute_result"
    }
   ],
   "source": [
    "recast_transformation=sm.Matrix(np.zeros((3*n+2, 2*n+2)))\n",
    "recast_transformation[0,0]=sm.S(1)\n",
    "for i in range(n):\n",
    "    recast_transformation[2*i+1,i+1] = cosstates[i]\n",
    "    recast_transformation[2*i+2,i+1] = - sinstates[i]\n",
    "for i in range(n+1):\n",
    "    recast_transformation[-i-1,-i-1] = sm.S(1)\n",
    "recast_transformation"
   ]
  },
  {
   "cell_type": "code",
   "execution_count": 48,
   "metadata": {},
   "outputs": [
    {
     "data": {
      "image/png": "[encoded data removed]",
      "text/latex": [
       "$\\displaystyle \\left\\{ \\operatorname{sin}\\left(q_{1}\\right) : s_{1}, \\  \\operatorname{sin}\\left(q_{2}\\right) : s_{2}, \\  \\operatorname{sin}\\left(q_{3}\\right) : s_{3}, \\  \\operatorname{sin}\\left(q_{4}\\right) : s_{4}, \\  \\operatorname{sin}\\left(q_{5}\\right) : s_{5}, \\  \\operatorname{sin}\\left(q_{6}\\right) : s_{6}, \\  \\operatorname{sin}\\left(q_{7}\\right) : s_{7}, \\  \\operatorname{sin}\\left(q_{8}\\right) : s_{8}, \\  \\operatorname{sin}\\left(q_{9}\\right) : s_{9}, \\  \\operatorname{cos}\\left(q_{1}\\right) : c_{1}, \\  \\operatorname{cos}\\left(q_{2}\\right) : c_{2}, \\  \\operatorname{cos}\\left(q_{3}\\right) : c_{3}, \\  \\operatorname{cos}\\left(q_{4}\\right) : c_{4}, \\  \\operatorname{cos}\\left(q_{5}\\right) : c_{5}, \\  \\operatorname{cos}\\left(q_{6}\\right) : c_{6}, \\  \\operatorname{cos}\\left(q_{7}\\right) : c_{7}, \\  \\operatorname{cos}\\left(q_{8}\\right) : c_{8}, \\  \\operatorname{cos}\\left(q_{9}\\right) : c_{9}\\right\\}$"
      ],
      "text/plain": [
       "{sin(q₁): s₁, sin(q₂): s₂, sin(q₃): s₃, sin(q₄): s₄, sin(q₅): s₅, sin(q₆): s₆,\n",
       " sin(q₇): s₇, sin(q₈): s₈, sin(q₉): s₉, cos(q₁): c₁, cos(q₂): c₂, cos(q₃): c₃,\n",
       " cos(q₄): c₄, cos(q₅): c₅, cos(q₆): c₆, cos(q₇): c₇, cos(q₈): c₈, cos(q₉): c₉}"
      ]
     },
     "execution_count": 48,
     "metadata": {},
     "output_type": "execute_result"
    }
   ],
   "source": [
    "sins=[sin(i) for i in q[1:]]\n",
    "coss=[cos(i) for i in q[1:]]\n",
    "key = sins+coss\n",
    "values = sinstates + cosstates\n",
    "recast_sim_dict = dict(zip(key,values))\n",
    "recast_sim_dict"
   ]
  },
  {
   "cell_type": "code",
   "execution_count": 49,
   "metadata": {},
   "outputs": [
    {
     "data": {
      "image/png": "[encoded data removed]",
      "text/latex": [
       "$\\displaystyle 1.38740182936531 \\cdot 10^{-31}$"
      ],
      "text/plain": [
       "1.38740182936531e-31"
      ]
     },
     "execution_count": 49,
     "metadata": {},
     "output_type": "execute_result"
    }
   ],
   "source": [
    "V_recast = V.subs(recast_sim_dict)\n",
    "V_recast.subs(recast_fix_point_dict)"
   ]
  },
  {
   "cell_type": "markdown",
   "metadata": {},
   "source": [
    "### recast the mass and force matrices"
   ]
  },
  {
   "cell_type": "code",
   "execution_count": 50,
   "metadata": {},
   "outputs": [],
   "source": [
    "full_mass_recast = full_mass.subs(recast_sim_dict)\n",
    "full_force_recast = sm.expand_trig(full_force).subs(dict(zip(key,values)))\n",
    "\n",
    "full_mass_recast_num = full_mass_recast.subs(recast_fix_point_dict)\n",
    "full_force_recast_num = full_force_recast.subs(recast_fix_point_dict)"
   ]
  },
  {
   "cell_type": "code",
   "execution_count": 51,
   "metadata": {},
   "outputs": [],
   "source": [
    "# debug: should match the original form\n",
    "assert(full_mass_num == full_mass_recast_num)\n",
    "assert(full_force_num == full_force_recast_num)"
   ]
  },
  {
   "cell_type": "markdown",
   "metadata": {},
   "source": [
    "### symbolic transformation of the dyanmics, involing mass inversion, bad"
   ]
  },
  {
   "cell_type": "markdown",
   "metadata": {},
   "source": [
    "### do linearization in the [s,c,t] coordinate, getting non-Hurwitz A, so go back to small-angle approx. of V"
   ]
  },
  {
   "cell_type": "code",
   "execution_count": 52,
   "metadata": {},
   "outputs": [],
   "source": [
    "# ddq = recast_mass.inv()@recast_force  ## doubledots(q) expressed in q, dq\n",
    "# dsdc = recast_transformation@ddq \n",
    "\n",
    "# # dynamics_recast = sm.Matrix([dq0, dsdc, ddq])\n",
    "# # dynamics_recast.shape\n",
    "\n",
    "# dynamics_recast = recast_transformation@full_mass_recast.inv()@full_force_recast\n",
    "# dynamics_recast.shape"
   ]
  },
  {
   "cell_type": "code",
   "execution_count": 53,
   "metadata": {},
   "outputs": [],
   "source": [
    "# A_recast = sm.matrix2numpy(dynamics_recast.jacobian(recast_states).subs(recast_fix_point_dict), dtype=float)\n",
    "# ddq_A = sm.matrix2numpy(ddq.jacobian(recast_states).subs(recast_fix_point_dict), dtype=float)"
   ]
  },
  {
   "cell_type": "code",
   "execution_count": 54,
   "metadata": {},
   "outputs": [],
   "source": [
    "# dq0_A = np.zeros(2*n+2+n)\n",
    "# dq0_A[-n-1]=1\n",
    "# A_recast = np.vstack((dq0_A, dsdc_A,ddq_A))\n",
    "# A_recast"
   ]
  },
  {
   "cell_type": "code",
   "execution_count": 55,
   "metadata": {},
   "outputs": [],
   "source": [
    "# np.linalg.eig(A_recast)[0]\n",
    "# P_recast = solve_lyapunov(A_recast.T, -np.eye(A_recast.shape[0]))\n",
    "# np.linalg.eig(P_recast)[0]"
   ]
  },
  {
   "cell_type": "code",
   "execution_count": 56,
   "metadata": {},
   "outputs": [],
   "source": [
    "# direc_v_recast = sm.simplify((recast_states - recast_fix_point).T@P@(recast_states - recast_fix_point))\n",
    "# direc_v_recast"
   ]
  },
  {
   "cell_type": "code",
   "execution_count": 57,
   "metadata": {},
   "outputs": [],
   "source": [
    "import itertools\n",
    "def get_monomials(x, deg, rm_one):\n",
    "#     c = 1 if isinstance(x[0], float) else Expression(1)\n",
    "    c =1\n",
    "    _ = itertools.combinations_with_replacement(np.append(c, x), deg)\n",
    "    basis = [np.prod(j) for j in _]\n",
    "    if rm_one:\n",
    "        basis = basis[1:]\n",
    "    return (basis[:: -1])"
   ]
  },
  {
   "cell_type": "code",
   "execution_count": 58,
   "metadata": {},
   "outputs": [],
   "source": [
    "xxd = (np.array(recast_states)@np.array(recast_states))\n",
    "psi = sm.Matrix(get_monomials(recast_states, 2, False))"
   ]
  },
  {
   "cell_type": "code",
   "execution_count": 59,
   "metadata": {},
   "outputs": [],
   "source": [
    "def sample():\n",
    "    V_num =[]\n",
    "    xxd_num = []\n",
    "    psi_num = []\n",
    "    alpha= np.random.randn(2*n+2)\n",
    "    beta = np.random.randn(2*n+2)\n",
    "    t = sm.Symbol('t',real=True)\n",
    "    old_states_dict = dict(zip(states, alpha*t+beta))\n",
    "#     old_states_dict\n",
    "    \n",
    "    angle = np.random.uniform(-np.pi,np.pi,n)\n",
    "    sin_samples, cos_samples = np.sin(angle), np.cos(angle)\n",
    "    trig_sample_dict = dict(zip(sinstates + cosstates, np.concatenate([sin_samples, cos_samples])))\n",
    "#     trig_sample_dict\n",
    "    old_states_dict.update(trig_sample_dict)\n",
    "#     print(old_states_dict)\n",
    "\n",
    "    phi = V_recast.diff((recast_states,1))\n",
    "    this_phi = sm.simplify(phi.subs(old_states_dict))\n",
    "#     print(this_phi)\n",
    "#     this_phi.shape\n",
    "\n",
    "    this_mass = sm.matrix2numpy(sm.simplify(full_mass_recast.subs(old_states_dict)),dtype=float)\n",
    "    this_mass_inv = np.linalg.inv(this_mass)\n",
    "#     print(this_mass_inv)\n",
    "#     this_mass_inv\n",
    "\n",
    "    this_force = sm.matrix2numpy(sm.simplify(full_force_recast.subs(old_states_dict)))\n",
    "#     this_force\n",
    "\n",
    "#     this_ddq = this_mass_inv@this_force\n",
    "# #     this_ddq.shape\n",
    "\n",
    "    this_recast_transform = sm.matrix2numpy(recast_transformation.subs(trig_sample_dict),dtype=float)\n",
    "#     this_dsdc = this_recast_transform@this_ddq\n",
    "# #     this_dsdc\n",
    "\n",
    "#     this_dq0=old_states_dict[u[0]]\n",
    "#     this_f = np.vstack((this_dq0, this_dsdc, this_ddq))\n",
    "    this_f = this_recast_transform@this_mass_inv@this_force\n",
    "#     print(this_f)\n",
    "    this_Vdot = this_phi@this_f\n",
    "\n",
    "    t_num=sm.solve(this_Vdot,t)\n",
    "    \n",
    "    \n",
    "    if len(t_num)>0:\n",
    "        \n",
    "        for i in t_num:\n",
    "            sol_dict = dict(zip(states, alpha*i+beta))\n",
    "            sol_dict.update(trig_sample_dict)\n",
    "            print(sol_dict)\n",
    "            \n",
    "            V_eval = V_recast.subs(sol_dict)\n",
    "            print(V_eval)\n",
    "            if V_eval <=1e4:\n",
    "                print('found root')\n",
    "                V_num.append(V_eval)\n",
    "                xxd_num.append((xxd.subs(sol_dict)))\n",
    "                psi_num.append(sm.matrix2numpy(psi.subs(sol_dict), dtype=float))\n",
    "    else:\n",
    "        print('no root')\n",
    "        sol_dict = []\n",
    "    return V_num, xxd_num, psi_num, sol_dict"
   ]
  },
  {
   "cell_type": "code",
   "execution_count": 60,
   "metadata": {},
   "outputs": [],
   "source": [
    "allV=[]\n",
    "allxxd = []\n",
    "allpsi = []\n",
    "all_sol_dicts=[]"
   ]
  },
  {
   "cell_type": "code",
   "execution_count": null,
   "metadata": {},
   "outputs": [
    {
     "name": "stdout",
     "output_type": "stream",
     "text": [
      "no root\n",
      "{q0(t): 326441.270618602, q1(t): 7464.88835046916, q2(t): 56986.0601260858, q3(t): -462703.115987852, q4(t): -22064.2716982543, q5(t): 215395.597894304, q6(t): -364506.727571869, q7(t): -801616.744108751, q8(t): -139517.969935016, q9(t): 389613.845572494, dq0(t): -1696718.96355943, dq1(t): -170220.481897134, dq2(t): 348609.779955798, dq3(t): 444874.470772787, dq4(t): -151202.804811365, dq5(t): 967322.043562655, dq6(t): 721077.807060606, dq7(t): 761826.336124920, dq8(t): 734698.900625776, dq9(t): -79677.6790446121, s1(t): -0.8005355548641087, s2(t): 0.9644105908272069, s3(t): 0.48427849177213195, s4(t): -0.7570463532869178, s5(t): 0.030427481076450078, s6(t): -0.23758763357725265, s7(t): 0.9425926650880782, s8(t): -0.03182692086680472, s9(t): 0.7795109097917069, c1(t): -0.5992852621234848, c2(t): 0.2644091759003793, c3(t): 0.8749139057112472, c4(t): 0.6533611703912158, c5(t): -0.9995369770025231, c6(t): -0.9713661083088915, c7(t): 0.3339447075821897, c8(t): 0.9994933952298726, c9(t): 0.6263886505323236}\n",
      "1502329724881.42\n",
      "no root\n",
      "no root\n",
      "no root\n",
      "no root\n",
      "no root\n",
      "no root\n",
      "no root\n",
      "no root\n",
      "{q0(t): 129987.106793726, q1(t): -167864.597411817, q2(t): 575645.626902675, q3(t): -453181.795863128, q4(t): -198350.457152556, q5(t): -135035.444065779, q6(t): -323255.011488521, q7(t): -202226.048278093, q8(t): 20658.2800914508, q9(t): 5819.84300221660, dq0(t): -394583.737620487, dq1(t): 18908.5670050731, dq2(t): -499636.386550283, dq3(t): -476056.713200212, dq4(t): 352049.081017869, dq5(t): 104157.270487965, dq6(t): -185208.522030659, dq7(t): 539950.398430827, dq8(t): 320735.821207817, dq9(t): 603363.098771162, s1(t): 0.9162826800578351, s2(t): 0.12785608991660963, s3(t): -0.7516988355970395, s4(t): 0.21305791184496636, s5(t): 0.6287177225834556, s6(t): -0.21724446507212353, s7(t): -0.1434812159571881, s8(t): 0.6368496829706952, s9(t): 0.7434191717924953, c1(t): -0.40053220872488027, c2(t): 0.9917927304992893, c3(t): 0.6595065280662922, c4(t): 0.977039572484279, c5(t): 0.7776336060828859, c6(t): -0.9761172277936329, c7(t): -0.9896530405487808, c8(t): -0.770987990373472, c9(t): 0.6688257882373858}\n",
      "78881093641.3898\n",
      "no root\n",
      "no root\n",
      "no root\n",
      "no root\n",
      "no root\n",
      "no root\n",
      "no root\n",
      "no root\n",
      "no root\n",
      "no root\n",
      "{q0(t): -75721.6942096096, q1(t): -473259.577964508, q2(t): 864520.870371759, q3(t): -413183.071509545, q4(t): 196503.125671952, q5(t): 616534.846544952, q6(t): 18202.2160827492, q7(t): 523535.577573950, q8(t): 519448.842074294, q9(t): 355558.646504587, dq0(t): -427602.893568747, dq1(t): -65771.1747721995, dq2(t): -361721.987201542, dq3(t): -29811.4978362239, dq4(t): -69754.6173817622, dq5(t): 42941.7398485614, dq6(t): -689287.672278555, dq7(t): 1121557.96868396, dq8(t): 1171392.52961807, dq9(t): -36625.0703853956, s1(t): 0.6028879622909707, s2(t): 0.13995917728041907, s3(t): -0.14694141417925968, s4(t): -0.6987523049946712, s5(t): -0.7561768808265242, s6(t): 0.9935635930286391, s7(t): -0.49080934825749545, s8(t): 0.24409037295492392, s9(t): 0.5263430818400502, c1(t): -0.7978258612784127, c2(t): 0.9901572747270951, c3(t): 0.9891451970256941, c4(t): -0.7153636950982584, c5(t): -0.6543672706542317, c6(t): -0.11327571058272368, c7(t): -0.8712669990669063, c8(t): 0.9697524889530968, c9(t): 0.8502722859173515}\n",
      "151753149740.395\n",
      "no root\n",
      "no root\n",
      "no root\n",
      "no root\n",
      "no root\n",
      "no root\n",
      "no root\n",
      "no root\n",
      "no root\n",
      "no root\n",
      "no root\n",
      "no root\n",
      "no root\n",
      "no root\n",
      "no root\n",
      "no root\n",
      "no root\n",
      "no root\n",
      "{q0(t): -1937217.60518667, q1(t): 858007.681638061, q2(t): 130492.662759690, q3(t): 717654.656944568, q4(t): 512109.593714584, q5(t): 960612.268874029, q6(t): 1162575.04017802, q7(t): -648845.126117755, q8(t): -1934657.30316110, q9(t): -3367690.81204879, dq0(t): -1536943.86260479, dq1(t): -810306.632302712, dq2(t): -584482.283448006, dq3(t): 695440.085580985, dq4(t): -85364.8123362025, dq5(t): -774527.476206978, dq6(t): -666830.403477202, dq7(t): 324838.088835066, dq8(t): -300982.596729903, dq9(t): 70271.6858430653, s1(t): -0.8316459106709898, s2(t): 0.9125625738201919, s3(t): -0.8889328532521426, s4(t): -0.1309049667767611, s5(t): 0.7627556534299759, s6(t): -0.49013587633286887, s7(t): -0.44034888196263977, s8(t): 0.8720537426181335, s9(t): -0.4727189498909506, c1(t): 0.5553062931970247, c2(t): 0.40893709646187254, c3(t): 0.45803753384302986, c4(t): 0.9913949211455418, c5(t): -0.6466867968039942, c6(t): -0.8716460421130877, c7(t): 0.8978267439513334, c8(t): -0.4894101245230898, c9(t): -0.8812132513835667}\n",
      "6851818905520.60\n",
      "no root\n",
      "no root\n",
      "no root\n",
      "no root\n",
      "no root\n",
      "{q0(t): -619421.628258594, q1(t): 1826718.78803012, q2(t): -665150.942781055, q3(t): 93046.4571514669, q4(t): -67971.4063561882, q5(t): 474868.968146129, q6(t): -537721.214268254, q7(t): 2123.56971060279, q8(t): -186617.117110965, q9(t): -2025012.82636544, dq0(t): -1529277.18183375, dq1(t): -334863.785463583, dq2(t): 1205239.27287653, dq3(t): -2214658.39197800, dq4(t): 1346525.93473832, dq5(t): -105978.823615951, dq6(t): 851428.859758668, dq7(t): 302350.349181367, dq8(t): 1937159.38572282, dq9(t): 2174905.64664721, s1(t): -0.9226712159521198, s2(t): 0.23077942490281275, s3(t): -0.7569165360292446, s4(t): 0.12216321243583156, s5(t): 0.7880653451059267, s6(t): 0.7060647711439918, s7(t): 0.0823299851875896, s8(t): 0.320964630250046, s9(t): -0.46914437267516984, c1(t): 0.38558763887531056, c2(t): -0.9730060930135674, c3(t): -0.6535115588002168, c4(t): 0.992510024900181, c5(t): 0.6155915950068491, c6(t): -0.7081472579551392, c7(t): -0.9966051241785843, c8(t): -0.9470911815281838, c9(t): 0.883121485180392}\n",
      "3005845909130.40\n",
      "no root\n",
      "no root\n",
      "no root\n",
      "no root\n",
      "no root\n",
      "no root\n",
      "no root\n",
      "no root\n",
      "no root\n",
      "{q0(t): -122693.006434288, q1(t): -37962.3220108704, q2(t): -57473.2090167048, q3(t): 97735.2076527861, q4(t): 149276.441230151, q5(t): 2306.81666838964, q6(t): -96063.4529569166, q7(t): 202589.428057186, q8(t): -42154.9584376367, q9(t): -276544.472773996, dq0(t): -140066.708331038, dq1(t): 340493.098860769, dq2(t): -16859.3420054122, dq3(t): -24525.1788501432, dq4(t): -81903.1257223675, dq5(t): 185359.252664390, dq6(t): -25095.2847008706, dq7(t): -35361.5558508340, dq8(t): 20399.0368358668, dq9(t): 39065.2820327357, s1(t): 0.6260312671414343, s2(t): -0.5178861230197463, s3(t): -0.17862317617056234, s4(t): -0.9428060276309345, s5(t): 0.8570376833606085, s6(t): -0.9390486374183916, s7(t): -0.9322837595978214, s8(t): -0.42743954117527466, s9(t): 0.7962242571028881, c1(t): -0.77979795624334, c2(t): -0.8554495681123324, c3(t): 0.9839175579969799, c4(t): -0.3333418579518296, c5(t): -0.5152537329315349, c6(t): 0.343784316923652, c7(t): 0.36172778658841176, c8(t): -0.9040439362331184, c9(t): 0.605001597023474}\n",
      "45572965427.7358\n",
      "no root\n",
      "no root\n",
      "no root\n",
      "no root\n",
      "no root\n",
      "no root\n",
      "no root\n",
      "no root\n",
      "no root\n",
      "no root\n",
      "no root\n",
      "no root\n",
      "no root\n",
      "no root\n",
      "no root\n",
      "no root\n",
      "no root\n",
      "no root\n",
      "no root\n",
      "no root\n",
      "{q0(t): 1613810.66708556, q1(t): 982549.241879005, q2(t): 772956.493951389, q3(t): -787471.347383428, q4(t): -590977.369528473, q5(t): 1943052.51873523, q6(t): -63259.0273540166, q7(t): -1048946.53168052, q8(t): 1532000.53132665, q9(t): -696216.001097145, dq0(t): 1788459.29169393, dq1(t): -184292.851702996, dq2(t): 331140.863974710, dq3(t): 599278.918036256, dq4(t): -13074.4638518403, dq5(t): -581459.532690726, dq6(t): -1630833.14024399, dq7(t): 431009.318648488, dq8(t): 1855841.31770819, dq9(t): 766620.529056132, s1(t): 0.9159854293558337, s2(t): 0.8806883198854489, s3(t): -0.25006764443017143, s4(t): -0.4440195810615776, s5(t): 0.6762398117425215, s6(t): 0.6232055261461111, s7(t): -0.9448019624620048, s8(t): -0.6640952052168119, s9(t): 0.3946567484580028, c1(t): 0.4012115317482897, c2(t): 0.4736961929521337, c3(t): -0.9682283683145962, c4(t): 0.8960170822221534, c5(t): -0.7366815574007803, c6(t): -0.7820581002591487, c7(t): 0.3276419566049877, c8(t): 0.7476480177249456, c9(t): -0.9188286297762802}\n",
      "5813753710162.69\n",
      "no root\n",
      "no root\n",
      "no root\n",
      "no root\n",
      "no root\n",
      "no root\n",
      "no root\n",
      "no root\n",
      "no root\n",
      "no root\n",
      "no root\n",
      "no root\n",
      "no root\n",
      "{q0(t): 88735.2144073875, q1(t): 234188.906154989, q2(t): 10093.4153287198, q3(t): -76738.4239397146, q4(t): -68861.7894793146, q5(t): 8156.03457943892, q6(t): 4960.92800578461, q7(t): 59749.3633357485, q8(t): 54657.3051596722, q9(t): 192026.311687136, dq0(t): 97057.3436738905, dq1(t): 47578.8743082800, dq2(t): -9737.56081376876, dq3(t): -40128.0555064923, dq4(t): -61960.3027130249, dq5(t): 208120.099005306, dq6(t): -27588.0264505924, dq7(t): -126376.672498724, dq8(t): 15387.7896765604, dq9(t): 130293.334059875, s1(t): 0.069402572128382, s2(t): 0.6128408626804751, s3(t): -0.7885894642288771, s4(t): 0.46186234181782837, s5(t): 0.33567465044799855, s6(t): 0.8938580231551664, s7(t): 0.8905784545680052, s8(t): 0.9573601017542729, s9(t): 0.729043292480568, c1(t): 0.9975887343900616, c2(t): 0.7902063509166773, c3(t): 0.6149200410681153, c4(t): 0.8869516205580502, c5(t): -0.9419779875594833, c6(t): -0.4483501248367598, c7(t): -0.4548296563102096, c8(t): -0.28889727511530505, c9(t): -0.6844675870259256}\n"
     ]
    },
    {
     "name": "stdout",
     "output_type": "stream",
     "text": [
      "16778165894.1863\n",
      "no root\n",
      "no root\n",
      "no root\n",
      "{q0(t): -211917.790655583, q1(t): 167123.706029512, q2(t): -39803.5731871651, q3(t): 413957.516656092, q4(t): 12815.7437944857, q5(t): 2957.09880968525, q6(t): 94775.7942335403, q7(t): -307742.522891226, q8(t): -190800.996861101, q9(t): -274269.519669960, dq0(t): -87690.4006673467, dq1(t): -219401.833729616, dq2(t): -14873.2273979316, dq3(t): -218235.213781961, dq4(t): 15755.6487166537, dq5(t): -106444.014395649, dq6(t): -297672.404429535, dq7(t): 18558.5242632699, dq8(t): 252067.772292511, dq9(t): -100495.184461230, s1(t): -0.7635229965162977, s2(t): 0.02815450766755628, s3(t): 0.8488288802689208, s4(t): 0.08945670130575148, s5(t): 0.9972675691765753, s6(t): -0.8179372657955113, s7(t): 0.7673630712251064, s8(t): -0.8055238885474243, s9(t): 0.8961032702815677, c1(t): -0.64578063906467, c2(t): -0.9996035832758892, c3(t): 0.5286676952693536, c4(t): -0.9959907121010183, c5(t): -0.07387418675453913, c6(t): 0.5753074214912955, c7(t): 0.6412128483740577, c8(t): -0.5925633003987311, c9(t): 0.44384561391398225}\n",
      "58424867210.7928\n",
      "no root\n",
      "{q0(t): 242226.640830048, q1(t): -383890.909472852, q2(t): 361036.276070227, q3(t): -683252.998553866, q4(t): 1129165.02463202, q5(t): 886456.063648671, q6(t): 2298824.77422129, q7(t): 991102.049974334, q8(t): 1655532.33316800, q9(t): -88623.0532520500, dq0(t): 892446.633061929, dq1(t): 1621493.23067784, dq2(t): -1433214.12903891, dq3(t): -1340831.90276652, dq4(t): 1759311.66808940, dq5(t): -623477.070196642, dq6(t): -1280715.43895191, dq7(t): 1086998.85104324, dq8(t): -438081.242160060, dq9(t): 137951.403665445, s1(t): 0.8777470884371584, s2(t): -0.9972094762486903, s3(t): -0.13821962001092075, s4(t): -0.3331486732357158, s5(t): 0.4741329193462939, s6(t): 0.35151918897018214, s7(t): 0.9443808343206215, s8(t): 0.5826565091076603, s9(t): -0.8733837729436047, c1(t): 0.47912425188054425, c2(t): -0.07465427301777681, c3(t): 0.99040160371641, c4(t): -0.9428743084426907, c5(t): -0.8804532780290847, c6(t): -0.9361806768918837, c7(t): 0.32885382735781993, c8(t): -0.8127185197806648, c9(t): 0.48703263253995005}\n",
      "565462282119.940\n",
      "no root\n",
      "no root\n",
      "no root\n",
      "no root\n",
      "no root\n",
      "no root\n",
      "no root\n",
      "no root\n",
      "no root\n",
      "no root\n",
      "{q0(t): -640.554852609751, q1(t): 172367.431767649, q2(t): 57498.3486552128, q3(t): -1425.50511264611, q4(t): 46013.8520318766, q5(t): 297505.345599040, q6(t): -237080.009626559, q7(t): -195959.728539724, q8(t): 88978.8913992054, q9(t): -65372.8819062418, dq0(t): 132749.065487562, dq1(t): -764.562911873641, dq2(t): 39188.7874560701, dq3(t): 48529.9505913139, dq4(t): -38302.2219975640, dq5(t): -185600.050724273, dq6(t): -99050.9049707602, dq7(t): 1260.31412232851, dq8(t): -106238.897548814, dq9(t): 75160.6766141384, s1(t): 0.6120237255721405, s2(t): -0.11967302622563128, s3(t): 0.24698878780706762, s4(t): 0.8006407503374724, s5(t): -0.9152215893705498, s6(t): 0.9628550419038688, s7(t): -0.6914530926745326, s8(t): 0.9381482351134252, s9(t): 0.32466706381999644, c1(t): -0.790839401735142, c2(t): 0.9928133594961338, c3(t): -0.969018337647743, c4(t): -0.5991447144881188, c5(t): -0.4029509180409506, c6(t): 0.270018829492128, c7(t): 0.7224213594785416, c8(t): 0.34623386453893484, c9(t): 0.9458283658626984}\n",
      "10491758282.9540\n",
      "no root\n",
      "no root\n",
      "no root\n",
      "no root\n",
      "no root\n",
      "no root\n",
      "no root\n",
      "no root\n",
      "no root\n",
      "no root\n",
      "no root\n",
      "no root\n",
      "no root\n",
      "no root\n",
      "no root\n",
      "no root\n",
      "no root\n",
      "no root\n",
      "no root\n",
      "no root\n",
      "no root\n",
      "no root\n",
      "no root\n",
      "no root\n",
      "no root\n",
      "no root\n",
      "no root\n",
      "no root\n",
      "no root\n",
      "no root\n",
      "no root\n",
      "no root\n",
      "no root\n",
      "no root\n",
      "{q0(t): 19583.0951325114, q1(t): -15131.5669671117, q2(t): 8591.92121481298, q3(t): 24603.0609250962, q4(t): 12454.6855976715, q5(t): 6607.35655583644, q6(t): -830.561568660144, q7(t): 19241.7555580368, q8(t): -13273.0837894619, q9(t): 58157.5535951976, dq0(t): 17740.7568746981, dq1(t): -25513.0403382613, dq2(t): 48844.9577952605, dq3(t): 16863.8388831410, dq4(t): 903.573337495128, dq5(t): 32456.4501375254, dq6(t): 21309.7656073838, dq7(t): -13149.6698410755, dq8(t): 28312.0675488465, dq9(t): -2921.59439139123, s1(t): -0.7326156278103142, s2(t): -0.9740064155240022, s3(t): -0.999844345546571, s4(t): -0.787194481521454, s5(t): 0.35708345757436555, s6(t): 0.997080046475641, s7(t): -0.8257623086080029, s8(t): 0.4683924003250823, s9(t): -0.541668243242639, c1(t): -0.6806425948235235, c2(t): 0.2265204240638902, c3(t): 0.017643261562112236, c4(t): 0.6167048307433382, c5(t): 0.9340724834437295, c6(t): 0.07636347896824497, c7(t): 0.5640182706990806, c8(t): 0.8835205483279424, c9(t): 0.8405923591506369}\n",
      "564222971.957101\n",
      "no root\n",
      "no root\n",
      "no root\n",
      "no root\n",
      "no root\n",
      "{q0(t): -644609.272882339, q1(t): 193002.955580212, q2(t): 23282.7586522203, q3(t): -231897.169440201, q4(t): 275868.609397299, q5(t): 198656.900591883, q6(t): 620058.337555393, q7(t): 645062.233655467, q8(t): -209664.420563467, q9(t): 34621.2774831317, dq0(t): 554731.311776834, dq1(t): -419620.589136926, dq2(t): 149894.135976204, dq3(t): -666902.418899288, dq4(t): 162078.399857266, dq5(t): -427809.394168489, dq6(t): 616052.901086285, dq7(t): 576962.057999845, dq8(t): -83291.3902416335, dq9(t): 510551.460210305, s1(t): 0.7673094828680191, s2(t): -0.6601905714718949, s3(t): -0.627293012952314, s4(t): -0.7389801870050854, s5(t): -0.9953779772787753, s6(t): 0.27009475834326524, s7(t): 0.5848080272694781, s8(t): -0.9109852663692273, s9(t): 0.970604604846121, c1(t): -0.6412769740921727, c2(t): 0.7510981356251745, c3(t): -0.7787833305234569, c4(t): -0.6737271578420517, c5(t): -0.09603479759136217, c6(t): 0.9628337455217766, c7(t): 0.8111717273433421, c8(t): -0.41243889784813936, c9(t): -0.24067966480678268}\n",
      "442337257506.106\n",
      "no root\n",
      "no root\n",
      "{q0(t): 65747.7865128398, q1(t): -647482.291884868, q2(t): 331816.279878886, q3(t): 252440.310713735, q4(t): 299774.456026539, q5(t): 278975.327399857, q6(t): 458289.021905745, q7(t): 12481.2687288629, q8(t): 94549.2693311013, q9(t): -284369.869222417, dq0(t): -387868.630010543, dq1(t): -263376.345636125, dq2(t): -280320.781762871, dq3(t): -199998.545336519, dq4(t): 177394.499437547, dq5(t): -64765.2041353045, dq6(t): -204740.830395530, dq7(t): -214470.151362902, dq8(t): 441148.549880648, dq9(t): -595197.263011065, s1(t): 0.5049955627296465, s2(t): -0.5237758723953698, s3(t): 0.50773766551502, s4(t): -0.7150036108077424, s5(t): -0.8791427323306021, s6(t): 0.9543183416651008, s7(t): 0.9978098845822632, s8(t): 0.7066641599120976, s9(t): -0.25268237879241134, c1(t): 0.8631219390233154, c2(t): -0.851856111967549, c3(t): 0.8615117312128475, c4(t): -0.699120759620175, c5(t): -0.4765585548390493, c6(t): 0.2987917381079537, c7(t): -0.0661470651649093, c8(t): -0.7075491255706061, c9(t): 0.9675492832139396}\n",
      "21854184729.2906\n",
      "no root\n",
      "no root\n",
      "{q0(t): -43772.5782977579, q1(t): -40797.5235453159, q2(t): 20999.0544819922, q3(t): -10811.6192501228, q4(t): 11440.5359380056, q5(t): -46522.4990529074, q6(t): 9376.82034169336, q7(t): 25894.1332000884, q8(t): -53819.6026941598, q9(t): -7593.89420261658, dq0(t): 17059.0368537301, dq1(t): -7783.51663242143, dq2(t): -54121.3654565969, dq3(t): -15724.7376631029, dq4(t): -31340.7221782425, dq5(t): 58447.7990445855, dq6(t): -86295.7841640496, dq7(t): 2517.22468135561, dq8(t): 4927.89051363254, dq9(t): -36336.5184086554, s1(t): 0.3528096569010167, s2(t): -0.9500810825209737, s3(t): -0.9983575028548118, s4(t): 0.9811960643850437, s5(t): -0.43127822611077404, s6(t): 0.9969680827628858, s7(t): -0.6885133891278866, s8(t): 0.9456692522957745, s9(t): 0.7472974689462184, c1(t): 0.9356951138043774, c2(t): 0.3120031035675363, c3(t): 0.05729133000292703, c4(t): -0.19301368665278948, c5(t): -0.9022189821117399, c6(t): 0.0778115798072221, c7(t): 0.7252236296423548, c8(t): 0.32513022815842696, c9(t): 0.6644896484570515}\n",
      "2043689073.89010\n",
      "no root\n",
      "no root\n",
      "no root\n",
      "no root\n",
      "no root\n",
      "no root\n",
      "no root\n",
      "no root\n",
      "no root\n",
      "no root\n",
      "no root\n",
      "no root\n",
      "no root\n",
      "no root\n",
      "{q0(t): -7099791.97495204, q1(t): -3154319.91511964, q2(t): 3162678.59200073, q3(t): 1376402.15225764, q4(t): -15265.0852274532, q5(t): -6926732.44789623, q6(t): -1628198.17923826, q7(t): -5169888.36084260, q8(t): -5803656.13769589, q9(t): -1331250.69088193, dq0(t): 3267251.50113337, dq1(t): 3011336.09685904, dq2(t): -1554361.35622039, dq3(t): 264454.210304077, dq4(t): -3444125.81182393, dq5(t): 2954472.02903685, dq6(t): -1152960.84364552, dq7(t): -300472.656698156, dq8(t): -3558712.06779987, dq9(t): -3149350.07389610, s1(t): 0.30401851577598193, s2(t): 0.22225933335490686, s3(t): -0.2793729163248392, s4(t): -0.9981938201410155, s5(t): 0.29892507197141027, s6(t): -0.9311073984978422, s7(t): 0.7470887695495558, s8(t): -0.2999936659607509, s9(t): 0.9009054550274285, c1(t): 0.9526661230805727, c2(t): -0.9749875838884474, c3(t): -0.9601826772152029, c4(t): 0.0600757641007246, c5(t): -0.9542765853498069, c6(t): 0.3647451335694288, c7(t): -0.6647242814979235, c8(t): -0.9539411933570273, c9(t): -0.43401539270148237}\n"
     ]
    },
    {
     "name": "stdout",
     "output_type": "stream",
     "text": [
      "53928400602070.4\n",
      "{q0(t): -26392.5297647293, q1(t): -26207.3756626001, q2(t): 564.286184748766, q3(t): 31860.8928535084, q4(t): 12483.5892414568, q5(t): -6609.82371803507, q6(t): 11653.1634251008, q7(t): 17837.3924809333, q8(t): 23660.8992435786, q9(t): 29637.0778895303, dq0(t): -5166.33410201164, dq1(t): -72008.5317140034, dq2(t): -9934.76324761634, dq3(t): 64578.6230865880, dq4(t): 70767.4135962056, dq5(t): -65564.6956058212, dq6(t): -2101.47611778829, dq7(t): -30489.0175263806, dq8(t): 31403.1243464189, dq9(t): -34285.7917185451, s1(t): -0.8268362106200808, s2(t): -0.6585357673165005, s3(t): 0.6291309374137521, s4(t): -0.9811908059762098, s5(t): 0.8255090074130444, s6(t): -0.8194585792227606, s7(t): 0.8823197426074273, s8(t): 0.18697413227729845, s9(t): -0.6570524028786592, c1(t): 0.5624427800296002, c2(t): 0.7525494290509214, c3(t): 0.7772993397584316, c4(t): -0.19304041615101164, c5(t): 0.5643889427335816, c6(t): -0.5731384099309823, c7(t): -0.4706504773238452, c8(t): -0.9823648374505021, c9(t): -0.7538449043877529}\n",
      "878648237.120414\n",
      "no root\n",
      "no root\n",
      "no root\n",
      "no root\n",
      "no root\n",
      "no root\n",
      "no root\n",
      "no root\n",
      "no root\n",
      "no root\n",
      "no root\n",
      "no root\n",
      "no root\n",
      "no root\n",
      "no root\n",
      "no root\n",
      "no root\n",
      "no root\n",
      "no root\n",
      "no root\n",
      "no root\n",
      "no root\n",
      "no root\n",
      "no root\n",
      "no root\n",
      "no root\n",
      "{q0(t): 22983.3849073179, q1(t): -31430.7993431805, q2(t): -108943.530776570, q3(t): 210899.243370372, q4(t): 53321.4947203881, q5(t): 218580.022670059, q6(t): 92648.4127972191, q7(t): -107743.954681371, q8(t): -54726.5383700030, q9(t): 48361.3700959561, dq0(t): -127594.971051804, dq1(t): 241664.496206395, dq2(t): -163042.037771129, dq3(t): 152572.930197465, dq4(t): 78297.0218650769, dq5(t): -157419.120356124, dq6(t): 44608.0526884603, dq7(t): 85723.7343366135, dq8(t): 170596.885925445, dq9(t): 66149.7323372113, s1(t): -0.4777392985388984, s2(t): -0.999658758233123, s3(t): 0.9198937108639144, s4(t): -0.49725618881772116, s5(t): 0.09123237714842149, s6(t): 0.17548840226845283, s7(t): 0.7399396860987721, s8(t): -0.9261915855254104, s9(t): -0.1732163857588857, c1(t): 0.8785016577284083, c2(t): 0.02612215702828595, c3(t): 0.3921677711299299, c4(t): -0.8676037590297052, c5(t): -0.9958296306898325, c6(t): -0.9844814983884997, c7(t): -0.6726732200229548, c8(t): -0.3770532414685311, c9(t): 0.9848837919798604}\n",
      "12016688104.3578\n",
      "no root\n",
      "no root\n",
      "no root\n",
      "no root\n",
      "no root\n",
      "no root\n",
      "{q0(t): 22193102.2554893, q1(t): 31192680.4823218, q2(t): 18485510.0781670, q3(t): -51657113.4535232, q4(t): 38983604.7943550, q5(t): 11346448.1696247, q6(t): -24728559.2894936, q7(t): 9141404.39691187, q8(t): 31765942.2297885, q9(t): -39763883.1599739, dq0(t): -38536516.3702359, dq1(t): -35056237.9430125, dq2(t): 22464255.9073925, dq3(t): -20706393.1405490, dq4(t): -5156476.56685832, dq5(t): 57202493.1754981, dq6(t): 55627989.4187402, dq7(t): 26646431.4057618, dq8(t): 90277416.0042782, dq9(t): 403139.675130010, s1(t): -0.9652019068204835, s2(t): 0.5218170903706069, s3(t): 0.8511381729956639, s4(t): -0.9107626121191206, s5(t): -0.5316710527470975, s6(t): 0.38750189329070406, s7(t): 0.883548350807766, s8(t): -0.42419703381159535, s9(t): -0.7987105013655268, c1(t): 0.26150579165690147, c2(t): 0.8530573979499585, c3(t): -0.524941721022061, c4(t): 0.4129303383937252, c5(t): 0.8469509381722138, c6(t): -0.9218689075438654, c7(t): 0.46833995322295224, c8(t): -0.9055699180656589, c9(t): 0.6017154934089937}\n",
      "1.30903662764732e+15\n",
      "no root\n",
      "{q0(t): 24385.6074535895, q1(t): 33059.0873014704, q2(t): 59946.0113828525, q3(t): -186405.468806824, q4(t): -7124.15130258887, q5(t): 73058.2387369926, q6(t): -20016.6713230359, q7(t): -28219.2933155434, q8(t): 59924.7460480068, q9(t): -89959.6077288677, dq0(t): 51675.9527540886, dq1(t): -8704.46231982191, dq2(t): 52954.8662194984, dq3(t): 112019.376514493, dq4(t): -17513.3139838031, dq5(t): 38440.1487981676, dq6(t): 22304.4785911073, dq7(t): -28023.6269577390, dq8(t): -44195.9509097969, dq9(t): 56304.1101919119, s1(t): -0.2996420152581203, s2(t): 0.3243053891414895, s3(t): -0.9499282806868917, s4(t): 0.46907338766331735, s5(t): -0.9502757802397375, s6(t): -0.9428351332233843, s7(t): 0.433402116395983, s8(t): 0.83878773544237, s9(t): 0.2654427386470972, c1(t): 0.9540517086049647, c2(t): -0.9459524377968413, c3(t): -0.312468016845318, c4(t): -0.8831591911915196, c5(t): 0.3114096040422618, c6(t): 0.3332595258348111, c7(t): -0.9012006466395166, c8(t): -0.5444585703903106, c9(t): 0.9641266267972941}\n",
      "1577736773.78462\n",
      "no root\n",
      "no root\n",
      "no root\n",
      "no root\n",
      "no root\n",
      "no root\n",
      "no root\n",
      "no root\n",
      "no root\n",
      "no root\n",
      "no root\n",
      "no root\n",
      "no root\n",
      "no root\n",
      "no root\n",
      "no root\n",
      "no root\n",
      "no root\n",
      "no root\n",
      "no root\n",
      "no root\n",
      "no root\n",
      "no root\n",
      "no root\n",
      "no root\n",
      "no root\n",
      "no root\n",
      "no root\n",
      "no root\n",
      "no root\n",
      "no root\n",
      "no root\n",
      "{q0(t): 159752.712222929, q1(t): -183781.478133851, q2(t): 756249.519974673, q3(t): 20597.1653943043, q4(t): 291704.669480545, q5(t): 124860.347397452, q6(t): -347053.248888547, q7(t): 647898.143570176, q8(t): 209219.750307255, q9(t): -364133.214376775, dq0(t): 339076.958419494, dq1(t): -279184.799679075, dq2(t): -89249.3624033055, dq3(t): 117713.742835881, dq4(t): -261321.848734231, dq5(t): 199304.410857549, dq6(t): -570761.063386777, dq7(t): 183014.692863375, dq8(t): -688094.143756491, dq9(t): -24204.8154586220, s1(t): -0.008537354554466962, s2(t): -0.49493045286886683, s3(t): 0.045985545685960826, s4(t): -0.9448729860966347, s5(t): 0.8159887910724791, s6(t): 0.848172360835509, s7(t): 0.4545478851206195, s8(t): -0.9773225443059897, s9(t): -0.00018970689552677027, c1(t): 0.9999635561245276, c2(t): -0.868932590494233, c3(t): -0.998942105223303, c4(t): -0.3274370781460596, c5(t): 0.5780677234062407, c6(t): 0.5297203472727087, c7(t): 0.8907223024783718, c8(t): -0.21175609646776794, c9(t): -0.9999999820056468}\n",
      "176176979412.157\n",
      "no root\n",
      "no root\n",
      "no root\n",
      "no root\n",
      "no root\n",
      "no root\n",
      "no root\n",
      "no root\n",
      "no root\n",
      "no root\n",
      "no root\n",
      "no root\n",
      "no root\n",
      "no root\n",
      "{q0(t): -306089.850983449, q1(t): -549135.007911496, q2(t): 122246.549719498, q3(t): -795313.834724614, q4(t): 242319.419937251, q5(t): 125161.464860850, q6(t): -169648.404416894, q7(t): -356940.113609755, q8(t): -11903.3923465118, q9(t): -117765.422313340, dq0(t): 951148.841047833, dq1(t): 731930.338470299, dq2(t): 318496.528134877, dq3(t): -187569.024374689, dq4(t): -265444.218652725, dq5(t): 187881.908069127, dq6(t): 731303.692222020, dq7(t): -417494.457819898, dq8(t): -287366.774331906, dq9(t): 98650.9597552937, s1(t): -0.2955075826809147, s2(t): -0.9701431506801372, s3(t): 0.055307535479651816, s4(t): 0.9863706371039808, s5(t): 0.6853352731643414, s6(t): 0.46046800137792854, s7(t): -0.9345044017047128, s8(t): -0.026527495486145858, s9(t): 0.10329963876589703, c1(t): -0.9553403940889772, c2(t): -0.24253302288228007, c3(t): -0.9984693668406492, c4(t): -0.16453864670370646, c5(t): -0.7282276864805112, c6(t): 0.8876763034502025, c7(t): 0.35595157422677126, c8(t): 0.9996480840692051, c9(t): -0.9946502825771655}\n",
      "259267533418.643\n",
      "no root\n",
      "no root\n",
      "no root\n",
      "no root\n",
      "no root\n",
      "no root\n",
      "no root\n",
      "no root\n",
      "no root\n",
      "no root\n",
      "{q0(t): -589312.536015302, q1(t): -1185363.74331445, q2(t): 307172.452522711, q3(t): 122683.430262738, q4(t): -800244.782877873, q5(t): -197255.713744757, q6(t): -58611.9039056079, q7(t): -1427905.38246439, q8(t): 920758.871950949, q9(t): 158723.421061412, dq0(t): 162829.996426867, dq1(t): -165169.157427060, dq2(t): 494267.297407735, dq3(t): 560306.343767506, dq4(t): -372468.247967614, dq5(t): 529714.304384160, dq6(t): -514299.856208381, dq7(t): 558352.476856552, dq8(t): 561587.449719472, dq9(t): -560836.466014607, s1(t): -0.46348651978517896, s2(t): -0.7848355703649805, s3(t): -0.5627149013134305, s4(t): 0.21868334386385052, s5(t): -0.7087573977939348, s6(t): -0.902063587795537, s7(t): 0.022055392899573544, s8(t): -0.9936584315198159, s9(t): 0.8413883999999682, c1(t): 0.8861039701848892, c2(t): 0.6197040644451799, c3(t): 0.8266510387338881, c4(t): -0.9757958777923408, c5(t): -0.7054523024786085, c6(t): 0.4316031551940319, c7(t): -0.9997567502367991, c8(t): 0.11244074648266657, c9(t): -0.5404309024708834}\n",
      "425824994938.183\n",
      "no root\n",
      "no root\n",
      "no root\n",
      "no root\n",
      "no root\n",
      "no root\n",
      "no root\n",
      "no root\n",
      "no root\n",
      "no root\n",
      "no root\n",
      "no root\n",
      "no root\n",
      "no root\n",
      "no root\n",
      "no root\n",
      "no root\n",
      "no root\n",
      "no root\n",
      "no root\n",
      "no root\n",
      "no root\n",
      "no root\n",
      "no root\n",
      "no root\n",
      "no root\n"
     ]
    },
    {
     "name": "stdout",
     "output_type": "stream",
     "text": [
      "no root\n",
      "no root\n",
      "no root\n",
      "no root\n",
      "no root\n",
      "no root\n",
      "no root\n",
      "no root\n",
      "no root\n",
      "no root\n",
      "no root\n",
      "no root\n",
      "no root\n",
      "no root\n",
      "no root\n",
      "no root\n",
      "no root\n",
      "no root\n",
      "no root\n",
      "{q0(t): -15205337.0930588, q1(t): -3167672.66015892, q2(t): 5566743.80719900, q3(t): -1968091.01491423, q4(t): 7290448.15810191, q5(t): -6800018.94648511, q6(t): -515178.271326435, q7(t): 5619458.98932392, q8(t): 3970756.79278974, q9(t): 3086802.95856935, dq0(t): -5475090.98733277, dq1(t): 3692103.46081589, dq2(t): 48208.1792307413, dq3(t): 3525606.97327197, dq4(t): 3579148.63360274, dq5(t): 1350548.89661146, dq6(t): -4023835.19464817, dq7(t): 666608.082510879, dq8(t): 5036516.48953542, dq9(t): -5440280.79735074, s1(t): -0.5819281732856875, s2(t): 0.9980867831180934, s3(t): 0.5366574417692169, s4(t): 0.10809306195757153, s5(t): 0.8193716928303768, s6(t): -0.879090408437482, s7(t): 0.6475381924236226, s8(t): -0.5015447486598308, s9(t): 0.695976485359536, c1(t): 0.8132401866216296, c2(t): 0.061828580486503325, c3(t): -0.8438002075098818, c4(t): -0.9941407797473337, c5(t): -0.5732626178186422, c6(t): -0.4766550679403514, c7(t): 0.762032997548497, c8(t): 0.8651317038993238, c9(t): -0.718064573577187}\n",
      "364146841263081.\n",
      "no root\n",
      "no root\n",
      "no root\n",
      "no root\n",
      "no root\n",
      "no root\n",
      "no root\n",
      "no root\n",
      "no root\n",
      "no root\n",
      "no root\n",
      "no root\n",
      "no root\n",
      "no root\n",
      "no root\n",
      "no root\n",
      "{q0(t): -109412.050878494, q1(t): -1149181.26495618, q2(t): -209436.611308695, q3(t): -377293.398041267, q4(t): -67141.2110263953, q5(t): 96457.2470660630, q6(t): 45950.9592726262, q7(t): -284954.778043300, q8(t): 821250.282863540, q9(t): -461998.139870435, dq0(t): -444037.736916835, dq1(t): -507497.228362378, dq2(t): -405442.650668041, dq3(t): 752549.450160483, dq4(t): 416497.433018042, dq5(t): 1360962.21144705, dq6(t): -145210.125128039, dq7(t): -522230.539814712, dq8(t): 787816.732081610, dq9(t): -238375.897675013, s1(t): -0.7524618562628314, s2(t): -0.3317738440592554, s3(t): -0.9989206204537472, s4(t): -0.8465888723612609, s5(t): 0.10896138257269347, s6(t): 0.5787206650986294, s7(t): -0.689894484032796, s8(t): -0.9573416376062798, s9(t): -0.5257547960014849, c1(t): -0.6586358287168215, c2(t): 0.9433589541622769, c3(t): -0.046449908851371215, c4(t): -0.5322473872120825, c5(t): -0.9940459833970696, c6(t): 0.8155258375967006, c7(t): -0.7239099397722912, c8(t): -0.2889584553276239, c9(t): 0.8506361704521135}\n",
      "202774829472.106\n",
      "no root\n",
      "no root\n",
      "no root\n",
      "no root\n",
      "no root\n",
      "no root\n",
      "no root\n",
      "no root\n",
      "no root\n",
      "no root\n",
      "no root\n",
      "no root\n",
      "no root\n",
      "no root\n",
      "no root\n",
      "no root\n",
      "no root\n",
      "no root\n",
      "{q0(t): -317836.377715106, q1(t): -66637.7157795180, q2(t): 1382051.00182576, q3(t): -463945.854900296, q4(t): 50778.4888902320, q5(t): 398279.317407826, q6(t): 583561.745231169, q7(t): -2030313.61874857, q8(t): -658452.426822862, q9(t): -188120.250660209, dq0(t): -1444420.29483647, dq1(t): -278511.898411121, dq2(t): 303904.101268917, dq3(t): -267408.356513210, dq4(t): -609726.055865381, dq5(t): 393320.821945951, dq6(t): 431044.400118502, dq7(t): 1764200.78263177, dq8(t): -712063.498043145, dq9(t): -717452.027592396, s1(t): 0.590527710877421, s2(t): 0.46893005877683036, s3(t): 0.5499695682490074, s4(t): -0.3030219899182185, s5(t): -0.843433899778307, s6(t): -0.43451756630637983, s7(t): 0.5758084190093312, s8(t): 0.25603601757557715, s9(t): -0.27352524341867956, c1(t): -0.8070173620721386, c2(t): -0.8832353027226427, c3(t): -0.8351846945436682, c4(t): -0.9529835641951035, c5(t): 0.5372329631591464, c6(t): 0.9006633580706949, c7(t): 0.8175846528635273, c8(t): -0.9666672424904232, c9(t): 0.9618648248131086}\n",
      "1269359295010.93\n",
      "no root\n",
      "no root\n",
      "no root\n",
      "no root\n",
      "no root\n",
      "no root\n",
      "no root\n",
      "no root\n",
      "no root\n",
      "no root\n",
      "no root\n",
      "no root\n",
      "no root\n",
      "no root\n",
      "no root\n",
      "no root\n",
      "no root\n",
      "no root\n",
      "no root\n",
      "no root\n",
      "no root\n",
      "no root\n",
      "no root\n",
      "no root\n",
      "no root\n",
      "no root\n",
      "no root\n",
      "no root\n",
      "{q0(t): 1228826.44531341, q1(t): 281458.525005307, q2(t): 209855.030754487, q3(t): -649140.104414194, q4(t): 130264.020522127, q5(t): 1460379.67701288, q6(t): 886148.248817050, q7(t): -789021.671237514, q8(t): 581386.597876782, q9(t): -815806.507368081, dq0(t): 593698.613318238, dq1(t): -685710.309567665, dq2(t): 1336553.94217558, dq3(t): -1079684.85525780, dq4(t): -779557.099263079, dq5(t): -511052.693403622, dq6(t): -1772167.62555087, dq7(t): -1160610.41475787, dq8(t): -370618.123837087, dq9(t): -1239740.22368966, s1(t): 0.9033037116965422, s2(t): -0.7886997633113131, s3(t): 0.964316701931752, s4(t): 0.6705881266262699, s5(t): 0.7195185698355102, s6(t): 0.9545952302000978, s7(t): -0.9008434419619789, s8(t): 0.37786138916237, s9(t): 0.34236326945503515, c1(t): -0.42900163686779813, c2(t): -0.6147785644869855, c3(t): 0.26475138975172263, c4(t): -0.7418298756641375, c5(t): 0.6944732015433439, c6(t): 0.29790593562267637, c7(t): 0.43414409252469954, c8(t): -0.9258621768817884, c9(t): 0.9395676621340578}\n",
      "3484744183955.25\n",
      "no root\n",
      "no root\n",
      "no root\n",
      "no root\n",
      "no root\n",
      "no root\n",
      "no root\n",
      "no root\n",
      "no root\n",
      "no root\n",
      "{q0(t): -117443.885970807, q1(t): 225416.140647584, q2(t): -117053.288807140, q3(t): 53270.2658982416, q4(t): 32820.1662345294, q5(t): 122422.176955680, q6(t): -35117.3275364526, q7(t): -155777.864613675, q8(t): 187470.587989875, q9(t): 96569.0168188794, dq0(t): -97554.0965620009, dq1(t): 32155.6709961612, dq2(t): -21331.7867915300, dq3(t): 20966.7849417869, dq4(t): 4588.42016068807, dq5(t): 48208.8048266267, dq6(t): -33196.9988438698, dq7(t): -222338.860839648, dq8(t): 5749.43993288605, dq9(t): 15081.4315920497, s1(t): -0.9574689827244806, s2(t): -0.718330498705262, s3(t): -0.9998101630832044, s4(t): -0.29893220084545546, s5(t): 0.998861671868347, s6(t): 0.922629134864599, s7(t): -0.6748976451686013, s8(t): 0.40923403900138644, s9(t): -0.9140822080082152, c1(t): 0.2885362145737487, c2(t): -0.6957020156862057, c3(t): 0.019484296126274548, c4(t): 0.9542743522162231, c5(t): -0.047700738698376634, c6(t): -0.38568831911143187, c7(t): 0.7379113554796923, c8(t): 0.9124294500522283, c9(t): -0.4055289348527748}\n",
      "25452568207.1390\n",
      "no root\n",
      "no root\n",
      "no root\n",
      "no root\n",
      "no root\n",
      "no root\n",
      "no root\n",
      "no root\n",
      "no root\n",
      "no root\n",
      "no root\n",
      "no root\n",
      "no root\n",
      "no root\n",
      "no root\n",
      "no root\n",
      "no root\n",
      "{q0(t): -7949.03784365088, q1(t): -10513.1769273898, q2(t): -114005.809448251, q3(t): -27454.1413499872, q4(t): 12373.7522655967, q5(t): -92025.5118461008, q6(t): -13567.8237769965, q7(t): -11313.8142830653, q8(t): -40428.3065245538, q9(t): 7713.35197559872, dq0(t): 9938.96009821615, dq1(t): 28195.4539391119, dq2(t): 43631.2809847260, dq3(t): 27870.6753832375, dq4(t): -93072.9877265301, dq5(t): 472.812701945223, dq6(t): -27865.3692350911, dq7(t): -33490.9656088541, dq8(t): -16413.1298285873, dq9(t): 11055.2412213371, s1(t): 0.8378930517694952, s2(t): 0.9766963589821609, s3(t): -0.8993332075547568, s4(t): 0.7232783487276662, s5(t): 0.3691596416881848, s6(t): 0.532280216712006, s7(t): 0.2856557232545313, s8(t): 0.5797908718491704, s9(t): -0.7427191917752587, c1(t): 0.5458344380821001, c2(t): -0.2146257728023125, c3(t): 0.4372639726632791, c4(t): 0.6905566090204196, c5(t): 0.9293659983820427, c6(t): 0.846568231684263, c7(t): -0.9583323055036446, c8(t): -0.8147653311968905, c9(t): 0.6696030183390055}\n",
      "116374611.473098\n",
      "no root\n",
      "no root\n",
      "no root\n",
      "no root\n",
      "no root\n",
      "no root\n",
      "no root\n",
      "no root\n",
      "no root\n",
      "no root\n",
      "no root\n",
      "no root\n",
      "no root\n",
      "no root\n",
      "no root\n",
      "no root\n",
      "no root\n",
      "no root\n",
      "no root\n",
      "no root\n",
      "no root\n",
      "no root\n",
      "no root\n",
      "no root\n",
      "no root\n",
      "no root\n",
      "no root\n",
      "no root\n",
      "no root\n",
      "no root\n",
      "no root\n",
      "no root\n",
      "no root\n",
      "no root\n",
      "no root\n",
      "no root\n",
      "no root\n",
      "no root\n",
      "no root\n",
      "no root\n",
      "no root\n",
      "no root\n",
      "{q0(t): -115138.255682296, q1(t): 122563.253968115, q2(t): -93656.2022376891, q3(t): -276313.044259517, q4(t): -161921.567830176, q5(t): -105674.020954542, q6(t): -122660.828839303, q7(t): -48460.3597258700, q8(t): 297829.476404023, q9(t): -49226.2446901801, dq0(t): 196319.815396423, dq1(t): 26182.0807793734, dq2(t): -17480.4776794177, dq3(t): -185501.467769850, dq4(t): 84529.5301246870, dq5(t): -268010.144252403, dq6(t): 43068.2673651626, dq7(t): 19751.3455605691, dq8(t): -261694.690162424, dq9(t): -162089.819557910, s1(t): -0.9897314921795123, s2(t): -0.24991919740719906, s3(t): -0.9478973225724289, s4(t): 0.9919919551078951, s5(t): 0.16886948895289203, s6(t): -0.14559846112337022, s7(t): -0.8502236023585864, s8(t): -0.6296860850967838, s9(t): -0.9640087838904574, c1(t): 0.1429390548034928, c2(t): -0.9682666960953172, c3(t): -0.3185759969929006, c4(t): 0.12630107284269537, c5(t): -0.9856384203655969, c6(t): -0.9893437664020057, c7(t): 0.526421718769646, c8(t): 0.7768496857407396, c9(t): 0.26587039057037065}\n"
     ]
    },
    {
     "name": "stdout",
     "output_type": "stream",
     "text": [
      "29321504023.6143\n",
      "no root\n",
      "{q0(t): -1079966.01863083, q1(t): -1672576.65278456, q2(t): -1553767.18957849, q3(t): 100564.002210054, q4(t): 1239320.58760592, q5(t): 815113.421891717, q6(t): 1511565.47157345, q7(t): 1183043.95572256, q8(t): -349712.296645951, q9(t): 989757.500573788, dq0(t): 1984225.13384559, dq1(t): -1409752.64127983, dq2(t): -3156349.95329237, dq3(t): 1565283.24170912, dq4(t): 1953868.92244587, dq5(t): 772292.721992654, dq6(t): 309417.167367326, dq7(t): -889264.986472969, dq8(t): -796562.198581368, dq9(t): -2860734.46852540, s1(t): -0.5680053373005015, s2(t): -0.6993931475565435, s3(t): 0.9054635615656069, s4(t): -0.9903620226962584, s5(t): -0.823262748320999, s6(t): -0.9953390366889542, s7(t): 0.9814724490314658, s8(t): 0.6270564488064773, s9(t): -0.9742905821812154, c1(t): -0.8230248700969756, c2(t): 0.7147371720786256, c3(t): 0.42442400812975495, c4(t): -0.13850293860050691, c5(t): 0.5676605034939066, c6(t): 0.09643755514893909, c7(t): 0.19160331884436863, c8(t): -0.7789738185653031, c9(t): -0.22529505425771856}\n",
      "2422122112884.24\n",
      "no root\n",
      "no root\n",
      "no root\n",
      "no root\n",
      "no root\n",
      "no root\n",
      "no root\n",
      "no root\n",
      "no root\n",
      "no root\n",
      "no root\n",
      "no root\n",
      "no root\n",
      "no root\n",
      "no root\n",
      "no root\n",
      "no root\n",
      "no root\n",
      "{q0(t): 6344702.61147592, q1(t): -3416806.39155982, q2(t): 2709467.40339393, q3(t): -6149344.48037783, q4(t): 1477503.56166042, q5(t): -7712381.56078442, q6(t): 4213909.49526199, q7(t): -137085.492701562, q8(t): 7623589.52758819, q9(t): 2694186.94429186, dq0(t): 1633656.77902358, dq1(t): -217368.243770163, dq2(t): -104402.333724903, dq3(t): -1493414.94238610, dq4(t): -4884548.11241133, dq5(t): -4452618.30762913, dq6(t): -6234001.45730914, dq7(t): -1018459.63439108, dq8(t): 1920021.28554070, dq9(t): -5330382.98497021, s1(t): -0.96316329654461, s2(t): 0.22556783380782097, s3(t): -0.646889978745117, s4(t): -0.2752750335801163, s5(t): -0.6767313130534273, s6(t): -0.929183677600797, s7(t): 0.8993020504976961, s8(t): -0.6095310998112763, s9(t): 0.07320086502841507, c1(t): -0.26891720694169013, c2(t): 0.9742274643794678, c3(t): 0.7625833432478984, c4(t): -0.9613655162774801, c5(t): -0.7362300794812613, c6(t): 0.3696183075555891, c7(t): -0.43732804846092277, c8(t): -0.7927621574992438, c9(t): 0.9973172180199696}\n",
      "72213678914459.3\n",
      "no root\n",
      "no root\n",
      "no root\n",
      "no root\n",
      "no root\n",
      "no root\n",
      "no root\n",
      "{q0(t): 2095394.88211212, q1(t): -1726020.87330221, q2(t): 2743166.81484772, q3(t): 1262440.16807687, q4(t): 324085.914657339, q5(t): 2394757.98282157, q6(t): 61962.1727696341, q7(t): -2152743.86915126, q8(t): -974432.538595564, q9(t): 2012082.18762961, dq0(t): -3452563.25280686, dq1(t): -598818.549223852, dq2(t): -536558.093403137, dq3(t): 1288616.69451296, dq4(t): -721156.595128277, dq5(t): 974849.052944929, dq6(t): 708537.765751894, dq7(t): -285020.522967948, dq8(t): -1313573.64057159, dq9(t): 492574.369329530, s1(t): -0.48784912178243334, s2(t): 0.9661377094749871, s3(t): -0.3075343777128631, s4(t): -0.16354304707810194, s5(t): -0.1886529344566647, s6(t): -0.20270544100437823, s7(t): -0.39976576288275234, s8(t): 0.4752102114328974, s9(t): -0.9495477127787344, c1(t): -0.8729279663157256, c2(t): -0.258026987600959, c3(t): -0.9515369706557713, c4(t): 0.986536198906259, c5(t): 0.982043823014477, c6(t): -0.9792397582753779, c7(t): 0.9166173328203929, c8(t): -0.87987229468253, c9(t): 0.31362260944752385}\n",
      "6200811243275.77\n",
      "no root\n",
      "no root\n",
      "no root\n",
      "no root\n",
      "{q0(t): -5148493.09448079, q1(t): -8486783.26979908, q2(t): -3823605.59434450, q3(t): 13080075.9219124, q4(t): 1671084.90317956, q5(t): 7437894.41738111, q6(t): -25547548.6480637, q7(t): 22325538.1054462, q8(t): 9484918.87191513, q9(t): 16684134.6889404, dq0(t): 19435003.6286855, dq1(t): 4038806.65001665, dq2(t): 12885297.0507532, dq3(t): -17544601.1235454, dq4(t): -9316682.19098628, dq5(t): -2041420.68706294, dq6(t): -6982969.50764247, dq7(t): -12652503.7616376, dq8(t): -15659603.0866726, dq9(t): -473368.113481333, s1(t): -0.6686178594742928, s2(t): -0.999502093335278, s3(t): 0.9029849986266194, s4(t): 0.6404035306568943, s5(t): 0.2675972625495973, s6(t): 0.5672541183357838, s7(t): -0.4747791259238442, s8(t): -0.0165231057411456, s9(t): -0.8734971797482363, c1(t): 0.7436061847456723, c2(t): 0.03155258180240114, c3(t): -0.429672075256566, c4(t): -0.7680386174680178, c5(t): 0.9635308532039656, c6(t): -0.8235428132350452, c7(t): 0.8801049832758536, c8(t): -0.9998634841700476, c9(t): -0.4868292071885967}\n",
      "206429326544657.\n",
      "no root\n",
      "no root\n",
      "no root\n",
      "no root\n",
      "no root\n",
      "no root\n",
      "no root\n",
      "no root\n",
      "no root\n",
      "no root\n",
      "no root\n",
      "no root\n",
      "no root\n",
      "no root\n",
      "no root\n",
      "no root\n",
      "no root\n",
      "no root\n",
      "no root\n",
      "no root\n",
      "no root\n",
      "no root\n",
      "no root\n",
      "no root\n",
      "no root\n",
      "{q0(t): -145699.110585400, q1(t): -902113.083157694, q2(t): -308071.652407644, q3(t): 1082190.04068198, q4(t): -48306.5327092641, q5(t): 434719.007528980, q6(t): 189650.615552070, q7(t): -91288.8912116383, q8(t): -335316.576554323, q9(t): -150506.144934879, dq0(t): 831080.771383345, dq1(t): -102756.890534833, dq2(t): -533151.748078375, dq3(t): 769681.971209764, dq4(t): 384005.194276923, dq5(t): 613464.050377782, dq6(t): -711889.784607474, dq7(t): -782980.394782926, dq8(t): 131639.145344764, dq9(t): 94933.4452249371, s1(t): 0.6512673332369866, s2(t): -0.36328640626672554, s3(t): 0.9671463871277755, s4(t): -0.35218050304841636, s5(t): 0.36286295057386375, s6(t): 0.021810503373442397, s7(t): -0.9903862970846492, s8(t): 0.9604016875919581, s9(t): 0.7991048156402784, c1(t): 0.7588483779111502, c2(t): 0.9316775123516762, c3(t): 0.2542201130235196, c4(t): 0.9359320986442149, c5(t): -0.9318425184014892, c6(t): 0.9997621226784885, c7(t): -0.13832925412564426, c8(t): -0.278619092078269, c9(t): -0.6011917278377313}\n",
      "243154448867.193\n",
      "no root\n",
      "no root\n",
      "no root\n",
      "no root\n",
      "no root\n",
      "no root\n",
      "no root\n",
      "no root\n",
      "no root\n",
      "no root\n",
      "no root\n",
      "no root\n",
      "no root\n",
      "no root\n",
      "no root\n",
      "no root\n",
      "no root\n",
      "no root\n",
      "no root\n",
      "no root\n",
      "no root\n",
      "no root\n",
      "no root\n",
      "no root\n",
      "no root\n",
      "no root\n",
      "no root\n",
      "no root\n",
      "no root\n",
      "{q0(t): -3044.68688935880, q1(t): -6153.22253537322, q2(t): -1683.41526123547, q3(t): 1233.68156265665, q4(t): 1090.94829157261, q5(t): 15164.0833699759, q6(t): 6943.60604640630, q7(t): 4372.98363454427, q8(t): -1524.71901114291, q9(t): 2484.45979248951, dq0(t): 2682.16384687825, dq1(t): -19806.5692000374, dq2(t): -3377.20294682720, dq3(t): -901.869563719882, dq4(t): -251.312827806314, dq5(t): -1799.59920472827, dq6(t): 4453.77262935565, dq7(t): -11547.0750141470, dq8(t): -10501.6992412919, dq9(t): -8294.82120916102, s1(t): -0.9497321786925426, s2(t): -0.05487147730270181, s3(t): -0.023142050996755027, s4(t): -0.11155679978966436, s5(t): 0.5084678156582926, s6(t): 0.5881470249698642, s7(t): 0.8467629473963185, s8(t): 0.9268818790324315, s9(t): -0.9363803896647669, c1(t): 0.31306355386073975, c2(t): 0.9984934256061073, c3(t): 0.999732186875897, c4(t): 0.9937580592984837, c5(t): -0.8610809952842327, c6(t): 0.8087540275133707, c7(t): -0.5319704041736717, c8(t): 0.37535314348132093, c9(t): -0.35098684569547534}\n",
      "25992973.6945703\n",
      "no root\n",
      "no root\n",
      "no root\n",
      "no root\n",
      "no root\n",
      "no root\n",
      "no root\n",
      "no root\n",
      "no root\n",
      "no root\n",
      "no root\n",
      "no root\n",
      "no root\n",
      "no root\n",
      "no root\n",
      "no root\n",
      "no root\n",
      "no root\n",
      "no root\n",
      "no root\n",
      "{q0(t): 4159.66860354498, q1(t): 28936.7964163921, q2(t): 16712.6810318255, q3(t): -57662.4408989312, q4(t): -33220.8363187346, q5(t): -4358.65078176288, q6(t): -9809.12065094422, q7(t): 36900.0470616634, q8(t): -17274.1347592770, q9(t): -15944.7738558629, dq0(t): -24166.8627773952, dq1(t): -28007.0186075385, dq2(t): 19796.9578811208, dq3(t): -42658.9960730509, dq4(t): -4929.97277309582, dq5(t): 82034.6618772937, dq6(t): -9006.50312704260, dq7(t): -20310.3942502662, dq8(t): 39523.2532724976, dq9(t): 35214.3271304619, s1(t): 0.8748700528727792, s2(t): 0.9846207525984788, s3(t): -0.9950914400861708, s4(t): -0.5311463364620906, s5(t): 0.5616301166740123, s6(t): -0.6985249873061398, s7(t): 0.06537954994246839, s8(t): -0.8906163569467297, s9(t): -0.6422785409668571, c1(t): -0.4843577093289428, c2(t): 0.1747053907365346, c3(t): 0.09895971840719262, c4(t): 0.8472801008302387, c5(t): -0.8273884287592711, c6(t): 0.7155856637111712, c7(t): -0.9978604684269842, c8(t): 0.4547554339850547, c9(t): -0.7664713144100601}\n",
      "361441916.756414\n",
      "no root\n",
      "no root\n",
      "no root\n",
      "no root\n",
      "{q0(t): -153646.298216066, q1(t): -212982.700804254, q2(t): 63862.6424043317, q3(t): -170904.049661775, q4(t): 45948.4505086735, q5(t): 36569.9601437918, q6(t): 35005.0035014006, q7(t): -143767.117728067, q8(t): 209192.367394171, q9(t): 174076.294176451, dq0(t): -2569.30422931574, dq1(t): 118737.617900532, dq2(t): -184671.030108902, dq3(t): 34409.2057673057, dq4(t): -33420.6148050562, dq5(t): 166810.828405992, dq6(t): 259529.322085784, dq7(t): 33555.1361190377, dq8(t): -31555.4238004393, dq9(t): 92985.9843492730, s1(t): -0.8595142063199893, s2(t): -0.963065234552482, s3(t): 0.24748244160783797, s4(t): 0.6480276409934627, s5(t): 0.5404731396599273, s6(t): -0.2538080762994239, s7(t): 0.14938237441563287, s8(t): 0.999463238554087, s9(t): -0.9496683562890416, c1(t): 0.5111118557949118, c2(t): -0.2692681822948503, c3(t): -0.9688923784899038, c4(t): 0.7616168173750155, c5(t): 0.8413612691978047, c6(t): 0.9672545995782009, c7(t): 0.9887795033342609, c8(t): 0.032760262193336234, c9(t): -0.3132571037714388}\n"
     ]
    },
    {
     "name": "stdout",
     "output_type": "stream",
     "text": [
      "35684333638.8470\n",
      "no root\n",
      "no root\n",
      "no root\n",
      "no root\n",
      "no root\n",
      "no root\n",
      "no root\n",
      "no root\n",
      "{q0(t): -19484.9319118029, q1(t): -121213.960447785, q2(t): -512800.665238211, q3(t): -110385.011768482, q4(t): -414394.171903418, q5(t): -108478.700009467, q6(t): 97153.5074799402, q7(t): 257012.580104513, q8(t): 23353.2573580194, q9(t): 324942.032027816, dq0(t): 39998.3032438032, dq1(t): 138143.424636426, dq2(t): 166402.071950941, dq3(t): 185134.614922298, dq4(t): 239980.119507768, dq5(t): 389893.134690828, dq6(t): -325699.492001696, dq7(t): 465042.709961971, dq8(t): 367946.848090931, dq9(t): 707991.335777730, s1(t): 0.932898427427689, s2(t): -0.9998551558605171, s3(t): 0.9249632524549907, s4(t): 0.4583859274736238, s5(t): 0.9831366889613707, s6(t): 0.13722589041906635, s7(t): -0.06121488064649843, s8(t): -0.47230274299739516, s9(t): -0.09792346552807393, c1(t): 0.36013958974673266, c2(t): -0.0170196151290522, c3(t): -0.38005655053937076, c4(t): 0.888753251186259, c5(t): -0.18287222538721662, c6(t): 0.9905397796144758, c7(t): 0.9981246106511125, c8(t): -0.8814363952986832, c9(t): -0.9951939483834155}\n",
      "23128933935.9536\n",
      "no root\n",
      "no root\n",
      "no root\n",
      "no root\n",
      "{q0(t): -103397.097482086, q1(t): 35423.7615001798, q2(t): -129693.278617017, q3(t): -84270.8936477447, q4(t): -49785.4902595058, q5(t): 57229.6737305625, q6(t): 7794.12223237957, q7(t): -26831.7652475498, q8(t): 25625.6283954352, q9(t): -22473.6042381083, dq0(t): 70158.9468278272, dq1(t): -6777.30092939058, dq2(t): 52863.9360560790, dq3(t): 6001.68041605063, dq4(t): 8508.04735788182, dq5(t): 44339.4260408826, dq6(t): -47860.8827510985, dq7(t): -40560.8923149699, dq8(t): 142551.058544942, dq9(t): -15780.5420824592, s1(t): -0.6048543192390492, s2(t): -0.5176563469950213, s3(t): 0.8858062474943824, s4(t): -0.8962734945743597, s5(t): 0.49876180746122456, s6(t): 0.10943760787229813, s7(t): -0.1655608286610774, s8(t): -0.3120869634525686, s9(t): 0.6457663268199931, c1(t): -0.7963361429056617, c2(t): -0.8555886315372419, c3(t): -0.46405526815231923, c4(t): -0.44350177330363094, c5(t): -0.8667390953556972, c6(t): -0.9939936669733812, c7(t): 0.9861995802133853, c8(t): 0.9500535391455343, c9(t): -0.7635351014494447}\n",
      "11501251383.9606\n",
      "no root\n",
      "no root\n",
      "no root\n",
      "no root\n",
      "no root\n",
      "no root\n",
      "no root\n",
      "no root\n",
      "no root\n",
      "{q0(t): 35518.6979053267, q1(t): 1817.47263462494, q2(t): -49869.4998825442, q3(t): 29735.5803626437, q4(t): -101512.231755516, q5(t): 27823.9769253443, q6(t): 75998.3917804244, q7(t): -27138.7081376691, q8(t): 75973.1359759403, q9(t): -16650.3525061165, dq0(t): 65617.1120481294, dq1(t): 9783.98364846174, dq2(t): -127844.190479144, dq3(t): 100687.131147883, dq4(t): 21752.4568397413, dq5(t): 32657.1831486706, dq6(t): -28766.0090913160, dq7(t): -1112.32873885975, dq8(t): 45881.5634481936, dq9(t): 120395.239745093, s1(t): 0.7962895387774678, s2(t): 0.8815053972326377, s3(t): 0.6050621158830055, s4(t): -0.039792180531458346, s5(t): -0.9547360077200461, s6(t): 0.02954998722914244, s7(t): 0.2420966671263646, s8(t): -0.9117470032980354, s9(t): 0.591331770151575, c1(t): 0.6049156721672596, c2(t): -0.47217394533130447, c3(t): -0.796178268934276, c4(t): 0.999207977534483, c5(t): -0.29745445964515, c6(t): -0.9995633037755826, c7(t): -0.9702521341209749, c8(t): 0.4107522391625543, c9(t): 0.8064283834348869}\n",
      "3395860893.90892\n",
      "no root\n",
      "no root\n",
      "{q0(t): 5019.04872900429, q1(t): -4478.20419051901, q2(t): -17188.0384127875, q3(t): 16363.8376738430, q4(t): 16190.6554313999, q5(t): -364.445323784569, q6(t): -8970.65933672661, q7(t): 31340.5270883092, q8(t): 11594.5984242393, q9(t): -9091.25783300655, dq0(t): 4281.43690752941, dq1(t): 7885.52027664967, dq2(t): -14835.6702141342, dq3(t): 42212.2857842939, dq4(t): 6118.70300761641, dq5(t): 9100.58009530174, dq6(t): -9017.74067135914, dq7(t): 2887.99491948481, dq8(t): 23407.7872284200, dq9(t): 11119.3676921271, s1(t): 0.2995434196230361, s2(t): 0.1310502764607692, s3(t): 0.4478961692168794, s4(t): -0.9920678234833048, s5(t): 0.25297941476481883, s6(t): 0.3837739923833419, s7(t): 0.21536319169522888, s8(t): -0.32670117371198926, s9(t): 0.8967757829619756, c1(t): 0.9540826692486022, c2(t): -0.9913757234467445, c3(t): 0.8940855784547945, c4(t): 0.12570375336122022, c5(t): -0.9674716614481531, c6(t): 0.9234270533020735, c7(t): -0.9765340217641391, c8(t): 0.9451276861330477, c9(t): 0.4424852484466975}\n",
      "27803376.3253102\n",
      "no root\n",
      "no root\n",
      "no root\n",
      "no root\n",
      "no root\n",
      "no root\n",
      "no root\n",
      "no root\n",
      "no root\n",
      "no root\n",
      "no root\n",
      "no root\n",
      "no root\n",
      "{q0(t): -747011.714717661, q1(t): 1059256.56143170, q2(t): 43912.8267528058, q3(t): -438740.469248735, q4(t): 1317505.63234981, q5(t): -1358456.16449917, q6(t): -40561.7392904301, q7(t): -1347805.69063482, q8(t): 26240.1304630226, q9(t): 210049.812747230, dq0(t): 1625728.16548853, dq1(t): 505556.321822740, dq2(t): 216279.193933557, dq3(t): 169986.575255602, dq4(t): -148622.183822588, dq5(t): 728115.672162134, dq6(t): -125031.127985354, dq7(t): 973534.380902915, dq8(t): -474355.899790241, dq9(t): 371949.758988616, s1(t): -0.9944408068272129, s2(t): -0.04293289561912483, s3(t): -0.6149601071002493, s4(t): -0.9788937359306984, s5(t): 0.8368957003644277, s6(t): 0.9809062042276278, s7(t): 0.3126020350233984, s8(t): -0.2030530978911144, s9(t): -0.9826284530794293, c1(t): 0.10529711162630141, c2(t): -0.9990779581562979, c3(t): -0.7885582202191859, c4(t): 0.20436989444543943, c5(t): 0.5473623906622869, c6(t): -0.19448140915714143, c7(t): -0.9498841864665555, c8(t): 0.9791677279387947, c9(t): -0.18558373635296774}\n",
      "879906244350.585\n",
      "no root\n",
      "no root\n",
      "no root\n",
      "no root\n",
      "no root\n",
      "no root\n",
      "no root\n",
      "no root\n",
      "{q0(t): -5586431.43996905, q1(t): 1358623.82087262, q2(t): -1050566.94729267, q3(t): -1809291.35619376, q4(t): 2918903.63664591, q5(t): 638417.324897033, q6(t): -2142392.48224449, q7(t): 4670356.67591682, q8(t): -2405046.62477641, q9(t): -305130.767790068, dq0(t): -5587112.21097381, dq1(t): -207286.840922253, dq2(t): 253254.585868396, dq3(t): -2467710.10396719, dq4(t): -1097925.29160347, dq5(t): 852207.722157023, dq6(t): -3439330.84157557, dq7(t): 1623410.86369939, dq8(t): -3048506.64027242, dq9(t): 2908131.28152225, s1(t): -0.9775203329667372, s2(t): -0.6244355278813544, s3(t): -0.5838852443048671, s4(t): -0.13746281854270906, s5(t): -0.7189893298897945, s6(t): 0.2598982484006084, s7(t): 0.6779996986738263, s8(t): 0.8639877163104147, s9(t): 0.9825663708303826, c1(t): 0.21084116921654356, c2(t): 0.7810763544747301, c3(t): -0.8118362036045483, c4(t): -0.9905069275468467, c5(t): 0.6950211101143793, c6(t): -0.9656360082755281, c7(t): 0.7350621800896853, c8(t): -0.5035128856987816, c9(t): -0.18591214837447043}\n",
      "65863095521098.4\n",
      "no root\n",
      "no root\n",
      "no root\n",
      "{q0(t): -22786.5354925127, q1(t): 84297.2042926102, q2(t): 12433.5926217771, q3(t): -15863.7188051872, q4(t): 19557.1887490993, q5(t): 35915.2529995312, q6(t): 64995.8391126280, q7(t): 54454.2755301636, q8(t): 104097.426661231, q9(t): -10500.7064577880, dq0(t): -21487.8957056734, dq1(t): -51861.2856407884, dq2(t): -67371.4642943236, dq3(t): -2769.07295831187, dq4(t): -34148.7246413127, dq5(t): 97419.5852931662, dq6(t): -17999.2041340747, dq7(t): 15895.3152412726, dq8(t): -56738.3593704226, dq9(t): -25657.9039351340, s1(t): -0.6239932948420334, s2(t): 0.45460129012813383, s3(t): 0.7999026009715421, s4(t): -0.5418331647516621, s5(t): 0.1452060950917778, s6(t): -0.9854358578416272, s7(t): -0.715134547676831, s8(t): -0.42069547905481375, s9(t): 0.7858309617432997, c1(t): 0.7814296948492444, c2(t): 0.8906950471479205, c3(t): -0.6001298434163742, c4(t): -0.8404860626894406, c5(t): -0.9894014301324805, c6(t): -0.17004755240795527, c7(t): 0.6989868229938632, c8(t): 0.9072019146269703, c9(t): -0.6184413469081773}\n",
      "741719967.165761\n",
      "no root\n",
      "{q0(t): 12027.6795678961, q1(t): -8403.40179181012, q2(t): 47922.8494697028, q3(t): -2312.85794264010, q4(t): 62840.6310013897, q5(t): 10372.3324060153, q6(t): 18834.7670913528, q7(t): -10115.3981474036, q8(t): -9572.39201367635, q9(t): 9965.58651614417, dq0(t): -41900.2014322004, dq1(t): 27994.1766031370, dq2(t): -32117.7784394502, dq3(t): -98407.3057655408, dq4(t): -21903.8778895895, dq5(t): 84911.4231795696, dq6(t): 92121.5797465547, dq7(t): 161491.133811835, dq8(t): -14445.4520490248, dq9(t): 31771.7394601817, s1(t): -0.9186095565980351, s2(t): 0.0091867715940447, s3(t): 0.9911154189616487, s4(t): 0.9027840923894658, s5(t): 0.5299156871981965, s6(t): -0.8206821949102436, s7(t): -0.571442766725434, s8(t): -0.03653751079056156, s9(t): 0.11241677989937744, c1(t): -0.3951663985294819, c2(t): 0.99995780072345, c3(t): 0.1330046100572297, c4(t): 0.4300940391687945, c5(t): 0.8480503313254839, c6(t): -0.5713849271352062, c7(t): -0.8206419221299757, c8(t): 0.999332282229104, c9(t): -0.9936611432460539}\n"
     ]
    },
    {
     "name": "stdout",
     "output_type": "stream",
     "text": [
      "1565949188.01675\n",
      "no root\n",
      "no root\n",
      "no root\n",
      "no root\n",
      "no root\n",
      "no root\n",
      "no root\n",
      "{q0(t): 1439776.39345780, q1(t): 235077.873826534, q2(t): -433631.819235360, q3(t): 2621744.52874679, q4(t): -1022835.92992010, q5(t): 832785.107583368, q6(t): -919754.140223667, q7(t): 3494705.91273210, q8(t): -1855343.52494430, q9(t): 731842.847726308, dq0(t): 1248016.79721985, dq1(t): -524833.153413304, dq2(t): -945597.288062385, dq3(t): 567281.413614886, dq4(t): -2496769.26910934, dq5(t): 159568.578918176, dq6(t): 1282402.88036253, dq7(t): -1832171.32547747, dq8(t): -570039.604312644, dq9(t): -1906998.52786258, s1(t): -0.9925407233020276, s2(t): -0.8091843058588741, s3(t): -0.844921562682533, s4(t): 0.019188346075023, s5(t): 0.5294554271063825, s6(t): 0.9824473573406743, s7(t): 0.12975215564432993, s8(t): -0.6950103308738467, s9(t): 0.4935734144922599, c1(t): -0.12191354554391357, c2(t): -0.5875548988406888, c3(t): 0.5348902251061487, c4(t): 0.9998158867386061, c5(t): 0.8483377574454635, c6(t): 0.18654004946478756, c7(t): 0.991546457865515, c8(t): -0.7189997496373877, c9(t): -0.8697041361902631}\n",
      "5734414220104.81\n",
      "no root\n",
      "no root\n",
      "no root\n",
      "no root\n",
      "no root\n",
      "no root\n",
      "no root\n",
      "no root\n",
      "no root\n",
      "no root\n",
      "no root\n",
      "no root\n",
      "no root\n",
      "no root\n",
      "no root\n",
      "no root\n",
      "no root\n",
      "no root\n",
      "no root\n",
      "no root\n",
      "no root\n",
      "no root\n",
      "no root\n",
      "no root\n",
      "no root\n",
      "no root\n",
      "no root\n",
      "no root\n",
      "no root\n",
      "no root\n",
      "no root\n",
      "no root\n",
      "no root\n",
      "no root\n",
      "no root\n",
      "no root\n",
      "no root\n",
      "no root\n",
      "no root\n",
      "no root\n",
      "no root\n",
      "no root\n",
      "no root\n",
      "no root\n",
      "no root\n",
      "no root\n",
      "no root\n",
      "no root\n",
      "{q0(t): 4926828.01045561, q1(t): -7370181.62343446, q2(t): -5002569.29903472, q3(t): 2493732.16846129, q4(t): -9459359.33055248, q5(t): -3764998.40961789, q6(t): 8488275.27504656, q7(t): 523758.027075973, q8(t): -2789316.41224442, q9(t): -2714948.09082841, dq0(t): -12989942.5736596, dq1(t): -3009717.02907721, dq2(t): 5797612.99177787, dq3(t): -2875725.89406610, dq4(t): -6195736.82807230, dq5(t): -248886.565334235, dq6(t): 6699465.38349572, dq7(t): -1866197.83028245, dq8(t): -3638744.47972778, dq9(t): 3053412.79139159, s1(t): -0.912557958736239, s2(t): -0.9632517651418737, s3(t): -0.8660522195556737, s4(t): 0.06248714665269944, s5(t): -0.8390423313287149, s6(t): 0.4949767196841665, s7(t): 0.9992499748617739, s8(t): -0.8699871140608397, s9(t): 0.9562581732695623, c1(t): 0.40894739508541766, c2(t): 0.26860014324468373, c3(t): -0.4999535508451672, c4(t): 0.9980457687416966, c5(t): -0.5440661414189226, c6(t): -0.868906236006338, c7(t): 0.03872321963298247, c8(t): 0.4930744582394138, c9(t): -0.29252402645793013}\n",
      "59835810310511.8\n",
      "no root\n",
      "no root\n",
      "no root\n",
      "no root\n",
      "{q0(t): -375238.295299531, q1(t): 2445.82117636924, q2(t): 193420.782178131, q3(t): 101549.396883622, q4(t): -93728.4248102149, q5(t): 382020.988761588, q6(t): 62401.2245950228, q7(t): 265039.890000063, q8(t): 546693.133631079, q9(t): 117523.002897998, dq0(t): 481102.229786538, dq1(t): 214178.086314366, dq2(t): -86410.6568020387, dq3(t): -330863.368763058, dq4(t): 521424.788650048, dq5(t): -161541.664826345, dq6(t): 187931.995097205, dq7(t): 13045.3401322642, dq8(t): -345179.764686493, dq9(t): 219668.226789424, s1(t): -0.9682066868887123, s2(t): -0.7717182400795247, s3(t): -0.9468249994552226, s4(t): 0.9931924304323378, s5(t): 0.8146811735275533, s6(t): -0.740563611772646, s7(t): -0.7397124396408075, s8(t): -0.928216272308548, s9(t): 0.1852007536030082, c1(t): -0.25015157697680657, c2(t): 0.6359645885806544, c3(t): -0.321749002184339, c4(t): -0.11648517558859448, c5(t): 0.5799091183105922, c6(t): -0.6719862624475694, c7(t): 0.6729231060386058, c8(t): 0.37204106201012754, c9(t): -0.9827007076749654}\n",
      "163635793195.929\n",
      "no root\n",
      "no root\n",
      "no root\n",
      "no root\n",
      "no root\n",
      "no root\n",
      "no root\n",
      "no root\n",
      "{q0(t): -363154.766232128, q1(t): 75148.1162061893, q2(t): -247866.020924570, q3(t): 482213.555842475, q4(t): -321668.970760681, q5(t): 480375.042040094, q6(t): 288186.329598473, q7(t): 355154.057547356, q8(t): -432943.540578057, q9(t): -90529.3655857722, dq0(t): -845553.157645097, dq1(t): -412319.044948726, dq2(t): -237856.466649933, dq3(t): 191500.997428306, dq4(t): 221684.701358024, dq5(t): 237192.167876927, dq6(t): 435363.976575373, dq7(t): 16032.5888109661, dq8(t): -165526.194261197, dq9(t): -511384.114613859, s1(t): 0.22188450171166407, s2(t): 0.8126644837887474, s3(t): -0.9858679253104559, s4(t): -0.9334809360383504, s5(t): -0.5369785174274464, s6(t): -0.9256069733601153, s7(t): 0.8646626825085963, s8(t): -0.632505457066538, s9(t): -0.7297992900082263, c1(t): -0.9750729551680564, c2(t): 0.5827318738393916, c3(t): 0.16752442760402836, c4(t): -0.35862702359549714, c5(t): 0.8435959173807218, c6(t): -0.37848610392870013, c7(t): 0.5023529092948882, c8(t): 0.7745559029411949, c9(t): 0.6836614632283209}\n",
      "605386537255.276\n",
      "no root\n",
      "no root\n",
      "no root\n",
      "no root\n",
      "no root\n",
      "no root\n",
      "no root\n",
      "no root\n",
      "no root\n",
      "no root\n",
      "no root\n",
      "no root\n",
      "no root\n",
      "no root\n",
      "no root\n",
      "no root\n",
      "no root\n",
      "no root\n",
      "no root\n",
      "no root\n",
      "no root\n",
      "no root\n",
      "no root\n",
      "no root\n",
      "no root\n",
      "no root\n",
      "no root\n",
      "no root\n",
      "no root\n",
      "no root\n",
      "no root\n",
      "no root\n",
      "no root\n",
      "{q0(t): -89650.4403647551, q1(t): 61065.0413714129, q2(t): -7615.12199664736, q3(t): -113971.076915104, q4(t): -27754.0896392413, q5(t): -75430.8055759012, q6(t): -22850.5363433577, q7(t): 28269.8046646014, q8(t): -20029.4312166971, q9(t): -58247.2707144394, dq0(t): 14635.3110051044, dq1(t): -48746.9628325581, dq2(t): -70307.2422611067, dq3(t): -92512.7857699235, dq4(t): 43885.1842298502, dq5(t): 22301.9845483508, dq6(t): 1734.34270813784, dq7(t): 96738.0809860942, dq8(t): 30857.5106838768, dq9(t): -3740.05108506633, s1(t): 0.8455581858289547, s2(t): 0.3896183762600788, s3(t): -0.7585462584471665, s4(t): 0.963239704320649, s5(t): 0.324088004211811, s6(t): 0.956435938525135, s7(t): -0.5643019576407101, s8(t): 0.7994775976455255, s9(t): -0.7542399428105776, c1(t): -0.5338832778591657, c2(t): 0.9209763953980904, c3(t): 0.6516191938515965, c4(t): -0.2686433919162515, c5(t): 0.946026936998099, c6(t): 0.29194228110629017, c7(t): 0.8255684711778073, c8(t): -0.6006959054820827, c9(t): 0.6565988948125763}\n",
      "9416860619.25891\n",
      "no root\n",
      "no root\n",
      "no root\n",
      "no root\n",
      "no root\n",
      "no root\n",
      "no root\n",
      "no root\n",
      "no root\n",
      "no root\n",
      "{q0(t): -20014.1340052224, q1(t): -14067.0450599897, q2(t): -5175.41384017968, q3(t): -7665.15750330618, q4(t): 5844.35939582351, q5(t): 25406.6872180256, q6(t): -10179.6566781474, q7(t): 27955.7921487727, q8(t): -5635.49707950476, q9(t): 26173.4743931213, dq0(t): -35299.6939272011, dq1(t): -32853.3413387629, dq2(t): 5004.93086739946, dq3(t): -11513.8244058405, dq4(t): -15075.4194616347, dq5(t): 19683.3017571077, dq6(t): 16212.8737588521, dq7(t): -15552.3479447109, dq8(t): 28082.2054211640, dq9(t): -39640.1108471032, s1(t): -0.5064619633929937, s2(t): 0.7439869103719676, s3(t): -0.5755688226448082, s4(t): -0.07738558484253742, s5(t): 0.1651213590382882, s6(t): 0.9930431381770327, s7(t): -0.1944036505946345, s8(t): -0.9756260458916896, s9(t): -0.8585523990335759, c1(t): 0.8622623032674651, c2(t): 0.6681941912312421, c3(t): 0.8177533432516613, c4(t): 0.9970012393465609, c5(t): 0.9862732566532202, c6(t): -0.11775111769962424, c7(t): 0.9809216179876348, c8(t): -0.21943978348910867, c9(t): -0.5127258313306357}\n",
      "1215763209.18551\n",
      "no root\n",
      "no root\n",
      "no root\n",
      "no root\n",
      "no root\n",
      "no root\n",
      "{q0(t): 1874572.76252705, q1(t): -355641.117822536, q2(t): -442243.523276399, q3(t): -764874.666190344, q4(t): 918631.516841485, q5(t): 451883.172424967, q6(t): -1412660.78831375, q7(t): -2402768.49242393, q8(t): -308672.124040762, q9(t): 647913.725512105, dq0(t): 2075950.94579720, dq1(t): 1250148.28308952, dq2(t): 430640.970172090, dq3(t): -22116.6726567901, dq4(t): -676174.872233309, dq5(t): 1672952.73251602, dq6(t): 1017109.24393128, dq7(t): 191819.518972811, dq8(t): 555308.879713195, dq9(t): -593190.808853770, s1(t): -0.46693407475330234, s2(t): 0.7174382040410763, s3(t): 0.929836829229398, s4(t): -0.9529539017821144, s5(t): -0.9088997353626782, s6(t): 0.9664118275702945, s7(t): -0.24834245356643767, s8(t): 0.8127148179299695, s9(t): -0.9835151388150609, c1(t): 0.8842921292391318, c2(t): 0.6966221525205145, c3(t): -0.36797210629152216, c4(t): -0.30311526038496367, c5(t): -0.41701471323881795, c6(t): -0.2569984037542708, c7(t): -0.96867230050033, c8(t): -0.5826616726000232, c9(t): 0.18082580491066907}\n",
      "7291549900269.48\n",
      "no root\n"
     ]
    },
    {
     "name": "stdout",
     "output_type": "stream",
     "text": [
      "no root\n",
      "no root\n",
      "no root\n",
      "no root\n",
      "{q0(t): 347225.523769260, q1(t): -249774.061029227, q2(t): 371664.554241650, q3(t): 126102.456718657, q4(t): 95394.6820823576, q5(t): 60284.8055820759, q6(t): -230340.743375003, q7(t): 283757.018810112, q8(t): -505035.510882200, q9(t): -303258.505903439, dq0(t): 101572.759634468, dq1(t): 83034.1603671223, dq2(t): -270517.502548843, dq3(t): 89212.7009952961, dq4(t): 242530.776965239, dq5(t): 181027.570892948, dq6(t): 88788.3965464959, dq7(t): 66736.3235541782, dq8(t): 14383.0156491972, dq9(t): 169509.288104158, s1(t): 0.47744145892413653, s2(t): 0.6716610162052116, s3(t): 0.7610251160950239, s4(t): -0.5212093063286726, s5(t): 0.12267722889370186, s6(t): -0.9743931143927506, s7(t): -0.25494665310248726, s8(t): 0.9791087131820336, s9(t): 0.706611887025373, c1(t): 0.878663560926702, c2(t): -0.7408586095269343, c3(t): -0.6487224157315326, c4(t): 0.8534288833853609, c5(t): 0.9924466219958443, c6(t): 0.22485119217828523, c7(t): 0.9669551199884305, c8(t): 0.20333747261885163, c9(t): 0.7076013292203749}\n",
      "158195349585.325\n",
      "no root\n",
      "no root\n",
      "no root\n",
      "no root\n",
      "no root\n",
      "no root\n",
      "no root\n",
      "{q0(t): 3104215.00277027, q1(t): 2739062.98638957, q2(t): -458613.795064489, q3(t): 2781685.74514724, q4(t): -4293367.56315119, q5(t): 714084.845390215, q6(t): -909077.859637628, q7(t): -282011.354234193, q8(t): -2314502.57523775, q9(t): 322486.494398686, dq0(t): 1591887.13756382, dq1(t): 1501774.07071755, dq2(t): 1290115.96581126, dq3(t): 2340146.52544559, dq4(t): -458657.360623288, dq5(t): -1925733.26907032, dq6(t): 976525.148949797, dq7(t): -1841992.75461618, dq8(t): 100752.806958786, dq9(t): 971459.550777767, s1(t): 0.2786771246333455, s2(t): 0.9922820879915561, s3(t): -0.9956933188999749, s4(t): 0.4827065596725124, s5(t): -0.9862194651480451, s6(t): 0.8286321411095454, s7(t): 0.23265324085251196, s8(t): 0.3015233876116887, s9(t): 0.3079088865578485, c1(t): -0.9603848500502759, c2(t): -0.12400103971788948, c3(t): 0.09270822346455004, c4(t): 0.8757821517073336, c5(t): -0.1654423360663885, c6(t): -0.5597935107878711, c7(t): -0.9725597511314269, c8(t): 0.9534587808202153, c9(t): -0.9514158489213358}\n",
      "15049851156521.2\n",
      "no root\n",
      "no root\n",
      "no root\n",
      "no root\n",
      "no root\n",
      "no root\n",
      "no root\n",
      "no root\n",
      "no root\n",
      "no root\n",
      "no root\n",
      "no root\n",
      "no root\n",
      "no root\n",
      "no root\n",
      "no root\n",
      "no root\n",
      "no root\n",
      "no root\n",
      "{q0(t): 248212.568662417, q1(t): -229034.915917565, q2(t): 350156.962657280, q3(t): 276468.415256557, q4(t): 588196.807884940, q5(t): -197838.422355004, q6(t): -378508.504569499, q7(t): -92013.2763344305, q8(t): -44356.8597193262, q9(t): 618578.446774324, dq0(t): -911061.709870548, dq1(t): -806936.185358829, dq2(t): 608319.496566516, dq3(t): -1700702.02808114, dq4(t): -651585.915798025, dq5(t): -722636.334495636, dq6(t): 204189.727082252, dq7(t): 279251.868156528, dq8(t): 744545.572263395, dq9(t): -544741.535919880, s1(t): -0.914882563345185, s2(t): 0.3117655239567361, s3(t): 0.9788131723852183, s4(t): 0.954352963110797, s5(t): 0.8140117742686317, s6(t): -0.9638930060093843, s7(t): -0.3012480869033807, s8(t): 0.7392572497625125, s9(t): -0.6439107476616246, c1(t): 0.403720070453456, c2(t): 0.9501590698782925, c3(t): -0.20475539935538944, c4(t): -0.29868113733820195, c5(t): -0.5808483720834845, c6(t): 0.2662898288823531, c7(t): -0.9535457986573341, c8(t): 0.6734231349408529, c9(t): 0.7651006136749908}\n",
      "145324716985.434\n",
      "no root\n",
      "no root\n",
      "no root\n",
      "no root\n",
      "no root\n",
      "no root\n",
      "no root\n",
      "no root\n",
      "no root\n",
      "no root\n",
      "no root\n",
      "{q0(t): -323667.950574417, q1(t): -79181.5540372383, q2(t): -154331.784981693, q3(t): 356904.772755795, q4(t): -457623.395635596, q5(t): -322935.971316109, q6(t): 94669.2039016947, q7(t): 121778.741463230, q8(t): 237937.520593108, q9(t): -294398.556990151, dq0(t): -65032.9806178150, dq1(t): -153739.018396753, dq2(t): 168484.388837776, dq3(t): 175995.957499490, dq4(t): -138065.823291780, dq5(t): 256250.234832786, dq6(t): -344445.641348552, dq7(t): 25920.5294787925, dq8(t): 112815.114617830, dq9(t): 68511.9558783877, s1(t): 0.08903358762223068, s2(t): 0.9731828181318833, s3(t): -0.6775541795970591, s4(t): -0.4348938125983887, s5(t): 0.9860305937692445, s6(t): -0.9349774226417563, s7(t): -0.9726051168200062, s8(t): 0.6774710164760844, s9(t): 0.21110647822884934, c1(t): -0.9960286242247833, c2(t): 0.23003304652350665, c3(t): 0.7354728640205267, c4(t): 0.9004817442700532, c5(t): -0.16656430635364558, c6(t): 0.35470723019157435, c7(t): 0.23246351699899542, c8(t): 0.7355494693321863, c9(t): -0.9774630708368538}\n",
      "150752463856.031\n",
      "no root\n",
      "no root\n",
      "no root\n",
      "no root\n",
      "no root\n",
      "no root\n",
      "no root\n",
      "no root\n",
      "no root\n",
      "{q0(t): 97409.7612205974, q1(t): 42289.7183944561, q2(t): -12995.3473652314, q3(t): 13263.0724128772, q4(t): 208097.708942588, q5(t): 130535.979578023, q6(t): 152238.543665581, q7(t): -37198.4927794576, q8(t): 167814.751094006, q9(t): -70821.1090542028, dq0(t): 82078.5368880748, dq1(t): 150959.755485822, dq2(t): -204061.763554787, dq3(t): 225187.268830591, dq4(t): 199573.001522148, dq5(t): -42888.5055752460, dq6(t): -269158.258832838, dq7(t): 38863.0625034293, dq8(t): -98446.9232937557, dq9(t): -181868.782604523, s1(t): -0.9293332494302197, s2(t): 0.9659811335941157, s3(t): 0.537067262905332, s4(t): -0.907693135434939, s5(t): 0.5355586430936997, s6(t): -0.6431320826392753, s7(t): -0.8006207604024966, s8(t): -0.8783695376076438, s9(t): 0.5959056061977266, c1(t): 0.36924207710317786, c2(t): 0.25861254714384446, c3(t): 0.8435394211981886, c4(t): 0.4196345694581054, c5(t): -0.8444980401443423, c6(t): -0.7657552639584453, c7(t): -0.5991714262316988, c8(t): -0.4779821705910525, c9(t): 0.8030544866334538}\n",
      "21899159662.6559\n",
      "no root\n",
      "no root\n",
      "no root\n",
      "no root\n",
      "no root\n",
      "no root\n",
      "no root\n",
      "no root\n",
      "no root\n",
      "no root\n",
      "no root\n",
      "no root\n",
      "no root\n",
      "no root\n",
      "no root\n",
      "no root\n",
      "no root\n",
      "no root\n",
      "no root\n",
      "no root\n",
      "no root\n",
      "no root\n",
      "no root\n",
      "no root\n",
      "no root\n",
      "no root\n",
      "no root\n",
      "no root\n",
      "no root\n",
      "no root\n",
      "no root\n",
      "no root\n",
      "no root\n",
      "no root\n",
      "no root\n",
      "no root\n",
      "no root\n",
      "no root\n",
      "no root\n",
      "{q0(t): -34111.4980733524, q1(t): -2200.67421897071, q2(t): -94687.9245919068, q3(t): 51916.5004407854, q4(t): -31428.1407312427, q5(t): -85031.7079399673, q6(t): -13992.6505956647, q7(t): 37547.7997430076, q8(t): 15361.2444025168, q9(t): -16964.4961831286, dq0(t): -85799.2029771686, dq1(t): -72925.4827910804, dq2(t): 25150.6799379943, dq3(t): -157123.319904206, dq4(t): 10410.3325153801, dq5(t): 26306.9642943914, dq6(t): -34173.8279276231, dq7(t): -93604.8159551334, dq8(t): -46644.4754230478, dq9(t): 17479.8745771905, s1(t): 0.8055282560964836, s2(t): 0.5906573140365955, s3(t): 0.4656360028403075, s4(t): 0.9981807999782604, s5(t): -0.9958956931730436, s6(t): -0.9775526962961214, s7(t): -0.9817226754338697, s8(t): 0.26183730418801854, s9(t): -0.714927862728284, c1(t): 0.5925573631558028, c2(t): -0.8069225101427489, c3(t): 0.8849763346321196, c4(t): 0.06029171215648286, c5(t): -0.09050838811614668, c6(t): -0.2106910675946727, c7(t): 0.19031707369273226, c8(t): -0.9651120277644203, c9(t): 0.6991982201741991}\n",
      "3425823962.83901\n",
      "no root\n",
      "no root\n",
      "no root\n",
      "no root\n",
      "no root\n",
      "{q0(t): -22927.9819299229, q1(t): -41578.2551645364, q2(t): 8154.14134801670, q3(t): -12227.3496289696, q4(t): -37066.4746797942, q5(t): 33356.5622637610, q6(t): -11095.1082270076, q7(t): 4708.55492150191, q8(t): 14126.9585197752, q9(t): -10863.9410395548, dq0(t): -402.813838355787, dq1(t): -9502.77617441231, dq2(t): -26639.2752223988, dq3(t): 16340.6054307088, dq4(t): 23426.0259103042, dq5(t): 45256.8099094575, dq6(t): -14902.8773922672, dq7(t): 890.090418757750, dq8(t): -10384.9191909811, dq9(t): -24558.6609535061, s1(t): -0.8673004767738336, s2(t): 0.8107593731829091, s3(t): 0.3639040384241225, s4(t): -0.8745871744992603, s5(t): 0.6369713296069492, s6(t): 0.8955664007511691, s7(t): -0.12587155383976967, s8(t): -0.43324296973691245, s9(t): -0.9999783494398464, c1(t): -0.4977849766594819, c2(t): 0.5853795681402421, c3(t): -0.9314364448627801, c4(t): 0.48486830603927955, c5(t): -0.7708874919589468, c6(t): -0.4449278838706296, c7(t): -0.9920465472617512, c8(t): 0.9012771655675854, c9(t): 0.00658032305897321}\n",
      "669635092.187851\n",
      "no root\n",
      "no root\n",
      "no root\n",
      "no root\n",
      "no root\n",
      "no root\n",
      "no root\n",
      "no root\n",
      "no root\n",
      "no root\n",
      "no root\n",
      "no root\n",
      "no root\n",
      "no root\n",
      "no root\n",
      "no root\n",
      "no root\n",
      "no root\n",
      "{q0(t): -74213.4648913615, q1(t): -2161506.60280265, q2(t): 940998.672701813, q3(t): 155291.984978359, q4(t): 938150.512681681, q5(t): 1301232.96463620, q6(t): -533393.391431257, q7(t): 1199713.02168346, q8(t): 1175913.79036654, q9(t): 1048867.69738060, dq0(t): 49036.1688062722, dq1(t): -477832.377261319, dq2(t): 849729.594235718, dq3(t): 644150.979162387, dq4(t): -470744.065058802, dq5(t): -137555.176121874, dq6(t): -800867.403593543, dq7(t): -472945.181190159, dq8(t): 121698.714872502, dq9(t): -683253.978049369, s1(t): 0.22041613362593568, s2(t): 0.9861403160816712, s3(t): -0.10780593737077852, s4(t): -0.5953042950536378, s5(t): -0.9943623613686332, s6(t): -0.7456737580838613, s7(t): 0.9667642607577496, s8(t): -0.8737959411931424, s9(t): -0.9167424070362583, c1(t): 0.9754059298760663, c2(t): 0.1659134623782581, c3(t): -0.9941719568905611, c4(t): 0.8035003399443533, c5(t): -0.10603534454791862, c6(t): -0.6663112234572454, c7(t): -0.2556694430735161, c8(t): -0.4862927648591847, c9(t): 0.3994788594423581}\n"
     ]
    },
    {
     "name": "stdout",
     "output_type": "stream",
     "text": [
      "16157826309.8113\n",
      "{q0(t): 80017.8814761215, q1(t): 176046.592393752, q2(t): -42142.0464370258, q3(t): 110176.897761024, q4(t): 674.114732790888, q5(t): 38387.3857482109, q6(t): 434365.604491489, q7(t): 609660.482026349, q8(t): 38532.5247204536, q9(t): -33675.6818030246, dq0(t): -121451.226748000, dq1(t): 368024.856455938, dq2(t): -55202.6757212435, dq3(t): 34063.0318228478, dq4(t): 138739.156322401, dq5(t): -43350.0300682815, dq6(t): 62319.8029729794, dq7(t): 251173.573696395, dq8(t): 372276.991393245, dq9(t): 248861.398169376, s1(t): 0.35378650741742035, s2(t): -0.10718281883597351, s3(t): -0.6035299106322085, s4(t): -0.2821559263201946, s5(t): 0.9705402310952492, s6(t): -0.24726304344897365, s7(t): 0.623479719144413, s8(t): 0.9071370988829398, s9(t): -0.07775729295117025, c1(t): 0.9353262036152861, c2(t): -0.9942393290080487, c3(t): 0.7973403582989377, c4(t): 0.9593685596486853, c5(t): -0.2409391205794116, c6(t): -0.9689483925082651, c7(t): 0.7818395230580275, c8(t): -0.42083522170826365, c9(t): -0.9969723182681182}\n",
      "26029598916.0644\n",
      "no root\n",
      "no root\n",
      "no root\n",
      "no root\n",
      "no root\n",
      "no root\n",
      "no root\n",
      "no root\n",
      "no root\n",
      "no root\n",
      "no root\n",
      "no root\n",
      "no root\n",
      "no root\n",
      "no root\n",
      "no root\n",
      "no root\n",
      "no root\n",
      "no root\n",
      "no root\n",
      "no root\n",
      "no root\n",
      "no root\n",
      "no root\n",
      "no root\n",
      "no root\n",
      "no root\n",
      "no root\n",
      "no root\n",
      "no root\n",
      "{q0(t): -12218.6635403308, q1(t): -10278.3422834253, q2(t): -3340.57394137975, q3(t): -27146.9271104744, q4(t): 11207.6924557926, q5(t): -14738.1953505853, q6(t): 9773.36996634621, q7(t): -1914.32592714884, q8(t): -2666.52799023530, q9(t): 36926.0319897873, dq0(t): -32148.4125871438, dq1(t): 38285.0837702281, dq2(t): 7032.76974773842, dq3(t): 10871.2645839018, dq4(t): -8011.17752993699, dq5(t): -2327.94522199357, dq6(t): -19015.8157329586, dq7(t): -28049.6839449916, dq8(t): 36341.1971585106, dq9(t): -32979.0336264489, s1(t): -0.426101053637894, s2(t): 0.7549035468498548, s3(t): 0.988007029466418, s4(t): 0.9019528068160234, s5(t): 0.4203157274114896, s6(t): 0.8872196163920207, s7(t): -0.9013489227044325, s8(t): -0.7414561331964162, s9(t): -0.06274723268996768, c1(t): 0.9046755728373993, c2(t): -0.6558358292694209, c3(t): -0.1544089042929346, c4(t): -0.43183461449575494, c5(t): 0.9073779197724344, c6(t): 0.461347322837356, c7(t): 0.4330936613938825, c8(t): 0.6710013431770598, c9(t): -0.9980294508629247}\n",
      "833298795.071409\n",
      "{q0(t): 10193.6001053274, q1(t): 18183.8855108584, q2(t): -53092.0249937216, q3(t): -34790.9334774445, q4(t): 36108.8255984496, q5(t): 60817.9624397002, q6(t): 28724.4468001580, q7(t): -6487.63897750520, q8(t): -13586.2795727937, q9(t): 80399.7152864444, dq0(t): -36811.5979111151, dq1(t): -21108.7685959148, dq2(t): 85461.7024050007, dq3(t): -142678.975145180, dq4(t): 54278.7767945172, dq5(t): -80970.5535336352, dq6(t): 40809.5116110659, dq7(t): 60885.7457055855, dq8(t): 44237.9829156444, dq9(t): 11062.4455627511, s1(t): 0.401664831178457, s2(t): 0.7841481499755087, s3(t): -0.999468582248232, s4(t): -0.905402047244037, s5(t): 0.4185584040001483, s6(t): -0.996589973263364, s7(t): -0.8958806849306631, s8(t): 0.34495463485223954, s9(t): 0.8353143008367826, c1(t): -0.9157867455878479, c2(t): 0.6205736691884268, c3(t): -0.032596826512853824, c4(t): -0.4245552176646835, c5(t): 0.9081898823708887, c6(t): -0.08251318192220836, c7(t): -0.4442947201668798, c8(t): 0.9386193583631003, c9(t): -0.5497726974100815}\n",
      "612357683.316590\n",
      "no root\n",
      "no root\n",
      "no root\n",
      "{q0(t): -1913290.44075957, q1(t): 1318281.00870329, q2(t): -1077617.55580134, q3(t): -269690.775851940, q4(t): 797606.530344311, q5(t): -323777.616877288, q6(t): -762770.871003664, q7(t): 615886.490320963, q8(t): -1279567.75336170, q9(t): 449673.543351287, dq0(t): -1171782.14616499, dq1(t): 34597.0654050667, dq2(t): -902676.388881354, dq3(t): 1771619.63084471, dq4(t): -364443.162931923, dq5(t): 1680336.87554352, dq6(t): 663285.299522524, dq7(t): 294704.247480064, dq8(t): -8038.65057591930, dq9(t): 249925.630401891, s1(t): 0.41954739881537756, s2(t): -0.432562585665918, s3(t): 0.9998738932001244, s4(t): 0.09125231126265293, s5(t): 0.8019047874134608, s6(t): -0.9837230889175416, s7(t): -0.593871964492555, s8(t): 0.7074817219126766, s9(t): 0.8943690007118738, c1(t): -0.9077334301143979, c2(t): 0.901603909420326, c3(t): -0.01588073351033055, c4(t): -0.9958278042358648, c5(t): -0.5974518490417218, c6(t): 0.17969108027537334, c7(t): 0.8045595626115903, c8(t): 0.7067316415439981, c9(t): 0.4473299571520383}\n",
      "7282414499628.98\n",
      "no root\n",
      "no root\n",
      "no root\n",
      "no root\n",
      "no root\n",
      "no root\n",
      "no root\n",
      "no root\n",
      "no root\n",
      "no root\n",
      "no root\n",
      "no root\n",
      "no root\n",
      "no root\n",
      "{q0(t): 21456689.9717788, q1(t): -4101562.00596278, q2(t): 15902444.3958594, q3(t): 7929896.01429489, q4(t): 5399913.13185201, q5(t): 1904347.06676562, q6(t): 16627805.8196767, q7(t): 7073212.04556867, q8(t): -797127.260619180, q9(t): -8711122.39179819, dq0(t): 3974016.88370390, dq1(t): 5026228.53197648, dq2(t): 15506616.5560814, dq3(t): 15247472.5014017, dq4(t): -5096027.88836280, dq5(t): -2307018.20179784, dq6(t): -2915686.76729344, dq7(t): -5065192.77676310, dq8(t): 1524408.23495977, dq9(t): -11162979.7899643, s1(t): -0.9298567119901344, s2(t): -0.5053656596674763, s3(t): 0.6761127327496654, s4(t): -0.9199485650063216, s5(t): 0.7840076747970324, s6(t): 0.8187149160395681, s7(t): 0.40028079860148164, s8(t): -0.9799409416002868, s9(t): 0.9803772540733765, c1(t): -0.367921860137307, c2(t): 0.862905296095033, c3(t): -0.7367981898822632, c4(t): -0.39203907680588385, c5(t): 0.6207511303729947, c6(t): 0.5742002144324946, c7(t): 0.9163925372191548, c8(t): -0.1992881104721086, c9(t): -0.1971305143694051}\n",
      "619045403975545.\n",
      "no root\n",
      "no root\n",
      "no root\n",
      "{q0(t): -491078.024652556, q1(t): 417970.889086275, q2(t): -1002133.68286811, q3(t): -1211780.63875356, q4(t): -278572.591873406, q5(t): -121042.383887645, q6(t): -547017.863952158, q7(t): 213735.349654492, q8(t): -1877464.37368054, q9(t): -418305.468407995, dq0(t): -631593.820338368, dq1(t): -989793.594472232, dq2(t): 561242.783773141, dq3(t): -430660.163910870, dq4(t): 560405.830058769, dq5(t): -1514907.23535294, dq6(t): 353336.965578556, dq7(t): -465758.477112544, dq8(t): -256172.677261080, dq9(t): 826603.730479173, s1(t): -0.7985880264351228, s2(t): -0.9975075050230143, s3(t): -0.9816285319995631, s4(t): 0.6979356402372838, s5(t): 0.6930991425299572, s6(t): 0.7763186683128329, s7(t): 0.6300642147501787, s8(t): -0.9903232528478004, s9(t): 0.7139725688156844, c1(t): 0.6018780308621138, c2(t): 0.07056045225734452, c3(t): 0.1908020575475606, c4(t): -0.7161604862644775, c5(t): -0.7208422702812578, c6(t): -0.6303406422157704, c7(t): 0.7765430350542336, c8(t): 0.13877987919346035, c9(t): -0.7001736720119751}\n",
      "531746199806.323\n",
      "no root\n",
      "no root\n",
      "{q0(t): -20720.4967745797, q1(t): -101498.355809557, q2(t): -291208.832358481, q3(t): 88694.5811455953, q4(t): 77715.4959120371, q5(t): 232556.973233505, q6(t): 457513.527557756, q7(t): -48962.5502302058, q8(t): 379373.522420438, q9(t): 115656.771829826, dq0(t): 279724.690519807, dq1(t): 258486.253009255, dq2(t): -63137.2844888598, dq3(t): 338328.735520246, dq4(t): -200501.644881327, dq5(t): -243678.341203153, dq6(t): -32254.1036389641, dq7(t): 256498.877491082, dq8(t): -14005.7987116391, dq9(t): 152511.014459936, s1(t): 0.3272893412474478, s2(t): 0.46366268848077646, s3(t): -0.9589127507855745, s4(t): 0.9869990637327624, s5(t): 0.42588484053483217, s6(t): -0.38200728413503393, s7(t): -0.9637716964879386, s8(t): 0.9812955423409763, s9(t): -0.8014978238168358, c1(t): -0.9449241700294324, c2(t): -0.8860118008868609, c3(t): 0.28370113919553225, c4(t): 0.16072600346754878, c5(t): -0.9047773773711523, c6(t): -0.9241593124931304, c7(t): -0.26672854562037546, c8(t): -0.1925072948792572, c9(t): 0.5979976909795527}\n",
      "18895196733.5644\n",
      "no root\n",
      "no root\n",
      "no root\n",
      "no root\n",
      "no root\n",
      "no root\n",
      "no root\n",
      "no root\n",
      "no root\n",
      "{q0(t): -16728.3503691224, q1(t): 168959.689272769, q2(t): -22655.4925691746, q3(t): 226857.004532982, q4(t): -16451.3597395256, q5(t): -185735.782194237, q6(t): -557962.447293764, q7(t): -267209.248044937, q8(t): -91960.0807224065, q9(t): -295422.465310870, dq0(t): -548345.292534147, dq1(t): -236780.906848442, dq2(t): -284792.662436454, dq3(t): -383674.627429732, dq4(t): 17595.0548665210, dq5(t): 373972.566440906, dq6(t): 79250.1173450735, dq7(t): 590450.141698209, dq8(t): 554404.397738818, dq9(t): 48096.7590471938, s1(t): 0.2886827958842312, s2(t): 0.026619579393750568, s3(t): 0.9921109327606867, s4(t): 0.9149881062830627, s5(t): 0.901523596111544, s6(t): 0.5732723013676724, s7(t): -0.1266682750681077, s8(t): -0.7952095094340946, s9(t): 0.4750770872281579, c1(t): -0.9574247977572251, c2(t): -0.9996456362096019, c3(t): -0.1253630611333346, c4(t): -0.4034808116385893, c5(t): 0.43272994540950116, c6(t): -0.8193649177775508, c7(t): 0.9919451336093494, c8(t): -0.6063347558119909, c9(t): -0.8799441807244419}\n"
     ]
    },
    {
     "name": "stdout",
     "output_type": "stream",
     "text": [
      "166996526152.876\n",
      "no root\n",
      "no root\n",
      "no root\n",
      "no root\n",
      "{q0(t): -22451.5476968302, q1(t): -231227.548526905, q2(t): -122377.948962989, q3(t): 25167.8036001019, q4(t): -96086.6621086413, q5(t): -234659.060512026, q6(t): 59413.9341215029, q7(t): 54738.0723225081, q8(t): 23324.5004083168, q9(t): 64062.7942229553, dq0(t): -176191.213901374, dq1(t): 29689.0452359953, dq2(t): -53753.5234151371, dq3(t): -23773.1583333516, dq4(t): 19130.9217414181, dq5(t): 196072.955424477, dq6(t): 94955.4002885930, dq7(t): -62600.4172658158, dq8(t): 56535.4924569241, dq9(t): 23060.8712436912, s1(t): -0.3004486103186857, s2(t): -0.7031389949097566, s3(t): -0.9979949301439732, s4(t): 0.6809971399926675, s5(t): -0.9513293157270196, s6(t): -0.7940967111714973, s7(t): 0.6172776157595015, s8(t): 0.4983955904002088, s9(t): 0.10306081267736575, c1(t): 0.9537980040645768, c2(t): -0.7110524269259597, c3(t): 0.06329391287419382, c4(t): 0.7322860747834873, c5(t): 0.3081761396318032, c6(t): 0.6077914225345826, c7(t): 0.7867454131307441, c8(t): -0.8669497306474161, c9(t): -0.9946750569358221}\n",
      "20481134360.3296\n",
      "no root\n",
      "no root\n",
      "no root\n",
      "no root\n",
      "no root\n",
      "no root\n",
      "no root\n",
      "no root\n",
      "{q0(t): -172021.731629361, q1(t): 1869721.99502899, q2(t): 1831707.61378494, q3(t): -4847872.37416087, q4(t): -1113287.68996918, q5(t): -4774462.50740435, q6(t): -2129010.94993201, q7(t): 1318553.96075882, q8(t): 4288590.26989127, q9(t): 197237.233842652, dq0(t): -1629280.93196697, dq1(t): 859254.315558861, dq2(t): 1561281.32840378, dq3(t): 206933.135935156, dq4(t): -2380561.86217543, dq5(t): 1597977.77110582, dq6(t): -1083097.03506930, dq7(t): -810864.832302258, dq8(t): 1184015.84431149, dq9(t): -223326.145534415, s1(t): 0.5555446762574932, s2(t): 0.7032522278510441, s3(t): 0.39413323094054326, s4(t): -0.9549954146121246, s5(t): 0.9912096062954149, s6(t): 0.7527726132291814, s7(t): -0.4118971368381389, s8(t): -0.3643985539062312, s9(t): -0.8374164809430438, c1(t): 0.8314866882169294, c2(t): 0.7109404363394609, c3(t): -0.9190533152480156, c4(t): 0.29662056245280133, c5(t): 0.13230085558184643, c6(t): 0.6582806337513729, c7(t): -0.9112303488495889, c8(t): 0.9312430906648637, c9(t): 0.5465653094049868}\n",
      "1404331618561.73\n",
      "no root\n",
      "no root\n",
      "{q0(t): -8182.32728466207, q1(t): 309466.815361043, q2(t): 12625.7666443123, q3(t): -29834.4549848380, q4(t): -135281.941797649, q5(t): 22005.3656679215, q6(t): -134706.853986942, q7(t): 139404.716327013, q8(t): 49788.3178244893, q9(t): 55637.8493726566, dq0(t): 158467.048715529, dq1(t): -213882.514691889, dq2(t): -93177.6204108215, dq3(t): -85269.6971584769, dq4(t): -15629.7741692391, dq5(t): 25239.6647485468, dq6(t): 94377.2638557476, dq7(t): 86449.0145590190, dq8(t): -73956.5984550344, dq9(t): -44153.4979089001, s1(t): 0.3762944085255032, s2(t): 0.8162533783124519, s3(t): 0.6926331705324542, s4(t): 0.4665148411640506, s5(t): 0.6042300843609292, s6(t): -0.8701025441646977, s7(t): -0.9824601073574579, s8(t): -0.4366826158849458, s9(t): -0.7260976748746292, c1(t): -0.9265001446909988, c2(t): 0.5776940560482765, c3(t): 0.7212900187013267, c4(t): 0.8845133707150393, c5(t): -0.7968098927304959, c6(t): -0.49287073623630806, c7(t): 0.18647288663817124, c8(t): -0.8996156362491043, c9(t): 0.6875915695684883}\n",
      "14238622903.0969\n",
      "no root\n",
      "no root\n",
      "no root\n",
      "no root\n",
      "no root\n",
      "no root\n",
      "{q0(t): 621664.497070338, q1(t): -118063.613459526, q2(t): 359042.924785189, q3(t): 213676.052890819, q4(t): -238076.170943011, q5(t): 257109.693778178, q6(t): 162381.237512097, q7(t): -308909.290186958, q8(t): 175408.161479272, q9(t): -43943.8505602328, dq0(t): 159020.482225958, dq1(t): -82320.3857829147, dq2(t): -375213.450624350, dq3(t): 146174.120017282, dq4(t): -689251.147369475, dq5(t): -764669.635074884, dq6(t): 73206.0958922984, dq7(t): 541445.248096690, dq8(t): 325285.381935603, dq9(t): -34926.3155519609, s1(t): -0.4853329463578295, s2(t): -0.7043026792927016, s3(t): -0.5211372289400633, s4(t): 0.6222974539707257, s5(t): -0.9403029610634309, s6(t): -0.9769228472646496, s7(t): -0.2642652305677058, s8(t): -0.32076983467869963, s9(t): 0.9439079832408542, c1(t): 0.8743294179996624, c2(t): 0.7098998069735769, c3(t): -0.853472898581245, c4(t): 0.7827808625544908, c5(t): 0.34033856880368996, c6(t): -0.21359248697538522, c7(t): 0.9644500442806757, c8(t): -0.9471571744753875, c9(t): -0.33020859948551184}\n",
      "604464201035.083\n",
      "no root\n",
      "no root\n",
      "no root\n",
      "no root\n",
      "no root\n",
      "no root\n",
      "no root\n",
      "no root\n",
      "no root\n",
      "no root\n",
      "{q0(t): 212866.667191055, q1(t): -48911.6108498634, q2(t): 71588.8756687669, q3(t): -22653.8297530491, q4(t): 129335.753745425, q5(t): -117244.544611049, q6(t): -218576.909933196, q7(t): -101696.047192429, q8(t): 27070.3666917705, q9(t): -138699.211171198, dq0(t): 214627.600855429, dq1(t): 127369.725578082, dq2(t): -11240.9063550959, dq3(t): -104451.893789095, dq4(t): -287747.334493126, dq5(t): 31962.1619323713, dq6(t): 49816.3695865363, dq7(t): -14308.3039654629, dq8(t): 214052.466342696, dq9(t): 127726.453574363, s1(t): -0.34394424600330636, s2(t): 0.7480293521548977, s3(t): 0.47767140947514997, s4(t): 0.23418962520486414, s5(t): -0.10844518069685996, s6(t): 0.9989691766589718, s7(t): 0.18679586463883774, s8(t): -0.966426899334382, s9(t): -0.08625054409362508, c1(t): -0.9389900721739379, c2(t): 0.6636656449709627, c3(t): -0.8785385731827736, c4(t): -0.9721909377516359, c5(t): -0.9941024307301665, c6(t): -0.045393656883930794, c7(t): 0.982398750484664, c8(t): -0.256941721491338, c9(t): -0.9962734783399354}\n",
      "97429562895.1706\n",
      "no root\n",
      "no root\n",
      "no root\n",
      "no root\n",
      "no root\n",
      "no root\n",
      "no root\n",
      "no root\n",
      "no root\n",
      "no root\n",
      "no root\n",
      "no root\n",
      "no root\n",
      "no root\n",
      "no root\n",
      "no root\n",
      "no root\n",
      "no root\n",
      "no root\n",
      "no root\n",
      "no root\n",
      "{q0(t): -1438806.82013149, q1(t): 18736025.5928370, q2(t): -6171643.30080200, q3(t): -9938570.83443150, q4(t): 7311948.24144308, q5(t): 4793253.29685639, q6(t): -4096340.41829182, q7(t): 431922.047882954, q8(t): 10726205.4421633, q9(t): 4159150.46584131, dq0(t): -21791535.4769115, dq1(t): 7360519.81415034, dq2(t): 3451335.52799424, dq3(t): -3675003.19642036, dq4(t): -12761369.2862455, dq5(t): -11980286.5577271, dq6(t): 939279.023521411, dq7(t): 851974.666843927, dq8(t): -5853468.25795307, dq9(t): 5462021.98084188, s1(t): -0.599523545923136, s2(t): -0.7598752319813158, s3(t): -0.44072697837341684, s4(t): -0.9865152550274567, s5(t): -0.9841829803864972, s6(t): -0.9972668200975444, s7(t): 0.8551404781620369, s8(t): -0.9984766957069549, s9(t): 0.9922397420084843, c1(t): -0.8003571189686198, c2(t): -0.6500689438985233, c3(t): -0.8976412036742953, c4(t): 0.16366933615711918, c5(t): 0.1771549071224155, c6(t): 0.07388429828137996, c7(t): 0.5183963373798112, c8(t): 0.05517506801192892, c9(t): 0.12433943211602837}\n",
      "178770833235707.\n",
      "no root\n",
      "no root\n",
      "no root\n",
      "no root\n",
      "no root\n",
      "no root\n",
      "no root\n",
      "no root\n",
      "no root\n",
      "no root\n",
      "no root\n",
      "no root\n",
      "{q0(t): 396549.195992284, q1(t): 137347.127943428, q2(t): -291855.859803627, q3(t): -1144957.29209876, q4(t): -1175909.04310851, q5(t): 1452066.32692741, q6(t): 472180.914664721, q7(t): -311642.423181510, q8(t): 468267.109876221, q9(t): -675488.473029044, dq0(t): 1107977.91886236, dq1(t): 259487.471652805, dq2(t): 98065.7833404615, dq3(t): -178891.606258942, dq4(t): 752714.997008878, dq5(t): -488139.293922179, dq6(t): 821343.695205093, dq7(t): 204852.591375383, dq8(t): -607087.217726866, dq9(t): 777276.012138604, s1(t): 0.8899485080497044, s2(t): 0.375223485533252, s3(t): -0.03877104125116791, s4(t): 0.9990874009927947, s5(t): -0.9688227107149313, s6(t): 0.1253652951213609, s7(t): -0.5945861503880243, s8(t): 0.6797434688020757, s9(t): 0.29370984809589723, c1(t): -0.4560610189657798, c2(t): -0.9269343751875196, c3(t): -0.999248120518773, c4(t): 0.04271258804454018, c5(t): -0.24775503063100948, c6(t): 0.9921106504715762, c7(t): 0.8040319084257476, c8(t): -0.7334499414553944, c9(t): -0.955894620306802}\n",
      "750312879284.517\n",
      "no root\n",
      "no root\n",
      "no root\n",
      "no root\n",
      "no root\n",
      "no root\n",
      "no root\n",
      "no root\n",
      "no root\n",
      "no root\n",
      "{q0(t): 98542.0133054470, q1(t): 171705.346816011, q2(t): 75926.7981746389, q3(t): -125330.953856679, q4(t): 129845.373747817, q5(t): 38341.8892605187, q6(t): -6920.17319760289, q7(t): -70279.1969341595, q8(t): 139911.093309645, q9(t): -51473.7683050786, dq0(t): 17041.3292205546, dq1(t): 6849.29903936741, dq2(t): 74977.8779480153, dq3(t): -54229.9520990372, dq4(t): 20221.7041619231, dq5(t): 51776.1170106253, dq6(t): 100754.565411300, dq7(t): -56251.7502676866, dq8(t): 89488.9459830353, dq9(t): 79694.7321703076, s1(t): -0.18187595077000623, s2(t): 0.9759834663847663, s3(t): 0.9265767610391202, s4(t): 0.9954389526795472, s5(t): -0.5020153780075439, s6(t): -0.03959378513789421, s7(t): -0.43329733807887216, s8(t): -0.36052002802781874, s9(t): 0.3869669984999036, c1(t): 0.9833214827977198, c2(t): -0.21784460824995358, c3(t): 0.37610571107369956, c4(t): 0.09540068913926206, c5(t): -0.8648586938014458, c6(t): -0.9992158586503991, c7(t): -0.9012510287449127, c8(t): -0.9327514724677848, c9(t): 0.9220935647058685}\n"
     ]
    },
    {
     "name": "stdout",
     "output_type": "stream",
     "text": [
      "11414084297.8619\n",
      "no root\n",
      "no root\n",
      "no root\n",
      "no root\n",
      "no root\n",
      "no root\n",
      "no root\n",
      "no root\n",
      "no root\n",
      "no root\n",
      "no root\n",
      "no root\n",
      "no root\n",
      "no root\n",
      "no root\n",
      "no root\n",
      "no root\n",
      "no root\n",
      "no root\n",
      "no root\n",
      "{q0(t): -84168.4739915936, q1(t): 128292.472457364, q2(t): 117492.859685319, q3(t): 61792.2173419726, q4(t): -138930.403536766, q5(t): -216629.808993089, q6(t): -192358.184458345, q7(t): 157383.792083503, q8(t): -106500.369910239, q9(t): -294984.128279531, dq0(t): -48567.7272962207, dq1(t): -106803.926973006, dq2(t): 421630.935560630, dq3(t): -378250.530601276, dq4(t): -61640.8616089039, dq5(t): -229947.580336578, dq6(t): -16460.8908321374, dq7(t): 130398.591735434, dq8(t): 96970.6157817789, dq9(t): -25108.6477980483, s1(t): 0.88382049464014, s2(t): 0.8948331488918847, s3(t): -0.6690758195236207, s4(t): 0.9057114165223987, s5(t): -0.520703275175818, s6(t): 0.38817992452852745, s7(t): 0.9921443072733157, s8(t): -0.9103071747528816, s9(t): 0.7165687582919201, c1(t): -0.46782617846167857, c2(t): 0.44640075676933394, c3(t): -0.7431941521088519, c4(t): 0.4238948336332845, c5(t): 0.8537377227352533, c6(t): 0.9215836078148454, c7(t): 0.12509865524917696, c8(t): -0.4139333854540205, c9(t): -0.6975164619132481}\n",
      "10736580536.4978\n",
      "no root\n",
      "no root\n",
      "no root\n",
      "no root\n",
      "no root\n",
      "no root\n",
      "no root\n",
      "no root\n",
      "no root\n",
      "no root\n",
      "no root\n",
      "no root\n",
      "no root\n",
      "{q0(t): 311118.576090407, q1(t): 206618.479275353, q2(t): -112507.224208541, q3(t): -1105530.22558705, q4(t): -159790.878169761, q5(t): -871437.722030484, q6(t): 597564.867142386, q7(t): 1146551.99405889, q8(t): -978601.116998972, q9(t): -225165.445637539, dq0(t): 676277.400257027, dq1(t): -123837.902157366, dq2(t): -439515.423132234, dq3(t): -39151.4631315070, dq4(t): 1830329.29323701, dq5(t): -778033.322197556, dq6(t): -193888.397897677, dq7(t): 1224362.32875758, dq8(t): 65038.3175591253, dq9(t): -601864.862737288, s1(t): 0.9664106010768653, s2(t): 0.08613902623890073, s3(t): 0.9947632116103272, s4(t): 0.9983880756260399, s5(t): 0.5641933420394265, s6(t): -0.39471634852133114, s7(t): -0.9903920335866986, s8(t): 0.3507967274445615, s9(t): 0.9134304572765953, c1(t): -0.25700301579213425, c2(t): 0.9962831265050182, c3(t): 0.10220642262943876, c4(t): -0.05675606088985455, c5(t): -0.8256427028675193, c6(t): -0.9188030279717122, c7(t): -0.13828817667466595, c8(t): -0.936451630365491, c9(t): 0.4069948399174982}\n",
      "354109772169.129\n",
      "no root\n",
      "no root\n",
      "no root\n",
      "no root\n",
      "{q0(t): 3.74886185917919, q1(t): 3.13627453996432, q2(t): 4.54621080925576, q3(t): -1.85912892173028, q4(t): 4.92748150673463, q5(t): -1.55740398317560, q6(t): -1.39327800736203, q7(t): 0.290395087436421, q8(t): 6.53804963695176, q9(t): 2.76684424003360, dq0(t): 1.47861421705933, dq1(t): 1.31704544839866, dq2(t): 0.118975818042962, dq3(t): -0.564162460729468, dq4(t): -0.723180255747150, dq5(t): -0.475539646605569, dq6(t): 3.03269183066072, dq7(t): 1.88580825746290, dq8(t): -0.880359295963543, dq9(t): 6.10299539062653, s1(t): -0.8849812193880152, s2(t): -0.6737609542282258, s3(t): 0.909044780770315, s4(t): 0.5967483347290953, s5(t): -0.6952771442715653, s6(t): 0.3015221302763822, s7(t): 0.20581184889578394, s8(t): 0.9917097926551978, s9(t): -0.6252133350807654, c1(t): -0.46562671887521834, c2(t): 0.7389493734739009, c3(t): -0.4166984359872855, c4(t): -0.8024284547534762, c5(t): 0.7187417426680998, c6(t): -0.9534591784411078, c7(t): -0.9785915812299322, c8(t): 0.12849780991045998, c9(t): -0.7804538971888004}\n",
      "31.7853301681644\n",
      "found root\n",
      "no root\n",
      "no root\n",
      "no root\n",
      "no root\n",
      "no root\n",
      "no root\n",
      "{q0(t): -526924.735850572, q1(t): -23445.3654994020, q2(t): -14590.1909737287, q3(t): -69700.7292451178, q4(t): 46800.1838477391, q5(t): -27979.7829870996, q6(t): 271515.361389165, q7(t): -472373.364487826, q8(t): -257403.668478354, q9(t): 24534.1635982776, dq0(t): -132772.628793910, dq1(t): 122373.860051022, dq2(t): -62243.4040044197, dq3(t): 220948.920953663, dq4(t): 372839.665408797, dq5(t): 171999.257900978, dq6(t): 52790.2357246501, dq7(t): -41590.1193061531, dq8(t): 139738.804185409, dq9(t): -54735.1101503125, s1(t): -0.0653640607537842, s2(t): -0.7643154732490213, s3(t): 0.30427816387357187, s4(t): 0.26766801961205894, s5(t): 0.16556761149923205, s6(t): 0.4608020999235291, s7(t): -0.8700670207527215, s8(t): 0.5399187780087716, s9(t): -0.20213258157528988, c1(t): 0.9978614831537369, c2(t): -0.6448425058509439, c3(t): -0.9525832241802958, c4(t): -0.9635111993521188, c5(t): -0.986198441502743, c6(t): -0.8875029153225729, c7(t): -0.4929334431730956, c8(t): 0.8417171218132103, c9(t): 0.9793581671001211}\n",
      "443718824488.463\n",
      "no root\n",
      "no root\n",
      "no root\n",
      "no root\n",
      "no root\n",
      "no root\n",
      "no root\n",
      "no root\n",
      "no root\n",
      "no root\n",
      "no root\n",
      "no root\n"
     ]
    }
   ],
   "source": [
    "while len(allV)<=300:\n",
    "    V_num, xxd_num, psi_num, sol_dict = sample()\n",
    "    allV += V_num\n",
    "    allxxd += xxd_num\n",
    "    allpsi += psi_num\n",
    "    all_sol_dicts += sol_dict"
   ]
  },
  {
   "cell_type": "code",
   "execution_count": null,
   "metadata": {},
   "outputs": [],
   "source": [
    "import sys\n",
    "sys.path.append(\n",
    "    \"/Users/shenshen/drake-build/install/lib/python3.7/site-packages\")\n",
    "from pydrake.all import (Polynomial, Variable, Evaluate, Substitute,\n",
    "                         MathematicalProgram, MosekSolver)"
   ]
  },
  {
   "cell_type": "code",
   "execution_count": null,
   "metadata": {},
   "outputs": [],
   "source": [
    "np.save('allV',allV)\n",
    "np.save('allxxd',allxxd)\n",
    "np.save('allpsi',allpsi)\n",
    "# np.save('all_sol_dicts',all_sol_dicts)"
   ]
  },
  {
   "cell_type": "code",
   "execution_count": null,
   "metadata": {},
   "outputs": [],
   "source": [
    "def solve_SDP_on_samples(sampled_quantities, write_to_file=True):\n",
    "    prog = MathematicalProgram()\n",
    "    rho = prog.NewContinuousVariables(1, \"r\")[0]\n",
    "    prog.AddConstraint(rho >= 0)\n",
    "\n",
    "    [V, xxd, psi] = sampled_quantities\n",
    "    # print('SDP V %s' % V)\n",
    "    dim_psi = psi.shape[1]\n",
    "    print(dim_psi)\n",
    "    P = prog.NewSymmetricContinuousVariables(dim_psi, \"P\")\n",
    "    prog.AddPositiveSemidefiniteConstraint(P)\n",
    "\n",
    "    for i in range(psi.shape[0]):\n",
    "        residual = xxd[i] * (V[i] - rho) - psi[i].T@P@psi[i]\n",
    "        prog.AddConstraint(residual == 0)\n",
    "\n",
    "    prog.AddCost(-rho)\n",
    "    solver = MosekSolver()\n",
    "    if write_to_file:\n",
    "        log_file = \"sampling_variety_SDP.text\"\n",
    "    else:\n",
    "        log_file = \"\"\n",
    "    solver.set_stream_logging(True, log_file)\n",
    "    result = solver.Solve(prog, None, None)\n",
    "    print(result.get_solution_result())\n",
    "    assert result.is_success()\n",
    "    P = result.GetSolution(P)\n",
    "    rho = result.GetSolution(rho)\n",
    "    print(rho)\n",
    "    return rho, P"
   ]
  },
  {
   "cell_type": "code",
   "execution_count": null,
   "metadata": {},
   "outputs": [],
   "source": [
    "myfile = open(\"sampling_variety_SDP.text\")\n",
    "print(myfile.read())\n",
    "myfile.close()"
   ]
  },
  {
   "cell_type": "code",
   "execution_count": null,
   "metadata": {},
   "outputs": [],
   "source": [
    "solve_SDP_on_samples([np.array(allV),np.array(allxxd),np.array(allpsi)])"
   ]
  },
  {
   "cell_type": "code",
   "execution_count": null,
   "metadata": {},
   "outputs": [],
   "source": [
    "states"
   ]
  },
  {
   "cell_type": "code",
   "execution_count": null,
   "metadata": {},
   "outputs": [],
   "source": [
    "def recast_num_from_x(x):\n",
    "    ss = np.zeros(3*n+2)\n",
    "    ss[0]=x[0]\n",
    "    for i in range(n):\n",
    "        ss[2*i+1] = np.sin(x[1+i])\n",
    "        ss[2*i+2]=np.cos(x[1+i])\n",
    "#     print(x[-n-1:])\n",
    "    ss[-n-1:] = x[-n-1:]\n",
    "    return ss"
   ]
  },
  {
   "cell_type": "code",
   "execution_count": null,
   "metadata": {},
   "outputs": [],
   "source": [
    "random_states = [.6,-1.7,-.1,.1]\n",
    "ss = recast_num_from_x(random_states)\n",
    "print(V_recast.subs(dict(zip(recast_states, ss))))\n",
    "x= sim_once(random_states)"
   ]
  },
  {
   "cell_type": "code",
   "execution_count": null,
   "metadata": {},
   "outputs": [],
   "source": [
    "anim = animate_pendulum(t, x, arm_length)\n",
    "\n",
    "    # Set up formatting for the movie files\n",
    "Writer = animation.writers['ffmpeg']\n",
    "writer = Writer(fps=15, metadata=dict(artist='Me'), bitrate=1800)\n",
    "f_name = './link' + str(n)+ '/closed-loop.mp4'\n",
    "\n",
    "anim.save(f_name,writer = 'ffmpeg')\n",
    "anim.save('closed-loop.mp4',writer = 'ffmpeg')"
   ]
  },
  {
   "cell_type": "code",
   "execution_count": null,
   "metadata": {},
   "outputs": [],
   "source": [
    "from IPython.display import HTML\n",
    "html = \\\n",
    "\"\"\"\n",
    "<video width=\"640\" height=\"480\" controls>\n",
    "  <source src='closed-loop.mp4' type=\"video/mp4\">\n",
    "Your browser does not support the video tag, check out the YouTube version instead: http://youtu.be/SpgBHqW9om0\n",
    "</video>\n",
    "\"\"\"\n",
    "HTML(html)"
   ]
  },
  {
   "cell_type": "code",
   "execution_count": null,
   "metadata": {},
   "outputs": [],
   "source": [
    "def check_genericity(all_samples):\n",
    "    \"\"\"check the rank condition of the samples to make sure the genericity is\n",
    "    satisfied\n",
    "\n",
    "    Args:\n",
    "        all_samples (ndarry): (m,n), current samples,\n",
    "        m (int): current number of samples\n",
    "        n (int): monomial_dim (or reduced_monomial if do_transformation)\n",
    "    Returns:\n",
    "        enough_samples (Bool): if the current sample set is generic enough\n",
    "        m0 (int): current samples rank, gives good indicator of whether to\n",
    "        augment or truncate the current sample set\n",
    "    \"\"\"\n",
    "    enough_samples = True\n",
    "    m, n = all_samples.shape\n",
    "    n2 = n * (n + 1) / 2\n",
    "    m0 = min(m, n2)\n",
    "    print(m)\n",
    "    print(n2)\n",
    "    # sub_samples = all_samples[:m0, :]\n",
    "    sub_samples = all_samples\n",
    "\n",
    "    c = np.power(sub_samples@sub_samples.T, 2)  # c = q'*q\n",
    "    print(type(c[0][0]))\n",
    "    print('c shape is %s' % str(c.shape))\n",
    "#     s = abs(np.linalg.eig(c)[0])\n",
    "#     tol = max(c.shape) * np.spacing(max(s)) * 1e3\n",
    "#     sample_rank = sum(s > tol)\n",
    "    print(np.rank(c))\n",
    "    sample_rank=np.rank(c)\n",
    "    if sample_rank == m0 and sample_rank < n2:\n",
    "        # meaning m<n2 and sample full rank\n",
    "        # print('Insufficient samples!!')\n",
    "        enough_samples = False\n",
    "    # sample_rank by construction less than\n",
    "    return enough_samples"
   ]
  },
  {
   "cell_type": "code",
   "execution_count": null,
   "metadata": {},
   "outputs": [],
   "source": [
    "check_genericity(allpsi_num[:,:,0])"
   ]
  },
  {
   "cell_type": "code",
   "execution_count": null,
   "metadata": {},
   "outputs": [],
   "source": []
  }
 ],
 "metadata": {
  "kernelspec": {
   "display_name": "Python 3",
   "language": "python",
   "name": "python3"
  },
  "language_info": {
   "codemirror_mode": {
    "name": "ipython",
    "version": 3
   },
   "file_extension": ".py",
   "mimetype": "text/x-python",
   "name": "python",
   "nbconvert_exporter": "python",
   "pygments_lexer": "ipython3",
   "version": "3.7.5"
  }
 },
 "nbformat": 4,
 "nbformat_minor": 1
}
