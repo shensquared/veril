{
 "cells": [
  {
   "cell_type": "code",
   "execution_count": 1,
   "metadata": {},
   "outputs": [],
   "source": [
    "from __future__ import division, print_function\n",
    "import sympy as sm\n",
    "import sympy.physics.mechanics as me\n",
    "me.init_vprinting()"
   ]
  },
  {
   "cell_type": "markdown",
   "metadata": {},
   "source": [
    "Now specify the number of links, $n$. I'll start with 5 since the Wolfram folks only showed four."
   ]
  },
  {
   "cell_type": "code",
   "execution_count": 2,
   "metadata": {},
   "outputs": [],
   "source": [
    "n = 1\n",
    "do_sim = True"
   ]
  },
  {
   "cell_type": "markdown",
   "metadata": {},
   "source": [
    "**mechanics** will need the generalized coordinates, generalized speeds, and the input force which are all time dependent variables and the bob masses, link lengths, and acceleration due to gravity which are all constants. Time, $t$, is also made available because we will need to differentiate with respect to time."
   ]
  },
  {
   "cell_type": "code",
   "execution_count": 3,
   "metadata": {},
   "outputs": [],
   "source": [
    "import numpy as np\n",
    "q = me.dynamicsymbols('q:{}'.format(n + 1))  # Generalized coordinates\n",
    "u = me.dynamicsymbols('dq:{}'.format(n + 1))  # Generalized speeds\n",
    "f = me.dynamicsymbols('f:{}'.format(n))      # Force applied to the cart\n",
    "    \n",
    "# m = sm.symbols('m:{}'.format(n + 1))         # Mass of each bob\n",
    "# l = sm.symbols('l:{}'.format(n))             # Length of each link\n",
    "\n",
    "m = (0.01 / n)*np.ones(n+1,)\n",
    "l = (1. / n)*np.ones(n+1,)\n",
    "g = 9.81\n",
    "t = sm.symbols('t')                     # Gravity and time"
   ]
  },
  {
   "cell_type": "markdown",
   "metadata": {},
   "source": [
    "Now we can create and inertial reference frame $I$ and define the point, $O$, as the origin."
   ]
  },
  {
   "cell_type": "code",
   "execution_count": 4,
   "metadata": {},
   "outputs": [],
   "source": [
    "I = me.ReferenceFrame('I')  # Inertial reference frame\n",
    "O = me.Point('O')           # Origin point\n",
    "O.set_vel(I, 0)             # Origin's velocity is zero"
   ]
  },
  {
   "cell_type": "markdown",
   "metadata": {},
   "source": [
    "Secondly, we define the define the first point of the pendulum as a particle which has mass. This point can only move laterally and represents the motion of the \"cart\"."
   ]
  },
  {
   "cell_type": "code",
   "execution_count": 5,
   "metadata": {},
   "outputs": [],
   "source": [
    "P0 = me.Point('P0')                 # Hinge point of top link\n",
    "P0.set_pos(O, q[0] * I.x)           # Set the position of P0    \n",
    "P0.set_vel(I, u[0] * I.x)           # Set the velocity of P0\n",
    "Pa0 = me.Particle('Pa0', P0, m[0])  # Define a particle at P0"
   ]
  },
  {
   "cell_type": "markdown",
   "metadata": {},
   "source": [
    "Now we can define the $n$ reference frames, particles, gravitational forces, and kinematical differential equations for each of the pendulum links. This is easily done with a loop."
   ]
  },
  {
   "cell_type": "code",
   "execution_count": 6,
   "metadata": {},
   "outputs": [],
   "source": [
    "frames = [I]                              # List to hold the n + 1 frames\n",
    "points = [P0]                             # List to hold the n + 1 points\n",
    "particles = [Pa0]                         # List to hold the n + 1 particles\n",
    "forces = [(P0, f[0] * I.x - m[0] * g * I.y)] # List to hold the n + 1 applied forces, including the input force, f\n",
    "kindiffs = [q[0].diff(t) - u[0]]          # List to hold kinematic ODE's\n",
    "\n",
    "for i in range(n):\n",
    "    Bi = I.orientnew('B' + str(i), 'Axis', [q[i + 1], I.z])   # Create a new frame\n",
    "    Bi.set_ang_vel(I, u[i + 1] * I.z)                         # Set angular velocity\n",
    "    frames.append(Bi)                                         # Add it to the frames list\n",
    "\n",
    "    Pi = points[-1].locatenew('P' + str(i + 1), l[i] * Bi.x)  # Create a new point\n",
    "    Pi.v2pt_theory(points[-1], I, Bi)                         # Set the velocity\n",
    "    points.append(Pi)                                         # Add it to the points list\n",
    "    \n",
    "    Pai = me.Particle('Pa' + str(i + 1), Pi, m[i + 1])        # Create a new particle\n",
    "    particles.append(Pai)                                     # Add it to the particles list\n",
    "\n",
    "    forces.append((Pi, -m[i + 1] * g * I.y))                  # Set the force applied at the point\n",
    "    kindiffs.append(q[i + 1].diff(t) - u[i + 1])              # Define the kinematic ODE:  dq_i / dt - u_i = 0\n",
    "for i in range(n-1):\n",
    "    forces.append((frames[i+1], f[i+1]*frames[i].z))"
   ]
  },
  {
   "cell_type": "markdown",
   "metadata": {},
   "source": [
    "With all of the necessary point velocities and particle masses defined, the `KanesMethod` class can be used to derive the equations of motion of the system automatically."
   ]
  },
  {
   "cell_type": "code",
   "execution_count": 7,
   "metadata": {},
   "outputs": [],
   "source": [
    "# forces"
   ]
  },
  {
   "cell_type": "code",
   "execution_count": 8,
   "metadata": {},
   "outputs": [
    {
     "name": "stderr",
     "output_type": "stream",
     "text": [
      "/Users/shenshen/veril/ENV/lib/python3.7/site-packages/sympy/physics/mechanics/kane.py:536: SymPyDeprecationWarning: \n",
      "\n",
      "The kanes_equation() argument order has been deprecated since SymPy\n",
      "1.1. Use switched argument order to update your code, For example:\n",
      "kanes_equations(loads, bodies) > kanes_equations(bodies, loads).\n",
      "instead. See https://github.com/sympy/sympy/issues/10945 for more\n",
      "info.  The API for kanes_equations() has changed such that the loads\n",
      "(forces and torques) are now the second argument and is optional with\n",
      "None being the default.\n",
      "\n",
      "  issue=10945, deprecated_since_version=\"1.1\").warn()\n"
     ]
    }
   ],
   "source": [
    "kane = me.KanesMethod(I, q_ind=q, u_ind=u, kd_eqs=kindiffs)  # Initialize the object\n",
    "fr, frstar = kane.kanes_equations(forces, particles)         # Generate EoM's fr + frstar = 0"
   ]
  },
  {
   "cell_type": "markdown",
   "metadata": {},
   "source": [
    "The equations of motion are quite long as can been seen below. This is the general nature of most non-simple mutlibody problems. That is why a SymPy is so useful; no more mistakes in algebra, differentiation, or copying hand written equations. Note that `trigsimp` can take quite a while to complete for extremely large expressions. Below we print $\\tilde{M}$ and $\\tilde{f}$ from $\\tilde{M}\\dot{u}=\\tilde{f}$ to show the size of the expressions."
   ]
  },
  {
   "cell_type": "code",
   "execution_count": 9,
   "metadata": {},
   "outputs": [],
   "source": [
    "# sm.trigsimp(kane.mass_matrix)"
   ]
  },
  {
   "cell_type": "markdown",
   "metadata": {},
   "source": [
    "$\\tilde{M}$ is a function of the constant parameters and the configuration."
   ]
  },
  {
   "cell_type": "code",
   "execution_count": 10,
   "metadata": {},
   "outputs": [],
   "source": [
    "# me.find_dynamicsymbols(kane.mass_matrix)"
   ]
  },
  {
   "cell_type": "code",
   "execution_count": 11,
   "metadata": {},
   "outputs": [],
   "source": [
    "# sm.trigsimp(kane.forcing)"
   ]
  },
  {
   "cell_type": "markdown",
   "metadata": {},
   "source": [
    "$\\tilde{f}$ is a function of the constant parameters, configuration, speeds, and the applied force."
   ]
  },
  {
   "cell_type": "code",
   "execution_count": 12,
   "metadata": {
    "scrolled": true
   },
   "outputs": [],
   "source": [
    "# me.find_dynamicsymbols(kane.forcing)"
   ]
  },
  {
   "cell_type": "markdown",
   "metadata": {},
   "source": [
    "Controller Design\n",
    "=================\n",
    "\n",
    "The n-link pendulum can be balanced such that all of the links are inverted above the cart by applying the correct lateral force to the cart. We can design a full state feedback controller based from a linear model of the pendulum about its upright equilibrium point. We'll start by specifying the equilibrium point and parameters in dictionaries. We make sure to use SymPy types in the equilibrium point to ensure proper cancelations in the linearization."
   ]
  },
  {
   "cell_type": "code",
   "execution_count": 13,
   "metadata": {},
   "outputs": [
    {
     "data": {
      "image/png": "[encoded data removed]",
      "text/latex": [
       "$\\displaystyle \\left\\{ dq_{0} : 0, \\  dq_{1} : 0, \\  q_{0} : 0, \\  q_{1} : \\frac{\\pi}{2}\\right\\}$"
      ],
      "text/plain": [
       "⎧                           π⎫\n",
       "⎨dq₀: 0, dq₁: 0, q₀: 0, q₁: ─⎬\n",
       "⎩                           2⎭"
      ]
     },
     "execution_count": 13,
     "metadata": {},
     "output_type": "execute_result"
    }
   ],
   "source": [
    "equilibrium_point = [sm.S(0)] + [sm.pi / 2] * (len(q) - 1) + [sm.S(0)] * len(u)                           \n",
    "equilibrium_dict = dict(zip(q + u, equilibrium_point))\n",
    "equilibrium_dict"
   ]
  },
  {
   "cell_type": "markdown",
   "metadata": {},
   "source": [
    "The `KanesMethod` class has method that linearizes the forcing vector about generic state and input perturbation vectors. The equilibrium point and numerical constants can then be substituted in to give the linear system in this form: $M\\dot{x}=F_Ax+F_Br$. The state and input matrices, $A$ and $B$, can then be computed by left side multiplication by the inverse of the mass matrix: $A=M^{-1}F_A$ and $B=M^{-1}F_B$."
   ]
  },
  {
   "cell_type": "code",
   "execution_count": 14,
   "metadata": {},
   "outputs": [],
   "source": [
    "M, F_A, F_B, r = kane.linearize(new_method=True, op_point=equilibrium_dict)"
   ]
  },
  {
   "cell_type": "code",
   "execution_count": 15,
   "metadata": {},
   "outputs": [],
   "source": [
    "# sm.simplify(M)"
   ]
  },
  {
   "cell_type": "code",
   "execution_count": 16,
   "metadata": {},
   "outputs": [],
   "source": [
    "# sm.simplify(F_A)"
   ]
  },
  {
   "cell_type": "code",
   "execution_count": 17,
   "metadata": {},
   "outputs": [],
   "source": [
    "# sm.simplify(F_B)"
   ]
  },
  {
   "cell_type": "markdown",
   "metadata": {},
   "source": [
    "Now the numerical $A$ and $B$ matrices can be formed. First substitute numerical parameter values into $M$, $F_A$, and $F_B$."
   ]
  },
  {
   "cell_type": "code",
   "execution_count": 18,
   "metadata": {},
   "outputs": [],
   "source": [
    "# parameter_dict = dict(zip(parameters, parameter_vals))\n",
    "# parameter_dict"
   ]
  },
  {
   "cell_type": "code",
   "execution_count": 19,
   "metadata": {},
   "outputs": [],
   "source": [
    "M_num = sm.matrix2numpy(M, dtype=float)\n",
    "F_A_num = sm.matrix2numpy(F_A, dtype=float)\n",
    "F_B_num = sm.matrix2numpy(F_B, dtype=float)\n",
    "A = np.linalg.solve(M_num, F_A_num)\n",
    "B = np.linalg.solve(M_num ,F_B_num)"
   ]
  },
  {
   "cell_type": "code",
   "execution_count": 20,
   "metadata": {},
   "outputs": [],
   "source": [
    "# print(A)"
   ]
  },
  {
   "cell_type": "code",
   "execution_count": 21,
   "metadata": {},
   "outputs": [],
   "source": [
    "# print(B)"
   ]
  },
  {
   "cell_type": "markdown",
   "metadata": {},
   "source": [
    "Also convert `equilibrium_point` to a numeric array:"
   ]
  },
  {
   "cell_type": "code",
   "execution_count": 22,
   "metadata": {},
   "outputs": [],
   "source": [
    "equilibrium_point = np.asarray([x.evalf() for x in equilibrium_point], dtype=float)"
   ]
  },
  {
   "cell_type": "markdown",
   "metadata": {},
   "source": [
    "Now that we have a linear system, the SciPy package can be used to design an optimal controller for the system."
   ]
  },
  {
   "cell_type": "markdown",
   "metadata": {},
   "source": [
    "So now we can compute the optimal gains with a linear quadratic regulator. I chose identity matrices for the weightings for simplicity."
   ]
  },
  {
   "cell_type": "code",
   "execution_count": 23,
   "metadata": {},
   "outputs": [],
   "source": [
    "from scipy.linalg import solve_continuous_are\n",
    "Q = np.eye(A.shape[0])\n",
    "R = np.eye(B.shape[1])\n",
    "S = solve_continuous_are(A, B, Q, R);\n",
    "K = np.dot(np.dot(np.linalg.inv(R), B.T),  S)"
   ]
  },
  {
   "cell_type": "markdown",
   "metadata": {},
   "source": [
    "The gains can now be used to define the required input during simulation to stabilize the system. The input $r$ is simply the gain vector multiplied by the error in the state vector from the equilibrium point, $r(t)=K(x_{eq} - x(t))$."
   ]
  },
  {
   "cell_type": "code",
   "execution_count": 24,
   "metadata": {},
   "outputs": [
    {
     "name": "stdout",
     "output_type": "stream",
     "text": [
      "5\n"
     ]
    }
   ],
   "source": [
    "dynamic = q + u +f   # Make a list of the states\n",
    "# dynamic.append(f)  # Add the input force\n",
    "print(len(dynamic))\n",
    "M_func = sm.lambdify(dynamic, kane.mass_matrix_full) # Create a callable function to evaluate the mass matrix \n",
    "f_func = sm.lambdify(dynamic, kane.forcing_full)     # Create a callable function to evaluate the forcing vector "
   ]
  },
  {
   "cell_type": "code",
   "execution_count": 25,
   "metadata": {},
   "outputs": [],
   "source": [
    "arm_length = 1. / n                          # The maximum length of the pendulum is 1 meter\n",
    "bob_mass = 0.01 / n                          # The maximum mass of the bobs is 10 grams\n",
    "parameters = [g, m[0]]                       # Parameter definitions starting with gravity and the first bob\n",
    "parameter_vals = [9.81, 0.01 / n]            # Numerical values for the first two\n",
    "for i in range(n):                           # Then each mass and length\n",
    "    parameters += [l[i], m[i + 1]]            \n",
    "    parameter_vals += [arm_length, bob_mass]"
   ]
  },
  {
   "cell_type": "markdown",
   "metadata": {},
   "source": [
    "Animation\n",
    "=========\n",
    "\n",
    "matplotlib now includes very nice animation functions for animating matplotlib plots. First we import the necessary functions for creating the animation."
   ]
  },
  {
   "cell_type": "code",
   "execution_count": 42,
   "metadata": {},
   "outputs": [],
   "source": [
    "%matplotlib inline\n",
    "from IPython.core.pylabtools import figsize\n",
    "figsize(8.0, 6.0)\n",
    "import numpy as np\n",
    "from numpy.linalg import solve\n",
    "from scipy.integrate import odeint\n",
    "\n",
    "from matplotlib import animation\n",
    "from matplotlib.patches import Rectangle\n",
    "import matplotlib.pyplot as plt"
   ]
  },
  {
   "cell_type": "code",
   "execution_count": 26,
   "metadata": {},
   "outputs": [],
   "source": [
    "def right_hand_side(x, t, args):\n",
    "    \"\"\"Returns the derivatives of the states.\n",
    "\n",
    "    Parameters\n",
    "    ----------\n",
    "    x : ndarray, shape(2 * (n + 1))\n",
    "        The current state vector.\n",
    "    t : float\n",
    "        The current time.\n",
    "    args : ndarray\n",
    "        The constants.\n",
    "\n",
    "    Returns\n",
    "    -------\n",
    "    dx : ndarray, shape(2 * (n + 1))\n",
    "        The derivative of the state.\n",
    "    \n",
    "    \"\"\"\n",
    "    div = equilibrium_point - x\n",
    "    div[:n+1] = np.sin(div[:n+1])\n",
    "    r = np.dot(K, div)    # The controller   \n",
    "    arguments = np.hstack((x, r))     # States, input, and parameters\n",
    "    dx = np.array(solve(M_func(*arguments), # Solving for the derivatives\n",
    "                        f_func(*arguments))).T[0]\n",
    "    \n",
    "    return dx"
   ]
  },
  {
   "cell_type": "markdown",
   "metadata": {},
   "source": [
    "Now we can simulate and animate the system to see if the controller works."
   ]
  },
  {
   "cell_type": "code",
   "execution_count": 187,
   "metadata": {},
   "outputs": [],
   "source": [
    "t = np.linspace(0.0, 10.0, num=500)\n",
    "def sim_once(x0):\n",
    "#     x0 = np.hstack((0,\n",
    "#                 (np.pi/ 2) * np.ones(len(q) - 1) - np.random.uniform(-np.pi,np.pi,(len(q) - 1)),\n",
    "#                 2* np.ones(len(u))))\n",
    "    t = np.linspace(0.0, 10.0, num=500)\n",
    "    x = odeint(right_hand_side, x0, t, args=(parameter_vals,))\n",
    "\n",
    "    \n",
    "#     lines = plt.plot(t, x[:, x.shape[1] // 2:])\n",
    "#     lab = plt.xlabel('Time [sec]')\n",
    "#     leg = plt.legend(dynamic[x.shape[1] // 2:])\n",
    "    \n",
    "#     lines = plt.plot(t, x[:, x.shape[1] // 2:])\n",
    "#     lab = plt.xlabel('Time [sec]')\n",
    "#     leg = plt.legend(dynamic[x.shape[1] // 2:])\n",
    "    lines = plt.plot(t, x)\n",
    "    lab = plt.xlabel('Time [sec]')\n",
    "    leg = plt.legend(dynamic)\n",
    "    return x"
   ]
  },
  {
   "cell_type": "markdown",
   "metadata": {},
   "source": [
    "The plots show that we seem to have a stable system."
   ]
  },
  {
   "cell_type": "code",
   "execution_count": 153,
   "metadata": {},
   "outputs": [
    {
     "data": {
      "image/png": "[encoded data removed]",
      "text/plain": [
       "<Figure size 432x288 with 1 Axes>"
      ]
     },
     "metadata": {
      "needs_background": "light"
     },
     "output_type": "display_data"
    }
   ],
   "source": [
    "if do_sim: \n",
    "    lines = plt.plot(t, x[:, :x.shape[1] // 2])\n",
    "    lab = plt.xlabel('Time [sec]')\n",
    "    leg = plt.legend(dynamic[:x.shape[1] // 2])"
   ]
  },
  {
   "cell_type": "code",
   "execution_count": 30,
   "metadata": {},
   "outputs": [
    {
     "data": {
      "image/png": "[encoded data removed]",
      "text/plain": [
       "<Figure size 432x288 with 1 Axes>"
      ]
     },
     "metadata": {
      "needs_background": "light"
     },
     "output_type": "display_data"
    }
   ],
   "source": [
    "if do_sim:\n",
    "    lines = plt.plot(t, x[:, x.shape[1] // 2:])\n",
    "    lab = plt.xlabel('Time [sec]')\n",
    "    leg = plt.legend(dynamic[x.shape[1] // 2:])"
   ]
  },
  {
   "cell_type": "code",
   "execution_count": 31,
   "metadata": {},
   "outputs": [],
   "source": [
    "def animate_pendulum(t, states, length, filename=None):\n",
    "    \"\"\"Animates the n-pendulum and optionally saves it to file.\n",
    "\n",
    "    Parameters\n",
    "    ----------\n",
    "    t : ndarray, shape(m)\n",
    "        Time array.\n",
    "    states: ndarray, shape(m,p)\n",
    "        State time history.\n",
    "    length: float\n",
    "        The length of the pendulum links.\n",
    "    filename: string or None, optional\n",
    "        If true a movie file will be saved of the animation. This may take some time.\n",
    "\n",
    "    Returns\n",
    "    -------\n",
    "    fig : matplotlib.Figure\n",
    "        The figure.\n",
    "    anim : matplotlib.FuncAnimation\n",
    "        The animation.\n",
    "\n",
    "    \"\"\"\n",
    "    # the number of pendulum bobs\n",
    "    numpoints = states.shape[1] // 2\n",
    "\n",
    "    # first set up the figure, the axis, and the plot elements we want to animate\n",
    "    fig = plt.figure()\n",
    "    \n",
    "    # some dimesions\n",
    "    cart_width = 0.4\n",
    "    cart_height = 0.2\n",
    "    \n",
    "    # set the limits based on the motion\n",
    "    xmin = np.around(states[:, 0].min() - cart_width / 2.0, 1)\n",
    "    xmax = np.around(states[:, 0].max() + cart_width / 2.0, 1)\n",
    "    \n",
    "    # create the axes\n",
    "    ax = plt.axes(xlim=(xmin, xmax), ylim=(-1.1, 1.1), aspect='equal')\n",
    "    \n",
    "    # display the current time\n",
    "    time_text = ax.text(0.04, 0.9, '', transform=ax.transAxes)\n",
    "    \n",
    "    # create a rectangular cart\n",
    "    rect = Rectangle([states[0, 0] - cart_width / 2.0, -cart_height / 2],\n",
    "                     cart_width, cart_height, fill=True, color='red',\n",
    "                     ec='black')\n",
    "    ax.add_patch(rect)\n",
    "    \n",
    "    # blank line for the pendulum\n",
    "    line, = ax.plot([], [], lw=2, marker='o', markersize=6)\n",
    "\n",
    "    # initialization function: plot the background of each frame\n",
    "    def init():\n",
    "        time_text.set_text('')\n",
    "        rect.set_xy((0.0, 0.0))\n",
    "        line.set_data([], [])\n",
    "        return time_text, rect, line,\n",
    "\n",
    "    # animation function: update the objects\n",
    "    def animate(i):\n",
    "        time_text.set_text('time = {:2.2f}'.format(t[i]))\n",
    "        rect.set_xy((states[i, 0] - cart_width / 2.0, -cart_height / 2))\n",
    "        x = np.hstack((states[i, 0], np.zeros((numpoints - 1))))\n",
    "        y = np.zeros((numpoints))\n",
    "        for j in np.arange(1, numpoints):\n",
    "            x[j] = x[j - 1] + length * np.cos(states[i, j])\n",
    "            y[j] = y[j - 1] + length * np.sin(states[i, j])\n",
    "        line.set_data(x, y)\n",
    "        return time_text, rect, line,\n",
    "\n",
    "    # call the animator function\n",
    "    anim = animation.FuncAnimation(fig, animate, frames=len(t), init_func=init,\n",
    "            interval=t[-1] / len(t) * 1000, blit=True, repeat=False)\n",
    "    \n",
    "    # save the animation if a filename is given\n",
    "    if filename is not None:\n",
    "        anim.save(filename, fps=30, codec='libx264')\n",
    "    return anim"
   ]
  },
  {
   "cell_type": "code",
   "execution_count": 32,
   "metadata": {},
   "outputs": [
    {
     "data": {
      "image/png": "[encoded data removed]",
      "text/plain": [
       "<Figure size 432x288 with 1 Axes>"
      ]
     },
     "metadata": {
      "needs_background": "light"
     },
     "output_type": "display_data"
    }
   ],
   "source": [
    "if do_sim:\n",
    "    anim = animate_pendulum(t, x, arm_length)\n",
    "\n",
    "    # Set up formatting for the movie files\n",
    "    Writer = animation.writers['ffmpeg']\n",
    "    writer = Writer(fps=15, metadata=dict(artist='Me'), bitrate=1800)\n",
    "    f_name = './link' + str(n)+ '/closed-loop.mp4'\n",
    "\n",
    "    anim.save(f_name,writer = 'ffmpeg')\n",
    "    anim.save('closed-loop.mp4',writer = 'ffmpeg')"
   ]
  },
  {
   "cell_type": "code",
   "execution_count": 33,
   "metadata": {},
   "outputs": [
    {
     "data": {
      "text/html": [
       "\n",
       "<video width=\"640\" height=\"480\" controls>\n",
       "  <source src='closed-loop.mp4' type=\"video/mp4\">\n",
       "Your browser does not support the video tag, check out the YouTube version instead: http://youtu.be/SpgBHqW9om0\n",
       "</video>\n"
      ],
      "text/plain": [
       "<IPython.core.display.HTML object>"
      ]
     },
     "execution_count": 33,
     "metadata": {},
     "output_type": "execute_result"
    }
   ],
   "source": [
    "from IPython.display import HTML\n",
    "html = \\\n",
    "\"\"\"\n",
    "<video width=\"640\" height=\"480\" controls>\n",
    "  <source src='closed-loop.mp4' type=\"video/mp4\">\n",
    "Your browser does not support the video tag, check out the YouTube version instead: http://youtu.be/SpgBHqW9om0\n",
    "</video>\n",
    "\"\"\"\n",
    "HTML(html)"
   ]
  },
  {
   "cell_type": "markdown",
   "metadata": {},
   "source": [
    "### Feedback the LQR controller for the closed-loop EOM:"
   ]
  },
  {
   "cell_type": "code",
   "execution_count": 34,
   "metadata": {},
   "outputs": [
    {
     "data": {
      "text/plain": [
       "array([-q0(t), 1.5707963267949 - q1(t), -dq0(t), -dq1(t)], dtype=object)"
      ]
     },
     "execution_count": 34,
     "metadata": {},
     "output_type": "execute_result"
    }
   ],
   "source": [
    "states = np.array(q + u)\n",
    "div = equilibrium_point - states\n",
    "div"
   ]
  },
  {
   "cell_type": "markdown",
   "metadata": {},
   "source": [
    "### Turn the feedback on the small angle $\\theta$ to feedback on the $\\sin(\\theta)$"
   ]
  },
  {
   "cell_type": "code",
   "execution_count": 35,
   "metadata": {},
   "outputs": [
    {
     "data": {
      "text/plain": [
       "array([-q0(t), -sin(q1(t) - 1.5707963267949), -dq0(t), -dq1(t)],\n",
       "      dtype=object)"
      ]
     },
     "execution_count": 35,
     "metadata": {},
     "output_type": "execute_result"
    }
   ],
   "source": [
    "from sympy import sin, cos\n",
    "div_in_trig = div\n",
    "for i in range(n):\n",
    "    div_in_trig[i+1] = sin(div[i+1])\n",
    "div_in_trig"
   ]
  },
  {
   "cell_type": "code",
   "execution_count": 36,
   "metadata": {},
   "outputs": [
    {
     "name": "stderr",
     "output_type": "stream",
     "text": [
      "/Users/shenshen/veril/ENV/lib/python3.7/site-packages/sympy/physics/mechanics/kane.py:536: SymPyDeprecationWarning: \n",
      "\n",
      "The kanes_equation() argument order has been deprecated since SymPy\n",
      "1.1. Use switched argument order to update your code, For example:\n",
      "kanes_equations(loads, bodies) > kanes_equations(bodies, loads).\n",
      "instead. See https://github.com/sympy/sympy/issues/10945 for more\n",
      "info.  The API for kanes_equations() has changed such that the loads\n",
      "(forces and torques) are now the second argument and is optional with\n",
      "None being the default.\n",
      "\n",
      "  issue=10945, deprecated_since_version=\"1.1\").warn()\n"
     ]
    }
   ],
   "source": [
    "feedback = np.dot(K, div_in_trig)\n",
    "\n",
    "forces = [(P0, feedback[0] * I.x - m[0] * g * I.y)] # List to hold the n + 1 applied forces, including the input force, f\n",
    "\n",
    "for i in range(n):\n",
    "    forces.append((Pi, -m[i + 1] * g * I.y))                  # Set the force applied at the point\n",
    "for i in range(n-1):\n",
    "    forces.append((frames[i+1], feedback[i+1]*frames[i].z))\n",
    "\n",
    "kane_cl = me.KanesMethod(I, q_ind=q, u_ind=u, kd_eqs=kindiffs)\n",
    "fr_cl, frstar_cl = kane_cl.kanes_equations(forces, particles)"
   ]
  },
  {
   "cell_type": "code",
   "execution_count": 37,
   "metadata": {},
   "outputs": [],
   "source": [
    "full_mass = (kane_cl.mass_matrix_full)\n",
    "full_force = (kane_cl.forcing_full)"
   ]
  },
  {
   "cell_type": "markdown",
   "metadata": {},
   "source": [
    "### Double check the EOM is in terms of the trigs and velocities only"
   ]
  },
  {
   "cell_type": "code",
   "execution_count": 38,
   "metadata": {},
   "outputs": [],
   "source": [
    "full_mass_num = full_mass.subs(equilibrium_dict)\n",
    "full_force_num = full_force.subs(equilibrium_dict)"
   ]
  },
  {
   "cell_type": "markdown",
   "metadata": {},
   "source": [
    "Expand trig of angle differnce into absolute angle trigs"
   ]
  },
  {
   "cell_type": "code",
   "execution_count": 39,
   "metadata": {},
   "outputs": [],
   "source": [
    "# sm.expand_trig(forcesmatrix)"
   ]
  },
  {
   "cell_type": "markdown",
   "metadata": {},
   "source": [
    "### Double check the CL dynamics in terms of $q$ $\\dot q$ are stable"
   ]
  },
  {
   "cell_type": "code",
   "execution_count": 40,
   "metadata": {},
   "outputs": [],
   "source": [
    "M_cl, F_A_cl, F_B_cl, r_cl = kane_cl.linearize(new_method=True, op_point=equilibrium_dict)\n",
    "M_num_cl = sm.matrix2numpy(M_cl, dtype=float)\n",
    "F_A_num_cl = sm.matrix2numpy(F_A_cl, dtype=float)\n",
    "A_cl = np.linalg.solve(M_num_cl, F_A_num_cl)\n",
    "# A_cl"
   ]
  },
  {
   "cell_type": "code",
   "execution_count": null,
   "metadata": {},
   "outputs": [],
   "source": [
    "# full_force"
   ]
  },
  {
   "cell_type": "code",
   "execution_count": 41,
   "metadata": {},
   "outputs": [],
   "source": [
    "np.linalg.eig(A_cl)[0]\n",
    "from scipy.linalg import solve_lyapunov\n",
    "P = solve_lyapunov(A_cl.T, -np.eye(A_cl.shape[0]))"
   ]
  },
  {
   "cell_type": "code",
   "execution_count": 42,
   "metadata": {},
   "outputs": [
    {
     "data": {
      "image/png": "[encoded data removed]",
      "text/latex": [
       "$\\displaystyle 6.21223562954934 \\cdot 10^{-32}$"
      ],
      "text/plain": [
       "6.21223562954934e-32"
      ]
     },
     "execution_count": 42,
     "metadata": {},
     "output_type": "execute_result"
    }
   ],
   "source": [
    "# orig_basis = states - equilibrium_point\n",
    "# orig_basis\n",
    "V = sm.expand_trig((div_in_trig).T@P@(div_in_trig))\n",
    "# V\n",
    "sm.N(V.subs(equilibrium_dict))"
   ]
  },
  {
   "cell_type": "markdown",
   "metadata": {},
   "source": [
    "# Do recasting!"
   ]
  },
  {
   "cell_type": "markdown",
   "metadata": {},
   "source": [
    "## Recast States"
   ]
  },
  {
   "cell_type": "code",
   "execution_count": 43,
   "metadata": {},
   "outputs": [],
   "source": [
    "sinstates = me.dynamicsymbols('s:{}'.format(n+1))\n",
    "cosstates = me.dynamicsymbols('c:{}'.format(n+1))\n",
    "sinstates = sinstates[1:]\n",
    "cosstates = cosstates[1:]\n",
    "velocities = u"
   ]
  },
  {
   "cell_type": "code",
   "execution_count": 44,
   "metadata": {},
   "outputs": [
    {
     "data": {
      "image/png": "[encoded data removed]",
      "text/latex": [
       "$\\displaystyle \\left[ q_{0}, \\  s_{1}, \\  c_{1}, \\  dq_{0}, \\  dq_{1}\\right]$"
      ],
      "text/plain": [
       "[q₀, s₁, c₁, dq₀, dq₁]"
      ]
     },
     "execution_count": 44,
     "metadata": {},
     "output_type": "execute_result"
    }
   ],
   "source": [
    "recast_states = [q[0]]\n",
    "for i in range(n):\n",
    "    recast_states = recast_states + [sinstates[i]] + [cosstates[i]]\n",
    "recast_states +=  u\n",
    "\n",
    "recast_states"
   ]
  },
  {
   "cell_type": "markdown",
   "metadata": {},
   "source": [
    "### recasted fixed point"
   ]
  },
  {
   "cell_type": "code",
   "execution_count": 45,
   "metadata": {},
   "outputs": [
    {
     "name": "stdout",
     "output_type": "stream",
     "text": [
      "[0, 1, 0, 0, 0]\n"
     ]
    }
   ],
   "source": [
    "recast_fix_point = [sm.S(0)] + [sm.S(1), sm.S(0)] * (n) +  [sm.S(0)] * (n+1)\n",
    "print(recast_fix_point)\n",
    "recast_fix_point_dict = dict(zip(recast_states, recast_fix_point))"
   ]
  },
  {
   "cell_type": "markdown",
   "metadata": {},
   "source": [
    "#### Recasting the Lyapunov Method 1 (angle replacement)"
   ]
  },
  {
   "cell_type": "code",
   "execution_count": 46,
   "metadata": {},
   "outputs": [],
   "source": [
    "# first recast small angle squared\n",
    "\n",
    "# small_squared = [i**2 for i in q[1:]]\n",
    "# small_squared_cos = [2-2*i for i in cosstates]\n",
    "# recat_lyap_dict = dict(zip(small_squared,small_squared_cos))\n",
    "# V_recast = V.subs(recat_lyap_dict)\n",
    "# V_recast"
   ]
  },
  {
   "cell_type": "code",
   "execution_count": 47,
   "metadata": {},
   "outputs": [],
   "source": [
    "# next recast the small angle themselves\n",
    "\n",
    "# V_recast = V_recast.subs(dict(zip(q[1:],sinstates)))\n",
    "# V_recast"
   ]
  },
  {
   "cell_type": "markdown",
   "metadata": {},
   "source": [
    "#### Recasting the Lyapunov Method 2 (direct replacement)"
   ]
  },
  {
   "cell_type": "code",
   "execution_count": 48,
   "metadata": {},
   "outputs": [],
   "source": [
    "# recast_basis = [q[0]] + sinstates + u\n",
    "# V_recast = sm.expand(recast_basis@P@recast_basis)"
   ]
  },
  {
   "cell_type": "code",
   "execution_count": 49,
   "metadata": {},
   "outputs": [],
   "source": [
    "# small_squared_cos = [2-2*i for i in cosstates]\n",
    "# # recast_basis_one = [q[0]] + sinstates + u\n",
    "# # V1 = sm.expand(recast_basis@P@recast_basis)\n",
    "# # me.find_dynamicsymbols(V_recast)\n",
    "# small_squared_cos\n",
    "# V_recast.subs(recast_fix_point_dict)"
   ]
  },
  {
   "cell_type": "markdown",
   "metadata": {},
   "source": [
    "## Recasting the dynamics"
   ]
  },
  {
   "cell_type": "code",
   "execution_count": 50,
   "metadata": {},
   "outputs": [
    {
     "data": {
      "image/png": "[encoded data removed]",
      "text/latex": [
       "$\\displaystyle \\left[\\begin{matrix}1 & 0.0 & 0.0 & 0.0\\\\0.0 & c_{1} & 0.0 & 0.0\\\\0.0 & - s_{1} & 0.0 & 0.0\\\\0.0 & 0.0 & 1 & 0.0\\\\0.0 & 0.0 & 0.0 & 1\\end{matrix}\\right]$"
      ],
      "text/plain": [
       "⎡ 1   0.0  0.0  0.0⎤\n",
       "⎢                  ⎥\n",
       "⎢0.0  c₁   0.0  0.0⎥\n",
       "⎢                  ⎥\n",
       "⎢0.0  -s₁  0.0  0.0⎥\n",
       "⎢                  ⎥\n",
       "⎢0.0  0.0   1   0.0⎥\n",
       "⎢                  ⎥\n",
       "⎣0.0  0.0  0.0   1 ⎦"
      ]
     },
     "execution_count": 50,
     "metadata": {},
     "output_type": "execute_result"
    }
   ],
   "source": [
    "recast_transformation=sm.Matrix(np.zeros((3*n+2, 2*n+2)))\n",
    "recast_transformation[0,0]=sm.S(1)\n",
    "for i in range(n):\n",
    "    recast_transformation[2*i+1,i+1] = cosstates[i]\n",
    "    recast_transformation[2*i+2,i+1] = - sinstates[i]\n",
    "for i in range(n+1):\n",
    "    recast_transformation[-i-1,-i-1] = sm.S(1)\n",
    "recast_transformation"
   ]
  },
  {
   "cell_type": "code",
   "execution_count": 51,
   "metadata": {},
   "outputs": [
    {
     "data": {
      "image/png": "[encoded data removed]",
      "text/latex": [
       "$\\displaystyle \\left\\{ \\operatorname{sin}\\left(q_{1}\\right) : s_{1}, \\  \\operatorname{cos}\\left(q_{1}\\right) : c_{1}\\right\\}$"
      ],
      "text/plain": [
       "{sin(q₁): s₁, cos(q₁): c₁}"
      ]
     },
     "execution_count": 51,
     "metadata": {},
     "output_type": "execute_result"
    }
   ],
   "source": [
    "sins=[sin(i) for i in q[1:]]\n",
    "coss=[cos(i) for i in q[1:]]\n",
    "key = sins+coss\n",
    "values = sinstates + cosstates\n",
    "recast_sim_dict = dict(zip(key,values))\n",
    "recast_sim_dict"
   ]
  },
  {
   "cell_type": "code",
   "execution_count": 52,
   "metadata": {},
   "outputs": [
    {
     "data": {
      "image/png": "[encoded data removed]",
      "text/latex": [
       "$\\displaystyle 6.21223562954934 \\cdot 10^{-32}$"
      ],
      "text/plain": [
       "6.21223562954934e-32"
      ]
     },
     "execution_count": 52,
     "metadata": {},
     "output_type": "execute_result"
    }
   ],
   "source": [
    "V_recast = V.subs(recast_sim_dict)\n",
    "V_recast.subs(recast_fix_point_dict)"
   ]
  },
  {
   "cell_type": "markdown",
   "metadata": {},
   "source": [
    "### recast the mass and force matrices"
   ]
  },
  {
   "cell_type": "code",
   "execution_count": 53,
   "metadata": {},
   "outputs": [],
   "source": [
    "full_mass_recast = full_mass.subs(recast_sim_dict)\n",
    "full_force_recast = sm.expand_trig(full_force).subs(dict(zip(key,values)))\n",
    "\n",
    "full_mass_recast_num = full_mass_recast.subs(recast_fix_point_dict)\n",
    "full_force_recast_num = full_force_recast.subs(recast_fix_point_dict)"
   ]
  },
  {
   "cell_type": "code",
   "execution_count": 54,
   "metadata": {},
   "outputs": [],
   "source": [
    "# debug: should match the original form\n",
    "assert(full_mass_num == full_mass_recast_num)\n",
    "assert(full_force_num == full_force_recast_num)"
   ]
  },
  {
   "cell_type": "markdown",
   "metadata": {},
   "source": [
    "### symbolic transformation of the dyanmics, involing mass inversion, bad"
   ]
  },
  {
   "cell_type": "markdown",
   "metadata": {},
   "source": [
    "### do linearization in the [s,c,t] coordinate, getting non-Hurwitz A, so go back to small-angle approx. of V"
   ]
  },
  {
   "cell_type": "code",
   "execution_count": 55,
   "metadata": {},
   "outputs": [
    {
     "data": {
      "image/png": "[encoded data removed]",
      "text/latex": [
       "$\\displaystyle \\left( 5, \\  1\\right)$"
      ],
      "text/plain": [
       "(5, 1)"
      ]
     },
     "execution_count": 55,
     "metadata": {},
     "output_type": "execute_result"
    }
   ],
   "source": [
    "# ddq = recast_mass.inv()@recast_force  ## doubledots(q) expressed in q, dq\n",
    "# dsdc = recast_transformation@ddq \n",
    "\n",
    "# # dynamics_recast = sm.Matrix([dq0, dsdc, ddq])\n",
    "# # dynamics_recast.shape\n",
    "\n",
    "# dynamics_recast = recast_transformation@full_mass_recast.inv()@full_force_recast\n",
    "# dynamics_recast.shape"
   ]
  },
  {
   "cell_type": "code",
   "execution_count": 56,
   "metadata": {},
   "outputs": [],
   "source": [
    "# A_recast = sm.matrix2numpy(dynamics_recast.jacobian(recast_states).subs(recast_fix_point_dict), dtype=float)\n",
    "# ddq_A = sm.matrix2numpy(ddq.jacobian(recast_states).subs(recast_fix_point_dict), dtype=float)"
   ]
  },
  {
   "cell_type": "code",
   "execution_count": 57,
   "metadata": {},
   "outputs": [],
   "source": [
    "# dq0_A = np.zeros(2*n+2+n)\n",
    "# dq0_A[-n-1]=1\n",
    "# A_recast = np.vstack((dq0_A, dsdc_A,ddq_A))\n",
    "# A_recast"
   ]
  },
  {
   "cell_type": "code",
   "execution_count": 58,
   "metadata": {},
   "outputs": [
    {
     "name": "stderr",
     "output_type": "stream",
     "text": [
      "/Users/shenshen/veril/ENV/lib/python3.7/site-packages/scipy/linalg/_solvers.py:196: RuntimeWarning: Input \"a\" has an eigenvalue pair whose sum is very close to or exactly zero. The solution is obtained via perturbing the coefficients.\n",
      "  RuntimeWarning)\n"
     ]
    },
    {
     "data": {
      "text/plain": [
       "array([-3.34761102e+12,  1.96279968e+01,  1.07167179e+00,  2.04981119e-01,\n",
       "        3.38530379e-03])"
      ]
     },
     "execution_count": 58,
     "metadata": {},
     "output_type": "execute_result"
    }
   ],
   "source": [
    "# np.linalg.eig(A_recast)[0]\n",
    "# P_recast = solve_lyapunov(A_recast.T, -np.eye(A_recast.shape[0]))\n",
    "# np.linalg.eig(P_recast)[0]"
   ]
  },
  {
   "cell_type": "code",
   "execution_count": 59,
   "metadata": {},
   "outputs": [],
   "source": [
    "# direc_v_recast = sm.simplify((recast_states - recast_fix_point).T@P@(recast_states - recast_fix_point))\n",
    "# direc_v_recast"
   ]
  },
  {
   "cell_type": "code",
   "execution_count": 375,
   "metadata": {},
   "outputs": [],
   "source": [
    "import itertools\n",
    "def get_monomials(x, deg, rm_one):\n",
    "#     c = 1 if isinstance(x[0], float) else Expression(1)\n",
    "    c =1\n",
    "    _ = itertools.combinations_with_replacement(np.append(c, x), deg)\n",
    "    basis = [np.prod(j) for j in _]\n",
    "    if rm_one:\n",
    "        basis = basis[1:]\n",
    "    return (basis[:: -1])"
   ]
  },
  {
   "cell_type": "code",
   "execution_count": 376,
   "metadata": {},
   "outputs": [],
   "source": [
    "xxd = (np.array(recast_states)@np.array(recast_states))\n",
    "psi = sm.Matrix(get_monomials(recast_states, 2, False))"
   ]
  },
  {
   "cell_type": "code",
   "execution_count": 377,
   "metadata": {},
   "outputs": [],
   "source": [
    "def sample():\n",
    "    V_num =[]\n",
    "    xxd_num = []\n",
    "    psi_num = []\n",
    "    alpha= np.random.randn(2*n+2)\n",
    "    beta = np.random.randn(2*n+2)\n",
    "    t = sm.Symbol('t',real=True)\n",
    "    old_states_dict = dict(zip(states, alpha*t+beta))\n",
    "#     old_states_dict\n",
    "    \n",
    "    angle = np.random.uniform(-np.pi,np.pi,n)\n",
    "    sin_samples, cos_samples = np.sin(angle), np.cos(angle)\n",
    "    trig_sample_dict = dict(zip(sinstates + cosstates, np.concatenate([sin_samples, cos_samples])))\n",
    "#     trig_sample_dict\n",
    "    old_states_dict.update(trig_sample_dict)\n",
    "#     print(old_states_dict)\n",
    "\n",
    "    phi = V_recast.diff((recast_states,1))\n",
    "    this_phi = sm.simplify(phi.subs(old_states_dict))\n",
    "#     print(this_phi)\n",
    "#     this_phi.shape\n",
    "\n",
    "    this_mass = sm.matrix2numpy(sm.simplify(full_mass_recast.subs(old_states_dict)),dtype=float)\n",
    "    this_mass_inv = np.linalg.inv(this_mass)\n",
    "#     print(this_mass_inv)\n",
    "#     this_mass_inv\n",
    "\n",
    "    this_force = sm.matrix2numpy(sm.simplify(full_force_recast.subs(old_states_dict)))\n",
    "#     this_force\n",
    "\n",
    "#     this_ddq = this_mass_inv@this_force\n",
    "# #     this_ddq.shape\n",
    "\n",
    "    this_recast_transform = sm.matrix2numpy(recast_transformation.subs(trig_sample_dict),dtype=float)\n",
    "#     this_dsdc = this_recast_transform@this_ddq\n",
    "# #     this_dsdc\n",
    "\n",
    "#     this_dq0=old_states_dict[u[0]]\n",
    "#     this_f = np.vstack((this_dq0, this_dsdc, this_ddq))\n",
    "    this_f = this_recast_transform@this_mass_inv@this_force\n",
    "#     print(this_f)\n",
    "    this_Vdot = this_phi@this_f\n",
    "\n",
    "    t_num=sm.solve(this_Vdot,t)\n",
    "    \n",
    "    \n",
    "    if len(t_num)>0:\n",
    "        \n",
    "        for i in t_num:\n",
    "            sol_dict = dict(zip(states, alpha*i+beta))\n",
    "            sol_dict.update(trig_sample_dict)\n",
    "            print(sol_dict)\n",
    "            \n",
    "            V_eval = V_recast.subs(sol_dict)\n",
    "            print(V_eval)\n",
    "            if V_eval <=1e4:\n",
    "                print('found root')\n",
    "                V_num.append(V_eval)\n",
    "                xxd_num.append((xxd.subs(sol_dict)))\n",
    "                psi_num.append(sm.matrix2numpy(psi.subs(sol_dict), dtype=float))\n",
    "    else:\n",
    "        print('no root')\n",
    "        sol_dict = []\n",
    "    return V_num, xxd_num, psi_num, sol_dict"
   ]
  },
  {
   "cell_type": "code",
   "execution_count": 378,
   "metadata": {},
   "outputs": [],
   "source": [
    "allV=[]\n",
    "allxxd = []\n",
    "allpsi = []\n",
    "all_sol_dicts=[]"
   ]
  },
  {
   "cell_type": "code",
   "execution_count": null,
   "metadata": {},
   "outputs": [
    {
     "name": "stdout",
     "output_type": "stream",
     "text": [
      "no root\n",
      "no root\n",
      "no root\n",
      "no root\n",
      "no root\n",
      "no root\n",
      "no root\n",
      "no root\n",
      "no root\n",
      "no root\n",
      "no root\n",
      "no root\n",
      "no root\n",
      "no root\n",
      "no root\n",
      "no root\n",
      "no root\n",
      "no root\n",
      "no root\n",
      "no root\n",
      "no root\n",
      "no root\n",
      "{q0(t): -1.11722359509075, q1(t): -9.75536085070915, dq0(t): -5.81518433690388, dq1(t): -3.99726013133468, s1(t): -0.6413557878318594, c1(t): 0.7672436076075023}\n",
      "2.59848547013985\n",
      "found root\n",
      "no root\n",
      "{q0(t): -6746.13595361239, q1(t): -640.270978140630, dq0(t): 4558.92722623599, dq1(t): 16786.8235182968, s1(t): 0.9999971081055908, c1(t): 0.002404949158569523}\n",
      "436702266.930613\n",
      "no root\n",
      "no root\n",
      "no root\n",
      "no root\n",
      "no root\n",
      "no root\n",
      "no root\n",
      "no root\n",
      "no root\n",
      "no root\n",
      "no root\n",
      "no root\n",
      "{q0(t): 155.992827294733, q1(t): -2369.29033575438, dq0(t): -855.994256025622, dq1(t): 716.614133758919, s1(t): -0.7187290998637174, c1(t): 0.6952902135145371}\n",
      "2814005.84129240\n",
      "no root\n",
      "no root\n",
      "no root\n",
      "no root\n",
      "no root\n",
      "no root\n",
      "no root\n",
      "no root\n",
      "no root\n",
      "{q0(t): -5635.42517539629, q1(t): -1436.64966680633, dq0(t): -1080.88525034471, dq1(t): -3455.55709864451, s1(t): 0.9962938483876771, c1(t): -0.08601492698870584}\n",
      "36016054.2766782\n",
      "no root\n",
      "no root\n",
      "no root\n",
      "no root\n",
      "no root\n",
      "{q0(t): -231.346994053760, q1(t): 3035.76987449470, dq0(t): -1135.73619487416, dq1(t): -1080.12624584099, s1(t): 0.988066304197303, c1(t): -0.15402914824760477}\n",
      "124842.326647319\n",
      "no root\n",
      "no root\n",
      "no root\n",
      "no root\n",
      "no root\n",
      "no root\n",
      "no root\n",
      "no root\n",
      "no root\n",
      "no root\n",
      "no root\n",
      "no root\n",
      "no root\n",
      "no root\n",
      "no root\n",
      "no root\n",
      "no root\n",
      "no root\n",
      "no root\n",
      "no root\n",
      "no root\n",
      "no root\n",
      "no root\n",
      "no root\n",
      "no root\n",
      "no root\n",
      "no root\n",
      "no root\n",
      "no root\n",
      "no root\n",
      "no root\n",
      "no root\n",
      "no root\n",
      "no root\n",
      "no root\n",
      "no root\n",
      "no root\n",
      "no root\n",
      "{q0(t): -54.2765264233549, q1(t): 142.877179346031, dq0(t): -272.735324914989, dq1(t): 442.874385503177, s1(t): -0.20730012078374932, c1(t): 0.9782773941592655}\n",
      "747949.817276141\n",
      "no root\n",
      "no root\n",
      "no root\n",
      "no root\n",
      "no root\n",
      "no root\n",
      "no root\n",
      "no root\n",
      "no root\n",
      "no root\n",
      "no root\n",
      "no root\n",
      "no root\n",
      "{q0(t): -1.60540935869953, q1(t): 3.28800661692183, dq0(t): -4.51622307000015, dq1(t): -2.86645963727668, s1(t): -0.5647952680808452, c1(t): 0.8252310616751446}\n",
      "4.08263658297552\n",
      "found root\n",
      "no root\n",
      "{q0(t): -38.8356233448319, q1(t): 95.5837162692887, dq0(t): 47.2387679183174, dq1(t): 442.883856362402, s1(t): -0.724783221960296, c1(t): 0.6889769815928921}\n",
      "238124.460525851\n",
      "no root\n",
      "no root\n",
      "no root\n",
      "no root\n",
      "no root\n",
      "no root\n",
      "no root\n",
      "{q0(t): 3.95943255757355, q1(t): 0.963378621202669, dq0(t): 4.00386614737464, dq1(t): 5.62650301541555, s1(t): 0.9088108085996042, c1(t): -0.4172084780688591}\n",
      "16.7398557254959\n",
      "found root\n",
      "no root\n",
      "no root\n",
      "no root\n",
      "no root\n",
      "{q0(t): -1.40664100992118, q1(t): 5.63144422466855, dq0(t): 1.87470272066157, dq1(t): 0.557355583029580, s1(t): 0.9757799200272645, c1(t): -0.21875453748799198}\n",
      "2.30210091946330\n",
      "found root\n",
      "no root\n",
      "no root\n",
      "no root\n",
      "no root\n",
      "no root\n",
      "no root\n",
      "no root\n",
      "no root\n",
      "no root\n",
      "no root\n",
      "no root\n",
      "no root\n",
      "no root\n",
      "no root\n",
      "no root\n",
      "no root\n",
      "no root\n",
      "no root\n",
      "no root\n",
      "no root\n",
      "no root\n",
      "no root\n",
      "no root\n",
      "no root\n",
      "no root\n",
      "no root\n",
      "no root\n",
      "no root\n",
      "no root\n",
      "no root\n",
      "no root\n",
      "no root\n",
      "no root\n",
      "no root\n",
      "no root\n",
      "no root\n",
      "no root\n",
      "no root\n",
      "no root\n",
      "no root\n",
      "no root\n",
      "no root\n",
      "no root\n",
      "no root\n",
      "no root\n",
      "no root\n",
      "no root\n",
      "no root\n",
      "no root\n",
      "no root\n",
      "no root\n",
      "no root\n",
      "no root\n",
      "no root\n",
      "no root\n",
      "no root\n",
      "no root\n",
      "no root\n",
      "no root\n",
      "{q0(t): 2.87072772552713, q1(t): -1.19705792389840, dq0(t): 3.88180588841051, dq1(t): 4.13942696224526, s1(t): 0.8337711269001892, c1(t): -0.5521102316997835}\n",
      "9.28473120993283\n",
      "found root\n",
      "no root\n",
      "no root\n",
      "no root\n",
      "no root\n",
      "no root\n",
      "no root\n",
      "no root\n",
      "no root\n",
      "no root\n",
      "no root\n",
      "no root\n",
      "no root\n",
      "{q0(t): 40939.3884796649, q1(t): 26286.0093779369, dq0(t): -58570.3708281034, dq1(t): 11289.0090803273, s1(t): 0.9991761943049131, c1(t): 0.040582419030296}\n",
      "3781942636.02741\n",
      "no root\n",
      "no root\n",
      "no root\n",
      "no root\n",
      "no root\n",
      "no root\n",
      "no root\n",
      "no root\n",
      "no root\n",
      "no root\n",
      "{q0(t): 111.565245085250, q1(t): -51.0744327545949, dq0(t): 2.35847731284224, dq1(t): 299.122214627388, s1(t): -0.3946500588286084, c1(t): 0.9188315030877946}\n",
      "73052.7596925990\n",
      "no root\n",
      "no root\n",
      "no root\n",
      "no root\n",
      "no root\n",
      "no root\n",
      "no root\n",
      "no root\n",
      "no root\n",
      "no root\n",
      "no root\n",
      "no root\n",
      "{q0(t): 2.00415580145608, q1(t): -1.15051537360631, dq0(t): 2.20498500704828, dq1(t): 0.315213583574842, s1(t): 0.15668503578086992, c1(t): -0.9876486215058206}\n",
      "5.98200061874427\n",
      "found root\n",
      "no root\n",
      "no root\n",
      "no root\n",
      "no root\n",
      "{q0(t): -3.38502308473047, q1(t): -10.3238358350201, dq0(t): 6.42624844720245, dq1(t): 1.17502691759210, s1(t): -0.55593294292874, c1(t): -0.8312271428235427}\n",
      "12.3263942674776\n",
      "found root\n",
      "{q0(t): 6.19537275022575, q1(t): 11.3079250551413, dq0(t): 2.50124206472021, dq1(t): 3.86698959214139, s1(t): 0.3840806128002195, c1(t): -0.9232995629106557}\n",
      "41.2542860323315\n",
      "found root\n",
      "no root\n",
      "no root\n",
      "no root\n",
      "no root\n",
      "no root\n",
      "no root\n",
      "no root\n",
      "no root\n",
      "no root\n",
      "no root\n",
      "{q0(t): 15.1008716020478, q1(t): -23.6869706279153, dq0(t): -19.6977518503712, dq1(t): -8.71226059151172, s1(t): -0.3595265158949959, c1(t): -0.933134869334763}\n",
      "245.489073583238\n",
      "found root\n",
      "no root\n",
      "no root\n",
      "no root\n",
      "no root\n",
      "no root\n",
      "no root\n",
      "no root\n",
      "no root\n",
      "no root\n",
      "no root\n",
      "no root\n",
      "no root\n",
      "no root\n",
      "no root\n",
      "no root\n",
      "no root\n",
      "no root\n",
      "no root\n",
      "no root\n",
      "no root\n",
      "no root\n",
      "no root\n",
      "no root\n",
      "no root\n",
      "no root\n",
      "no root\n",
      "{q0(t): -873.542023667751, q1(t): 945.236690205840, dq0(t): -340.139128579943, dq1(t): 974.382980638334, s1(t): -0.8785448554031408, c1(t): 0.47765985496446595}\n",
      "5775377.43296382\n",
      "no root\n",
      "no root\n",
      "no root\n",
      "{q0(t): 1531.32254220953, q1(t): 6668.65673638418, dq0(t): 5025.37497256287, dq1(t): -5234.70731142839, s1(t): 0.9999731498306236, c1(t): -0.00732800230767857}\n",
      "172543804.786091\n",
      "{q0(t): -5.61757500574899, q1(t): 3.50934040213085, dq0(t): -1.53318314004011, dq1(t): -2.48809873909863, s1(t): 0.38127497581621084, c1(t): 0.9244616773108271}\n",
      "34.1674794100562\n",
      "found root\n",
      "no root\n",
      "no root\n",
      "{q0(t): -0.905685180859775, q1(t): -2.09940258051334, dq0(t): -1.89989669742911, dq1(t): -1.55311005264405, s1(t): 0.9455692206078451, c1(t): 0.3254210334921091}\n",
      "1.09869030634430\n",
      "found root\n",
      "no root\n",
      "no root\n",
      "no root\n",
      "no root\n",
      "no root\n",
      "no root\n",
      "no root\n",
      "no root\n",
      "no root\n",
      "no root\n",
      "no root\n",
      "no root\n",
      "no root\n",
      "no root\n",
      "no root\n",
      "no root\n",
      "no root\n",
      "no root\n",
      "no root\n",
      "no root\n",
      "no root\n",
      "no root\n",
      "no root\n",
      "no root\n",
      "no root\n",
      "no root\n",
      "no root\n",
      "no root\n",
      "no root\n",
      "no root\n",
      "no root\n",
      "no root\n",
      "{q0(t): -5.41192205415052, q1(t): 0.140665741156949, dq0(t): -2.65839096923415, dq1(t): -3.28646031651275, s1(t): -0.23772046659985246, c1(t): 0.9713336088901425}\n",
      "32.1118667261175\n",
      "found root\n",
      "no root\n",
      "no root\n",
      "no root\n",
      "no root\n",
      "no root\n",
      "no root\n",
      "no root\n",
      "{q0(t): -1.79262973199432, q1(t): 1.82305814197274, dq0(t): -1.00136614209299, dq1(t): 0.124562181268095, s1(t): -0.6955247475004259, c1(t): 0.7185021402991565}\n",
      "4.28741856086905\n",
      "found root\n",
      "no root\n",
      "no root\n",
      "no root\n",
      "no root\n",
      "no root\n",
      "no root\n",
      "no root\n",
      "no root\n",
      "no root\n",
      "no root\n",
      "no root\n",
      "no root\n",
      "no root\n",
      "no root\n",
      "no root\n",
      "no root\n",
      "no root\n",
      "no root\n",
      "no root\n",
      "no root\n",
      "no root\n",
      "no root\n",
      "no root\n",
      "no root\n",
      "no root\n",
      "no root\n",
      "no root\n",
      "no root\n",
      "no root\n",
      "no root\n",
      "no root\n"
     ]
    }
   ],
   "source": [
    "while len(allV)<=300:\n",
    "    V_num, xxd_num, psi_num, sol_dict = sample()\n",
    "    allV += V_num\n",
    "    allxxd += xxd_num\n",
    "    allpsi += psi_num\n",
    "    all_sol_dicts += sol_dict"
   ]
  },
  {
   "cell_type": "code",
   "execution_count": 138,
   "metadata": {},
   "outputs": [],
   "source": [
    "import sys\n",
    "sys.path.append(\n",
    "    \"/Users/shenshen/drake-build/install/lib/python3.7/site-packages\")\n",
    "from pydrake.all import (Polynomial, Variable, Evaluate, Substitute,\n",
    "                         MathematicalProgram, MosekSolver)"
   ]
  },
  {
   "cell_type": "code",
   "execution_count": 143,
   "metadata": {},
   "outputs": [],
   "source": [
    "np.save('allV',allV)\n",
    "np.save('allxxd',allxxd)\n",
    "np.save('allpsi',allpsi)\n",
    "# np.save('all_sol_dicts',all_sol_dicts)"
   ]
  },
  {
   "cell_type": "code",
   "execution_count": 146,
   "metadata": {},
   "outputs": [],
   "source": [
    "def solve_SDP_on_samples(sampled_quantities, write_to_file=True):\n",
    "    prog = MathematicalProgram()\n",
    "    rho = prog.NewContinuousVariables(1, \"r\")[0]\n",
    "    prog.AddConstraint(rho >= 0)\n",
    "\n",
    "    [V, xxd, psi] = sampled_quantities\n",
    "    # print('SDP V %s' % V)\n",
    "    dim_psi = psi.shape[1]\n",
    "    print(dim_psi)\n",
    "    P = prog.NewSymmetricContinuousVariables(dim_psi, \"P\")\n",
    "    prog.AddPositiveSemidefiniteConstraint(P)\n",
    "\n",
    "    for i in range(psi.shape[0]):\n",
    "        residual = xxd[i] * (V[i] - rho) - psi[i].T@P@psi[i]\n",
    "        prog.AddConstraint(residual == 0)\n",
    "\n",
    "    prog.AddCost(-rho)\n",
    "    solver = MosekSolver()\n",
    "    if write_to_file:\n",
    "        log_file = \"sampling_variety_SDP.text\"\n",
    "    else:\n",
    "        log_file = \"\"\n",
    "    solver.set_stream_logging(True, log_file)\n",
    "    result = solver.Solve(prog, None, None)\n",
    "    print(result.get_solution_result())\n",
    "    assert result.is_success()\n",
    "    P = result.GetSolution(P)\n",
    "    rho = result.GetSolution(rho)\n",
    "    print(rho)\n",
    "    return rho, P"
   ]
  },
  {
   "cell_type": "code",
   "execution_count": 147,
   "metadata": {},
   "outputs": [
    {
     "name": "stdout",
     "output_type": "stream",
     "text": [
      "\n",
      "File opened at Mon Feb 10 03:58:14 2020 by MOSEK version 9.0.96.\n",
      "Problem\n",
      "  Name                   :                 \n",
      "  Objective sense        : min             \n",
      "  Type                   : CONIC (conic optimization problem)\n",
      "  Constraints            : 101             \n",
      "  Cones                  : 0               \n",
      "  Scalar variables       : 1               \n",
      "  Matrix variables       : 1               \n",
      "  Integer variables      : 0               \n",
      "\n",
      "Optimizer started.\n",
      "Presolve started.\n",
      "Linear dependency checker started.\n",
      "Linear dependency checker terminated.\n",
      "Eliminator started.\n",
      "Freed constraints in eliminator : 0\n",
      "Eliminator terminated.\n",
      "Eliminator - tries                  : 1                 time                   : 0.00            \n",
      "Lin. dep.  - tries                  : 1                 time                   : 0.00            \n",
      "Lin. dep.  - number                 : 0               \n",
      "Presolve terminated. Time: 0.04    \n",
      "Problem\n",
      "  Name                   :                 \n",
      "  Objective sense        : min             \n",
      "  Type                   : CONIC (conic optimization problem)\n",
      "  Constraints            : 101             \n",
      "  Cones                  : 0               \n",
      "  Scalar variables       : 1               \n",
      "  Matrix variables       : 1               \n",
      "  Integer variables      : 0               \n",
      "\n",
      "Optimizer  - threads                : 8               \n",
      "Optimizer  - solved problem         : the primal      \n",
      "Optimizer  - Constraints            : 101\n",
      "Optimizer  - Cones                  : 0\n",
      "Optimizer  - Scalar variables       : 1                 conic                  : 0               \n",
      "Optimizer  - Semi-definite variables: 1                 scalarized             : 1596            \n",
      "Factor     - setup time             : 0.03              dense det. time        : 0.00            \n",
      "Factor     - ML order time          : 0.00              GP order time          : 0.00            \n",
      "Factor     - nonzeros before factor : 5151              after factor           : 5151            \n",
      "Factor     - dense dim.             : 0                 flops                  : 7.03e+07        \n",
      "ITE PFEAS    DFEAS    GFEAS    PRSTATUS   POBJ              DOBJ              MU       TIME  \n",
      "0   2.8e+00  1.0e+00  1.0e+00  0.00e+00   0.000000000e+00   0.000000000e+00   1.0e+00  0.23  \n",
      "1   5.3e-01  1.9e-01  2.8e-01  -8.14e-01  -9.791690642e-03  1.610784114e+00   1.9e-01  0.26  \n",
      "2   7.0e-02  2.5e-02  4.3e-03  5.01e-01   -3.113544925e-01  -3.629161653e-01  2.5e-02  0.28  \n",
      "3   1.2e-02  4.4e-03  8.8e-04  9.27e-01   -4.770644970e-01  -4.523909265e-01  4.4e-03  0.30  \n",
      "4   2.5e-03  8.7e-04  1.0e-04  6.54e-01   -5.667719623e-01  -5.561085363e-01  8.7e-04  0.32  \n",
      "5   4.2e-04  1.5e-04  9.4e-06  4.51e-01   -6.455135192e-01  -6.424289832e-01  1.5e-04  0.33  \n",
      "6   1.0e-04  3.6e-05  1.5e-06  5.15e-01   -6.714427942e-01  -6.699512058e-01  3.6e-05  0.35  \n",
      "7   2.2e-05  7.9e-06  2.8e-07  3.09e-01   -6.972339415e-01  -6.960885583e-01  7.9e-06  0.37  \n",
      "8   4.4e-06  1.5e-06  3.9e-08  3.13e-01   -7.093299113e-01  -7.087178136e-01  1.5e-06  0.39  \n",
      "9   6.3e-07  2.2e-07  3.1e-09  4.94e-01   -7.129773439e-01  -7.127952780e-01  2.2e-07  0.40  \n",
      "10  1.0e-07  3.6e-08  2.1e-10  7.77e-01   -7.130696787e-01  -7.130386725e-01  3.6e-08  0.42  \n",
      "11  1.1e-10  3.7e-11  5.9e-15  9.79e-01   -7.131576387e-01  -7.131576142e-01  3.7e-11  0.44  \n",
      "12  1.6e-11  6.9e-12  1.7e-20  1.00e+00   -7.131577325e-01  -7.131577325e-01  7.5e-15  0.46  \n",
      "Optimizer terminated. Time: 0.47    \n",
      "\n",
      "\n",
      "File closed: Mon Feb 10 03:58:15 2020\n",
      "\n",
      "\n"
     ]
    }
   ],
   "source": [
    "myfile = open(\"sampling_variety_SDP.text\")\n",
    "print(myfile.read())\n",
    "myfile.close()"
   ]
  },
  {
   "cell_type": "code",
   "execution_count": 145,
   "metadata": {},
   "outputs": [
    {
     "name": "stdout",
     "output_type": "stream",
     "text": [
      "56\n",
      "SolutionResult.kSolutionFound\n",
      "0.7131577325370962\n"
     ]
    },
    {
     "ename": "NameError",
     "evalue": "name 'system' is not defined",
     "output_type": "error",
     "traceback": [
      "\u001b[0;31m---------------------------------------------------------------------------\u001b[0m",
      "\u001b[0;31mNameError\u001b[0m                                 Traceback (most recent call last)",
      "\u001b[0;32m<ipython-input-145-86c6ae04f836>\u001b[0m in \u001b[0;36m<module>\u001b[0;34m\u001b[0m\n\u001b[0;32m----> 1\u001b[0;31m \u001b[0msolve_SDP_on_samples\u001b[0m\u001b[0;34m(\u001b[0m\u001b[0;34m[\u001b[0m\u001b[0mnp\u001b[0m\u001b[0;34m.\u001b[0m\u001b[0marray\u001b[0m\u001b[0;34m(\u001b[0m\u001b[0mallV\u001b[0m\u001b[0;34m)\u001b[0m\u001b[0;34m,\u001b[0m\u001b[0mnp\u001b[0m\u001b[0;34m.\u001b[0m\u001b[0marray\u001b[0m\u001b[0;34m(\u001b[0m\u001b[0mallxxd\u001b[0m\u001b[0;34m)\u001b[0m\u001b[0;34m,\u001b[0m\u001b[0mnp\u001b[0m\u001b[0;34m.\u001b[0m\u001b[0marray\u001b[0m\u001b[0;34m(\u001b[0m\u001b[0mallpsi\u001b[0m\u001b[0;34m)\u001b[0m\u001b[0;34m]\u001b[0m\u001b[0;34m)\u001b[0m\u001b[0;34m\u001b[0m\u001b[0;34m\u001b[0m\u001b[0m\n\u001b[0m",
      "\u001b[0;32m<ipython-input-144-5fb709a85bd7>\u001b[0m in \u001b[0;36msolve_SDP_on_samples\u001b[0;34m(sampled_quantities, write_to_file)\u001b[0m\n\u001b[1;32m     28\u001b[0m     \u001b[0mrho\u001b[0m \u001b[0;34m=\u001b[0m \u001b[0mresult\u001b[0m\u001b[0;34m.\u001b[0m\u001b[0mGetSolution\u001b[0m\u001b[0;34m(\u001b[0m\u001b[0mrho\u001b[0m\u001b[0;34m)\u001b[0m\u001b[0;34m\u001b[0m\u001b[0;34m\u001b[0m\u001b[0m\n\u001b[1;32m     29\u001b[0m     \u001b[0mprint\u001b[0m\u001b[0;34m(\u001b[0m\u001b[0mrho\u001b[0m\u001b[0;34m)\u001b[0m\u001b[0;34m\u001b[0m\u001b[0;34m\u001b[0m\u001b[0m\n\u001b[0;32m---> 30\u001b[0;31m     \u001b[0;32mreturn\u001b[0m \u001b[0msystem\u001b[0m\u001b[0;34m.\u001b[0m\u001b[0msym_V\u001b[0m\u001b[0;34m,\u001b[0m \u001b[0mrho\u001b[0m\u001b[0;34m,\u001b[0m \u001b[0mP\u001b[0m\u001b[0;34m\u001b[0m\u001b[0;34m\u001b[0m\u001b[0m\n\u001b[0m",
      "\u001b[0;31mNameError\u001b[0m: name 'system' is not defined"
     ]
    }
   ],
   "source": [
    "solve_SDP_on_samples([np.array(allV),np.array(allxxd),np.array(allpsi)])"
   ]
  },
  {
   "cell_type": "code",
   "execution_count": 180,
   "metadata": {},
   "outputs": [
    {
     "data": {
      "text/plain": [
       "array([q0(t), q1(t), dq0(t), dq1(t)], dtype=object)"
      ]
     },
     "execution_count": 180,
     "metadata": {},
     "output_type": "execute_result"
    }
   ],
   "source": [
    "states"
   ]
  },
  {
   "cell_type": "code",
   "execution_count": 226,
   "metadata": {},
   "outputs": [],
   "source": [
    "def recast_num_from_x(x):\n",
    "    ss = np.zeros(3*n+2)\n",
    "    ss[0]=x[0]\n",
    "    for i in range(n):\n",
    "        ss[2*i+1] = np.sin(x[1+i])\n",
    "        ss[2*i+2]=np.cos(x[1+i])\n",
    "#     print(x[-n-1:])\n",
    "    ss[-n-1:] = x[-n-1:]\n",
    "    return ss"
   ]
  },
  {
   "cell_type": "code",
   "execution_count": 354,
   "metadata": {},
   "outputs": [
    {
     "name": "stdout",
     "output_type": "stream",
     "text": [
      "0.453677320999445\n"
     ]
    },
    {
     "data": {
      "image/png": "[encoded data removed]",
      "text/plain": [
       "<Figure size 432x288 with 1 Axes>"
      ]
     },
     "metadata": {
      "needs_background": "light"
     },
     "output_type": "display_data"
    }
   ],
   "source": [
    "random_states = [.6,-1.7,-.1,.1]\n",
    "ss = recast_num_from_x(random_states)\n",
    "print(V_recast.subs(dict(zip(recast_states, ss))))\n",
    "x= sim_once(random_states)"
   ]
  },
  {
   "cell_type": "code",
   "execution_count": null,
   "metadata": {},
   "outputs": [],
   "source": [
    "anim = animate_pendulum(t, x, arm_length)\n",
    "\n",
    "    # Set up formatting for the movie files\n",
    "Writer = animation.writers['ffmpeg']\n",
    "writer = Writer(fps=15, metadata=dict(artist='Me'), bitrate=1800)\n",
    "f_name = './link' + str(n)+ '/closed-loop.mp4'\n",
    "\n",
    "anim.save(f_name,writer = 'ffmpeg')\n",
    "anim.save('closed-loop.mp4',writer = 'ffmpeg')"
   ]
  },
  {
   "cell_type": "code",
   "execution_count": 188,
   "metadata": {},
   "outputs": [
    {
     "data": {
      "text/html": [
       "\n",
       "<video width=\"640\" height=\"480\" controls>\n",
       "  <source src='closed-loop.mp4' type=\"video/mp4\">\n",
       "Your browser does not support the video tag, check out the YouTube version instead: http://youtu.be/SpgBHqW9om0\n",
       "</video>\n"
      ],
      "text/plain": [
       "<IPython.core.display.HTML object>"
      ]
     },
     "execution_count": 188,
     "metadata": {},
     "output_type": "execute_result"
    }
   ],
   "source": [
    "from IPython.display import HTML\n",
    "html = \\\n",
    "\"\"\"\n",
    "<video width=\"640\" height=\"480\" controls>\n",
    "  <source src='closed-loop.mp4' type=\"video/mp4\">\n",
    "Your browser does not support the video tag, check out the YouTube version instead: http://youtu.be/SpgBHqW9om0\n",
    "</video>\n",
    "\"\"\"\n",
    "HTML(html)"
   ]
  },
  {
   "cell_type": "code",
   "execution_count": 339,
   "metadata": {},
   "outputs": [],
   "source": [
    "def check_genericity(all_samples):\n",
    "    \"\"\"check the rank condition of the samples to make sure the genericity is\n",
    "    satisfied\n",
    "\n",
    "    Args:\n",
    "        all_samples (ndarry): (m,n), current samples,\n",
    "        m (int): current number of samples\n",
    "        n (int): monomial_dim (or reduced_monomial if do_transformation)\n",
    "    Returns:\n",
    "        enough_samples (Bool): if the current sample set is generic enough\n",
    "        m0 (int): current samples rank, gives good indicator of whether to\n",
    "        augment or truncate the current sample set\n",
    "    \"\"\"\n",
    "    enough_samples = True\n",
    "    m, n = all_samples.shape\n",
    "    n2 = n * (n + 1) / 2\n",
    "    m0 = min(m, n2)\n",
    "    print(m)\n",
    "    print(n2)\n",
    "    # sub_samples = all_samples[:m0, :]\n",
    "    sub_samples = all_samples\n",
    "\n",
    "    c = np.power(sub_samples@sub_samples.T, 2)  # c = q'*q\n",
    "    print(type(c[0][0]))\n",
    "    print('c shape is %s' % str(c.shape))\n",
    "#     s = abs(np.linalg.eig(c)[0])\n",
    "#     tol = max(c.shape) * np.spacing(max(s)) * 1e3\n",
    "#     sample_rank = sum(s > tol)\n",
    "    print(np.rank(c))\n",
    "    sample_rank=np.rank(c)\n",
    "    if sample_rank == m0 and sample_rank < n2:\n",
    "        # meaning m<n2 and sample full rank\n",
    "        # print('Insufficient samples!!')\n",
    "        enough_samples = False\n",
    "    # sample_rank by construction less than\n",
    "    return enough_samples"
   ]
  },
  {
   "cell_type": "code",
   "execution_count": 340,
   "metadata": {},
   "outputs": [
    {
     "name": "stdout",
     "output_type": "stream",
     "text": [
      "101\n",
      "1596.0\n",
      "<class 'sympy.core.numbers.Float'>\n",
      "c shape is (101, 101)\n",
      "2\n"
     ]
    },
    {
     "name": "stderr",
     "output_type": "stream",
     "text": [
      "/Users/shenshen/veril/ENV/lib/python3.7/site-packages/ipykernel_launcher.py:29: VisibleDeprecationWarning: `rank` is deprecated; use the `ndim` attribute or function instead. To find the rank of a matrix see `numpy.linalg.matrix_rank`.\n",
      "/Users/shenshen/veril/ENV/lib/python3.7/site-packages/ipykernel_launcher.py:30: VisibleDeprecationWarning: `rank` is deprecated; use the `ndim` attribute or function instead. To find the rank of a matrix see `numpy.linalg.matrix_rank`.\n"
     ]
    },
    {
     "data": {
      "text/plain": [
       "True"
      ]
     },
     "execution_count": 340,
     "metadata": {},
     "output_type": "execute_result"
    }
   ],
   "source": [
    "check_genericity(allpsi_num[:,:,0])"
   ]
  },
  {
   "cell_type": "code",
   "execution_count": null,
   "metadata": {},
   "outputs": [],
   "source": []
  }
 ],
 "metadata": {
  "kernelspec": {
   "display_name": "Python 3",
   "language": "python",
   "name": "python3"
  },
  "language_info": {
   "codemirror_mode": {
    "name": "ipython",
    "version": 3
   },
   "file_extension": ".py",
   "mimetype": "text/x-python",
   "name": "python",
   "nbconvert_exporter": "python",
   "pygments_lexer": "ipython3",
   "version": "3.7.5"
  }
 },
 "nbformat": 4,
 "nbformat_minor": 1
}
